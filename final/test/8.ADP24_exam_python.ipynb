{
 "cells": [
  {
   "cell_type": "markdown",
   "metadata": {},
   "source": [
    "# 24회차 기출\n",
    "\n",
    "\n",
    "## 문제 1\n",
    "\n",
    "**Data description**\n",
    "\n",
    "-   **sex** : 성별(categorical data)\n",
    "\n",
    "-   **age** : 나이\n",
    "\n",
    "-   **pstatus** : 부모와의 동거 유무(T : 동거 o, A : 동거 x)(categorical data)\n",
    "\n",
    "-   **medu** : 엄마의 교육수준(categorical data)\n",
    "\n",
    "    -   0 : none\n",
    "\n",
    "    -   1 : 초등교육(초등학교)\n",
    "\n",
    "    -   2 : 5 \\~ 9th edu\n",
    "\n",
    "    -   3 : 중등교육(중학교, 고등학교)\n",
    "\n",
    "    -   4 : 고등교육(대학, 대학원수준)\n",
    "\n",
    "-   **fedu** : 아빠의 교육수준(categorical data)\n",
    "\n",
    "    -   0 : none\n",
    "\n",
    "    -   1 : 초등교육(초등학교)\n",
    "\n",
    "    -   2 : 5 \\~ 9th edu(5\\~9학년)\n",
    "\n",
    "    -   3 : 중등교육(중학교, 고등학교)\n",
    "\n",
    "    -   4 : 고등교육(대학, 대학원수준)\n",
    "\n",
    "-   **guardian** : 주보호자(categorical data)\n",
    "\n",
    "    -   어머니\n",
    "\n",
    "    -   아버지\n",
    "\n",
    "    -   기타\n",
    "\n",
    "-   **traveltime** : 등하교기간(categorical data)\n",
    "\n",
    "    -   1 : 15분 이하\n",
    "\n",
    "    -   2 : 15분 \\~ 30분 이하\n",
    "\n",
    "    -   3 : 30분 \\~ 1시간 이하\n",
    "\n",
    "    -   4 : 1시간 이상\n",
    "\n",
    "-   **studytime** : 학습시간(categorical data)\n",
    "\n",
    "    -   1 : 2시간 이하\n",
    "\n",
    "    -   2 : 2\\~5시간 이하\n",
    "\n",
    "    -   3 : 5\\~10시간 이하\n",
    "\n",
    "    -   4 : 10시간 이상\n",
    "\n",
    "-   **failure** : 학사경고 횟수\n",
    "\n",
    "-   **freetime** : 자유시간(1 : 매우 낮음 \\~ 5 : 매우 높음)(categorical data)\n",
    "\n",
    "-   **famrel** : 가족관계(1 : 매우나쁨 \\~ 5 : 매우우수)(categorical data)"
   ]
  },
  {
   "cell_type": "code",
   "execution_count": 71,
   "metadata": {},
   "outputs": [],
   "source": [
    "import pandas as pd\n",
    "import numpy as np\n",
    "import warnings\n",
    "\n",
    "warnings.filterwarnings('ignore')\n",
    "plt.rcParams[\"figure.figsize\"] = (5, 5)  # 가로 12인치, 세로 8인치\n",
    "plt.rcParams[\"figure.dpi\"] = 100  # 해상도도 조정 가능 (선택)"
   ]
  },
  {
   "cell_type": "code",
   "execution_count": 60,
   "metadata": {},
   "outputs": [],
   "source": [
    "dat = pd.read_csv('problem1.csv')"
   ]
  },
  {
   "cell_type": "code",
   "execution_count": 61,
   "metadata": {},
   "outputs": [
    {
     "name": "stdout",
     "output_type": "stream",
     "text": [
      "<class 'pandas.core.frame.DataFrame'>\n",
      "RangeIndex: 395 entries, 0 to 394\n",
      "Data columns (total 12 columns):\n",
      " #   Column      Non-Null Count  Dtype  \n",
      "---  ------      --------------  -----  \n",
      " 0   sex         395 non-null    object \n",
      " 1   age         395 non-null    int64  \n",
      " 2   pstatus     395 non-null    object \n",
      " 3   medu        391 non-null    float64\n",
      " 4   fedu        395 non-null    int64  \n",
      " 5   guardian    395 non-null    object \n",
      " 6   traveltime  395 non-null    int64  \n",
      " 7   studytime   395 non-null    int64  \n",
      " 8   failures    395 non-null    int64  \n",
      " 9   freetime    395 non-null    int64  \n",
      " 10  famrel      395 non-null    int64  \n",
      " 11  absences    389 non-null    float64\n",
      "dtypes: float64(2), int64(7), object(3)\n",
      "memory usage: 37.2+ KB\n",
      "None\n"
     ]
    }
   ],
   "source": [
    "print(dat.info())"
   ]
  },
  {
   "cell_type": "code",
   "execution_count": 62,
   "metadata": {},
   "outputs": [],
   "source": [
    "dat = dat.astype({'traveltime' : 'object', 'studytime' : 'object', 'freetime' : 'object', 'famrel' : 'object'})"
   ]
  },
  {
   "cell_type": "markdown",
   "metadata": {},
   "source": [
    "1.  **탐색적 데이터 분석을 실시하시오. 논리적이고 타당한 근거를 들어 작성하시오(시각화 포함)(5점).**"
   ]
  },
  {
   "cell_type": "code",
   "execution_count": 63,
   "metadata": {},
   "outputs": [
    {
     "data": {
      "text/html": [
       "<div>\n",
       "<style scoped>\n",
       "    .dataframe tbody tr th:only-of-type {\n",
       "        vertical-align: middle;\n",
       "    }\n",
       "\n",
       "    .dataframe tbody tr th {\n",
       "        vertical-align: top;\n",
       "    }\n",
       "\n",
       "    .dataframe thead th {\n",
       "        text-align: right;\n",
       "    }\n",
       "</style>\n",
       "<table border=\"1\" class=\"dataframe\">\n",
       "  <thead>\n",
       "    <tr style=\"text-align: right;\">\n",
       "      <th></th>\n",
       "      <th>sex</th>\n",
       "      <th>age</th>\n",
       "      <th>pstatus</th>\n",
       "      <th>medu</th>\n",
       "      <th>fedu</th>\n",
       "      <th>guardian</th>\n",
       "      <th>traveltime</th>\n",
       "      <th>studytime</th>\n",
       "      <th>failures</th>\n",
       "      <th>freetime</th>\n",
       "      <th>famrel</th>\n",
       "      <th>absences</th>\n",
       "    </tr>\n",
       "  </thead>\n",
       "  <tbody>\n",
       "    <tr>\n",
       "      <th>0</th>\n",
       "      <td>F</td>\n",
       "      <td>18</td>\n",
       "      <td>A</td>\n",
       "      <td>NaN</td>\n",
       "      <td>4</td>\n",
       "      <td>mother</td>\n",
       "      <td>2</td>\n",
       "      <td>2</td>\n",
       "      <td>0</td>\n",
       "      <td>3</td>\n",
       "      <td>4</td>\n",
       "      <td>6.0</td>\n",
       "    </tr>\n",
       "    <tr>\n",
       "      <th>1</th>\n",
       "      <td>F</td>\n",
       "      <td>17</td>\n",
       "      <td>T</td>\n",
       "      <td>NaN</td>\n",
       "      <td>1</td>\n",
       "      <td>father</td>\n",
       "      <td>1</td>\n",
       "      <td>2</td>\n",
       "      <td>0</td>\n",
       "      <td>3</td>\n",
       "      <td>5</td>\n",
       "      <td>4.0</td>\n",
       "    </tr>\n",
       "    <tr>\n",
       "      <th>2</th>\n",
       "      <td>F</td>\n",
       "      <td>15</td>\n",
       "      <td>T</td>\n",
       "      <td>NaN</td>\n",
       "      <td>1</td>\n",
       "      <td>mother</td>\n",
       "      <td>1</td>\n",
       "      <td>2</td>\n",
       "      <td>3</td>\n",
       "      <td>3</td>\n",
       "      <td>4</td>\n",
       "      <td>10.0</td>\n",
       "    </tr>\n",
       "  </tbody>\n",
       "</table>\n",
       "</div>"
      ],
      "text/plain": [
       "  sex  age pstatus  medu  fedu guardian traveltime studytime  failures  \\\n",
       "0   F   18       A   NaN     4   mother          2         2         0   \n",
       "1   F   17       T   NaN     1   father          1         2         0   \n",
       "2   F   15       T   NaN     1   mother          1         2         3   \n",
       "\n",
       "  freetime famrel  absences  \n",
       "0        3      4       6.0  \n",
       "1        3      5       4.0  \n",
       "2        3      4      10.0  "
      ]
     },
     "execution_count": 63,
     "metadata": {},
     "output_type": "execute_result"
    }
   ],
   "source": [
    "dat.head(3)"
   ]
  },
  {
   "cell_type": "code",
   "execution_count": 64,
   "metadata": {},
   "outputs": [
    {
     "data": {
      "text/plain": [
       "sex           0\n",
       "age           0\n",
       "pstatus       0\n",
       "medu          4\n",
       "fedu          0\n",
       "guardian      0\n",
       "traveltime    0\n",
       "studytime     0\n",
       "failures      0\n",
       "freetime      0\n",
       "famrel        0\n",
       "absences      6\n",
       "dtype: int64"
      ]
     },
     "execution_count": 64,
     "metadata": {},
     "output_type": "execute_result"
    }
   ],
   "source": [
    "dat.isna().sum()"
   ]
  },
  {
   "cell_type": "markdown",
   "metadata": {},
   "source": [
    "medu, absences에 결측치가 존재한다."
   ]
  },
  {
   "cell_type": "code",
   "execution_count": 72,
   "metadata": {},
   "outputs": [
    {
     "data": {
      "image/png": "[encoded data removed]",
      "text/plain": [
       "<Figure size 1200x1000 with 9 Axes>"
      ]
     },
     "metadata": {
      "needs_background": "light"
     },
     "output_type": "display_data"
    }
   ],
   "source": [
    "import seaborn as sns\n",
    "import matplotlib.pyplot as plt\n",
    "\n",
    "# 성별, 부모동거여부, 주보호자, 등하교기간, 학습시간, 자유시간, 가족관계, 엄마 교육수준, 아빠 교육수준\n",
    "categorical_columns = ['sex', 'pstatus', 'guardian', 'traveltime', 'studytime', 'freetime', 'famrel', 'medu', 'fedu']\n",
    "\n",
    "fig, axes = plt.subplots(3, 3, figsize=(12, 10));\n",
    "\n",
    "for i, col in enumerate(categorical_columns):\n",
    "    row = i // 3  # 행 계산\n",
    "    col_position = i % 3  # 열 계산\n",
    "    sns.countplot(data=dat, x=col, ax=axes[row, col_position]);\n",
    "    axes[row, col_position].set_title(f'{col} Distribution');\n",
    "\n",
    "for j in range(i+1, 9):\n",
    "    fig.delaxes(axes[j//3, j%3]);\n",
    "\n",
    "plt.tight_layout(rect=[0, 0, 1, 0.95]); \n",
    "plt.show();"
   ]
  },
  {
   "cell_type": "markdown",
   "metadata": {},
   "source": [
    "아빠의 교육수준(fedu), 엄마의 교육수준(medu), 가족관계(famrel), 등하교시간(traveltime)의 경우 특정 빈도가 매우 작으므로, class 불균형이 의심된다."
   ]
  },
  {
   "cell_type": "code",
   "execution_count": 78,
   "metadata": {},
   "outputs": [
    {
     "data": {
      "image/png": "[encoded data removed]",
      "text/plain": [
       "<Figure size 1000x1000 with 6 Axes>"
      ]
     },
     "metadata": {
      "needs_background": "light"
     },
     "output_type": "display_data"
    }
   ],
   "source": [
    "dat.hist(figsize=(10, 10));\n",
    "plt.show();"
   ]
  },
  {
   "cell_type": "markdown",
   "metadata": {},
   "source": [
    "결석횟수(absences)의 경우 우측으로 긴꼬리를 갖는 분포로 보이며, 40회 이상인 이상치가 존재한다. 나이(age)의 경우 15\\~19세가 가장 많고, 20세 이상인 경우도 존재한다. 학사경고횟수(failures)의 경우 0회가 가장 많고, 1\\~3회가 순이다."
   ]
  },
  {
   "cell_type": "code",
   "execution_count": 79,
   "metadata": {},
   "outputs": [
    {
     "data": {
      "image/png": "[encoded data removed]",
      "text/plain": [
       "<Figure size 500x500 with 2 Axes>"
      ]
     },
     "metadata": {
      "needs_background": "light"
     },
     "output_type": "display_data"
    }
   ],
   "source": [
    "corr = dat.select_dtypes('number').corr()\n",
    "sns.heatmap(corr, annot = True);\n",
    "plt.show();"
   ]
  },
  {
   "cell_type": "markdown",
   "metadata": {},
   "source": [
    "(fedu, medu)의 경우 상관계수 = 0.62로 양의 상관관계가 존재한다. 그 외 변수의 경우 유의미한 상관관계가 존재하지 않는다.\n",
    "\n",
    "2.  **데이터를 전처리 하는 과정을 거치시오. 데이터 전처리를 통해 향후 예측분석에 미칠 영향을 논리적이고 타당한 근거를 들어 제시하시오(시각화 포함)(5점).**"
   ]
  },
  {
   "cell_type": "code",
   "execution_count": 80,
   "metadata": {},
   "outputs": [],
   "source": [
    "dat = dat.dropna(subset = ['absences'])"
   ]
  },
  {
   "cell_type": "markdown",
   "metadata": {},
   "source": [
    "결석 횟수(absences)의 경우 1.52% 정도 결측치가 존재하므로, 결측치를 삭제한다."
   ]
  },
  {
   "cell_type": "code",
   "execution_count": 81,
   "metadata": {},
   "outputs": [],
   "source": [
    "y = dat.absences\n",
    "X = dat.drop(['absences'], axis = 1)\n",
    "cat_columns = X.select_dtypes('object').columns\n",
    "\n",
    "from sklearn.model_selection import train_test_split\n",
    "train_X, test_X, train_y, test_y = train_test_split(X, y, test_size = 0.3, random_state = 0)"
   ]
  },
  {
   "cell_type": "code",
   "execution_count": 82,
   "metadata": {},
   "outputs": [],
   "source": [
    "from sklearn.impute import KNNImputer\n",
    "from sklearn.preprocessing import OneHotEncoder\n",
    "from sklearn.compose import ColumnTransformer, make_column_transformer\n",
    "from sklearn.pipeline import Pipeline, make_pipeline\n",
    "\n",
    "impute_preprocess = make_pipeline(\n",
    "    KNNImputer()\n",
    ")\n",
    "encoding_preprocess = make_pipeline(\n",
    "    OneHotEncoder(handle_unknown=\"ignore\", sparse=False)\n",
    ")\n",
    "\n",
    "preprocess = ColumnTransformer(\n",
    "    [(\"imputation\", impute_preprocess, ['medu']), \n",
    "     (\"cat\", encoding_preprocess, cat_columns)], \n",
    "     remainder='passthrough'\n",
    ")"
   ]
  },
  {
   "cell_type": "markdown",
   "metadata": {},
   "source": [
    "**결측치 대치**\n",
    "\n",
    "-   범주형 변수인 medu의 경우 knn을 이용해서 결측치를 대치함\n",
    "\n",
    "knn을 이용한 대치법은 k개의 이웃을 택한 후, 이웃 중 가장 빈도가 높은 범주에 대해서 결측치를 대치하는 방법이다. knn을 이용해서 결측치를 대치한 이유는 대표값을 이용하는 방법에 비해서 다른 변수의 정보를 이용해서 결측치를 대치할 수 있기 때문에 더 많은 정보를 활용해서 결측치를 대치할 수 있기 때문이다.\n",
    "\n",
    "\n",
    "-   범주형 변수 인코딩\n",
    "\n",
    "범주형 변수에 대해 원핫인코딩을 진행한다.\n",
    "\n",
    "3.  **데이터 전처리를 진행하는데 시간이 부족하여 수행하지 못한 전처리 기법과 수행 방법을 제시하고, 향후 예측분석에 미칠 영향을 논리적이고 타당한 근거를 들어 제시하시오(5점).**\n",
    "\n",
    "범주형 변수의 class가 많을 경우, 범주형 변수 인코딩 시 차원이 늘어나는 문제가 있다. 이에 따라 모형 적합시 속도가 느려지는 단점이 있다. 따라서 의미가 퇴색되지 않는 선에서 각 범주형 변수의 class의 빈도가 너무 적을 경우 병합시키는 것이 적절할 것이다."
   ]
  },
  {
   "cell_type": "code",
   "execution_count": 83,
   "metadata": {},
   "outputs": [],
   "source": [
    "freq = train_X['famrel'].value_counts(normalize = True)\n",
    "prob_columns = train_X['famrel'].map(freq)\n",
    "train_X['famrel'] = train_X['famrel'].mask(prob_columns < 0.1, 'other')\n",
    "train_X['famrel'].value_counts()\n",
    "test_X['famrel'] = np.where(test_X['famrel'].isin([1, 2]), 'other', test_X['famrel'])\n",
    "test_X['famrel'].value_counts()\n",
    "train_X['famrel'] = train_X['famrel'].astype(str)\n",
    "test_X['famrel'] = test_X['famrel'].astype(str)"
   ]
  },
  {
   "cell_type": "markdown",
   "metadata": {},
   "source": [
    "4.  **전처리가 완료된 데이터를 활용하여 예측 분석에 적합한 알고리즘을 3개 이상 추천하고, 이들 중 2개를 선정하여 이를 선정한 이유를 타당한 근거를 들어 제시하시오(5점).**\n",
    "\n",
    "-   Decision tree\n",
    "\n",
    "Decision tree는 나무구조를 활용한 의사결정 규칙을 통해서 분류 혹은 예측을 수행하는 방법이다. 범주형 변수의 경우 gini index, cross entropy, 연속형 변수의 경우 SSE를 활용하여, 데이터에 맞는 적절한 분할 기준을 구축하여 의사결정나무를 생성한다. 단일의사결정나무의 경우 시각화를 통해 해석의 장점이 있다.\n",
    "\n",
    "-   random forest\n",
    "\n",
    "Random forest는 Bagging을 의사결정나무에 적용하여 의사결정나무의 단점인 예측력의 분산이 큰 단점을 보완한 모형이다. Decision tree과 성능 비교를 위해 활용한다.\n",
    "\n",
    "-   XGBOOST\n",
    "\n",
    "Gradient Boosting 알고리즘을 기반으로 한 모델로 여러 개의 약한 예측 모델(주로 결정 트리)을 순차적으로 결합하여 강력한 예측 모델을 만드는 앙상블 기법이다. XGBOOST는 Gradient Boosting 알고리즘에서 더 나아가 특히, 대규모 데이터셋에 대해 빠른 학습을 지원하고, 과적합을 방지하는 다양한 기법을 제공한다.\n",
    "\n",
    "Decision Tree는 데이터 해석에 강점이 있고, Random Forest는 예측 성능이 뛰어나고 과적합 문제를 해결할 수 있는 안정적인 앙상블 기법이므로 두 알고리즘을 선택한다.\n",
    "\n",
    "5.  **예측분석을 적용하여 평가할 때의 평가 지표를 선정하고 평가 지표를 선정한 이유를 논리적이고 타당한 근거를 들어 제시하시오(5점).**\n",
    "\n",
    "EDA 결과 absences에 이상치로 의심되는 케이스가 존재한다. 따라서 RMSE에 비해 이상치에 비교적 강건한 MAE를 평가 지표로 선택한다.\n",
    "\n",
    "6.  **선정한 2개의 알고리즘을 바탕으로 분석을 진행하고, 이를 선정한 평가지표와 함께 나타내시오(시각화 포함)(5점).**\n",
    "\n",
    "델 튜닝은 파라미터의 범위를 제한하여 진행하였으며, 반복 5-fold 교차검증을 통해 validation 데이터를 여러번 생성 후 적합하여, 하이퍼파라미터별 모형 성능을 교차 검증하였다."
   ]
  },
  {
   "cell_type": "code",
   "execution_count": 84,
   "metadata": {},
   "outputs": [],
   "source": [
    "from sklearn.experimental import enable_iterative_imputer\n",
    "from sklearn.impute import IterativeImputer\n",
    "from sklearn.ensemble import RandomForestRegressor\n",
    "from sklearn.impute import KNNImputer\n",
    "from sklearn.preprocessing import OneHotEncoder, StandardScaler\n",
    "from sklearn.compose import ColumnTransformer, make_column_transformer\n",
    "from sklearn.pipeline import Pipeline, make_pipeline\n",
    "from sklearn.model_selection import GridSearchCV, KFold\n",
    "\n",
    "cat_columns = train_X.select_dtypes('object').columns\n",
    "\n",
    "impute_preprocess = make_pipeline(\n",
    "    IterativeImputer(estimator = RandomForestRegressor(), max_iter = 5)\n",
    ")\n",
    "encoding_preprocess = make_pipeline(\n",
    "    OneHotEncoder(handle_unknown=\"ignore\", sparse=False)\n",
    ")\n",
    "\n",
    "preprocess = ColumnTransformer(\n",
    "    [(\"imputation\", impute_preprocess, ['medu']), \n",
    "     (\"cat\", encoding_preprocess, cat_columns)], \n",
    "     remainder='passthrough'\n",
    ")"
   ]
  },
  {
   "cell_type": "code",
   "execution_count": 34,
   "metadata": {},
   "outputs": [
    {
     "data": {
      "text/plain": [
       "GridSearchCV(cv=KFold(n_splits=5, random_state=0, shuffle=True),\n",
       "             estimator=Pipeline(steps=[('preprocess',\n",
       "                                        ColumnTransformer(remainder='passthrough',\n",
       "                                                          transformers=[('imputation',\n",
       "                                                                         Pipeline(steps=[('iterativeimputer',\n",
       "                                                                                          IterativeImputer(estimator=RandomForestRegressor(),\n",
       "                                                                                                           max_iter=5))]),\n",
       "                                                                         ['medu']),\n",
       "                                                                        ('cat',\n",
       "                                                                         Pipeline(steps=[('onehotencoder',\n",
       "                                                                                          OneHotEncoder(handle_unknown='ignore',\n",
       "                                                                                                        sparse=False))]),\n",
       "                                                                         Index(['sex', 'pstatus', 'guardian', 'traveltime', 'studytime', 'freetime',\n",
       "       'famrel'],\n",
       "      dtype='object'))])),\n",
       "                                       ('regressor', DecisionTreeRegressor())]),\n",
       "             param_grid={'regressor__ccp_alpha': array([0.1, 0.2, 0.3, 0.4, 0.5, 0.6, 0.7, 0.8, 0.9])},\n",
       "             scoring='neg_mean_absolute_error')"
      ]
     },
     "execution_count": 34,
     "metadata": {},
     "output_type": "execute_result"
    }
   ],
   "source": [
    "from sklearn.tree import DecisionTreeRegressor\n",
    "full_pipe1 = Pipeline(\n",
    "    [\n",
    "        (\"preprocess\", preprocess),\n",
    "        (\"regressor\", DecisionTreeRegressor())\n",
    "    ]\n",
    ")\n",
    "\n",
    "decisiontree_param = {'regressor__ccp_alpha': np.arange(0.1, 1, 0.1)}\n",
    "cv = KFold(n_splits = 5, shuffle = True, random_state = 0)\n",
    "\n",
    "decisiontree_search = GridSearchCV(estimator = full_pipe1, \n",
    "                      param_grid = decisiontree_param, \n",
    "                      cv = cv,\n",
    "                      #cv = 5, # KFold 5\n",
    "                      scoring = 'neg_mean_absolute_error')\n",
    "decisiontree_search.fit(train_X, train_y)"
   ]
  },
  {
   "cell_type": "code",
   "execution_count": 85,
   "metadata": {},
   "outputs": [
    {
     "name": "stdout",
     "output_type": "stream",
     "text": [
      "decision tree best score :  5.886733615355975\n"
     ]
    }
   ],
   "source": [
    "print('decision tree best score : ', -decisiontree_search.best_score_)"
   ]
  },
  {
   "cell_type": "markdown",
   "metadata": {},
   "source": [
    "ccp_alpha = 0.9일 때, MAE가 가장 작다."
   ]
  },
  {
   "cell_type": "code",
   "execution_count": 86,
   "metadata": {},
   "outputs": [
    {
     "data": {
      "text/plain": [
       "GridSearchCV(cv=KFold(n_splits=5, random_state=0, shuffle=True),\n",
       "             estimator=Pipeline(steps=[('preprocess',\n",
       "                                        ColumnTransformer(remainder='passthrough',\n",
       "                                                          transformers=[('imputation',\n",
       "                                                                         Pipeline(steps=[('iterativeimputer',\n",
       "                                                                                          IterativeImputer(estimator=RandomForestRegressor(),\n",
       "                                                                                                           max_iter=5))]),\n",
       "                                                                         ['medu']),\n",
       "                                                                        ('cat',\n",
       "                                                                         Pipeline(steps=[('onehotencoder',\n",
       "                                                                                          OneHotEncoder(handle_unknown='ignore',\n",
       "                                                                                                        sparse=False))]),\n",
       "                                                                         Index(['sex', 'pstatus', 'guardian', 'traveltime', 'studytime', 'freetime',\n",
       "       'famrel'],\n",
       "      dtype='object'))])),\n",
       "                                       ('regressor', RandomForestRegressor())]),\n",
       "             param_grid={'regressor__max_features': array([0.5, 0.6, 0.7, 0.8, 0.9])},\n",
       "             scoring='neg_mean_absolute_error')"
      ]
     },
     "execution_count": 86,
     "metadata": {},
     "output_type": "execute_result"
    }
   ],
   "source": [
    "full_pipe2 = Pipeline(\n",
    "    [\n",
    "        (\"preprocess\", preprocess),\n",
    "        (\"regressor\", RandomForestRegressor())\n",
    "    ]\n",
    ")\n",
    "\n",
    "RandomForest_param = {'regressor__max_features': np.arange(0.5, 1, 0.1)}\n",
    "cv = KFold(n_splits = 5, shuffle = True, random_state = 0)\n",
    "\n",
    "RandomForest_search = GridSearchCV(estimator = full_pipe2, \n",
    "                      param_grid = RandomForest_param, \n",
    "                      cv = cv,\n",
    "                      #cv = 5, # KFold 5\n",
    "                      scoring = 'neg_mean_absolute_error')\n",
    "RandomForest_search.fit(train_X, train_y)"
   ]
  },
  {
   "cell_type": "code",
   "execution_count": 87,
   "metadata": {},
   "outputs": [
    {
     "name": "stdout",
     "output_type": "stream",
     "text": [
      "Random Forest best score :  5.627017003367003\n"
     ]
    }
   ],
   "source": [
    "print('Random Forest best score : ', -RandomForest_search.best_score_)"
   ]
  },
  {
   "cell_type": "code",
   "execution_count": 88,
   "metadata": {},
   "outputs": [
    {
     "data": {
      "image/png": "[encoded data removed]",
      "text/plain": [
       "<Figure size 500x500 with 1 Axes>"
      ]
     },
     "metadata": {
      "needs_background": "light"
     },
     "output_type": "display_data"
    },
    {
     "data": {
      "image/png": "[encoded data removed]",
      "text/plain": [
       "<Figure size 500x500 with 1 Axes>"
      ]
     },
     "metadata": {
      "needs_background": "light"
     },
     "output_type": "display_data"
    }
   ],
   "source": [
    "cv_result1 = pd.DataFrame(decisiontree_search.cv_results_)\n",
    "cv_result2 = pd.DataFrame(RandomForest_search.cv_results_)\n",
    "\n",
    "cv_result1['mean_test_score'] = np.absolute(cv_result1['mean_test_score'])\n",
    "cv_result2['mean_test_score'] = np.absolute(cv_result2['mean_test_score'])\n",
    "\n",
    "cv_result1.plot(x = 'param_regressor__ccp_alpha', y = 'mean_test_score')\n",
    "plt.show();\n",
    "\n",
    "cv_result2.plot(x = 'param_regressor__max_features', y = 'mean_test_score')\n",
    "plt.show();"
   ]
  },
  {
   "cell_type": "markdown",
   "metadata": {},
   "source": [
    "decision tree의 경우 ccp_alpha = 0.9일 때, MAE가 가장 작다. random forest의 경우 max_features = 0.5일 때, MAE가 가장 작다. \n",
    "\n",
    "\n",
    "교차검증 결과를 바탕으로 Random forest 모형을 선택한다. 최종 검증 데이터에 적용했을 때 성능은 다음과 같다."
   ]
  },
  {
   "cell_type": "code",
   "execution_count": 89,
   "metadata": {},
   "outputs": [
    {
     "name": "stdout",
     "output_type": "stream",
     "text": [
      "테스트 MAE score : 5.23366096866097\n"
     ]
    }
   ],
   "source": [
    "print('테스트 MAE score :', np.absolute(RandomForest_search.score(test_X, test_y)))"
   ]
  },
  {
   "cell_type": "markdown",
   "metadata": {},
   "source": [
    "7.  **위에서 구축한 모델의 일반화 가능성에 대해서 논리적으로 타당한 근거를 바탕으로 제시하시오(5점).**"
   ]
  },
  {
   "cell_type": "code",
   "execution_count": 90,
   "metadata": {},
   "outputs": [
    {
     "data": {
      "text/plain": [
       "0.27418700594868006"
      ]
     },
     "execution_count": 90,
     "metadata": {},
     "output_type": "execute_result"
    }
   ],
   "source": [
    "pred = RandomForest_search.predict(test_X)\n",
    "np.corrcoef(pred, test_y)[0,1]"
   ]
  },
  {
   "cell_type": "markdown",
   "metadata": {},
   "source": [
    "훈련 데이터와 테스트 데이터를 묶은 전체 데이터셋에서 일반화 성능 확인을 위해 임의의 테스트셋을 랜덤샘플로 1000번 뽑는다. 그리고, 튜닝이 완료된 Random forest 모델에 테스트셋을 적용한다. 테스트셋의 예측값과 실제값의 상관관계를 측정한다. 1000번 계산한 상관관계의 분포를 확인해보면 다음과 같다."
   ]
  },
  {
   "cell_type": "code",
   "execution_count": 91,
   "metadata": {},
   "outputs": [
    {
     "data": {
      "image/png": "[encoded data removed]",
      "text/plain": [
       "<Figure size 500x500 with 1 Axes>"
      ]
     },
     "metadata": {
      "needs_background": "light"
     },
     "output_type": "display_data"
    }
   ],
   "source": [
    "train = pd.concat([train_X, train_y], axis = 1)\n",
    "test = pd.concat([test_X, test_y], axis = 1)\n",
    "\n",
    "all_dat = pd.concat([train, test], axis = 0)\n",
    "\n",
    "N = 1000\n",
    "cor_result = []\n",
    "for i in range(1, N):\n",
    "    sub_dat = all_dat.sample(frac=0.6,random_state=i)\n",
    "    pred = RandomForest_search.predict(sub_dat)\n",
    "    cor_result.append(np.corrcoef(pred, sub_dat['absences'])[0,1])\n",
    "    \n",
    "result = pd.DataFrame(cor_result, columns = ['cor'])\n",
    "result.plot(kind = 'box')\n",
    "plt.show();"
   ]
  },
  {
   "cell_type": "markdown",
   "metadata": {},
   "source": [
    "대체로 0.7 ~ 0.8 사이에 분포되어 있으므로, 높은 상관관계가 존재한다고 볼 수 있다. 따라서 구축된 모델은 일반화가 가능하다. \n",
    "\n",
    "8.  **앞서 구축한 모델을 더욱 발전시키기 위한 방법을 서술하고 그 방법이 모델에 어떤 영향을 미칠 수 있는지를 타당한 근거를 들어 제시하시오(5점).**\n",
    "\n",
    "반복 5-폴드 교차검증의 경우 모델 적합시 시간이 오래걸리는 단점이 있다. 변수 선택 방법을 활용하여 예측에 필요한 변수를 뽑고, 속도와 성능 측면에서 모델 성능을 개선해볼 수 있다. 변수 선택 방법으로는 Recursive Feature Elimination 방법을 활용한다.\n",
    "\n",
    "변수 중요도가 낮은 변수를 하나씩 제거해나가면서 모델의 성능과 비교 후 예측에 유의미한 변수를 선택하는 방식이다."
   ]
  },
  {
   "cell_type": "code",
   "execution_count": 42,
   "metadata": {},
   "outputs": [
    {
     "name": "stdout",
     "output_type": "stream",
     "text": [
      "테스트 MAE score : 5.701237382987384\n"
     ]
    }
   ],
   "source": [
    "from sklearn.feature_selection import RFE, RFECV\n",
    "from sklearn.model_selection import RandomizedSearchCV\n",
    "\n",
    "full_pipe1_1 = Pipeline(\n",
    "    [\n",
    "        (\"preprocess\", preprocess),\n",
    "        ('feat_sel', RFE(estimator=RandomForestRegressor(), step=1)),\n",
    "        (\"regressor\", RandomForestRegressor())\n",
    "    ]\n",
    ")       \n",
    "\n",
    "RandomForest_search_param2 = {\n",
    "                       'feat_sel__n_features_to_select': [4,5,6,7,8,9,10], \n",
    "                       'regressor__max_features': np.arange(0.5, 1, 0.1)\n",
    "                      }\n",
    "# \n",
    "# search = RandomizedSearchCV(estimator=pipe,\n",
    "#                             param_distributions=decisiontree_param2, ...)\n",
    "# search.fit(X, y)\n",
    "\n",
    "RandomForest_search2 = GridSearchCV(estimator = full_pipe1_1, \n",
    "                      param_grid = RandomForest_search_param2, \n",
    "                      cv = cv,\n",
    "                      scoring = 'neg_mean_absolute_error')\n",
    "RandomForest_search2.fit(train_X, train_y)\n",
    "RandomForest_search2.best_params_\n",
    "print('테스트 MAE score :', np.absolute(RandomForest_search2.score(test_X, test_y)))"
   ]
  },
  {
   "cell_type": "markdown",
   "metadata": {},
   "source": [
    "변수가 4개일 때, MAE = 5.43로 가장 낮으며, 전체 변수를 고려한 모델과 모델 성능 차이가 없으므로, RFE로 선택된 변수 4개를 최종 모델로 활용할 수 있다.\n",
    "\n",
    "## 문제 2\n",
    "\n",
    "야생 동물 생물학자들은 국립 공원에서 어부들이 얼마나 많은 물고기를 잡는지 모델링하고자 합니다.\n",
    "\n",
    "**Data description**\n",
    "\n",
    "-   camper : 캠핑카를 가져왔는지 여부\n",
    "\n",
    "-   persons : 그룹에 속한 사람의 수\n",
    "\n",
    "-   child : 그룹에 속한 어린이 수\n",
    "\n",
    "-   count : 그룹에서 잡은 물고기의 수"
   ]
  },
  {
   "cell_type": "code",
   "execution_count": 43,
   "metadata": {},
   "outputs": [],
   "source": [
    "dat = pd.read_csv('problem2.csv')"
   ]
  },
  {
   "cell_type": "code",
   "execution_count": 44,
   "metadata": {},
   "outputs": [
    {
     "name": "stdout",
     "output_type": "stream",
     "text": [
      "<class 'pandas.core.frame.DataFrame'>\n",
      "RangeIndex: 250 entries, 0 to 249\n",
      "Data columns (total 8 columns):\n",
      " #   Column    Non-Null Count  Dtype  \n",
      "---  ------    --------------  -----  \n",
      " 0   nofish    250 non-null    int64  \n",
      " 1   livebait  250 non-null    int64  \n",
      " 2   camper    250 non-null    int64  \n",
      " 3   persons   250 non-null    int64  \n",
      " 4   child     250 non-null    int64  \n",
      " 5   xb        250 non-null    float64\n",
      " 6   zg        250 non-null    float64\n",
      " 7   count     250 non-null    int64  \n",
      "dtypes: float64(2), int64(6)\n",
      "memory usage: 15.8 KB\n",
      "None\n"
     ]
    }
   ],
   "source": [
    "print(dat.info())"
   ]
  },
  {
   "cell_type": "code",
   "execution_count": 45,
   "metadata": {},
   "outputs": [],
   "source": [
    "dat = dat.drop(columns=['nofish'])\n",
    "dat['livebait'] = dat['livebait'].astype('category')\n",
    "dat['camper'] = dat['camper'].astype('category')"
   ]
  },
  {
   "cell_type": "markdown",
   "metadata": {},
   "source": [
    "1.  **데이터에 과대산포가 존재하는지 판단하시오(5점).**"
   ]
  },
  {
   "cell_type": "code",
   "execution_count": 46,
   "metadata": {},
   "outputs": [
    {
     "name": "stdout",
     "output_type": "stream",
     "text": [
      "과대산포 판단 (분산/평균): 40.90788349514564\n"
     ]
    }
   ],
   "source": [
    "mean_count = np.mean(dat['count'])\n",
    "var_count = np.var(dat['count'])\n",
    "overdispersion_factor = var_count / mean_count\n",
    "print(f'과대산포 판단 (분산/평균): {overdispersion_factor}')"
   ]
  },
  {
   "cell_type": "markdown",
   "metadata": {},
   "source": [
    "평균에 비해 분산이 약 7배 높으므로, 과대산포 되어있다.\n",
    "\n",
    "2.  **과대산포를 반영한 회귀 모델을 적합하시오(5점).**"
   ]
  },
  {
   "cell_type": "code",
   "execution_count": 47,
   "metadata": {},
   "outputs": [
    {
     "name": "stdout",
     "output_type": "stream",
     "text": [
      "                 Generalized Linear Model Regression Results                  \n",
      "==============================================================================\n",
      "Dep. Variable:                  count   No. Observations:                  250\n",
      "Model:                            GLM   Df Residuals:                      245\n",
      "Model Family:        NegativeBinomial   Df Model:                            4\n",
      "Link Function:                    Log   Scale:                          1.0000\n",
      "Method:                          IRLS   Log-Likelihood:                -407.32\n",
      "Date:                Fri, 23 May 2025   Deviance:                       296.30\n",
      "Time:                        21:50:41   Pearson chi2:                     761.\n",
      "No. Iterations:                     8   Pseudo R-squ. (CS):             0.7543\n",
      "Covariance Type:            nonrobust                                         \n",
      "=================================================================================\n",
      "                    coef    std err          z      P>|z|      [0.025      0.975]\n",
      "---------------------------------------------------------------------------------\n",
      "Intercept        -2.9863      0.406     -7.358      0.000      -3.782      -2.191\n",
      "livebait[T.1]     1.5359      0.340      4.512      0.000       0.869       2.203\n",
      "camper[T.1]       0.5366      0.185      2.896      0.004       0.173       0.900\n",
      "persons           1.0540      0.087     12.136      0.000       0.884       1.224\n",
      "child            -1.7573      0.151    -11.661      0.000      -2.053      -1.462\n",
      "=================================================================================\n"
     ]
    }
   ],
   "source": [
    "import statsmodels.api as sm\n",
    "import statsmodels.formula.api as smf\n",
    "nb_model = smf.glm('count ~ persons + child + livebait + camper', data=dat, \n",
    "                   family=sm.families.NegativeBinomial()).fit()\n",
    "\n",
    "print(nb_model.summary())"
   ]
  },
  {
   "cell_type": "markdown",
   "metadata": {},
   "source": [
    "3.  **Zero-inflation 모델을 적합하고, 모델 적합도를 통계적으로 검정하시오(5점).**\n",
    "\n",
    "-   귀무가설: 모든 계수들이 0이다.\n",
    "\n",
    "-   대립가설: 0이 아닌 계수가 존재한다."
   ]
  },
  {
   "cell_type": "code",
   "execution_count": 48,
   "metadata": {},
   "outputs": [
    {
     "name": "stdout",
     "output_type": "stream",
     "text": [
      "Warning: Maximum number of iterations has been exceeded.\n",
      "         Current function value: 1.594368\n",
      "         Iterations: 35\n",
      "         Function evaluations: 36\n",
      "         Gradient evaluations: 36\n"
     ]
    }
   ],
   "source": [
    "from statsmodels.discrete.count_model import ZeroInflatedNegativeBinomialP\n",
    "\n",
    "# Zero-inflation 모델 적합\n",
    "zi_model = ZeroInflatedNegativeBinomialP.from_formula(\n",
    "    'count ~ persons + child + livebait + camper', \n",
    "    data=dat, \n",
    "    dist='negbin'\n",
    ").fit()"
   ]
  },
  {
   "cell_type": "code",
   "execution_count": 49,
   "metadata": {},
   "outputs": [
    {
     "name": "stdout",
     "output_type": "stream",
     "text": [
      "Warning: Maximum number of iterations has been exceeded.\n",
      "         Current function value: 1.594368\n",
      "         Iterations: 35\n",
      "         Function evaluations: 36\n",
      "         Gradient evaluations: 36\n",
      "Warning: Maximum number of iterations has been exceeded.\n",
      "         Current function value: 1.857757\n",
      "         Iterations: 35\n",
      "         Function evaluations: 36\n",
      "         Gradient evaluations: 36\n",
      "검정 통계량: 131.695\n",
      "p-value: 0.0000000000\n"
     ]
    }
   ],
   "source": [
    "zi_model = ZeroInflatedNegativeBinomialP.from_formula('count ~ persons + child + livebait + camper', data=dat, dist='negbin').fit()\n",
    "\n",
    "llf = zi_model.llf\n",
    "\n",
    "null_model = ZeroInflatedNegativeBinomialP.from_formula('count ~ 1', data=dat, dist='negbin').fit()\n",
    "llnull = null_model.llf\n",
    "\n",
    "\n",
    "test_statistic = round(-2 * (llnull - llf), 3)\n",
    "print(f\"검정 통계량: {test_statistic}\")\n",
    "df = zi_model.df_model - null_model.df_model\n",
    "\n",
    "from scipy.stats import chi2\n",
    "p_value = chi2.sf(test_statistic, df)\n",
    "print(f\"p-value: {p_value:.10f}\")"
   ]
  },
  {
   "cell_type": "markdown",
   "metadata": {},
   "source": [
    "유의수준 5%에서 p-value = 0이므로 귀무가설을 기각합니다. 따라서 0이 아닌 계수가 존재하며, 모델이 데이터에 적합하다고 결론지을 수 있습니다.\n",
    "\n",
    "4.  **2번과 3번 모델을 비교한 후 어떤 모델이 해당 데이터에 더 적합한지 판단하시오(5점).**"
   ]
  },
  {
   "cell_type": "code",
   "execution_count": 50,
   "metadata": {},
   "outputs": [
    {
     "name": "stdout",
     "output_type": "stream",
     "text": [
      "824.6321438245659 807.1839079028805\n"
     ]
    }
   ],
   "source": [
    "aic_nb = nb_model.aic\n",
    "aic_zi = zi_model.aic\n",
    "print(aic_nb, aic_zi)"
   ]
  },
  {
   "cell_type": "markdown",
   "metadata": {},
   "source": [
    "음이항 회귀 모델에 비해 Zero-inflation 음이항 회귀 모델의 AIC가 작으므로, Zero-inflation 음이항 회귀 모델이 해당 데이터에 더 적합하다.\n",
    "\n",
    "## 문제 3"
   ]
  },
  {
   "cell_type": "code",
   "execution_count": 51,
   "metadata": {},
   "outputs": [],
   "source": [
    "dat = pd.read_csv('problem3.csv', encoding='cp949')"
   ]
  },
  {
   "cell_type": "markdown",
   "metadata": {},
   "source": [
    "1.  **회귀식이 통계적으로 유의한지 판단하시오(5점).**"
   ]
  },
  {
   "cell_type": "code",
   "execution_count": 52,
   "metadata": {},
   "outputs": [
    {
     "name": "stdout",
     "output_type": "stream",
     "text": [
      "                            OLS Regression Results                            \n",
      "==============================================================================\n",
      "Dep. Variable:                    매출액   R-squared:                       1.000\n",
      "Model:                            OLS   Adj. R-squared:                  1.000\n",
      "Method:                 Least Squares   F-statistic:                 2.910e+30\n",
      "Date:                Fri, 23 May 2025   Prob (F-statistic):          3.57e-120\n",
      "Time:                        21:50:41   Log-Likelihood:                 344.13\n",
      "No. Observations:                  11   AIC:                            -682.3\n",
      "Df Residuals:                       8   BIC:                            -681.1\n",
      "Df Model:                           2                                         \n",
      "Covariance Type:            nonrobust                                         \n",
      "================================================================================\n",
      "                   coef    std err          t      P>|t|      [0.025      0.975]\n",
      "--------------------------------------------------------------------------------\n",
      "Intercept     1.599e-14   9.59e-15      1.667      0.134   -6.13e-15    3.81e-14\n",
      "C(광고비)[T.높음]  4.441e-16   4.79e-15      0.093      0.928   -1.06e-14    1.15e-14\n",
      "매출액              1.0000   4.46e-16   2.24e+15      0.000       1.000       1.000\n",
      "==============================================================================\n",
      "Omnibus:                        3.053   Durbin-Watson:                   0.124\n",
      "Prob(Omnibus):                  0.217   Jarque-Bera (JB):                2.035\n",
      "Skew:                           0.934   Prob(JB):                        0.361\n",
      "Kurtosis:                       2.026   Cond. No.                         99.9\n",
      "==============================================================================\n",
      "\n",
      "Notes:\n",
      "[1] Standard Errors assume that the covariance matrix of the errors is correctly specified.\n"
     ]
    }
   ],
   "source": [
    "fit = smf.ols(formula='매출액 ~ C(광고비) + 매출액', data=dat).fit()\n",
    "print(fit.summary())"
   ]
  },
  {
   "cell_type": "markdown",
   "metadata": {},
   "source": [
    "-   귀무가설 : 모든 회귀계수는 0이다.\n",
    "\n",
    "-   대립가설 : 적어도 하나의 회귀계수는 0이 아니다.\n",
    "\n",
    "유의수준 5%에서 p-value = 5.88e-119로 작으므로, 귀무가설을 기각한다. 따라서 적어도 하나의 회귀계수는 0이 아니다.\n",
    "\n",
    "2.  **광고비 변수를 가변수 처리후 다중회귀를 수행하여 회귀계수가 통계적으로 유의한지 검정하시오(5점).**\n",
    "\n",
    "-   귀무가설 : 해당 회귀계수는 0이다.\n",
    "\n",
    "-   대립가설 : 해당 회귀계수는 0이 아니다.\n",
    "\n",
    "광고횟수의 경우 유의수준 5%에서 p-value = 0.000로 작으므로, 귀무가설을 기각한다. 따라서 광고횟수는 매출액과 통계적으로 유의미한 관계가 있다.\n",
    "\n",
    "광공비의 경우 유의수준 5%에서 p-value = 0.956로 크므로, 귀무가설을 기각할 수 없다. 따라서 광고비는 매출액과 통계적으로 유의미한 관계가 없다.\n",
    "\n",
    "## 문제 4\n",
    "\n",
    "A 생산라인의 제품 평균은 5.7mm이고 표준편차는 0.03입니다. B 생산라인의 제품 평균은 5.6mm이고 표준편차는 0.04입니다. 두 생산라인의 제품 평균이 서로 다른지 검정하려고 합니다. 주어진 정보를 바탕으로 5% 유의수준에서 Z-검정을 수행하세요. (Z(0.05) = 1.65)\n",
    "\n",
    "1.  **두 생산라인의 평균이 동일한지 여부를 검정하기 위한 귀무가설과 대립가설을 세우시오(5점).**\n",
    "\n",
    "-   귀무가설(H₀): A 생산라인과 B 생산라인의 평균은 동일하다.\n",
    "\n",
    "-   대립가설(H₁): A 생산라인의 평균이 B 생산라인의 평균보다 크다.\n",
    "\n",
    "2.  **두 생산라인의 평균 제품 크기가 통계적으로 유의미하게 차이가 있는지 검정하시오(5점).**"
   ]
  },
  {
   "cell_type": "code",
   "execution_count": 53,
   "metadata": {},
   "outputs": [
    {
     "name": "stdout",
     "output_type": "stream",
     "text": [
      "계산된 Z 값: 10.954451150103381\n",
      "임계 Z 값: 1.65\n"
     ]
    }
   ],
   "source": [
    "mu_A = 5.7  \n",
    "mu_B = 5.6  \n",
    "sigma_A = 0.03  \n",
    "sigma_B = 0.04  \n",
    "n_A = 30  \n",
    "n_B = 30  \n",
    "\n",
    "Z = (mu_A - mu_B) / np.sqrt((sigma_A**2 / n_A) + (sigma_B**2 / n_B))\n",
    "Z_critical = 1.65  \n",
    "\n",
    "print(f\"계산된 Z 값: {Z}\")\n",
    "print(f\"임계 Z 값: {Z_critical}\")"
   ]
  },
  {
   "cell_type": "markdown",
   "metadata": {},
   "source": [
    "유의수준 5%에서 임계값은 1.65이고, 검정통계량은 10.95로 크므로, 귀무가설을 기각한다. 따라서 A 생산라인의 평균이 B 생산라인의 평균보다 크다.\n",
    "\n",
    "## 문제 5\n",
    "\n",
    "다음은 특정 바이러스에 대한 검사 결과를 나타내는 분류표입니다. 이 표를 사용하여 베이지안 방법을 적용하여 양성으로 예측된 사람이 실제로 양성일 확률을 계산하세요(10점).\n",
    "\n",
    "|            | 양성(실제) | 음성(실제) |\n",
    "|------------|------------|------------|\n",
    "| 양성(예측) | 370        | 10         |\n",
    "| 음성(예측) | 15         | 690        |"
   ]
  },
  {
   "cell_type": "code",
   "execution_count": 54,
   "metadata": {},
   "outputs": [
    {
     "name": "stdout",
     "output_type": "stream",
     "text": [
      "양성으로 예측된 사람이 실제로 양성일 확률: 0.9736842105263158\n"
     ]
    }
   ],
   "source": [
    "true_positive = 370  # 양성(실제) 중 양성(예측)\n",
    "false_positive = 10   # 음성(실제) 중 양성(예측)\n",
    "true_negative = 690   # 음성(실제) 중 음성(예측)\n",
    "false_negative = 15   # 양성(실제) 중 음성(예측)\n",
    "\n",
    "total = true_positive + false_positive + true_negative + false_negative\n",
    "predicted_positive = true_positive + false_positive\n",
    "actual_positive = true_positive + false_negative\n",
    "P_actual_positive_given_predicted_positive = true_positive / predicted_positive\n",
    "\n",
    "print(f\"양성으로 예측된 사람이 실제로 양성일 확률: {P_actual_positive_given_predicted_positive}\")"
   ]
  },
  {
   "cell_type": "markdown",
   "metadata": {},
   "source": [
    "## 문제 6\n",
    "\n",
    "다음은 정규분포에서 추출한 데이터입니다. 해당 데이터를 사용하여 신뢰구간을 계산하세요."
   ]
  },
  {
   "cell_type": "code",
   "execution_count": 55,
   "metadata": {},
   "outputs": [],
   "source": [
    "dat = pd.read_csv('problem6.csv')"
   ]
  },
  {
   "cell_type": "markdown",
   "metadata": {},
   "source": [
    "1.  **모분산을 모르는 경우, 주어진 데이터를 사용하여 95% 신뢰구간을 T 분포를 이용해 계산하시오(5점).**"
   ]
  },
  {
   "cell_type": "code",
   "execution_count": 56,
   "metadata": {},
   "outputs": [
    {
     "name": "stdout",
     "output_type": "stream",
     "text": [
      "T-분포를 이용한 95% 신뢰구간: [x    2.957381\n",
      "dtype: float64, x    3.06906\n",
      "dtype: float64]\n"
     ]
    }
   ],
   "source": [
    "from scipy import stats\n",
    "n = len(dat)\n",
    "mean_data = np.mean(dat)\n",
    "sd_data = np.std(dat, ddof=1)\n",
    "\n",
    "alpha = 0.05\n",
    "t_value = stats.t.ppf(1 - alpha/2, df=n-1)\n",
    "margin_of_error_t = t_value * (sd_data / np.sqrt(n))\n",
    "lower_bound_t = mean_data - margin_of_error_t\n",
    "upper_bound_t = mean_data + margin_of_error_t\n",
    "\n",
    "print(f\"T-분포를 이용한 95% 신뢰구간: [{lower_bound_t}, {upper_bound_t}]\")"
   ]
  },
  {
   "cell_type": "markdown",
   "metadata": {},
   "source": [
    "2.  **모표준편차가 0.1인 것을 알고 있을 때, Z 분포를 이용하여 주어진 데이터의 95% 신뢰구간을 구하시오(5점).**"
   ]
  },
  {
   "cell_type": "code",
   "execution_count": 57,
   "metadata": {},
   "outputs": [
    {
     "name": "stdout",
     "output_type": "stream",
     "text": [
      "Z-분포를 이용한 95% 신뢰구간: [x    2.951241\n",
      "dtype: float64, x    3.0752\n",
      "dtype: float64]\n"
     ]
    }
   ],
   "source": [
    "sigma = 0.1\n",
    "z_value = stats.norm.ppf(1 - alpha/2)\n",
    "margin_of_error_z = z_value * (sigma / np.sqrt(n))\n",
    "lower_bound_z = mean_data - margin_of_error_z\n",
    "upper_bound_z = mean_data + margin_of_error_z\n",
    "\n",
    "print(f\"Z-분포를 이용한 95% 신뢰구간: [{lower_bound_z}, {upper_bound_z}]\")"
   ]
  },
  {
   "cell_type": "code",
   "execution_count": 1,
   "metadata": {},
   "outputs": [],
   "source": [
    "!pip install koreanize_matplotlib -q"
   ]
  },
  {
   "cell_type": "code",
   "execution_count": null,
   "metadata": {},
   "outputs": [],
   "source": []
  }
 ],
 "metadata": {
  "kernelspec": {
   "display_name": "Python 3",
   "language": "python",
   "name": "python3"
  },
  "language_info": {
   "codemirror_mode": {
    "name": "ipython",
    "version": 3
   },
   "file_extension": ".py",
   "mimetype": "text/x-python",
   "name": "python",
   "nbconvert_exporter": "python",
   "pygments_lexer": "ipython3",
   "version": "3.7.9"
  }
 },
 "nbformat": 4,
 "nbformat_minor": 4
}
