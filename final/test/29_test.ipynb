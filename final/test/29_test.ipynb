{
 "cells": [
  {
   "cell_type": "markdown",
   "metadata": {},
   "source": [
    "# 29회차 기출문제\n",
    "## 문제 1\n",
    "\n",
    "**Data description**\n",
    "\n",
    "임대아파트 입주자 퇴거여부 예측을 위한 데이터입니다.\n",
    "\n",
    "- 순번: 데이터의 순서를 나타내는 고유 번호\n",
    "- 계약구분: 계약의 유형(예: 유효, 해지)\n",
    "- 재계약횟수: 재계약이 이루어진 횟수\n",
    "- 거주개월: 해당 아파트에 거주한 총 개월 수\n",
    "- 아파트 이름: 아파트의 이름\n",
    "- 아파트 ID: 아파트를 식별하는 고유 ID\n",
    "- 아파트 평점: 아파트의 평점\n",
    "- 호실고유번호: 아파트의 특정 호실을 식별하는 고유 번호\n",
    "- 층: 거주하고 있는 층수\n",
    "- 평형대: 아파트의 면적(평수)\n",
    "- 계약자고유번호: 계약자를 식별하는 고유 번호\n",
    "- 계약서고유번호: 계약서를 식별하는 고유 번호\n",
    "- 입주연도: 처음 입주한 연도\n",
    "- 퇴거연도: 퇴거한 연도\n",
    "- 거주연도: 거주한 총 연도 수\n",
    "- 월세(원): 월세 금액\n",
    "- 보증금(원): 보증금 금액\n",
    "- 대표나이: 대표 거주자의 나이\n",
    "- 나이: 개별 거주자의 나이\n",
    "- 성별: 개별 거주자의 성별(예: 남, 여)\n",
    "- 결혼여부: 개별 거주자의 결혼 여부(예: 미혼, 기혼)\n",
    "- 거주자 수: 해당 호실에 거주하는 총 인원 수\n",
    "- 퇴거 여부(target): 퇴거 여부(예: 미퇴거, 퇴거)"
   ]
  },
  {
   "cell_type": "code",
   "execution_count": 1,
   "metadata": {},
   "outputs": [
    {
     "name": "stdout",
     "output_type": "stream",
     "text": [
      "<class 'pandas.core.frame.DataFrame'>\n",
      "RangeIndex: 86904 entries, 0 to 86903\n",
      "Data columns (total 23 columns):\n",
      " #   Column   Non-Null Count  Dtype  \n",
      "---  ------   --------------  -----  \n",
      " 0   순번       86904 non-null  int64  \n",
      " 1   계약구분     86396 non-null  object \n",
      " 2   재계약횟수    86904 non-null  int64  \n",
      " 3   거주개월     86904 non-null  int64  \n",
      " 4   아파트 이름   86904 non-null  object \n",
      " 5   아파트 ID   86904 non-null  int64  \n",
      " 6   아파트 평점   85679 non-null  float64\n",
      " 7   호실고유번호   86904 non-null  int64  \n",
      " 8   층        86904 non-null  int64  \n",
      " 9   평형대      86904 non-null  int64  \n",
      " 10  계약자고유번호  86904 non-null  int64  \n",
      " 11  계약서고유번호  86904 non-null  int64  \n",
      " 12  입주연도     86904 non-null  int64  \n",
      " 13  퇴거연도     25762 non-null  float64\n",
      " 14  거주연도     86904 non-null  int64  \n",
      " 15  월세(원)    86904 non-null  float64\n",
      " 16  보증금(원)   86904 non-null  int64  \n",
      " 17  대표나이     86904 non-null  int64  \n",
      " 18  나이       86904 non-null  int64  \n",
      " 19  성별       86904 non-null  object \n",
      " 20  결혼여부     86904 non-null  object \n",
      " 21  거주자 수    86904 non-null  int64  \n",
      " 22  퇴거여부     86904 non-null  object \n",
      "dtypes: float64(3), int64(15), object(5)\n",
      "memory usage: 15.2+ MB\n",
      "None\n"
     ]
    },
    {
     "data": {
      "text/html": [
       "<div>\n",
       "<style scoped>\n",
       "    .dataframe tbody tr th:only-of-type {\n",
       "        vertical-align: middle;\n",
       "    }\n",
       "\n",
       "    .dataframe tbody tr th {\n",
       "        vertical-align: top;\n",
       "    }\n",
       "\n",
       "    .dataframe thead th {\n",
       "        text-align: right;\n",
       "    }\n",
       "</style>\n",
       "<table border=\"1\" class=\"dataframe\">\n",
       "  <thead>\n",
       "    <tr style=\"text-align: right;\">\n",
       "      <th></th>\n",
       "      <th>순번</th>\n",
       "      <th>계약구분</th>\n",
       "      <th>재계약횟수</th>\n",
       "      <th>거주개월</th>\n",
       "      <th>아파트 이름</th>\n",
       "      <th>아파트 ID</th>\n",
       "      <th>아파트 평점</th>\n",
       "      <th>호실고유번호</th>\n",
       "      <th>층</th>\n",
       "      <th>평형대</th>\n",
       "      <th>...</th>\n",
       "      <th>퇴거연도</th>\n",
       "      <th>거주연도</th>\n",
       "      <th>월세(원)</th>\n",
       "      <th>보증금(원)</th>\n",
       "      <th>대표나이</th>\n",
       "      <th>나이</th>\n",
       "      <th>성별</th>\n",
       "      <th>결혼여부</th>\n",
       "      <th>거주자 수</th>\n",
       "      <th>퇴거여부</th>\n",
       "    </tr>\n",
       "  </thead>\n",
       "  <tbody>\n",
       "    <tr>\n",
       "      <th>0</th>\n",
       "      <td>1</td>\n",
       "      <td>유효</td>\n",
       "      <td>10</td>\n",
       "      <td>222</td>\n",
       "      <td>강남아파트</td>\n",
       "      <td>5</td>\n",
       "      <td>7.0</td>\n",
       "      <td>14520</td>\n",
       "      <td>1</td>\n",
       "      <td>12</td>\n",
       "      <td>...</td>\n",
       "      <td>NaN</td>\n",
       "      <td>2008</td>\n",
       "      <td>47100.0</td>\n",
       "      <td>3646000</td>\n",
       "      <td>46</td>\n",
       "      <td>33</td>\n",
       "      <td>남</td>\n",
       "      <td>미혼</td>\n",
       "      <td>3</td>\n",
       "      <td>미퇴거</td>\n",
       "    </tr>\n",
       "  </tbody>\n",
       "</table>\n",
       "<p>1 rows × 23 columns</p>\n",
       "</div>"
      ],
      "text/plain": [
       "   순번 계약구분  재계약횟수  거주개월 아파트 이름  아파트 ID  아파트 평점  호실고유번호  층  평형대  ...  퇴거연도  \\\n",
       "0   1   유효     10   222  강남아파트       5     7.0   14520  1   12  ...   NaN   \n",
       "\n",
       "   거주연도    월세(원)   보증금(원)  대표나이  나이  성별  결혼여부  거주자 수 퇴거여부  \n",
       "0  2008  47100.0  3646000    46  33   남    미혼      3  미퇴거  \n",
       "\n",
       "[1 rows x 23 columns]"
      ]
     },
     "metadata": {},
     "output_type": "display_data"
    }
   ],
   "source": [
    "import pandas as pd\n",
    "import numpy as np\n",
    "import seaborn as sns\n",
    "import matplotlib.pyplot as plt\n",
    "import koreanize_matplotlib\n",
    "import warnings\n",
    "\n",
    "warnings.filterwarnings('ignore')\n",
    "\n",
    "df1 = pd.read_csv('https://raw.githubusercontent.com/qiwerr1004/ADP_go/main/29/problem1.csv')\n",
    "\n",
    "print(df1.info())\n",
    "display(df1.head(1))"
   ]
  },
  {
   "cell_type": "markdown",
   "metadata": {},
   "source": [
    "#### 1-1.계약자고유번호를 기준으로 거주연도 별 여러개의 데이터가 쌓여 있다.  각 계약자고유번호에 대해 가장 최신의 거주연도 행만 남기시오."
   ]
  },
  {
   "cell_type": "code",
   "execution_count": 2,
   "metadata": {},
   "outputs": [
    {
     "name": "stdout",
     "output_type": "stream",
     "text": [
      "처리 후 데이터수: 10348\n"
     ]
    },
    {
     "data": {
      "text/html": [
       "<div>\n",
       "<style scoped>\n",
       "    .dataframe tbody tr th:only-of-type {\n",
       "        vertical-align: middle;\n",
       "    }\n",
       "\n",
       "    .dataframe tbody tr th {\n",
       "        vertical-align: top;\n",
       "    }\n",
       "\n",
       "    .dataframe thead th {\n",
       "        text-align: right;\n",
       "    }\n",
       "</style>\n",
       "<table border=\"1\" class=\"dataframe\">\n",
       "  <thead>\n",
       "    <tr style=\"text-align: right;\">\n",
       "      <th></th>\n",
       "      <th>순번</th>\n",
       "      <th>계약구분</th>\n",
       "      <th>재계약횟수</th>\n",
       "      <th>거주개월</th>\n",
       "      <th>아파트 이름</th>\n",
       "      <th>아파트 ID</th>\n",
       "      <th>아파트 평점</th>\n",
       "      <th>호실고유번호</th>\n",
       "      <th>층</th>\n",
       "      <th>평형대</th>\n",
       "      <th>...</th>\n",
       "      <th>퇴거연도</th>\n",
       "      <th>거주연도</th>\n",
       "      <th>월세(원)</th>\n",
       "      <th>보증금(원)</th>\n",
       "      <th>대표나이</th>\n",
       "      <th>나이</th>\n",
       "      <th>성별</th>\n",
       "      <th>결혼여부</th>\n",
       "      <th>거주자 수</th>\n",
       "      <th>퇴거여부</th>\n",
       "    </tr>\n",
       "  </thead>\n",
       "  <tbody>\n",
       "    <tr>\n",
       "      <th>85372</th>\n",
       "      <td>12673</td>\n",
       "      <td>해지</td>\n",
       "      <td>4</td>\n",
       "      <td>88</td>\n",
       "      <td>지산5단지아파트</td>\n",
       "      <td>3</td>\n",
       "      <td>8.0</td>\n",
       "      <td>85369</td>\n",
       "      <td>6</td>\n",
       "      <td>12</td>\n",
       "      <td>...</td>\n",
       "      <td>2012.0</td>\n",
       "      <td>2012</td>\n",
       "      <td>77300.0</td>\n",
       "      <td>5302000</td>\n",
       "      <td>44</td>\n",
       "      <td>35</td>\n",
       "      <td>남</td>\n",
       "      <td>기혼</td>\n",
       "      <td>2</td>\n",
       "      <td>퇴거</td>\n",
       "    </tr>\n",
       "    <tr>\n",
       "      <th>85427</th>\n",
       "      <td>12683</td>\n",
       "      <td>해지</td>\n",
       "      <td>7</td>\n",
       "      <td>174</td>\n",
       "      <td>지산5단지아파트</td>\n",
       "      <td>3</td>\n",
       "      <td>8.0</td>\n",
       "      <td>85421</td>\n",
       "      <td>6</td>\n",
       "      <td>15</td>\n",
       "      <td>...</td>\n",
       "      <td>2016.0</td>\n",
       "      <td>2016</td>\n",
       "      <td>48600.0</td>\n",
       "      <td>2144000</td>\n",
       "      <td>32</td>\n",
       "      <td>27</td>\n",
       "      <td>남</td>\n",
       "      <td>미혼</td>\n",
       "      <td>1</td>\n",
       "      <td>퇴거</td>\n",
       "    </tr>\n",
       "    <tr>\n",
       "      <th>85587</th>\n",
       "      <td>12702</td>\n",
       "      <td>유효</td>\n",
       "      <td>10</td>\n",
       "      <td>237</td>\n",
       "      <td>지산5단지아파트</td>\n",
       "      <td>3</td>\n",
       "      <td>8.0</td>\n",
       "      <td>85576</td>\n",
       "      <td>7</td>\n",
       "      <td>15</td>\n",
       "      <td>...</td>\n",
       "      <td>NaN</td>\n",
       "      <td>2020</td>\n",
       "      <td>81600.0</td>\n",
       "      <td>5598000</td>\n",
       "      <td>67</td>\n",
       "      <td>66</td>\n",
       "      <td>남</td>\n",
       "      <td>미혼</td>\n",
       "      <td>1</td>\n",
       "      <td>미퇴거</td>\n",
       "    </tr>\n",
       "    <tr>\n",
       "      <th>86190</th>\n",
       "      <td>12789</td>\n",
       "      <td>유효</td>\n",
       "      <td>10</td>\n",
       "      <td>227</td>\n",
       "      <td>지산5단지아파트</td>\n",
       "      <td>3</td>\n",
       "      <td>8.0</td>\n",
       "      <td>86179</td>\n",
       "      <td>10</td>\n",
       "      <td>19</td>\n",
       "      <td>...</td>\n",
       "      <td>NaN</td>\n",
       "      <td>2020</td>\n",
       "      <td>66600.0</td>\n",
       "      <td>3116000</td>\n",
       "      <td>61</td>\n",
       "      <td>60</td>\n",
       "      <td>남</td>\n",
       "      <td>기혼</td>\n",
       "      <td>3</td>\n",
       "      <td>미퇴거</td>\n",
       "    </tr>\n",
       "    <tr>\n",
       "      <th>86235</th>\n",
       "      <td>12796</td>\n",
       "      <td>유효</td>\n",
       "      <td>10</td>\n",
       "      <td>222</td>\n",
       "      <td>지산5단지아파트</td>\n",
       "      <td>3</td>\n",
       "      <td>8.0</td>\n",
       "      <td>86224</td>\n",
       "      <td>10</td>\n",
       "      <td>15</td>\n",
       "      <td>...</td>\n",
       "      <td>NaN</td>\n",
       "      <td>2020</td>\n",
       "      <td>129240.0</td>\n",
       "      <td>8865600</td>\n",
       "      <td>58</td>\n",
       "      <td>57</td>\n",
       "      <td>여</td>\n",
       "      <td>미혼</td>\n",
       "      <td>2</td>\n",
       "      <td>미퇴거</td>\n",
       "    </tr>\n",
       "  </tbody>\n",
       "</table>\n",
       "<p>5 rows × 23 columns</p>\n",
       "</div>"
      ],
      "text/plain": [
       "          순번 계약구분  재계약횟수  거주개월    아파트 이름  아파트 ID  아파트 평점  호실고유번호   층  평형대  \\\n",
       "85372  12673   해지      4    88  지산5단지아파트       3     8.0   85369   6   12   \n",
       "85427  12683   해지      7   174  지산5단지아파트       3     8.0   85421   6   15   \n",
       "85587  12702   유효     10   237  지산5단지아파트       3     8.0   85576   7   15   \n",
       "86190  12789   유효     10   227  지산5단지아파트       3     8.0   86179  10   19   \n",
       "86235  12796   유효     10   222  지산5단지아파트       3     8.0   86224  10   15   \n",
       "\n",
       "       ...    퇴거연도  거주연도     월세(원)   보증금(원)  대표나이  나이  성별  결혼여부  거주자 수 퇴거여부  \n",
       "85372  ...  2012.0  2012   77300.0  5302000    44  35   남    기혼      2   퇴거  \n",
       "85427  ...  2016.0  2016   48600.0  2144000    32  27   남    미혼      1   퇴거  \n",
       "85587  ...     NaN  2020   81600.0  5598000    67  66   남    미혼      1  미퇴거  \n",
       "86190  ...     NaN  2020   66600.0  3116000    61  60   남    기혼      3  미퇴거  \n",
       "86235  ...     NaN  2020  129240.0  8865600    58  57   여    미혼      2  미퇴거  \n",
       "\n",
       "[5 rows x 23 columns]"
      ]
     },
     "execution_count": 2,
     "metadata": {},
     "output_type": "execute_result"
    }
   ],
   "source": [
    "df1 = df1.loc[df1.groupby('계약자고유번호')['거주연도'].idxmax()]\n",
    "print(f\"처리 후 데이터수: {len(df1)}\")\n",
    "df1.head()"
   ]
  },
  {
   "cell_type": "code",
   "execution_count": 3,
   "metadata": {},
   "outputs": [
    {
     "name": "stdout",
     "output_type": "stream",
     "text": [
      "<class 'pandas.core.frame.DataFrame'>\n",
      "Int64Index: 10348 entries, 85372 to 10361\n",
      "Data columns (total 23 columns):\n",
      " #   Column   Non-Null Count  Dtype  \n",
      "---  ------   --------------  -----  \n",
      " 0   순번       10348 non-null  int64  \n",
      " 1   계약구분     10287 non-null  object \n",
      " 2   재계약횟수    10348 non-null  int64  \n",
      " 3   거주개월     10348 non-null  int64  \n",
      " 4   아파트 이름   10348 non-null  object \n",
      " 5   아파트 ID   10348 non-null  int64  \n",
      " 6   아파트 평점   10208 non-null  float64\n",
      " 7   호실고유번호   10348 non-null  int64  \n",
      " 8   층        10348 non-null  int64  \n",
      " 9   평형대      10348 non-null  int64  \n",
      " 10  계약자고유번호  10348 non-null  int64  \n",
      " 11  계약서고유번호  10348 non-null  int64  \n",
      " 12  입주연도     10348 non-null  int64  \n",
      " 13  퇴거연도     4092 non-null   float64\n",
      " 14  거주연도     10348 non-null  int64  \n",
      " 15  월세(원)    10348 non-null  float64\n",
      " 16  보증금(원)   10348 non-null  int64  \n",
      " 17  대표나이     10348 non-null  int64  \n",
      " 18  나이       10348 non-null  int64  \n",
      " 19  성별       10348 non-null  object \n",
      " 20  결혼여부     10348 non-null  object \n",
      " 21  거주자 수    10348 non-null  int64  \n",
      " 22  퇴거여부     10348 non-null  object \n",
      "dtypes: float64(3), int64(15), object(5)\n",
      "memory usage: 1.9+ MB\n"
     ]
    }
   ],
   "source": [
    "df1.info()"
   ]
  },
  {
   "cell_type": "markdown",
   "metadata": {},
   "source": [
    "#### 1-2. 결측치를 처리하시오."
   ]
  },
  {
   "cell_type": "code",
   "execution_count": 4,
   "metadata": {},
   "outputs": [
    {
     "name": "stdout",
     "output_type": "stream",
     "text": [
      "<변수별 결측치 개수>\n",
      "\n",
      "순번            0\n",
      "계약구분         61\n",
      "재계약횟수         0\n",
      "거주개월          0\n",
      "아파트 이름        0\n",
      "아파트 ID        0\n",
      "아파트 평점      140\n",
      "호실고유번호        0\n",
      "층             0\n",
      "평형대           0\n",
      "계약자고유번호       0\n",
      "계약서고유번호       0\n",
      "입주연도          0\n",
      "퇴거연도       6256\n",
      "거주연도          0\n",
      "월세(원)         0\n",
      "보증금(원)        0\n",
      "대표나이          0\n",
      "나이            0\n",
      "성별            0\n",
      "결혼여부          0\n",
      "거주자 수         0\n",
      "퇴거여부          0\n",
      "dtype: int64\n",
      "\n",
      "<변수별 결측 비율>\n",
      "순번          0.0\n",
      "계약구분        0.6\n",
      "재계약횟수       0.0\n",
      "거주개월        0.0\n",
      "아파트 이름      0.0\n",
      "아파트 ID      0.0\n",
      "아파트 평점      1.4\n",
      "호실고유번호      0.0\n",
      "층           0.0\n",
      "평형대         0.0\n",
      "계약자고유번호     0.0\n",
      "계약서고유번호     0.0\n",
      "입주연도        0.0\n",
      "퇴거연도       60.5\n",
      "거주연도        0.0\n",
      "월세(원)       0.0\n",
      "보증금(원)      0.0\n",
      "대표나이        0.0\n",
      "나이          0.0\n",
      "성별          0.0\n",
      "결혼여부        0.0\n",
      "거주자 수       0.0\n",
      "퇴거여부        0.0\n",
      "dtype: float64%\n"
     ]
    }
   ],
   "source": [
    "print(\"<변수별 결측치 개수>\\n\")\n",
    "print(df1.isna().sum())\n",
    "print(\"\\n<변수별 결측 비율>\")\n",
    "print(f\"{(df1.isna().sum()/len(df1)).round(3)*100}%\")"
   ]
  },
  {
   "cell_type": "code",
   "execution_count": 5,
   "metadata": {},
   "outputs": [
    {
     "name": "stdout",
     "output_type": "stream",
     "text": [
      "<수치형 변수 통계량>\n"
     ]
    },
    {
     "data": {
      "text/html": [
       "<div>\n",
       "<style scoped>\n",
       "    .dataframe tbody tr th:only-of-type {\n",
       "        vertical-align: middle;\n",
       "    }\n",
       "\n",
       "    .dataframe tbody tr th {\n",
       "        vertical-align: top;\n",
       "    }\n",
       "\n",
       "    .dataframe thead th {\n",
       "        text-align: right;\n",
       "    }\n",
       "</style>\n",
       "<table border=\"1\" class=\"dataframe\">\n",
       "  <thead>\n",
       "    <tr style=\"text-align: right;\">\n",
       "      <th></th>\n",
       "      <th>count</th>\n",
       "      <th>mean</th>\n",
       "      <th>std</th>\n",
       "      <th>min</th>\n",
       "      <th>25%</th>\n",
       "      <th>50%</th>\n",
       "      <th>75%</th>\n",
       "      <th>max</th>\n",
       "    </tr>\n",
       "  </thead>\n",
       "  <tbody>\n",
       "    <tr>\n",
       "      <th>순번</th>\n",
       "      <td>10348.0</td>\n",
       "      <td>6.421883e+03</td>\n",
       "      <td>3.729156e+03</td>\n",
       "      <td>1.0</td>\n",
       "      <td>3175.25</td>\n",
       "      <td>6458.5</td>\n",
       "      <td>9636.25</td>\n",
       "      <td>12883.0</td>\n",
       "    </tr>\n",
       "    <tr>\n",
       "      <th>재계약횟수</th>\n",
       "      <td>10348.0</td>\n",
       "      <td>5.874179e+00</td>\n",
       "      <td>3.214748e+00</td>\n",
       "      <td>1.0</td>\n",
       "      <td>3.00</td>\n",
       "      <td>6.0</td>\n",
       "      <td>9.00</td>\n",
       "      <td>12.0</td>\n",
       "    </tr>\n",
       "    <tr>\n",
       "      <th>거주개월</th>\n",
       "      <td>10348.0</td>\n",
       "      <td>1.377855e+02</td>\n",
       "      <td>7.753239e+01</td>\n",
       "      <td>1.0</td>\n",
       "      <td>71.00</td>\n",
       "      <td>137.0</td>\n",
       "      <td>222.00</td>\n",
       "      <td>323.0</td>\n",
       "    </tr>\n",
       "    <tr>\n",
       "      <th>아파트 ID</th>\n",
       "      <td>10348.0</td>\n",
       "      <td>1.809335e+00</td>\n",
       "      <td>8.665034e-01</td>\n",
       "      <td>1.0</td>\n",
       "      <td>1.00</td>\n",
       "      <td>2.0</td>\n",
       "      <td>2.00</td>\n",
       "      <td>5.0</td>\n",
       "    </tr>\n",
       "    <tr>\n",
       "      <th>아파트 평점</th>\n",
       "      <td>10208.0</td>\n",
       "      <td>6.366379e+00</td>\n",
       "      <td>1.284759e+00</td>\n",
       "      <td>5.0</td>\n",
       "      <td>5.00</td>\n",
       "      <td>7.0</td>\n",
       "      <td>7.00</td>\n",
       "      <td>10.0</td>\n",
       "    </tr>\n",
       "    <tr>\n",
       "      <th>호실고유번호</th>\n",
       "      <td>10348.0</td>\n",
       "      <td>4.297824e+04</td>\n",
       "      <td>2.501663e+04</td>\n",
       "      <td>1.0</td>\n",
       "      <td>21277.75</td>\n",
       "      <td>42933.0</td>\n",
       "      <td>64586.00</td>\n",
       "      <td>86891.0</td>\n",
       "    </tr>\n",
       "    <tr>\n",
       "      <th>층</th>\n",
       "      <td>10348.0</td>\n",
       "      <td>7.861422e+00</td>\n",
       "      <td>4.284207e+00</td>\n",
       "      <td>1.0</td>\n",
       "      <td>4.00</td>\n",
       "      <td>8.0</td>\n",
       "      <td>12.00</td>\n",
       "      <td>15.0</td>\n",
       "    </tr>\n",
       "    <tr>\n",
       "      <th>평형대</th>\n",
       "      <td>10348.0</td>\n",
       "      <td>1.321985e+01</td>\n",
       "      <td>2.337744e+00</td>\n",
       "      <td>12.0</td>\n",
       "      <td>12.00</td>\n",
       "      <td>12.0</td>\n",
       "      <td>12.00</td>\n",
       "      <td>19.0</td>\n",
       "    </tr>\n",
       "    <tr>\n",
       "      <th>계약자고유번호</th>\n",
       "      <td>10348.0</td>\n",
       "      <td>4.850862e+04</td>\n",
       "      <td>2.684595e+04</td>\n",
       "      <td>1.0</td>\n",
       "      <td>25058.75</td>\n",
       "      <td>48593.5</td>\n",
       "      <td>74050.25</td>\n",
       "      <td>86892.0</td>\n",
       "    </tr>\n",
       "    <tr>\n",
       "      <th>계약서고유번호</th>\n",
       "      <td>10348.0</td>\n",
       "      <td>4.632348e+04</td>\n",
       "      <td>2.601192e+04</td>\n",
       "      <td>1.0</td>\n",
       "      <td>23263.75</td>\n",
       "      <td>48036.5</td>\n",
       "      <td>69061.25</td>\n",
       "      <td>86904.0</td>\n",
       "    </tr>\n",
       "    <tr>\n",
       "      <th>입주연도</th>\n",
       "      <td>10348.0</td>\n",
       "      <td>2.007091e+03</td>\n",
       "      <td>6.223314e+00</td>\n",
       "      <td>1994.0</td>\n",
       "      <td>2002.00</td>\n",
       "      <td>2004.0</td>\n",
       "      <td>2012.00</td>\n",
       "      <td>2020.0</td>\n",
       "    </tr>\n",
       "    <tr>\n",
       "      <th>퇴거연도</th>\n",
       "      <td>4092.0</td>\n",
       "      <td>2.014316e+03</td>\n",
       "      <td>3.736049e+00</td>\n",
       "      <td>2008.0</td>\n",
       "      <td>2011.00</td>\n",
       "      <td>2015.0</td>\n",
       "      <td>2018.00</td>\n",
       "      <td>2020.0</td>\n",
       "    </tr>\n",
       "    <tr>\n",
       "      <th>거주연도</th>\n",
       "      <td>10348.0</td>\n",
       "      <td>2.017752e+03</td>\n",
       "      <td>3.639131e+00</td>\n",
       "      <td>2008.0</td>\n",
       "      <td>2016.00</td>\n",
       "      <td>2020.0</td>\n",
       "      <td>2020.00</td>\n",
       "      <td>2020.0</td>\n",
       "    </tr>\n",
       "    <tr>\n",
       "      <th>월세(원)</th>\n",
       "      <td>10348.0</td>\n",
       "      <td>6.394072e+04</td>\n",
       "      <td>4.025950e+04</td>\n",
       "      <td>31300.0</td>\n",
       "      <td>42300.00</td>\n",
       "      <td>44700.0</td>\n",
       "      <td>66700.00</td>\n",
       "      <td>311080.0</td>\n",
       "    </tr>\n",
       "    <tr>\n",
       "      <th>보증금(원)</th>\n",
       "      <td>10348.0</td>\n",
       "      <td>3.807056e+06</td>\n",
       "      <td>3.087969e+06</td>\n",
       "      <td>1520000.0</td>\n",
       "      <td>2052000.00</td>\n",
       "      <td>2304000.0</td>\n",
       "      <td>3943000.00</td>\n",
       "      <td>20784000.0</td>\n",
       "    </tr>\n",
       "    <tr>\n",
       "      <th>대표나이</th>\n",
       "      <td>10348.0</td>\n",
       "      <td>6.587476e+01</td>\n",
       "      <td>1.378722e+01</td>\n",
       "      <td>21.0</td>\n",
       "      <td>57.00</td>\n",
       "      <td>65.0</td>\n",
       "      <td>75.00</td>\n",
       "      <td>121.0</td>\n",
       "    </tr>\n",
       "    <tr>\n",
       "      <th>나이</th>\n",
       "      <td>10348.0</td>\n",
       "      <td>6.262708e+01</td>\n",
       "      <td>1.417978e+01</td>\n",
       "      <td>20.0</td>\n",
       "      <td>54.00</td>\n",
       "      <td>63.0</td>\n",
       "      <td>73.00</td>\n",
       "      <td>120.0</td>\n",
       "    </tr>\n",
       "    <tr>\n",
       "      <th>거주자 수</th>\n",
       "      <td>10348.0</td>\n",
       "      <td>1.688056e+00</td>\n",
       "      <td>9.853986e-01</td>\n",
       "      <td>1.0</td>\n",
       "      <td>1.00</td>\n",
       "      <td>1.0</td>\n",
       "      <td>2.00</td>\n",
       "      <td>10.0</td>\n",
       "    </tr>\n",
       "  </tbody>\n",
       "</table>\n",
       "</div>"
      ],
      "text/plain": [
       "           count          mean           std        min         25%  \\\n",
       "순번       10348.0  6.421883e+03  3.729156e+03        1.0     3175.25   \n",
       "재계약횟수    10348.0  5.874179e+00  3.214748e+00        1.0        3.00   \n",
       "거주개월     10348.0  1.377855e+02  7.753239e+01        1.0       71.00   \n",
       "아파트 ID   10348.0  1.809335e+00  8.665034e-01        1.0        1.00   \n",
       "아파트 평점   10208.0  6.366379e+00  1.284759e+00        5.0        5.00   \n",
       "호실고유번호   10348.0  4.297824e+04  2.501663e+04        1.0    21277.75   \n",
       "층        10348.0  7.861422e+00  4.284207e+00        1.0        4.00   \n",
       "평형대      10348.0  1.321985e+01  2.337744e+00       12.0       12.00   \n",
       "계약자고유번호  10348.0  4.850862e+04  2.684595e+04        1.0    25058.75   \n",
       "계약서고유번호  10348.0  4.632348e+04  2.601192e+04        1.0    23263.75   \n",
       "입주연도     10348.0  2.007091e+03  6.223314e+00     1994.0     2002.00   \n",
       "퇴거연도      4092.0  2.014316e+03  3.736049e+00     2008.0     2011.00   \n",
       "거주연도     10348.0  2.017752e+03  3.639131e+00     2008.0     2016.00   \n",
       "월세(원)    10348.0  6.394072e+04  4.025950e+04    31300.0    42300.00   \n",
       "보증금(원)   10348.0  3.807056e+06  3.087969e+06  1520000.0  2052000.00   \n",
       "대표나이     10348.0  6.587476e+01  1.378722e+01       21.0       57.00   \n",
       "나이       10348.0  6.262708e+01  1.417978e+01       20.0       54.00   \n",
       "거주자 수    10348.0  1.688056e+00  9.853986e-01        1.0        1.00   \n",
       "\n",
       "               50%         75%         max  \n",
       "순번          6458.5     9636.25     12883.0  \n",
       "재계약횟수          6.0        9.00        12.0  \n",
       "거주개월         137.0      222.00       323.0  \n",
       "아파트 ID         2.0        2.00         5.0  \n",
       "아파트 평점         7.0        7.00        10.0  \n",
       "호실고유번호     42933.0    64586.00     86891.0  \n",
       "층              8.0       12.00        15.0  \n",
       "평형대           12.0       12.00        19.0  \n",
       "계약자고유번호    48593.5    74050.25     86892.0  \n",
       "계약서고유번호    48036.5    69061.25     86904.0  \n",
       "입주연도        2004.0     2012.00      2020.0  \n",
       "퇴거연도        2015.0     2018.00      2020.0  \n",
       "거주연도        2020.0     2020.00      2020.0  \n",
       "월세(원)      44700.0    66700.00    311080.0  \n",
       "보증금(원)   2304000.0  3943000.00  20784000.0  \n",
       "대표나이          65.0       75.00       121.0  \n",
       "나이            63.0       73.00       120.0  \n",
       "거주자 수          1.0        2.00        10.0  "
      ]
     },
     "metadata": {},
     "output_type": "display_data"
    },
    {
     "name": "stdout",
     "output_type": "stream",
     "text": [
      "<명목형 변수 통계량>\n"
     ]
    },
    {
     "data": {
      "text/html": [
       "<div>\n",
       "<style scoped>\n",
       "    .dataframe tbody tr th:only-of-type {\n",
       "        vertical-align: middle;\n",
       "    }\n",
       "\n",
       "    .dataframe tbody tr th {\n",
       "        vertical-align: top;\n",
       "    }\n",
       "\n",
       "    .dataframe thead th {\n",
       "        text-align: right;\n",
       "    }\n",
       "</style>\n",
       "<table border=\"1\" class=\"dataframe\">\n",
       "  <thead>\n",
       "    <tr style=\"text-align: right;\">\n",
       "      <th></th>\n",
       "      <th>count</th>\n",
       "      <th>unique</th>\n",
       "      <th>top</th>\n",
       "      <th>freq</th>\n",
       "    </tr>\n",
       "  </thead>\n",
       "  <tbody>\n",
       "    <tr>\n",
       "      <th>계약구분</th>\n",
       "      <td>10287</td>\n",
       "      <td>2</td>\n",
       "      <td>유효</td>\n",
       "      <td>6217</td>\n",
       "    </tr>\n",
       "    <tr>\n",
       "      <th>아파트 이름</th>\n",
       "      <td>10348</td>\n",
       "      <td>5</td>\n",
       "      <td>비둘기아파트</td>\n",
       "      <td>4419</td>\n",
       "    </tr>\n",
       "    <tr>\n",
       "      <th>성별</th>\n",
       "      <td>10348</td>\n",
       "      <td>2</td>\n",
       "      <td>여</td>\n",
       "      <td>5898</td>\n",
       "    </tr>\n",
       "    <tr>\n",
       "      <th>결혼여부</th>\n",
       "      <td>10348</td>\n",
       "      <td>2</td>\n",
       "      <td>미혼</td>\n",
       "      <td>8968</td>\n",
       "    </tr>\n",
       "    <tr>\n",
       "      <th>퇴거여부</th>\n",
       "      <td>10348</td>\n",
       "      <td>2</td>\n",
       "      <td>미퇴거</td>\n",
       "      <td>6256</td>\n",
       "    </tr>\n",
       "  </tbody>\n",
       "</table>\n",
       "</div>"
      ],
      "text/plain": [
       "        count unique     top  freq\n",
       "계약구분    10287      2      유효  6217\n",
       "아파트 이름  10348      5  비둘기아파트  4419\n",
       "성별      10348      2       여  5898\n",
       "결혼여부    10348      2      미혼  8968\n",
       "퇴거여부    10348      2     미퇴거  6256"
      ]
     },
     "metadata": {},
     "output_type": "display_data"
    }
   ],
   "source": [
    "# 통계량 확인\n",
    "print(\"<수치형 변수 통계량>\")\n",
    "display(df1.describe(include='number').T)\n",
    "print(\"<명목형 변수 통계량>\")\n",
    "display(df1.describe(include='O').T)"
   ]
  },
  {
   "cell_type": "code",
   "execution_count": 6,
   "metadata": {},
   "outputs": [
    {
     "data": {
      "text/plain": [
       "미퇴거    6256\n",
       "Name: 퇴거여부, dtype: int64"
      ]
     },
     "execution_count": 6,
     "metadata": {},
     "output_type": "execute_result"
    }
   ],
   "source": [
    "df1.loc[df1['퇴거연도'].isna()]['퇴거여부'].value_counts()"
   ]
  },
  {
   "cell_type": "code",
   "execution_count": 7,
   "metadata": {},
   "outputs": [
    {
     "data": {
      "text/plain": [
       "퇴거    4092\n",
       "Name: 퇴거여부, dtype: int64"
      ]
     },
     "execution_count": 7,
     "metadata": {},
     "output_type": "execute_result"
    }
   ],
   "source": [
    "df1.loc[~df1['퇴거연도'].isna()]['퇴거여부'].value_counts()"
   ]
  },
  {
   "cell_type": "code",
   "execution_count": 8,
   "metadata": {},
   "outputs": [
    {
     "data": {
      "text/plain": [
       "Index(['순번', '계약구분', '재계약횟수', '거주개월', '아파트 이름', '아파트 ID', '아파트 평점', '호실고유번호',\n",
       "       '층', '평형대', '계약자고유번호', '계약서고유번호', '입주연도', '퇴거연도', '거주연도', '월세(원)',\n",
       "       '보증금(원)', '대표나이', '나이', '성별', '결혼여부', '거주자 수', '퇴거여부'],\n",
       "      dtype='object')"
      ]
     },
     "execution_count": 8,
     "metadata": {},
     "output_type": "execute_result"
    }
   ],
   "source": [
    "df1.columns"
   ]
  },
  {
   "cell_type": "markdown",
   "metadata": {},
   "source": [
    "<데이터 설명>  \n",
    "- 총 23개의 변수로 이루어져 있으며, 퇴거여부가 종속변수이며, 나머지 22개의 변수가 설명변수이다.\n",
    "- 수치형 변수: 11개  \n",
    "  - 이산형: 재계약횟수, 층, 거주자 수, 거주개월, 평형대, 대표나이, 나이, 거주자 수, 아파트 평점\n",
    "  - 연속형: 월세(원), 보증금(원)\n",
    "   \n",
    "- 명목형 변수: 12개 \n",
    "  - 식별자: 순번, 호실 고유번호, 계약자 고유번호, 계약서 고유번호\n",
    "  - 범주형: 계약구분, 아파트이름, 성별, 결혼여부, 퇴거여부, 아파트 ID, 아파트 이름(아이디와 같지만 추후 활용을 위해 미삭제)\n",
    "  - 날짜형: 입주연도, 퇴거연도, 거주연도\n",
    "\n",
    "- 삭제 변수 : \n",
    "  - 단순 식별자로 데이터 분석에 유의미한 데이터가 아님: 순번, 호실 고유번호, 계약자 고유번호, 계약서 고유번호\n",
    "  - 중복되는 정보를 담은 변수: 퇴거연도(미퇴거 시 NaN 값, 퇴거 시 퇴거연도로 \"퇴거여부\" 변수와 중복)\n",
    "- 결측치 처리:\n",
    "  - 전체 데이터 대비 적은 결측치이며, 대체보다는 삭제가 타당: 계약구분, 아파트 평점\n"
   ]
  },
  {
   "cell_type": "code",
   "execution_count": 9,
   "metadata": {},
   "outputs": [
    {
     "name": "stdout",
     "output_type": "stream",
     "text": [
      "<수치형 변수 분포 시각화>\n"
     ]
    },
    {
     "data": {
      "image/png": "[encoded data removed]",
      "text/plain": [
       "<Figure size 1440x576 with 10 Axes>"
      ]
     },
     "metadata": {
      "needs_background": "light"
     },
     "output_type": "display_data"
    }
   ],
   "source": [
    "# 분포 시각화\n",
    "#수치형 변수: 10\n",
    "n_cols = ['재계약횟수', '거주개월', '아파트 평점', '층', '평형대', '월세(원)', '보증금(원)', '대표나이', '나이', '거주자 수']\n",
    "#명목형 변수: 8\n",
    "c_cols = ['계약구분', '성별', '결혼여부', '퇴거여부', '아파트 ID', '아파트 이름', '입주연도', '거주연도']\n",
    "#삭제가 필요한 변수: 5\n",
    "d_cols = ['순번', '호실고유번호', '계약자고유번호', '계약서고유번호', '퇴거연도']\n",
    "\n",
    "\n",
    "print(\"<수치형 변수 분포 시각화>\")\n",
    "fig, ax = plt.subplots(2, 5, figsize=(20, 8))\n",
    "\n",
    "for i, col in enumerate(n_cols):\n",
    "    x = i // 5\n",
    "    y = i % 5\n",
    "    sns.kdeplot(data=df1[col], ax=ax[x, y], legend=None)\n",
    "    ax[x, y].set_title(f\"{col}'s Distribution\")\n",
    "plt.show()"
   ]
  },
  {
   "cell_type": "code",
   "execution_count": 10,
   "metadata": {},
   "outputs": [
    {
     "name": "stdout",
     "output_type": "stream",
     "text": [
      "<명목형 변수 분포 시각화>\n"
     ]
    },
    {
     "data": {
      "image/png": "[encoded data removed]",
      "text/plain": [
       "<Figure size 1296x720 with 8 Axes>"
      ]
     },
     "metadata": {
      "needs_background": "light"
     },
     "output_type": "display_data"
    }
   ],
   "source": [
    "# 일단 명목형 변수\n",
    "print(\"<명목형 변수 분포 시각화>\")\n",
    "fig, ax = plt.subplots(3, 3, figsize=(18, 10))\n",
    "\n",
    "for i, col in enumerate(c_cols):\n",
    "    x = i // 3\n",
    "    y = i % 3\n",
    "    sns.countplot(df1[col], ax=ax[x, y])\n",
    "    ax[x, y].set_title(f\"{col}'s Distribution\")\n",
    "\n",
    "ax[2, 2].remove()\n",
    "plt.subplots_adjust(wspace=0.3, hspace=0.5)\n",
    "plt.show()"
   ]
  },
  {
   "cell_type": "code",
   "execution_count": 11,
   "metadata": {},
   "outputs": [
    {
     "name": "stdout",
     "output_type": "stream",
     "text": [
      "<삭제할 변수 분포 시각화>\n"
     ]
    },
    {
     "data": {
      "image/png": "[encoded data removed]",
      "text/plain": [
       "<Figure size 1296x864 with 5 Axes>"
      ]
     },
     "metadata": {
      "needs_background": "light"
     },
     "output_type": "display_data"
    }
   ],
   "source": [
    "# 삭제할 변수의 분포\n",
    "print(\"<삭제할 변수 분포 시각화>\")\n",
    "fig, ax = plt.subplots(2, 3, figsize=(18, 12))\n",
    "\n",
    "for i, col in enumerate(d_cols):\n",
    "    x = i // 3\n",
    "    y = i % 3\n",
    "    sns.kdeplot(df1[col], ax=ax[x, y], legend=None)\n",
    "    ax[x, y].set_title(f\"{col}'s Distribution\")\n",
    "plt.subplots_adjust(wspace=0.3, hspace=0.5)\n",
    "ax[1, 2].remove()\n",
    "plt.show()"
   ]
  },
  {
   "cell_type": "markdown",
   "metadata": {},
   "source": [
    "위 데이터 분포를 통해 다음과 같은 사실을 알 수 있다.\n",
    "- 수치형 변수\n",
    "  - 재계약 횟수는 9~10개월, 거주개월은 200~300개월 사이에 집중되어 있다. \n",
    "  - 아파트 평점은 이봉 분포를 보인다.\n",
    "  - 평형대는 12평이 가장 많다.\n",
    "  - 나이와 대표나이는 비슷한 분포를 보이며, 좌측으로 약간 치우쳐있다.(약 음왜도)\n",
    "  - 월세와 보증금은 좌측으로 심하게 치우치며, 우측 꼬리가 긴 분포를 보인다.(큰 음왜도)\n",
    "  - 거주자수는 독신가구가 대다수이다.\n",
    "- 명목형 변수\n",
    "  - 계약이 유효한 건이 많다.\n",
    "  - 여성의 비율이 다소 높으며, 미혼자가 대다수이다.\n",
    "  - 미퇴거자가 많다.\n",
    "  - 1번 아파트 거주민 수가 가장 많다. (1: 비둘기아파트, 2:용지아파트, 3:지산5단지아파트, 4:까치아파트, 5:강남아파트)\n",
    "  - 2003년도 입주자 수가 가장 많다.\n",
    "  - 2020년도 거주연도 수가 가장 높다.\n",
    "  - 아파트 이름은 아파트 ID 분포와 동일\n",
    "- 삭제할 변수\n",
    "  - 단순식별자의 경우 모든 값의 개수가 같은 것을 확인할 수 있다. 데이터 정보로서 무가치하다.\n",
    "  - 퇴거연도는 중복되는 정보를 담은 변수가 이미 있으므로 삭제한다."
   ]
  },
  {
   "cell_type": "code",
   "execution_count": 12,
   "metadata": {},
   "outputs": [
    {
     "name": "stdout",
     "output_type": "stream",
     "text": [
      "계약구분      0\n",
      "재계약횟수     0\n",
      "거주개월      0\n",
      "아파트 이름    0\n",
      "아파트 ID    0\n",
      "아파트 평점    0\n",
      "층         0\n",
      "평형대       0\n",
      "입주연도      0\n",
      "거주연도      0\n",
      "월세(원)     0\n",
      "보증금(원)    0\n",
      "대표나이      0\n",
      "나이        0\n",
      "성별        0\n",
      "결혼여부      0\n",
      "거주자 수     0\n",
      "퇴거여부      0\n",
      "dtype: int64\n"
     ]
    }
   ],
   "source": [
    "df1_r = df1.drop(columns = d_cols, axis=1, inplace=True) #불필요 변수 삭제\n",
    "df1_r = df1.dropna() # 결측치 보유 데이터 삭제\n",
    "print(df1_r.isna().sum())"
   ]
  },
  {
   "cell_type": "markdown",
   "metadata": {},
   "source": [
    "### 1- 3. 이상치를 처리하시오."
   ]
  },
  {
   "cell_type": "code",
   "execution_count": 13,
   "metadata": {},
   "outputs": [
    {
     "data": {
      "text/html": [
       "<div>\n",
       "<style scoped>\n",
       "    .dataframe tbody tr th:only-of-type {\n",
       "        vertical-align: middle;\n",
       "    }\n",
       "\n",
       "    .dataframe tbody tr th {\n",
       "        vertical-align: top;\n",
       "    }\n",
       "\n",
       "    .dataframe thead th {\n",
       "        text-align: right;\n",
       "    }\n",
       "</style>\n",
       "<table border=\"1\" class=\"dataframe\">\n",
       "  <thead>\n",
       "    <tr style=\"text-align: right;\">\n",
       "      <th></th>\n",
       "      <th>index</th>\n",
       "      <th>상한치</th>\n",
       "      <th>하한치</th>\n",
       "    </tr>\n",
       "  </thead>\n",
       "  <tbody>\n",
       "    <tr>\n",
       "      <th>0</th>\n",
       "      <td>재계약횟수</td>\n",
       "      <td>18.0</td>\n",
       "      <td>-6.0</td>\n",
       "    </tr>\n",
       "    <tr>\n",
       "      <th>1</th>\n",
       "      <td>거주개월</td>\n",
       "      <td>448.5</td>\n",
       "      <td>-155.5</td>\n",
       "    </tr>\n",
       "    <tr>\n",
       "      <th>2</th>\n",
       "      <td>아파트 평점</td>\n",
       "      <td>10.0</td>\n",
       "      <td>2.0</td>\n",
       "    </tr>\n",
       "    <tr>\n",
       "      <th>3</th>\n",
       "      <td>층</td>\n",
       "      <td>24.0</td>\n",
       "      <td>-8.0</td>\n",
       "    </tr>\n",
       "    <tr>\n",
       "      <th>4</th>\n",
       "      <td>평형대</td>\n",
       "      <td>19.5</td>\n",
       "      <td>7.5</td>\n",
       "    </tr>\n",
       "    <tr>\n",
       "      <th>5</th>\n",
       "      <td>월세(원)</td>\n",
       "      <td>103300.0</td>\n",
       "      <td>5700.0</td>\n",
       "    </tr>\n",
       "    <tr>\n",
       "      <th>6</th>\n",
       "      <td>보증금(원)</td>\n",
       "      <td>6807000.0</td>\n",
       "      <td>-801000.0</td>\n",
       "    </tr>\n",
       "    <tr>\n",
       "      <th>7</th>\n",
       "      <td>대표나이</td>\n",
       "      <td>102.0</td>\n",
       "      <td>30.0</td>\n",
       "    </tr>\n",
       "    <tr>\n",
       "      <th>8</th>\n",
       "      <td>나이</td>\n",
       "      <td>101.5</td>\n",
       "      <td>25.5</td>\n",
       "    </tr>\n",
       "    <tr>\n",
       "      <th>9</th>\n",
       "      <td>거주자 수</td>\n",
       "      <td>3.5</td>\n",
       "      <td>-0.5</td>\n",
       "    </tr>\n",
       "  </tbody>\n",
       "</table>\n",
       "</div>"
      ],
      "text/plain": [
       "    index        상한치       하한치\n",
       "0   재계약횟수       18.0      -6.0\n",
       "1    거주개월      448.5    -155.5\n",
       "2  아파트 평점       10.0       2.0\n",
       "3       층       24.0      -8.0\n",
       "4     평형대       19.5       7.5\n",
       "5   월세(원)   103300.0    5700.0\n",
       "6  보증금(원)  6807000.0 -801000.0\n",
       "7    대표나이      102.0      30.0\n",
       "8      나이      101.5      25.5\n",
       "9   거주자 수        3.5      -0.5"
      ]
     },
     "execution_count": 13,
     "metadata": {},
     "output_type": "execute_result"
    }
   ],
   "source": [
    "# 수치형 변수에 대한 이상치를 iqr 기준으로  판별하여 처리한다.\n",
    "q1 = df1_r[n_cols].describe().T['25%']\n",
    "q3 = df1_r[n_cols].describe().T['75%']\n",
    "iqr = q3 - q1\n",
    "up = q3 + 1.5*iqr\n",
    "down = q1 - 1.5*iqr\n",
    "\n",
    "iqr_df = pd.DataFrame({\"상한치\": up, \"하한치\": down}).reset_index()\n",
    "\n",
    "iqr_df"
   ]
  },
  {
   "cell_type": "code",
   "execution_count": 14,
   "metadata": {},
   "outputs": [
    {
     "name": "stdout",
     "output_type": "stream",
     "text": [
      "<수치형 변수별 이상치 개수>\n",
      "재계약횟수: 0   [0.00 %]\n",
      "거주개월: 0   [0.00 %]\n",
      "아파트 평점: 0   [0.00 %]\n",
      "층: 0   [0.00 %]\n",
      "평형대: 0   [0.00 %]\n",
      "월세(원): 1333   [13.14 %]\n",
      "보증금(원): 1334   [13.15 %]\n",
      "대표나이: 103   [1.01 %]\n",
      "나이: 89   [0.88 %]\n",
      "거주자 수: 616   [6.07 %]\n"
     ]
    },
    {
     "data": {
      "image/png": "[encoded data removed]",
      "text/plain": [
       "<Figure size 1440x720 with 10 Axes>"
      ]
     },
     "metadata": {
      "needs_background": "light"
     },
     "output_type": "display_data"
    }
   ],
   "source": [
    "print(\"<수치형 변수별 이상치 개수>\")\n",
    "for col, up, down in iqr_df.values:\n",
    "    cnt = len(df1_r.loc[(df1_r[col] > up) | (df1_r[col] < down)])\n",
    "    print(f\"{col}: {cnt}   [{(cnt/len(df1_r))*100:.2f} %]\")\n",
    "    \n",
    "fig, ax = plt.subplots(2, 5, figsize=(20, 10))\n",
    "for i, col in enumerate(n_cols):\n",
    "    x = i // 5\n",
    "    y = i % 5\n",
    "    sns.boxplot(y=df1_r[col], ax=ax[x, y])  \n",
    "    ax[x, y].set_title(col)\n",
    "plt.tight_layout()\n",
    "plt.show()"
   ]
  },
  {
   "cell_type": "markdown",
   "metadata": {},
   "source": [
    "| 변수       | 이상치 비율 | 처리 권장               | 이유                                                  |\n",
    "| -------- | ------ | ------------------- | --------------------------------------------------- |\n",
    "| `월세(원)`  | 13.14% | **미처리** | 경제 변수는 이상치가 의미를 가질 수도 있음.(지역별, 주변환경, 경제 요인 등 외부 요인에 따라 차이) |\n",
    "| `보증금(원)` | 13.15% | **미처리** | `월세`와 마찬가지.     |\n",
    "| `대표나이`   | 1.01%  | **삭제**     | 비율 낮고 인위적 노이즈일 수 있음. 평균/중앙값 대체 또는 삭제 무방             |\n",
    "| `나이`     | 0.88%  | **삭제**     | 위와 동일                                               |\n",
    "| `거주자 수`  | 6.07%  | **대체 권장**           | 가족 수가 많은 경우일 수 있으나 현실적 범위 벗어난 경우만 대체(상위값을 대체)      |\n",
    "| 그 외 변수들  | 0%     | 처리 필요 없음            | 이상치 없음                                              |\n"
   ]
  },
  {
   "cell_type": "code",
   "execution_count": 15,
   "metadata": {},
   "outputs": [],
   "source": [
    "o_idx = []\n",
    "rr_c = ['월세(원)', '보증금(원)']\n",
    "for col, up, down in iqr_df.loc[iqr_df['index'].isin(rr_c)].values:\n",
    "    o_idx.append(df1_r.loc[(df1_r[col] > up) | (df1_r[col] < down)].index.to_list())\n",
    "o_idx = np.concatenate(o_idx)\n",
    "df1_r['outter'] = np.where(df1_r.index.isin(o_idx), 1, 0)"
   ]
  },
  {
   "cell_type": "code",
   "execution_count": 16,
   "metadata": {},
   "outputs": [
    {
     "data": {
      "image/png": "[encoded data removed]",
      "text/plain": [
       "<Figure size 432x288 with 1 Axes>"
      ]
     },
     "metadata": {
      "needs_background": "light"
     },
     "output_type": "display_data"
    }
   ],
   "source": [
    "sns.scatterplot(x='월세(원)', y='보증금(원)', hue='outter', s=50, data=df1_r)\n",
    "plt.show()"
   ]
  },
  {
   "cell_type": "code",
   "execution_count": 17,
   "metadata": {},
   "outputs": [
    {
     "data": {
      "text/plain": [
       "0    8761\n",
       "1    1387\n",
       "Name: outter, dtype: int64"
      ]
     },
     "execution_count": 17,
     "metadata": {},
     "output_type": "execute_result"
    }
   ],
   "source": [
    "df1_r['outter'].value_counts()"
   ]
  },
  {
   "cell_type": "markdown",
   "metadata": {},
   "source": [
    "두 변수 중 하나라도 이상치에 해당하면 이상치로 레이블링을 하였다. (\"1\" 이면 이상치)  \n",
    "정상치에 속하는 데이터들은 아래에 뭉쳐져 있다.  \n",
    "경제변수이므로 크거나 작은 값이 유의미할 수 있다. 제거하지 않는다.\n",
    "\n",
    "대표나이, 나이는 이상치를 삭제하고, 거주자 수는 이상치를 상위 값으로 보간해준다."
   ]
  },
  {
   "cell_type": "code",
   "execution_count": 18,
   "metadata": {},
   "outputs": [],
   "source": [
    "# 이상치 삭제: 대표나이, 나이\n",
    "for col, up, down in iqr_df.loc[iqr_df['index'].isin(['대표나이', '나이'])].values:\n",
    "    d_idx = df1_r.loc[(df1_r[col] > up) | (df1_r[col] < down)].index.to_list() #삭제할 컬럼 인덱스\n",
    "    df1_r.drop(index=d_idx, axis=0, inplace=True)\n",
    "# 이상치 보간: 거주자 수(3.5명은 없으므로 4로 보간)\n",
    "df1_r['거주자 수'] = df1_r['거주자 수'].clip(upper=4)"
   ]
  },
  {
   "cell_type": "code",
   "execution_count": 19,
   "metadata": {},
   "outputs": [],
   "source": [
    "df1_r.drop(columns='outter', axis = 1, inplace=True)"
   ]
  },
  {
   "cell_type": "code",
   "execution_count": 20,
   "metadata": {},
   "outputs": [
    {
     "data": {
      "text/plain": [
       "18"
      ]
     },
     "execution_count": 20,
     "metadata": {},
     "output_type": "execute_result"
    }
   ],
   "source": [
    "len(df1_r.columns)"
   ]
  },
  {
   "cell_type": "markdown",
   "metadata": {},
   "source": [
    "#### 1- 4. 재계약 횟수의 중앙값을 기준으로 중앙값보다 크거나 같으면 '높음', 작으면 '낮음' 으로 하는 이분 변수를 구성하시오.\n",
    "- 데이터 누수(lack)를 예방하기 위해, train/test set 분할 후 train_set의 중앙값을 기준으로 이분변수를 구성한다."
   ]
  },
  {
   "cell_type": "code",
   "execution_count": 21,
   "metadata": {},
   "outputs": [
    {
     "data": {
      "text/plain": [
       "((7012, 17), (3006, 17))"
      ]
     },
     "execution_count": 21,
     "metadata": {},
     "output_type": "execute_result"
    }
   ],
   "source": [
    "from sklearn.model_selection import train_test_split\n",
    "\n",
    "Y = df1_r['재계약횟수']\n",
    "X = df1_r.drop(columns='재계약횟수', axis=1)\n",
    "\n",
    "train_X, test_X, train_Y, test_Y = train_test_split(X, Y, test_size=0.3, random_state=42)\n",
    "\n",
    "train_X.shape, test_X.shape"
   ]
  },
  {
   "cell_type": "code",
   "execution_count": 22,
   "metadata": {},
   "outputs": [],
   "source": [
    "# 분할된 데이터에서 train_set 기준 중앙값으로 이분변수 구성\n",
    "train_X['재계약수준'] = np.where(train_Y >= train_Y.median(), '높음', '낮음')\n",
    "test_X['재계약수준'] = np.where(test_Y >= train_Y.median(), '높음', '낮음')"
   ]
  },
  {
   "cell_type": "code",
   "execution_count": 23,
   "metadata": {},
   "outputs": [
    {
     "data": {
      "image/png": "[encoded data removed]",
      "text/plain": [
       "<Figure size 720x360 with 2 Axes>"
      ]
     },
     "metadata": {
      "needs_background": "light"
     },
     "output_type": "display_data"
    }
   ],
   "source": [
    "fig, ax = plt.subplots(1, 2, figsize=(10, 5))\n",
    "\n",
    "t_list = ['학습데이터', '테스트데이터']\n",
    "\n",
    "for i, dt in enumerate([train_X, test_X]):\n",
    "    sns.countplot(dt['재계약수준'], ax=ax[i])\n",
    "    ax[i].set_title(f\"<{t_list[i]} 이분변수 분포>\")\n",
    "\n",
    "plt.show()"
   ]
  },
  {
   "cell_type": "code",
   "execution_count": 24,
   "metadata": {},
   "outputs": [
    {
     "data": {
      "text/plain": [
       "Index(['계약구분', '거주개월', '아파트 이름', '아파트 ID', '아파트 평점', '층', '평형대', '입주연도',\n",
       "       '거주연도', '월세(원)', '보증금(원)', '대표나이', '나이', '성별', '결혼여부', '거주자 수', '퇴거여부',\n",
       "       '재계약수준'],\n",
       "      dtype='object')"
      ]
     },
     "execution_count": 24,
     "metadata": {},
     "output_type": "execute_result"
    }
   ],
   "source": [
    "train_X.columns"
   ]
  },
  {
   "cell_type": "markdown",
   "metadata": {},
   "source": [
    "#### 1- 5. 차원축소의 필요성을 논하고, 필요에 따라 차원을 축소하고 불필요하다면 그 근거를 논하시오."
   ]
  },
  {
   "cell_type": "code",
   "execution_count": 25,
   "metadata": {},
   "outputs": [
    {
     "data": {
      "image/png": "[encoded data removed]",
      "text/plain": [
       "<Figure size 720x576 with 2 Axes>"
      ]
     },
     "metadata": {
      "needs_background": "light"
     },
     "output_type": "display_data"
    }
   ],
   "source": [
    "# 차원축소 판단을 하기 전 수치형 데이터 간의 상관관계를 확인한다. (일반적인 pearson corr를 사용)\n",
    "#train set 사용\n",
    "plt.figure(figsize=(10, 8))\n",
    "\n",
    "corr = train_X[n_cols[1:]].corr()\n",
    "mask = np.triu(np.ones_like(corr, dtype='bool'))\n",
    "\n",
    "sns.heatmap(corr, mask=mask, annot=True)\n",
    "plt.show()"
   ]
  },
  {
   "cell_type": "markdown",
   "metadata": {},
   "source": [
    "수치형 데이터를 대상으로 한 선형 상관관계이다.  \n",
    "\n",
    "차원 축소는 변수 간의 중복 정보 제거, 연산 속도 향상, 지도학습 모델 구축시 과적합 방지를 위해 활용할 수 있다. 차원 축소 기법 중 대표적인 방법으로 주성분분석(PCA)이 있으며, 차원 축소의 필요성은 각 변수 간의 상관관계를 보고 판단할 수 있다.\n",
    "\n",
    "(월세(원), 보증금(원)), (대표나이, 나이)를 제외하고 낮은 상관관계를 가지므로 중복되는 정보를 가진 변수가 많다고 볼 수 없다.  \n",
    "따라서 PCA를 실시하지 않는다."
   ]
  },
  {
   "cell_type": "markdown",
   "metadata": {},
   "source": [
    "#### 1-6. 재계약 횟수 이분 변수를 활용하여 세그먼트를 구분하고 각 세그먼트의 특징을 분석하시오."
   ]
  },
  {
   "cell_type": "code",
   "execution_count": 26,
   "metadata": {},
   "outputs": [
    {
     "data": {
      "image/png": "[encoded data removed]",
      "text/plain": [
       "<Figure size 1008x864 with 9 Axes>"
      ]
     },
     "metadata": {
      "needs_background": "light"
     },
     "output_type": "display_data"
    }
   ],
   "source": [
    "#수치형 데이터\n",
    "fig, ax = plt.subplots(3, 3, figsize=(14, 12))\n",
    "\n",
    "for i, col in enumerate(n_cols[1:]):\n",
    "    x = i // 3\n",
    "    y = i % 3\n",
    "    sns.boxplot(data=train_X, x='재계약수준', y=col, ax=ax[x, y])\n",
    "plt.subplots_adjust(wspace=0.4, hspace=0.3)\n",
    "plt.show()"
   ]
  },
  {
   "cell_type": "markdown",
   "metadata": {},
   "source": [
    "***수치형 데이터와 재계약 수준 간 특징 확인***\n",
    "- 재계약수준이 높으면 거주개월도 긴 경향이 있다.\n",
    "- 재계약 수준에 따른 아파트 평점은 차이가 없는 경향이 있다.\n",
    "- 재계약 수준에 따른 층 차이가 없는 경향이 있다.\n",
    "- 재계약 수준이 낮으면 평형대는 12평인 경향이 있다.\n",
    "- 재계약 수준이 높을수록 월세(원)이 높아지는 경향이 있다.\n",
    "- 재계약 수준이 높을수록 보증금(원)이 높아지는 경향이 있다.\n",
    "- 재계약 수준이 높을수록 대표나이, 나이가 높은 경향이 있다."
   ]
  },
  {
   "cell_type": "code",
   "execution_count": 27,
   "metadata": {},
   "outputs": [
    {
     "data": {
      "image/png": "[encoded data removed]",
      "text/plain": [
       "<Figure size 864x1296 with 15 Axes>"
      ]
     },
     "metadata": {
      "needs_background": "light"
     },
     "output_type": "display_data"
    }
   ],
   "source": [
    "# 카테고리 데이터에 대한 이분 변수의 특징 비교\n",
    "from statsmodels.graphics.mosaicplot import mosaic\n",
    "\n",
    "\n",
    "fig, ax = plt.subplots(3, 2, figsize=(12, 18))\n",
    "#아파트 ID와 아파트 이름은 동일한 데이터이니 시각화 용이를 위해 아파트 이름을 사용한다.\n",
    "ca_cols = ['계약구분', '성별', '결혼여부', '퇴거여부', '아파트 이름']\n",
    "\n",
    "for i, col in enumerate(ca_cols):\n",
    "    x = i // 2\n",
    "    y = i % 2\n",
    "    mosaic(train_X, [\"재계약수준\", col], ax=ax[x, y])\n",
    "    ax[x, y].set_title(col)\n",
    "plt.subplots_adjust(wspace=0.2, hspace=0.2)\n",
    "ax[2, 1].remove()\n",
    "plt.show()"
   ]
  },
  {
   "cell_type": "markdown",
   "metadata": {},
   "source": [
    "***카테고리 데이터와 재계약 수준 간 특징 확인***\n",
    "- 재계약 수준이 높으면 계약 해지 비율이 낮아지는 경향이 있다.\n",
    "- 여성의 재계약 수준이 높은 경향이 있다. \n",
    "- 재계약 수준과 결혼 유무는 경향성을 찾기 어렵다.\n",
    "- 재계약 수준이 높으면 미퇴거 비율이 높아지는 경향이 있다."
   ]
  },
  {
   "cell_type": "markdown",
   "metadata": {},
   "source": [
    "#### 1- 7. 재계약 횟수 이분 변수를 종속변수로 하는 회귀 분석을 두 가지 이상의 방법론을 통해 수행하고 최종 모델을 결정하시오.\n",
    "- LGBM: 속도와 정확도를 모두 고려한 트리 기반 머신러닝 알고리즘\n",
    "- Randomforest: 배깅 기반 앙상블 모델, 여기서는 분류모형을 사용"
   ]
  },
  {
   "cell_type": "code",
   "execution_count": 28,
   "metadata": {},
   "outputs": [],
   "source": [
    "# 재계약수준을 새로운 종속변수로 정의\n",
    "train_Y2, test_Y2 = train_X['재계약수준'], test_X['재계약수준']\n",
    "train_X2, test_X2 = train_X.drop(columns=['재계약수준', '아파트 ID'], axis=1), test_X.drop(columns=['재계약수준', '아파트 ID'], axis=1)"
   ]
  },
  {
   "cell_type": "code",
   "execution_count": 29,
   "metadata": {},
   "outputs": [
    {
     "data": {
      "text/html": [
       "<div>\n",
       "<style scoped>\n",
       "    .dataframe tbody tr th:only-of-type {\n",
       "        vertical-align: middle;\n",
       "    }\n",
       "\n",
       "    .dataframe tbody tr th {\n",
       "        vertical-align: top;\n",
       "    }\n",
       "\n",
       "    .dataframe thead th {\n",
       "        text-align: right;\n",
       "    }\n",
       "</style>\n",
       "<table border=\"1\" class=\"dataframe\">\n",
       "  <thead>\n",
       "    <tr style=\"text-align: right;\">\n",
       "      <th></th>\n",
       "      <th>계약구분</th>\n",
       "      <th>거주개월</th>\n",
       "      <th>아파트 이름</th>\n",
       "      <th>아파트 평점</th>\n",
       "      <th>층</th>\n",
       "      <th>평형대</th>\n",
       "      <th>입주연도</th>\n",
       "      <th>거주연도</th>\n",
       "      <th>월세(원)</th>\n",
       "      <th>보증금(원)</th>\n",
       "      <th>대표나이</th>\n",
       "      <th>나이</th>\n",
       "      <th>성별</th>\n",
       "      <th>결혼여부</th>\n",
       "      <th>거주자 수</th>\n",
       "      <th>퇴거여부</th>\n",
       "    </tr>\n",
       "  </thead>\n",
       "  <tbody>\n",
       "    <tr>\n",
       "      <th>47090</th>\n",
       "      <td>해지</td>\n",
       "      <td>117</td>\n",
       "      <td>용지아파트</td>\n",
       "      <td>7.0</td>\n",
       "      <td>14</td>\n",
       "      <td>12</td>\n",
       "      <td>2003</td>\n",
       "      <td>2012</td>\n",
       "      <td>77700.0</td>\n",
       "      <td>5340000</td>\n",
       "      <td>66</td>\n",
       "      <td>57</td>\n",
       "      <td>여</td>\n",
       "      <td>미혼</td>\n",
       "      <td>3</td>\n",
       "      <td>퇴거</td>\n",
       "    </tr>\n",
       "    <tr>\n",
       "      <th>71296</th>\n",
       "      <td>해지</td>\n",
       "      <td>104</td>\n",
       "      <td>용지아파트</td>\n",
       "      <td>7.0</td>\n",
       "      <td>15</td>\n",
       "      <td>12</td>\n",
       "      <td>2002</td>\n",
       "      <td>2010</td>\n",
       "      <td>57200.0</td>\n",
       "      <td>2794000</td>\n",
       "      <td>54</td>\n",
       "      <td>43</td>\n",
       "      <td>여</td>\n",
       "      <td>미혼</td>\n",
       "      <td>3</td>\n",
       "      <td>퇴거</td>\n",
       "    </tr>\n",
       "  </tbody>\n",
       "</table>\n",
       "</div>"
      ],
      "text/plain": [
       "      계약구분  거주개월 아파트 이름  아파트 평점   층  평형대  입주연도  거주연도    월세(원)   보증금(원)  대표나이  \\\n",
       "47090   해지   117  용지아파트     7.0  14   12  2003  2012  77700.0  5340000    66   \n",
       "71296   해지   104  용지아파트     7.0  15   12  2002  2010  57200.0  2794000    54   \n",
       "\n",
       "       나이 성별 결혼여부  거주자 수 퇴거여부  \n",
       "47090  57  여   미혼      3   퇴거  \n",
       "71296  43  여   미혼      3   퇴거  "
      ]
     },
     "execution_count": 29,
     "metadata": {},
     "output_type": "execute_result"
    }
   ],
   "source": [
    "train_X2.head(2)"
   ]
  },
  {
   "cell_type": "code",
   "execution_count": 30,
   "metadata": {},
   "outputs": [
    {
     "data": {
      "text/plain": [
       "['재계약횟수',\n",
       " '거주개월',\n",
       " '아파트 평점',\n",
       " '층',\n",
       " '평형대',\n",
       " '월세(원)',\n",
       " '보증금(원)',\n",
       " '대표나이',\n",
       " '나이',\n",
       " '거주자 수']"
      ]
     },
     "execution_count": 30,
     "metadata": {},
     "output_type": "execute_result"
    }
   ],
   "source": [
    "n_cols"
   ]
  },
  {
   "cell_type": "code",
   "execution_count": 31,
   "metadata": {},
   "outputs": [],
   "source": [
    "# 수치형 데이터는 스케일링, 카테고리 데이터는 one-hot\n",
    "from sklearn.preprocessing import StandardScaler\n",
    "\n",
    "c_cols = ['계약구분', '성별', '결혼여부', '퇴거여부', '아파트 이름']\n",
    "\n",
    "#수치형 데이터 스케일링\n",
    "scaler = StandardScaler()\n",
    "\n",
    "train_X2[n_cols[1:]] = scaler.fit_transform(train_X2[n_cols[1:]])\n",
    "test_X2[n_cols[1:]] = scaler.transform(test_X2[n_cols[1:]])\n",
    "\n",
    "# 카테고리 변수 one-hot: 더미 함수이용\n",
    "\n",
    "train_X2 = pd.get_dummies(train_X2, columns=c_cols, drop_first=False)\n",
    "test_X2 = pd.get_dummies(test_X2, columns=c_cols, drop_first=False)\n",
    "test_X2 = test_X2.reindex(columns=train_X2.columns, fill_value=0)"
   ]
  },
  {
   "cell_type": "code",
   "execution_count": 32,
   "metadata": {},
   "outputs": [],
   "source": [
    "# 높으면 1, 낮으면 0\n",
    "train_Y2, test_Y2 = np.where(train_Y2 == '높음', 1, 0), np.where(test_Y2 == '높음', 1, 0)"
   ]
  },
  {
   "cell_type": "code",
   "execution_count": 33,
   "metadata": {},
   "outputs": [
    {
     "data": {
      "text/plain": [
       "((7012, 24), (3006, 24))"
      ]
     },
     "execution_count": 33,
     "metadata": {},
     "output_type": "execute_result"
    }
   ],
   "source": [
    "train_X2.shape, test_X2.shape"
   ]
  },
  {
   "cell_type": "code",
   "execution_count": 34,
   "metadata": {},
   "outputs": [
    {
     "data": {
      "text/plain": [
       "GridSearchCV(cv=KFold(n_splits=5, random_state=42, shuffle=True),\n",
       "             estimator=LGBMClassifier(random_state=42),\n",
       "             param_grid={'learning_rate': array([0.01, 0.03, 0.05, 0.07, 0.09, 0.11, 0.13, 0.15, 0.17, 0.19, 0.21,\n",
       "       0.23, 0.25, 0.27, 0.29])},\n",
       "             scoring='f1')"
      ]
     },
     "execution_count": 34,
     "metadata": {},
     "output_type": "execute_result"
    }
   ],
   "source": [
    "from sklearn.ensemble import RandomForestClassifier\n",
    "from lightgbm import LGBMClassifier\n",
    "from sklearn.model_selection import GridSearchCV, KFold\n",
    "from sklearn.metrics import confusion_matrix, classification_report\n",
    "\n",
    "# 두 모델 정의 \n",
    "rf = RandomForestClassifier(random_state=42)\n",
    "lgbm = LGBMClassifier(random_state=42)\n",
    "\n",
    "kf = KFold(n_splits=5, shuffle=True, random_state=42)\n",
    "\n",
    "rf_p = {'n_estimators': [50, 100], 'max_depth': [3, 5], 'min_samples_split': [2, 5]}\n",
    "lgbm_p = {'learning_rate': np.arange(0.01, 0.3, 0.02)}\n",
    "\n",
    "# 랜덤 포레스트\n",
    "rf_grid = GridSearchCV(\n",
    "    estimator = rf, \n",
    "    param_grid = rf_p, \n",
    "    scoring = 'f1', \n",
    "    cv = kf\n",
    ")\n",
    "# LGBM\n",
    "lgbm_grid = GridSearchCV(\n",
    "    estimator = lgbm, \n",
    "    param_grid = lgbm_p, \n",
    "    scoring = 'f1', \n",
    "    cv = kf\n",
    ")\n",
    "\n",
    "rf_grid.fit(train_X2, train_Y2)\n",
    "lgbm_grid.fit(train_X2, train_Y2)"
   ]
  },
  {
   "cell_type": "code",
   "execution_count": 35,
   "metadata": {},
   "outputs": [
    {
     "name": "stdout",
     "output_type": "stream",
     "text": [
      "Best param: {'max_depth': 5, 'min_samples_split': 5, 'n_estimators': 50}\n",
      "Best socre: 0.97\n",
      "\n",
      "< 학습 데이터 성능 >\n"
     ]
    },
    {
     "data": {
      "text/html": [
       "<div>\n",
       "<style scoped>\n",
       "    .dataframe tbody tr th:only-of-type {\n",
       "        vertical-align: middle;\n",
       "    }\n",
       "\n",
       "    .dataframe tbody tr th {\n",
       "        vertical-align: top;\n",
       "    }\n",
       "\n",
       "    .dataframe thead th {\n",
       "        text-align: right;\n",
       "    }\n",
       "</style>\n",
       "<table border=\"1\" class=\"dataframe\">\n",
       "  <thead>\n",
       "    <tr style=\"text-align: right;\">\n",
       "      <th></th>\n",
       "      <th>예측 낮음</th>\n",
       "      <th>예측 높음</th>\n",
       "    </tr>\n",
       "  </thead>\n",
       "  <tbody>\n",
       "    <tr>\n",
       "      <th>실제 낮음</th>\n",
       "      <td>3138</td>\n",
       "      <td>159</td>\n",
       "    </tr>\n",
       "    <tr>\n",
       "      <th>실제 높음</th>\n",
       "      <td>41</td>\n",
       "      <td>3674</td>\n",
       "    </tr>\n",
       "  </tbody>\n",
       "</table>\n",
       "</div>"
      ],
      "text/plain": [
       "       예측 낮음  예측 높음\n",
       "실제 낮음   3138    159\n",
       "실제 높음     41   3674"
      ]
     },
     "metadata": {},
     "output_type": "display_data"
    },
    {
     "name": "stdout",
     "output_type": "stream",
     "text": [
      "              precision    recall  f1-score   support\n",
      "\n",
      "           0       0.99      0.95      0.97      3297\n",
      "           1       0.96      0.99      0.97      3715\n",
      "\n",
      "    accuracy                           0.97      7012\n",
      "   macro avg       0.97      0.97      0.97      7012\n",
      "weighted avg       0.97      0.97      0.97      7012\n",
      "\n",
      "< 테스트 데이터 성능 >\n"
     ]
    },
    {
     "data": {
      "text/html": [
       "<div>\n",
       "<style scoped>\n",
       "    .dataframe tbody tr th:only-of-type {\n",
       "        vertical-align: middle;\n",
       "    }\n",
       "\n",
       "    .dataframe tbody tr th {\n",
       "        vertical-align: top;\n",
       "    }\n",
       "\n",
       "    .dataframe thead th {\n",
       "        text-align: right;\n",
       "    }\n",
       "</style>\n",
       "<table border=\"1\" class=\"dataframe\">\n",
       "  <thead>\n",
       "    <tr style=\"text-align: right;\">\n",
       "      <th></th>\n",
       "      <th>예측 낮음</th>\n",
       "      <th>예측 높음</th>\n",
       "    </tr>\n",
       "  </thead>\n",
       "  <tbody>\n",
       "    <tr>\n",
       "      <th>실제 낮음</th>\n",
       "      <td>1405</td>\n",
       "      <td>68</td>\n",
       "    </tr>\n",
       "    <tr>\n",
       "      <th>실제 높음</th>\n",
       "      <td>20</td>\n",
       "      <td>1513</td>\n",
       "    </tr>\n",
       "  </tbody>\n",
       "</table>\n",
       "</div>"
      ],
      "text/plain": [
       "       예측 낮음  예측 높음\n",
       "실제 낮음   1405     68\n",
       "실제 높음     20   1513"
      ]
     },
     "metadata": {},
     "output_type": "display_data"
    },
    {
     "name": "stdout",
     "output_type": "stream",
     "text": [
      "              precision    recall  f1-score   support\n",
      "\n",
      "           0       0.99      0.95      0.97      1473\n",
      "           1       0.96      0.99      0.97      1533\n",
      "\n",
      "    accuracy                           0.97      3006\n",
      "   macro avg       0.97      0.97      0.97      3006\n",
      "weighted avg       0.97      0.97      0.97      3006\n",
      "\n"
     ]
    }
   ],
   "source": [
    "#랜덤 포레스트 \n",
    "\n",
    "print(f\"Best param: {rf_grid.best_params_}\")\n",
    "print(f\"Best socre: {rf_grid.best_score_:.2f}\")\n",
    "\n",
    "\n",
    "pred_train = rf_grid.predict(train_X2)\n",
    "pred_test = rf_grid.predict(test_X2)\n",
    "\n",
    "print(\"\\n< 학습 데이터 성능 >\")\n",
    "con1 = pd.DataFrame(confusion_matrix(train_Y2, pred_train, labels=[0, 1]), index=['실제 낮음', '실제 높음'], columns=['예측 낮음', '예측 높음'])\n",
    "display(con1)\n",
    "print(f\"{classification_report(train_Y2, pred_train)}\")\n",
    "\n",
    "print(\"< 테스트 데이터 성능 >\")\n",
    "con2 = pd.DataFrame(confusion_matrix(test_Y2, pred_test, labels=[0, 1]), index=['실제 낮음', '실제 높음'], columns=['예측 낮음', '예측 높음'])\n",
    "display(con2)\n",
    "print(f\"{classification_report(test_Y2, pred_test)}\")"
   ]
  },
  {
   "cell_type": "code",
   "execution_count": 36,
   "metadata": {},
   "outputs": [
    {
     "name": "stdout",
     "output_type": "stream",
     "text": [
      "Best param: {'learning_rate': 0.10999999999999997}\n",
      "Best socre: 0.98\n",
      "\n",
      "< 학습 데이터 성능 >\n"
     ]
    },
    {
     "data": {
      "text/html": [
       "<div>\n",
       "<style scoped>\n",
       "    .dataframe tbody tr th:only-of-type {\n",
       "        vertical-align: middle;\n",
       "    }\n",
       "\n",
       "    .dataframe tbody tr th {\n",
       "        vertical-align: top;\n",
       "    }\n",
       "\n",
       "    .dataframe thead th {\n",
       "        text-align: right;\n",
       "    }\n",
       "</style>\n",
       "<table border=\"1\" class=\"dataframe\">\n",
       "  <thead>\n",
       "    <tr style=\"text-align: right;\">\n",
       "      <th></th>\n",
       "      <th>예측 낮음</th>\n",
       "      <th>예측 높음</th>\n",
       "    </tr>\n",
       "  </thead>\n",
       "  <tbody>\n",
       "    <tr>\n",
       "      <th>실제 낮음</th>\n",
       "      <td>3297</td>\n",
       "      <td>0</td>\n",
       "    </tr>\n",
       "    <tr>\n",
       "      <th>실제 높음</th>\n",
       "      <td>0</td>\n",
       "      <td>3715</td>\n",
       "    </tr>\n",
       "  </tbody>\n",
       "</table>\n",
       "</div>"
      ],
      "text/plain": [
       "       예측 낮음  예측 높음\n",
       "실제 낮음   3297      0\n",
       "실제 높음      0   3715"
      ]
     },
     "metadata": {},
     "output_type": "display_data"
    },
    {
     "name": "stdout",
     "output_type": "stream",
     "text": [
      "              precision    recall  f1-score   support\n",
      "\n",
      "           0       1.00      1.00      1.00      3297\n",
      "           1       1.00      1.00      1.00      3715\n",
      "\n",
      "    accuracy                           1.00      7012\n",
      "   macro avg       1.00      1.00      1.00      7012\n",
      "weighted avg       1.00      1.00      1.00      7012\n",
      "\n",
      "< 테스트 데이터 성능 >\n"
     ]
    },
    {
     "data": {
      "text/html": [
       "<div>\n",
       "<style scoped>\n",
       "    .dataframe tbody tr th:only-of-type {\n",
       "        vertical-align: middle;\n",
       "    }\n",
       "\n",
       "    .dataframe tbody tr th {\n",
       "        vertical-align: top;\n",
       "    }\n",
       "\n",
       "    .dataframe thead th {\n",
       "        text-align: right;\n",
       "    }\n",
       "</style>\n",
       "<table border=\"1\" class=\"dataframe\">\n",
       "  <thead>\n",
       "    <tr style=\"text-align: right;\">\n",
       "      <th></th>\n",
       "      <th>예측 낮음</th>\n",
       "      <th>예측 높음</th>\n",
       "    </tr>\n",
       "  </thead>\n",
       "  <tbody>\n",
       "    <tr>\n",
       "      <th>실제 낮음</th>\n",
       "      <td>1429</td>\n",
       "      <td>44</td>\n",
       "    </tr>\n",
       "    <tr>\n",
       "      <th>실제 높음</th>\n",
       "      <td>7</td>\n",
       "      <td>1526</td>\n",
       "    </tr>\n",
       "  </tbody>\n",
       "</table>\n",
       "</div>"
      ],
      "text/plain": [
       "       예측 낮음  예측 높음\n",
       "실제 낮음   1429     44\n",
       "실제 높음      7   1526"
      ]
     },
     "metadata": {},
     "output_type": "display_data"
    },
    {
     "name": "stdout",
     "output_type": "stream",
     "text": [
      "              precision    recall  f1-score   support\n",
      "\n",
      "           0       1.00      0.97      0.98      1473\n",
      "           1       0.97      1.00      0.98      1533\n",
      "\n",
      "    accuracy                           0.98      3006\n",
      "   macro avg       0.98      0.98      0.98      3006\n",
      "weighted avg       0.98      0.98      0.98      3006\n",
      "\n"
     ]
    }
   ],
   "source": [
    "#lgbm\n",
    "\n",
    "print(f\"Best param: {lgbm_grid.best_params_}\")\n",
    "print(f\"Best socre: {lgbm_grid.best_score_:.2f}\")\n",
    "\n",
    "\n",
    "pred_train = lgbm_grid.predict(train_X2)\n",
    "pred_test = lgbm_grid.predict(test_X2)\n",
    "\n",
    "print(\"\\n< 학습 데이터 성능 >\")\n",
    "con1 = pd.DataFrame(confusion_matrix(train_Y2, pred_train, labels=[0, 1]), index=['실제 낮음', '실제 높음'], columns=['예측 낮음', '예측 높음'])\n",
    "display(con1)\n",
    "print(f\"{classification_report(train_Y2, pred_train)}\")\n",
    "\n",
    "print(\"< 테스트 데이터 성능 >\")\n",
    "con2 = pd.DataFrame(confusion_matrix(test_Y2, pred_test, labels=[0, 1]), index=['실제 낮음', '실제 높음'], columns=['예측 낮음', '예측 높음'])\n",
    "display(con2)\n",
    "print(f\"{classification_report(test_Y2, pred_test)}\")"
   ]
  },
  {
   "cell_type": "markdown",
   "metadata": {},
   "source": [
    "두 모델 모두 학습 데이터, 테스트 데이터에서 정확도(accuracy) 0.97 이상으로 높은 성능을 보여주고 있다.  \n",
    "정확도 뿐만 아니라 두 레이블의 recall, precision, f1 score 또한 높다.  \n",
    "\n",
    "그 중 lgmb은 학습데이터의 경우, 두 레이블을 정확하게 분류해 내었으며, 테스트 데이터의 경우 accuracy 0.98로 랜덤포레스트보다  \n",
    "높은 성능을 보이므로 lgbm을 채택한다.\n",
    "\n",
    "**모델 성능(accuracy/f1 score)**\n",
    "1. RandomForest\n",
    "  - 학습데이터: 0.97, 0.97\n",
    "  - 테스트데이터: 0.97, 0.97\n",
    "2. LGBM\n",
    "  - 학습데이터: 1.0, 1.0\n",
    "  - 테스트데이터: 0.98, 0.98"
   ]
  },
  {
   "cell_type": "markdown",
   "metadata": {},
   "source": [
    "#### 1- 8. 최종 채택한 모델에서 각각 유의하게 작용하는 변수를 확인하고 설명하시오."
   ]
  },
  {
   "cell_type": "code",
   "execution_count": 37,
   "metadata": {},
   "outputs": [
    {
     "data": {
      "image/png": "[encoded data removed]",
      "text/plain": [
       "<Figure size 1296x576 with 1 Axes>"
      ]
     },
     "metadata": {
      "needs_background": "light"
     },
     "output_type": "display_data"
    }
   ],
   "source": [
    "from sklearn.inspection import permutation_importance\n",
    "\n",
    "f_imp = permutation_importance(lgbm_grid, train_X2, train_Y2, n_repeats=10, random_state=42)\n",
    "\n",
    "feats = train_X2.columns\n",
    "f_importance = f_imp.importances_mean\n",
    "\n",
    "f_imp_df = pd.DataFrame({\"name\": feats, \"imp\": f_importance})\n",
    "f_imp_df = f_imp_df.loc[f_imp_df['imp'] > 0]\n",
    "\n",
    "plt.figure(figsize=(18, 8))\n",
    "\n",
    "sns.barplot(data = f_imp_df, x='name', y='imp')\n",
    "plt.axhline(y=0.1, color='r', linestyle='--') #변수중요도가 10% 이상인 변수만 사용\n",
    "plt.show()"
   ]
  },
  {
   "cell_type": "markdown",
   "metadata": {},
   "source": [
    "성능이 좋았던 LGBM 모델을 기준으로 변수 중요도를 분석해보았다.  \n",
    "모델에 유의하게 영향을 미치는 변수 중요도 임계치를 임의로 10%(0.1)로 지정하였을 시,  \n",
    "거주개월과 보증금(원)이 모델에 유의한 영향을 미치는 변수임을 확인할 수 있다.  \n",
    "만약 과적합이 발생하거나 하여 차원축소나 변수 정규화를 고려해야 할 시 해당 변수를 선택하고, 중요도가 매우 낮은 변수를 제외하는  \n",
    "방법을 채택할 수 있을 것이다."
   ]
  },
  {
   "cell_type": "markdown",
   "metadata": {},
   "source": [
    "#### 1- 9. 해당 데이터 분석결과로 얻을 수 있는 점을 제시하시오."
   ]
  },
  {
   "cell_type": "code",
   "execution_count": 38,
   "metadata": {},
   "outputs": [
    {
     "data": {
      "image/png": "[encoded data removed]",
      "text/plain": [
       "<Figure size 864x360 with 2 Axes>"
      ]
     },
     "metadata": {
      "needs_background": "light"
     },
     "output_type": "display_data"
    }
   ],
   "source": [
    "from sklearn.inspection import partial_dependence, plot_partial_dependence\n",
    "\n",
    "fig, ax = plt.subplots(1, 2, figsize=(12, 5))\n",
    "\n",
    "plot_partial_dependence(estimator = lgbm_grid, \n",
    "                        X = train_X2,\n",
    "                        features = ['거주개월', '보증금(원)'], \n",
    "                        target = train_Y2, \n",
    "                        percentiles = (0, 1), \n",
    "                        ax = ax)\n",
    "ax[0].axvline(x=-0.28, color='r', linestyle='--')\n",
    "ax[1].axvline(x=-0.7, color='r', linestyle='--')\n",
    "ax[1].axvline(x=0.5, color='r', linestyle='--')\n",
    "plt.tight_layout()\n",
    "plt.show()"
   ]
  },
  {
   "cell_type": "code",
   "execution_count": 39,
   "metadata": {},
   "outputs": [
    {
     "data": {
      "text/html": [
       "<div>\n",
       "<style scoped>\n",
       "    .dataframe tbody tr th:only-of-type {\n",
       "        vertical-align: middle;\n",
       "    }\n",
       "\n",
       "    .dataframe tbody tr th {\n",
       "        vertical-align: top;\n",
       "    }\n",
       "\n",
       "    .dataframe thead th {\n",
       "        text-align: right;\n",
       "    }\n",
       "</style>\n",
       "<table border=\"1\" class=\"dataframe\">\n",
       "  <thead>\n",
       "    <tr style=\"text-align: right;\">\n",
       "      <th></th>\n",
       "      <th>거주개월(스케일)</th>\n",
       "      <th>거주개월(원본)</th>\n",
       "    </tr>\n",
       "  </thead>\n",
       "  <tbody>\n",
       "    <tr>\n",
       "      <th>1511</th>\n",
       "      <td>-0.269094</td>\n",
       "      <td>118.0</td>\n",
       "    </tr>\n",
       "    <tr>\n",
       "      <th>5455</th>\n",
       "      <td>-0.269094</td>\n",
       "      <td>118.0</td>\n",
       "    </tr>\n",
       "    <tr>\n",
       "      <th>1371</th>\n",
       "      <td>-0.269094</td>\n",
       "      <td>118.0</td>\n",
       "    </tr>\n",
       "  </tbody>\n",
       "</table>\n",
       "</div>"
      ],
      "text/plain": [
       "      거주개월(스케일)  거주개월(원본)\n",
       "1511  -0.269094     118.0\n",
       "5455  -0.269094     118.0\n",
       "1371  -0.269094     118.0"
      ]
     },
     "metadata": {},
     "output_type": "display_data"
    },
    {
     "data": {
      "text/html": [
       "<div>\n",
       "<style scoped>\n",
       "    .dataframe tbody tr th:only-of-type {\n",
       "        vertical-align: middle;\n",
       "    }\n",
       "\n",
       "    .dataframe tbody tr th {\n",
       "        vertical-align: top;\n",
       "    }\n",
       "\n",
       "    .dataframe thead th {\n",
       "        text-align: right;\n",
       "    }\n",
       "</style>\n",
       "<table border=\"1\" class=\"dataframe\">\n",
       "  <thead>\n",
       "    <tr style=\"text-align: right;\">\n",
       "      <th></th>\n",
       "      <th>보증금(원)(스케일)</th>\n",
       "      <th>보증금(원)(원본)</th>\n",
       "    </tr>\n",
       "  </thead>\n",
       "  <tbody>\n",
       "    <tr>\n",
       "      <th>5279</th>\n",
       "      <td>-0.695637</td>\n",
       "      <td>1670000.0</td>\n",
       "    </tr>\n",
       "    <tr>\n",
       "      <th>2422</th>\n",
       "      <td>-0.695637</td>\n",
       "      <td>1670000.0</td>\n",
       "    </tr>\n",
       "    <tr>\n",
       "      <th>1484</th>\n",
       "      <td>-0.695637</td>\n",
       "      <td>1670000.0</td>\n",
       "    </tr>\n",
       "  </tbody>\n",
       "</table>\n",
       "</div>"
      ],
      "text/plain": [
       "      보증금(원)(스케일)  보증금(원)(원본)\n",
       "5279    -0.695637   1670000.0\n",
       "2422    -0.695637   1670000.0\n",
       "1484    -0.695637   1670000.0"
      ]
     },
     "metadata": {},
     "output_type": "display_data"
    }
   ],
   "source": [
    "origin = scaler.inverse_transform(train_X2[n_cols[1:]])[:, [0, 5]]\n",
    "scaled = train_X2[n_cols[1:]][['거주개월', '보증금(원)']]\n",
    "\n",
    "vs = pd.DataFrame(np.concatenate([origin, scaled], axis=1), \n",
    "                  columns=['거주개월(원본)', '보증금(원)(원본)', '거주개월(스케일)', '보증금(원)(스케일)'])\n",
    "\n",
    "display(vs.loc[(vs['거주개월(스케일)'] >= -0.28), ['거주개월(스케일)', '거주개월(원본)']].sort_values(by='거주개월(원본)').head(3))\n",
    "display(vs.loc[(vs['보증금(원)(스케일)'] >= -0.7), ['보증금(원)(스케일)', '보증금(원)(원본)']].sort_values(by='보증금(원)(원본)').head(3))"
   ]
  },
  {
   "cell_type": "code",
   "execution_count": 40,
   "metadata": {},
   "outputs": [
    {
     "data": {
      "text/html": [
       "<div>\n",
       "<style scoped>\n",
       "    .dataframe tbody tr th:only-of-type {\n",
       "        vertical-align: middle;\n",
       "    }\n",
       "\n",
       "    .dataframe tbody tr th {\n",
       "        vertical-align: top;\n",
       "    }\n",
       "\n",
       "    .dataframe thead th {\n",
       "        text-align: right;\n",
       "    }\n",
       "</style>\n",
       "<table border=\"1\" class=\"dataframe\">\n",
       "  <thead>\n",
       "    <tr style=\"text-align: right;\">\n",
       "      <th></th>\n",
       "      <th>보증금(원)(스케일)</th>\n",
       "      <th>보증금(원)(원본)</th>\n",
       "    </tr>\n",
       "  </thead>\n",
       "  <tbody>\n",
       "    <tr>\n",
       "      <th>4794</th>\n",
       "      <td>0.503279</td>\n",
       "      <td>5368000.0</td>\n",
       "    </tr>\n",
       "    <tr>\n",
       "      <th>4696</th>\n",
       "      <td>0.510088</td>\n",
       "      <td>5389000.0</td>\n",
       "    </tr>\n",
       "    <tr>\n",
       "      <th>4260</th>\n",
       "      <td>0.510088</td>\n",
       "      <td>5389000.0</td>\n",
       "    </tr>\n",
       "  </tbody>\n",
       "</table>\n",
       "</div>"
      ],
      "text/plain": [
       "      보증금(원)(스케일)  보증금(원)(원본)\n",
       "4794     0.503279   5368000.0\n",
       "4696     0.510088   5389000.0\n",
       "4260     0.510088   5389000.0"
      ]
     },
     "metadata": {},
     "output_type": "display_data"
    }
   ],
   "source": [
    "display(vs.loc[(vs['보증금(원)(스케일)'] >= 0.5), ['보증금(원)(스케일)', '보증금(원)(원본)']].sort_values(by='보증금(원)(원본)').head(3))"
   ]
  },
  {
   "cell_type": "markdown",
   "metadata": {},
   "source": [
    "- 거주개월 약 118개월부터 거주기간이 늘어날 수록 재계약 수준이 높아질 확률이 급격히 늘어난다. \n",
    "- 보증금(원)이 16,7000 부터 재계약 수준이 높아질 확률이 급격하게 늘어다가 이후 536,8000원 이후부터는 평이한 경향을 보임.\n",
    "- 월세(원)도 보증금(원)과 유사한 경향을 보이기 때문에, 월세(원)이 늘어날 경우 재계약 수준이 높아지는 경향이 있을 것이다.\n",
    "\n",
    "**전략**  \n",
    "너무 낮지 않은 합리적인 보증금(원), 월세(원)을 설정하고, 리모델링이나 방 컨디션을 좋게 유지하여 거주개월을 늘리고  \n",
    "재계약률을 높일 수 있을 것이다."
   ]
  },
  {
   "cell_type": "markdown",
   "metadata": {},
   "source": [
    "**Data description**\n",
    "\n",
    "경기 당 9이닝 동안 1번 타자, 2번 타자의 출루 정보를 기록한 데이터입니다.  \n",
    "\n",
    "1: 1루타  \n",
    "2: 2루타  \n",
    "3: 3루타  \n",
    "4: 홈런  \n",
    "5: 삼진 제외 모든 아웃  \n",
    "6: 볼넷  \n",
    "7: 삼진  \n",
    "8: 몸에 맞는 공  \n",
    "9: 희생 번트  \n",
    "\n",
    "**타자 행동**\n",
    "\n",
    "| 컬럼명   | 의미 (회 == 이닝)    |\n",
    "|----------|----------------------|\n",
    "| **a1_1** | 1회 첫 타자 행동     |\n",
    "| **a1_2** | 1회 둘째 타자 행동   |\n",
    "| **a2_1** | 2회 첫 타자 행동     |\n",
    "| **a2_2** | 2회 둘째 타자 행동   |\n",
    "| **a3_1** | 3회 첫 타자 행동     |\n",
    "| **a3_2** | 3회 둘째 타자 행동   |\n",
    "| **a4_1** | 4회 첫 타자 행동     |\n",
    "| **a4_2** | 4회 둘째 타자 행동   |\n",
    "| **a5_1** | 5회 첫 타자 행동     |\n",
    "| **a5_2** | 5회 둘째 타자 행동   |\n",
    "| **a6_1** | 6회 첫 타자 행동     |\n",
    "| **a6_2** | 6회 둘째 타자 행동   |\n",
    "| **a7_1** | 7회 첫 타자 행동     |\n",
    "| **a7_2** | 7회 둘째 타자 행동   |\n",
    "| **a8_1** | 8회 첫 타자 행동     |\n",
    "| **a8_2** | 8회 둘째 타자 행동   |\n",
    "| **a9_1** | 9회 첫 타자 행동     |\n",
    "| **a9_2** | 9회 둘째 타자 행동   |\n",
    "\n",
    "**득점** \n",
    "\n",
    "| 컬럼명 | 의미 (회 == 이닝)   |\n",
    "|--------|---------------------|\n",
    "| **b1** | 1회 총 득점수       |\n",
    "| **b2** | 2회 총 득점수       |\n",
    "| **b3** | 3회 총 득점수       |\n",
    "| **b4** | 4회 총 득점수       |\n",
    "| **b5** | 5회 총 득점수       |\n",
    "| **b6** | 6회 총 득점수       |\n",
    "| **b7** | 7회 총 득점수       |\n",
    "| **b8** | 8회 총 득점수       |\n",
    "| **b9** | 9회 총 득점수       |"
   ]
  },
  {
   "cell_type": "code",
   "execution_count": 41,
   "metadata": {},
   "outputs": [
    {
     "name": "stdout",
     "output_type": "stream",
     "text": [
      "<class 'pandas.core.frame.DataFrame'>\n",
      "RangeIndex: 200 entries, 0 to 199\n",
      "Data columns (total 28 columns):\n",
      " #   Column   Non-Null Count  Dtype  \n",
      "---  ------   --------------  -----  \n",
      " 0   game_id  200 non-null    int64  \n",
      " 1   a1_1     188 non-null    float64\n",
      " 2   a1_2     200 non-null    int64  \n",
      " 3   a2_1     200 non-null    object \n",
      " 4   a2_2     200 non-null    int64  \n",
      " 5   a3_1     200 non-null    int64  \n",
      " 6   a3_2     200 non-null    int64  \n",
      " 7   a4_1     200 non-null    object \n",
      " 8   a4_2     200 non-null    int64  \n",
      " 9   a5_1     200 non-null    int64  \n",
      " 10  a5_2     200 non-null    int64  \n",
      " 11  a6_1     200 non-null    int64  \n",
      " 12  a6_2     200 non-null    int64  \n",
      " 13  a7_1     200 non-null    object \n",
      " 14  a7_2     200 non-null    int64  \n",
      " 15  a8_1     200 non-null    int64  \n",
      " 16  a8_2     200 non-null    int64  \n",
      " 17  a9_1     200 non-null    int64  \n",
      " 18  a9_2     200 non-null    int64  \n",
      " 19  b1       200 non-null    int64  \n",
      " 20  b2       200 non-null    int64  \n",
      " 21  b3       200 non-null    int64  \n",
      " 22  b4       200 non-null    int64  \n",
      " 23  b5       200 non-null    int64  \n",
      " 24  b6       200 non-null    int64  \n",
      " 25  b7       200 non-null    int64  \n",
      " 26  b8       200 non-null    int64  \n",
      " 27  b9       200 non-null    int64  \n",
      "dtypes: float64(1), int64(24), object(3)\n",
      "memory usage: 43.9+ KB\n"
     ]
    },
    {
     "data": {
      "text/html": [
       "<div>\n",
       "<style scoped>\n",
       "    .dataframe tbody tr th:only-of-type {\n",
       "        vertical-align: middle;\n",
       "    }\n",
       "\n",
       "    .dataframe tbody tr th {\n",
       "        vertical-align: top;\n",
       "    }\n",
       "\n",
       "    .dataframe thead th {\n",
       "        text-align: right;\n",
       "    }\n",
       "</style>\n",
       "<table border=\"1\" class=\"dataframe\">\n",
       "  <thead>\n",
       "    <tr style=\"text-align: right;\">\n",
       "      <th></th>\n",
       "      <th>game_id</th>\n",
       "      <th>a1_1</th>\n",
       "      <th>a1_2</th>\n",
       "      <th>a2_1</th>\n",
       "      <th>a2_2</th>\n",
       "      <th>a3_1</th>\n",
       "      <th>a3_2</th>\n",
       "      <th>a4_1</th>\n",
       "      <th>a4_2</th>\n",
       "      <th>a5_1</th>\n",
       "      <th>...</th>\n",
       "      <th>a9_2</th>\n",
       "      <th>b1</th>\n",
       "      <th>b2</th>\n",
       "      <th>b3</th>\n",
       "      <th>b4</th>\n",
       "      <th>b5</th>\n",
       "      <th>b6</th>\n",
       "      <th>b7</th>\n",
       "      <th>b8</th>\n",
       "      <th>b9</th>\n",
       "    </tr>\n",
       "  </thead>\n",
       "  <tbody>\n",
       "    <tr>\n",
       "      <th>0</th>\n",
       "      <td>201900016</td>\n",
       "      <td>5.0</td>\n",
       "      <td>5</td>\n",
       "      <td>5</td>\n",
       "      <td>5</td>\n",
       "      <td>5</td>\n",
       "      <td>5</td>\n",
       "      <td>5</td>\n",
       "      <td>5</td>\n",
       "      <td>5</td>\n",
       "      <td>...</td>\n",
       "      <td>5</td>\n",
       "      <td>0</td>\n",
       "      <td>0</td>\n",
       "      <td>0</td>\n",
       "      <td>0</td>\n",
       "      <td>0</td>\n",
       "      <td>0</td>\n",
       "      <td>0</td>\n",
       "      <td>4</td>\n",
       "      <td>2</td>\n",
       "    </tr>\n",
       "    <tr>\n",
       "      <th>1</th>\n",
       "      <td>201900023</td>\n",
       "      <td>6.0</td>\n",
       "      <td>4</td>\n",
       "      <td>5</td>\n",
       "      <td>5</td>\n",
       "      <td>2</td>\n",
       "      <td>5</td>\n",
       "      <td>1</td>\n",
       "      <td>1</td>\n",
       "      <td>6</td>\n",
       "      <td>...</td>\n",
       "      <td>7</td>\n",
       "      <td>3</td>\n",
       "      <td>0</td>\n",
       "      <td>0</td>\n",
       "      <td>1</td>\n",
       "      <td>0</td>\n",
       "      <td>1</td>\n",
       "      <td>3</td>\n",
       "      <td>1</td>\n",
       "      <td>0</td>\n",
       "    </tr>\n",
       "  </tbody>\n",
       "</table>\n",
       "<p>2 rows × 28 columns</p>\n",
       "</div>"
      ],
      "text/plain": [
       "     game_id  a1_1  a1_2 a2_1  a2_2  a3_1  a3_2 a4_1  a4_2  a5_1  ...  a9_2  \\\n",
       "0  201900016   5.0     5    5     5     5     5    5     5     5  ...     5   \n",
       "1  201900023   6.0     4    5     5     2     5    1     1     6  ...     7   \n",
       "\n",
       "   b1  b2 b3  b4  b5  b6  b7  b8  b9  \n",
       "0   0   0  0   0   0   0   0   4   2  \n",
       "1   3   0  0   1   0   1   3   1   0  \n",
       "\n",
       "[2 rows x 28 columns]"
      ]
     },
     "metadata": {},
     "output_type": "display_data"
    }
   ],
   "source": [
    "df2 = pd.read_csv('https://raw.githubusercontent.com/qiwerr1004/ADP_go/main/29/problem2.csv')\n",
    "df2.info()\n",
    "display(df2.head(2))"
   ]
  },
  {
   "cell_type": "markdown",
   "metadata": {},
   "source": [
    "#### 2-1. 각 회차별로 1번 타자의 출루 (1,2,3루타와 사사구(볼넷, 몸에맞는공))가 있는 경우에 대해 득점이 발생 했는지 확인하고자 한다.  \n",
    "     이를 위한 전처리를 수행하시오. (단, 첫 번째 혹은 두 번째 타자가 홈런을 친 경우 해당 회차 데이터 제외)"
   ]
  },
  {
   "cell_type": "code",
   "execution_count": 42,
   "metadata": {},
   "outputs": [
    {
     "data": {
      "text/plain": [
       "game_id     0\n",
       "a1_1       12\n",
       "a1_2        0\n",
       "a2_1        0\n",
       "a2_2        0\n",
       "a3_1        0\n",
       "a3_2        0\n",
       "a4_1        0\n",
       "a4_2        0\n",
       "a5_1        0\n",
       "a5_2        0\n",
       "a6_1        0\n",
       "a6_2        0\n",
       "a7_1        0\n",
       "a7_2        0\n",
       "a8_1        0\n",
       "a8_2        0\n",
       "a9_1        0\n",
       "a9_2        0\n",
       "b1          0\n",
       "b2          0\n",
       "b3          0\n",
       "b4          0\n",
       "b5          0\n",
       "b6          0\n",
       "b7          0\n",
       "b8          0\n",
       "b9          0\n",
       "dtype: int64"
      ]
     },
     "execution_count": 42,
     "metadata": {},
     "output_type": "execute_result"
    }
   ],
   "source": [
    "# 먼저 결측치 여부 확인\n",
    "df2.isna().sum()"
   ]
  },
  {
   "cell_type": "markdown",
   "metadata": {},
   "source": [
    "1번 타자의 1회차 행동에 12개의 결측치가 있다.  \n",
    "이는 전체 데이터의 6%를 차지하는데, 같은 타자라도 각 회차별 행동은 다르므로 다른회차에서 보간이 적절치 않을 것으로 판단,  \n",
    "결측 데이터를 삭제한다."
   ]
  },
  {
   "cell_type": "code",
   "execution_count": 43,
   "metadata": {},
   "outputs": [],
   "source": [
    "df2 = df2.dropna()"
   ]
  },
  {
   "cell_type": "markdown",
   "metadata": {},
   "source": [
    "모두 수치형 변수이나 일부 변수(컬럼)이 object로 유효하지 않은 값이 존재할 것으로 보인다."
   ]
  },
  {
   "cell_type": "code",
   "execution_count": 44,
   "metadata": {},
   "outputs": [
    {
     "data": {
      "text/html": [
       "<div>\n",
       "<style scoped>\n",
       "    .dataframe tbody tr th:only-of-type {\n",
       "        vertical-align: middle;\n",
       "    }\n",
       "\n",
       "    .dataframe tbody tr th {\n",
       "        vertical-align: top;\n",
       "    }\n",
       "\n",
       "    .dataframe thead th {\n",
       "        text-align: right;\n",
       "    }\n",
       "</style>\n",
       "<table border=\"1\" class=\"dataframe\">\n",
       "  <thead>\n",
       "    <tr style=\"text-align: right;\">\n",
       "      <th></th>\n",
       "      <th>a2_1</th>\n",
       "      <th>a4_1</th>\n",
       "      <th>a7_1</th>\n",
       "    </tr>\n",
       "  </thead>\n",
       "  <tbody>\n",
       "    <tr>\n",
       "      <th>0</th>\n",
       "      <td>5</td>\n",
       "      <td>5</td>\n",
       "      <td>5</td>\n",
       "    </tr>\n",
       "    <tr>\n",
       "      <th>1</th>\n",
       "      <td>7</td>\n",
       "      <td>7</td>\n",
       "      <td>7</td>\n",
       "    </tr>\n",
       "    <tr>\n",
       "      <th>2</th>\n",
       "      <td>1</td>\n",
       "      <td>1</td>\n",
       "      <td>1</td>\n",
       "    </tr>\n",
       "    <tr>\n",
       "      <th>3</th>\n",
       "      <td>6</td>\n",
       "      <td>6</td>\n",
       "      <td>6</td>\n",
       "    </tr>\n",
       "    <tr>\n",
       "      <th>4</th>\n",
       "      <td>4</td>\n",
       "      <td>2</td>\n",
       "      <td>2</td>\n",
       "    </tr>\n",
       "    <tr>\n",
       "      <th>5</th>\n",
       "      <td>2</td>\n",
       "      <td>4</td>\n",
       "      <td>4</td>\n",
       "    </tr>\n",
       "    <tr>\n",
       "      <th>6</th>\n",
       "      <td>:</td>\n",
       "      <td>&amp;</td>\n",
       "      <td>\"</td>\n",
       "    </tr>\n",
       "    <tr>\n",
       "      <th>7</th>\n",
       "      <td>None</td>\n",
       "      <td>8</td>\n",
       "      <td>8</td>\n",
       "    </tr>\n",
       "    <tr>\n",
       "      <th>8</th>\n",
       "      <td>None</td>\n",
       "      <td>3</td>\n",
       "      <td>3</td>\n",
       "    </tr>\n",
       "  </tbody>\n",
       "</table>\n",
       "</div>"
      ],
      "text/plain": [
       "   a2_1 a4_1 a7_1\n",
       "0     5    5    5\n",
       "1     7    7    7\n",
       "2     1    1    1\n",
       "3     6    6    6\n",
       "4     4    2    2\n",
       "5     2    4    4\n",
       "6     :    &    \"\n",
       "7  None    8    8\n",
       "8  None    3    3"
      ]
     },
     "execution_count": 44,
     "metadata": {},
     "output_type": "execute_result"
    }
   ],
   "source": [
    "e_cols = df2.select_dtypes('O').columns\n",
    "\n",
    "ev_df = pd.DataFrame([df2[col].value_counts().index.to_list() for col in e_cols]).T\n",
    "ev_df.columns = e_cols\n",
    "\n",
    "ev_df"
   ]
  },
  {
   "cell_type": "markdown",
   "metadata": {},
   "source": [
    "3개의 변수에서 :, &, \" 문자열을 식별하였다.   \n",
    "데이터셋 생성 과정의 오류로 판단되며, 해당값은 제거해준다. "
   ]
  },
  {
   "cell_type": "code",
   "execution_count": 45,
   "metadata": {},
   "outputs": [
    {
     "data": {
      "text/html": [
       "<div>\n",
       "<style scoped>\n",
       "    .dataframe tbody tr th:only-of-type {\n",
       "        vertical-align: middle;\n",
       "    }\n",
       "\n",
       "    .dataframe tbody tr th {\n",
       "        vertical-align: top;\n",
       "    }\n",
       "\n",
       "    .dataframe thead th {\n",
       "        text-align: right;\n",
       "    }\n",
       "</style>\n",
       "<table border=\"1\" class=\"dataframe\">\n",
       "  <thead>\n",
       "    <tr style=\"text-align: right;\">\n",
       "      <th></th>\n",
       "      <th>game_id</th>\n",
       "      <th>a1_1</th>\n",
       "      <th>a1_2</th>\n",
       "      <th>a2_1</th>\n",
       "      <th>a2_2</th>\n",
       "      <th>a3_1</th>\n",
       "      <th>a3_2</th>\n",
       "      <th>a4_1</th>\n",
       "      <th>a4_2</th>\n",
       "      <th>a5_1</th>\n",
       "      <th>...</th>\n",
       "      <th>a9_2</th>\n",
       "      <th>b1</th>\n",
       "      <th>b2</th>\n",
       "      <th>b3</th>\n",
       "      <th>b4</th>\n",
       "      <th>b5</th>\n",
       "      <th>b6</th>\n",
       "      <th>b7</th>\n",
       "      <th>b8</th>\n",
       "      <th>b9</th>\n",
       "    </tr>\n",
       "  </thead>\n",
       "  <tbody>\n",
       "    <tr>\n",
       "      <th>0</th>\n",
       "      <td>201900016</td>\n",
       "      <td>5.0</td>\n",
       "      <td>5</td>\n",
       "      <td>5</td>\n",
       "      <td>5</td>\n",
       "      <td>5</td>\n",
       "      <td>5</td>\n",
       "      <td>5</td>\n",
       "      <td>5</td>\n",
       "      <td>5</td>\n",
       "      <td>...</td>\n",
       "      <td>5</td>\n",
       "      <td>0</td>\n",
       "      <td>0</td>\n",
       "      <td>0</td>\n",
       "      <td>0</td>\n",
       "      <td>0</td>\n",
       "      <td>0</td>\n",
       "      <td>0</td>\n",
       "      <td>4</td>\n",
       "      <td>2</td>\n",
       "    </tr>\n",
       "    <tr>\n",
       "      <th>1</th>\n",
       "      <td>201900023</td>\n",
       "      <td>6.0</td>\n",
       "      <td>4</td>\n",
       "      <td>5</td>\n",
       "      <td>5</td>\n",
       "      <td>2</td>\n",
       "      <td>5</td>\n",
       "      <td>1</td>\n",
       "      <td>1</td>\n",
       "      <td>6</td>\n",
       "      <td>...</td>\n",
       "      <td>7</td>\n",
       "      <td>3</td>\n",
       "      <td>0</td>\n",
       "      <td>0</td>\n",
       "      <td>1</td>\n",
       "      <td>0</td>\n",
       "      <td>1</td>\n",
       "      <td>3</td>\n",
       "      <td>1</td>\n",
       "      <td>0</td>\n",
       "    </tr>\n",
       "  </tbody>\n",
       "</table>\n",
       "<p>2 rows × 28 columns</p>\n",
       "</div>"
      ],
      "text/plain": [
       "     game_id  a1_1  a1_2 a2_1  a2_2  a3_1  a3_2 a4_1  a4_2  a5_1  ...  a9_2  \\\n",
       "0  201900016   5.0     5    5     5     5     5    5     5     5  ...     5   \n",
       "1  201900023   6.0     4    5     5     2     5    1     1     6  ...     7   \n",
       "\n",
       "   b1  b2 b3  b4  b5  b6  b7  b8  b9  \n",
       "0   0   0  0   0   0   0   0   4   2  \n",
       "1   3   0  0   1   0   1   3   1   0  \n",
       "\n",
       "[2 rows x 28 columns]"
      ]
     },
     "execution_count": 45,
     "metadata": {},
     "output_type": "execute_result"
    }
   ],
   "source": [
    "df2 = df2[~df2[e_cols].isin([':', '&', '\"']).any(axis=1)]\n",
    "df2.head(2)"
   ]
  },
  {
   "cell_type": "code",
   "execution_count": 46,
   "metadata": {},
   "outputs": [],
   "source": [
    "df2[e_cols] = df2[e_cols].astype('int64')"
   ]
  },
  {
   "cell_type": "markdown",
   "metadata": {},
   "source": [
    "이제 결측치와 이상값 처리는 완료되었다.  \n",
    "1번 타자와 득점률에 해당하는 새로운 데이터셋을 생성한 후 그 중 특정조건(1, 2, 3, 볼넷, 몸맞) 을 만족하는 데이터만 필터링한다.  \n",
    "(단, 첫 번째 혹은 두 번째 타자가 홈런을 친 경우 해당 회차 데이터 제외)  \n",
    "이후 득점률과의 관계를 분석한다."
   ]
  },
  {
   "cell_type": "code",
   "execution_count": 92,
   "metadata": {},
   "outputs": [],
   "source": [
    "s_1 = [f for f in df2.columns if '_1' in f] # 1번 타자의 컬럼명\n",
    "s_2 = [f for f in df2.columns if '_2' in f]\n",
    "b = [f for f in df2.columns if 'b' in f] # 득점정보 컬럼명\n",
    "\n",
    "p1 = pd.melt(df2,\n",
    "             id_vars=['game_id'],\n",
    "             value_vars=s_1, #값으로 변환할 컬럼리스트(1번 타자 해당 컬럼)\n",
    "             var_name = 'no', #값으로 변환할 컬럼의 이름\n",
    "             value_name = 'action1', #값으로 들어갈 컬럼의 이름\n",
    "             ignore_index=False)\n",
    "\n",
    "\n",
    "p2 = pd.melt(df2,\n",
    "             id_vars=['game_id'],\n",
    "             value_vars=s_2, #값으로 변환할 컬럼리스트(2번 타자 해당 컬럼)\n",
    "             var_name = 'no', #값으로 변환할 컬럼의 이름\n",
    "             value_name = 'action2', #값으로 들어갈 컬럼의 이름\n",
    "             ignore_index=False)\n",
    "\n",
    "\n",
    "bb =  pd.melt(df2,\n",
    "             id_vars=['game_id'],\n",
    "             value_vars=b, #값으로 변환할 컬럼리스트(득점)\n",
    "             var_name = 'no', #값으로 변환할 컬럼의 이름\n",
    "             value_name = 'score', #값으로 들어갈 컬럼의 이름\n",
    "             ignore_index=False)\n",
    "\n",
    "p1['no'] = [s.split('_')[0][-1] for s in p1['no']]\n",
    "p2['no'] = [s.split('_')[0][-1] for s in p2['no']]\n",
    "bb['no'] = [s.split('_')[0][-1] for s in bb['no']]\n",
    "\n",
    "rs = pd.merge(p1, p2, on=['game_id', 'no'], how='inner')\n",
    "rs = pd.merge(rs, bb, on=['game_id', 'no'], how='inner')\n",
    "\n",
    "rs = rs.sort_values(by=['game_id', 'no'])"
   ]
  },
  {
   "cell_type": "code",
   "execution_count": 93,
   "metadata": {},
   "outputs": [
    {
     "name": "stdout",
     "output_type": "stream",
     "text": [
      "총 데이터 개수: 1620\n"
     ]
    }
   ],
   "source": [
    "rs.head(9)\n",
    "print(f'총 데이터 개수: {len(rs)}')"
   ]
  },
  {
   "cell_type": "markdown",
   "metadata": {},
   "source": [
    "#### 데이터 필터링"
   ]
  },
  {
   "cell_type": "code",
   "execution_count": 96,
   "metadata": {},
   "outputs": [],
   "source": [
    "# 1번 타자의 출루 (1,2,3루타와 사사구(볼넷, 몸에맞는공))가 있는 경우 데이터\n",
    "# 첫 번째 혹은 두 번째 타자가 홈런을 친 경우 해당 회차 데이터를 제외\n",
    "rs = rs.loc[rs['action1'].isin([1, 2, 3, 6, 8])]\n",
    "rs = rs.loc[(rs['action1'] != 4) & (rs['action2'] != 4)]"
   ]
  },
  {
   "cell_type": "code",
   "execution_count": 97,
   "metadata": {},
   "outputs": [
    {
     "data": {
      "text/html": [
       "<div>\n",
       "<style scoped>\n",
       "    .dataframe tbody tr th:only-of-type {\n",
       "        vertical-align: middle;\n",
       "    }\n",
       "\n",
       "    .dataframe tbody tr th {\n",
       "        vertical-align: top;\n",
       "    }\n",
       "\n",
       "    .dataframe thead th {\n",
       "        text-align: right;\n",
       "    }\n",
       "</style>\n",
       "<table border=\"1\" class=\"dataframe\">\n",
       "  <thead>\n",
       "    <tr style=\"text-align: right;\">\n",
       "      <th></th>\n",
       "      <th>game_id</th>\n",
       "      <th>no</th>\n",
       "      <th>action1</th>\n",
       "      <th>action2</th>\n",
       "      <th>score</th>\n",
       "    </tr>\n",
       "  </thead>\n",
       "  <tbody>\n",
       "    <tr>\n",
       "      <th>1260</th>\n",
       "      <td>201900016</td>\n",
       "      <td>8</td>\n",
       "      <td>1.0</td>\n",
       "      <td>1</td>\n",
       "      <td>4</td>\n",
       "    </tr>\n",
       "    <tr>\n",
       "      <th>1440</th>\n",
       "      <td>201900016</td>\n",
       "      <td>9</td>\n",
       "      <td>1.0</td>\n",
       "      <td>5</td>\n",
       "      <td>2</td>\n",
       "    </tr>\n",
       "    <tr>\n",
       "      <th>361</th>\n",
       "      <td>201900023</td>\n",
       "      <td>3</td>\n",
       "      <td>2.0</td>\n",
       "      <td>5</td>\n",
       "      <td>0</td>\n",
       "    </tr>\n",
       "    <tr>\n",
       "      <th>541</th>\n",
       "      <td>201900023</td>\n",
       "      <td>4</td>\n",
       "      <td>1.0</td>\n",
       "      <td>1</td>\n",
       "      <td>1</td>\n",
       "    </tr>\n",
       "    <tr>\n",
       "      <th>721</th>\n",
       "      <td>201900023</td>\n",
       "      <td>5</td>\n",
       "      <td>6.0</td>\n",
       "      <td>5</td>\n",
       "      <td>0</td>\n",
       "    </tr>\n",
       "  </tbody>\n",
       "</table>\n",
       "</div>"
      ],
      "text/plain": [
       "        game_id no  action1  action2  score\n",
       "1260  201900016  8      1.0        1      4\n",
       "1440  201900016  9      1.0        5      2\n",
       "361   201900023  3      2.0        5      0\n",
       "541   201900023  4      1.0        1      1\n",
       "721   201900023  5      6.0        5      0"
      ]
     },
     "metadata": {},
     "output_type": "display_data"
    },
    {
     "name": "stdout",
     "output_type": "stream",
     "text": [
      "총 데이터 개수: 480\n"
     ]
    }
   ],
   "source": [
    "display(rs.head())\n",
    "print(f'총 데이터 개수: {len(rs)}')"
   ]
  },
  {
   "cell_type": "code",
   "execution_count": 100,
   "metadata": {},
   "outputs": [],
   "source": [
    "# 득점 발생 유무에 대한 2class 파생변수 생성\n",
    "rs['is_score'] = np.where(rs['score'] > 0, 1, 0)"
   ]
  },
  {
   "cell_type": "markdown",
   "metadata": {},
   "source": [
    "#### 2-2. Logistic Regression을 적용하고 (득점의) 2번타자의 희생번트 여부에 대한 회귀 계수 검정을 실시하시오."
   ]
  },
  {
   "cell_type": "code",
   "execution_count": 101,
   "metadata": {},
   "outputs": [
    {
     "data": {
      "text/html": [
       "<div>\n",
       "<style scoped>\n",
       "    .dataframe tbody tr th:only-of-type {\n",
       "        vertical-align: middle;\n",
       "    }\n",
       "\n",
       "    .dataframe tbody tr th {\n",
       "        vertical-align: top;\n",
       "    }\n",
       "\n",
       "    .dataframe thead th {\n",
       "        text-align: right;\n",
       "    }\n",
       "</style>\n",
       "<table border=\"1\" class=\"dataframe\">\n",
       "  <thead>\n",
       "    <tr style=\"text-align: right;\">\n",
       "      <th></th>\n",
       "      <th>game_id</th>\n",
       "      <th>no</th>\n",
       "      <th>action1</th>\n",
       "      <th>action2</th>\n",
       "      <th>score</th>\n",
       "      <th>is_score</th>\n",
       "      <th>hb</th>\n",
       "    </tr>\n",
       "  </thead>\n",
       "  <tbody>\n",
       "    <tr>\n",
       "      <th>1260</th>\n",
       "      <td>201900016</td>\n",
       "      <td>8</td>\n",
       "      <td>1.0</td>\n",
       "      <td>1</td>\n",
       "      <td>4</td>\n",
       "      <td>1</td>\n",
       "      <td>0</td>\n",
       "    </tr>\n",
       "    <tr>\n",
       "      <th>1440</th>\n",
       "      <td>201900016</td>\n",
       "      <td>9</td>\n",
       "      <td>1.0</td>\n",
       "      <td>5</td>\n",
       "      <td>2</td>\n",
       "      <td>1</td>\n",
       "      <td>0</td>\n",
       "    </tr>\n",
       "    <tr>\n",
       "      <th>361</th>\n",
       "      <td>201900023</td>\n",
       "      <td>3</td>\n",
       "      <td>2.0</td>\n",
       "      <td>5</td>\n",
       "      <td>0</td>\n",
       "      <td>0</td>\n",
       "      <td>0</td>\n",
       "    </tr>\n",
       "  </tbody>\n",
       "</table>\n",
       "</div>"
      ],
      "text/plain": [
       "        game_id no  action1  action2  score  is_score  hb\n",
       "1260  201900016  8      1.0        1      4         1   0\n",
       "1440  201900016  9      1.0        5      2         1   0\n",
       "361   201900023  3      2.0        5      0         0   0"
      ]
     },
     "execution_count": 101,
     "metadata": {},
     "output_type": "execute_result"
    }
   ],
   "source": [
    "#2번 타자의 희생번트 유무 파생변수 생성\n",
    "rs['hb'] = np.where(rs['action2'] == 9, 1, 0)\n",
    "rs.head(3)"
   ]
  },
  {
   "cell_type": "code",
   "execution_count": 102,
   "metadata": {},
   "outputs": [
    {
     "data": {
      "image/png": "[encoded data removed]",
      "text/plain": [
       "<Figure size 720x720 with 4 Axes>"
      ]
     },
     "metadata": {
      "needs_background": "light"
     },
     "output_type": "display_data"
    }
   ],
   "source": [
    "# 각 사용 설명변수별 count plot\n",
    "fig, ax = plt.subplots(2, 2, figsize=(10, 10))\n",
    "\n",
    "for i, col in enumerate(['action1', 'action2', 'is_score', 'hb']):\n",
    "    x = i // 2\n",
    "    y = i % 2\n",
    "    sns.countplot(rs[col], ax=ax[x, y])\n",
    "    ax[x, y].set_title(col)\n",
    "plt.show()"
   ]
  },
  {
   "cell_type": "code",
   "execution_count": 103,
   "metadata": {},
   "outputs": [
    {
     "name": "stdout",
     "output_type": "stream",
     "text": [
      "Optimization terminated successfully.\n",
      "         Current function value: 0.670534\n",
      "         Iterations 5\n"
     ]
    },
    {
     "data": {
      "text/html": [
       "<table class=\"simpletable\">\n",
       "<caption>Logit Regression Results</caption>\n",
       "<tr>\n",
       "  <th>Dep. Variable:</th>       <td>is_score</td>     <th>  No. Observations:  </th>  <td>   480</td> \n",
       "</tr>\n",
       "<tr>\n",
       "  <th>Model:</th>                 <td>Logit</td>      <th>  Df Residuals:      </th>  <td>   474</td> \n",
       "</tr>\n",
       "<tr>\n",
       "  <th>Method:</th>                 <td>MLE</td>       <th>  Df Model:          </th>  <td>     5</td> \n",
       "</tr>\n",
       "<tr>\n",
       "  <th>Date:</th>            <td>Sun, 22 Jun 2025</td> <th>  Pseudo R-squ.:     </th>  <td>0.02157</td>\n",
       "</tr>\n",
       "<tr>\n",
       "  <th>Time:</th>                <td>23:03:29</td>     <th>  Log-Likelihood:    </th> <td> -321.86</td>\n",
       "</tr>\n",
       "<tr>\n",
       "  <th>converged:</th>             <td>True</td>       <th>  LL-Null:           </th> <td> -328.95</td>\n",
       "</tr>\n",
       "<tr>\n",
       "  <th>Covariance Type:</th>     <td>nonrobust</td>    <th>  LLR p-value:       </th>  <td>0.01446</td>\n",
       "</tr>\n",
       "</table>\n",
       "<table class=\"simpletable\">\n",
       "<tr>\n",
       "          <td></td>             <th>coef</th>     <th>std err</th>      <th>z</th>      <th>P>|z|</th>  <th>[0.025</th>    <th>0.975]</th>  \n",
       "</tr>\n",
       "<tr>\n",
       "  <th>Intercept</th>         <td>    0.0040</td> <td>    0.147</td> <td>    0.027</td> <td> 0.978</td> <td>   -0.284</td> <td>    0.292</td>\n",
       "</tr>\n",
       "<tr>\n",
       "  <th>C(action1)[T.2.0]</th> <td>    0.4193</td> <td>    0.240</td> <td>    1.744</td> <td> 0.081</td> <td>   -0.052</td> <td>    0.890</td>\n",
       "</tr>\n",
       "<tr>\n",
       "  <th>C(action1)[T.3.0]</th> <td>    1.6054</td> <td>    1.105</td> <td>    1.453</td> <td> 0.146</td> <td>   -0.561</td> <td>    3.772</td>\n",
       "</tr>\n",
       "<tr>\n",
       "  <th>C(action1)[T.6.0]</th> <td>    0.1795</td> <td>    0.223</td> <td>    0.803</td> <td> 0.422</td> <td>   -0.258</td> <td>    0.617</td>\n",
       "</tr>\n",
       "<tr>\n",
       "  <th>C(action1)[T.8.0]</th> <td>   -0.6964</td> <td>    0.579</td> <td>   -1.203</td> <td> 0.229</td> <td>   -1.831</td> <td>    0.438</td>\n",
       "</tr>\n",
       "<tr>\n",
       "  <th>C(hb)[T.1]</th>        <td>    0.6885</td> <td>    0.273</td> <td>    2.526</td> <td> 0.012</td> <td>    0.154</td> <td>    1.223</td>\n",
       "</tr>\n",
       "</table>"
      ],
      "text/plain": [
       "<class 'statsmodels.iolib.summary.Summary'>\n",
       "\"\"\"\n",
       "                           Logit Regression Results                           \n",
       "==============================================================================\n",
       "Dep. Variable:               is_score   No. Observations:                  480\n",
       "Model:                          Logit   Df Residuals:                      474\n",
       "Method:                           MLE   Df Model:                            5\n",
       "Date:                Sun, 22 Jun 2025   Pseudo R-squ.:                 0.02157\n",
       "Time:                        23:03:29   Log-Likelihood:                -321.86\n",
       "converged:                       True   LL-Null:                       -328.95\n",
       "Covariance Type:            nonrobust   LLR p-value:                   0.01446\n",
       "=====================================================================================\n",
       "                        coef    std err          z      P>|z|      [0.025      0.975]\n",
       "-------------------------------------------------------------------------------------\n",
       "Intercept             0.0040      0.147      0.027      0.978      -0.284       0.292\n",
       "C(action1)[T.2.0]     0.4193      0.240      1.744      0.081      -0.052       0.890\n",
       "C(action1)[T.3.0]     1.6054      1.105      1.453      0.146      -0.561       3.772\n",
       "C(action1)[T.6.0]     0.1795      0.223      0.803      0.422      -0.258       0.617\n",
       "C(action1)[T.8.0]    -0.6964      0.579     -1.203      0.229      -1.831       0.438\n",
       "C(hb)[T.1]            0.6885      0.273      2.526      0.012       0.154       1.223\n",
       "=====================================================================================\n",
       "\"\"\""
      ]
     },
     "execution_count": 103,
     "metadata": {},
     "output_type": "execute_result"
    }
   ],
   "source": [
    "#로지스틱회귀모형\n",
    "import statsmodels.formula.api as smf\n",
    "\n",
    "model = smf.logit(\"is_score ~ C(action1)+C(hb)\",  #hb에 이미 2번 타자의 정보가 포함되므로 action2x\n",
    "                 data = rs).fit(maxiter=100, method='newton')\n",
    "model.summary()"
   ]
  },
  {
   "cell_type": "markdown",
   "metadata": {},
   "source": [
    "해당 로지스틱 회귀 분석은 득점여부와 번트와의 상관관계를 알기 위한 문제이다.  \n",
    "여기서 설명변수로 action2, score는 제외해주는데, action2는 hb에 정보가 포함되어 있고,  \n",
    "score는 종속변수인 is_score와 마찬가지의 정보를 담고 있기 때문이다.  \n",
    "**유의수준 5% 하에서**  \n",
    "- H0(귀무가설): 2번 타자의 희생번트 여부는 득점과 통계적 유의성이 없다.(hb의 회귀계수가 0이다.)\n",
    "- H1(대립가설): 2번 타자의 희생번트 여부는 득점과 통계적 유의성이 있다.(hb의 회귀계수가 0이 아니다.)\n",
    "\n",
    "**모델결과 분석**  \n",
    "유의수준 5%(신뢰구간 95%) 하에서 hb(2번 타자의 희생번트 유무)의 p-value는 0.012로 0.05보다 작아서  \n",
    "귀무가설을 기각한다. \n",
    "***따라서 2번 타자의 희생번트 유무와 득점 여부는 통계적으로 유의성이 있다.***"
   ]
  },
  {
   "cell_type": "markdown",
   "metadata": {},
   "source": [
    "#### 2-3. SMOTE (random_state =0 지정)를 적용하여 data imbalance를 해결하시오."
   ]
  },
  {
   "cell_type": "code",
   "execution_count": 115,
   "metadata": {},
   "outputs": [
    {
     "name": "stdout",
     "output_type": "stream",
     "text": [
      "각 레이블 갯수: Counter({1: 191, 0: 191})\n"
     ]
    }
   ],
   "source": [
    "# 득점유무: y(is_score)\n",
    "# 설명변수: action1, action2 - 둘다 카테고리 데이터\n",
    "from imblearn.over_sampling import SMOTE\n",
    "from collections import Counter\n",
    "\n",
    "Y = rs['is_score']\n",
    "X = rs[['action1', 'hb']].astype('category')\n",
    "\n",
    "# 데이터 7:3분할\n",
    "from sklearn.model_selection import train_test_split\n",
    "\n",
    "train_X, test_X, train_Y, test_Y = train_test_split(X, Y, test_size=0.3, random_state=0)\n",
    "\n",
    "#리샘플링\n",
    "smt = SMOTE(random_state=0)\n",
    "train_X, train_Y = smt.fit_resample(train_X, train_Y)\n",
    "print(f\"각 레이블 갯수: {Counter(train_Y)}\")"
   ]
  },
  {
   "cell_type": "code",
   "execution_count": 116,
   "metadata": {},
   "outputs": [],
   "source": [
    "train_X = pd.DataFrame(train_X, columns = ['action1', 'hb']).astype('category')"
   ]
  },
  {
   "cell_type": "markdown",
   "metadata": {},
   "source": [
    "#### 2-4. Logistic Regression을 적용하고 결과를 분석하시오."
   ]
  },
  {
   "cell_type": "code",
   "execution_count": 117,
   "metadata": {},
   "outputs": [
    {
     "data": {
      "text/plain": [
       "GridSearchCV(cv=KFold(n_splits=5, random_state=0, shuffle=True),\n",
       "             estimator=Pipeline(steps=[('preprocess',\n",
       "                                        ColumnTransformer(remainder='passthrough',\n",
       "                                                          transformers=[('cat',\n",
       "                                                                         Pipeline(steps=[('onehotencoder',\n",
       "                                                                                          OneHotEncoder(handle_unknown='ignore'))]),\n",
       "                                                                         Index(['action1', 'hb'], dtype='object'))])),\n",
       "                                       ('classifier',\n",
       "                                        LogisticRegression(random_state=0))]),\n",
       "             param_grid={'classifier__C': [0.001, 0.01, 0.1, 1, 10, 100],\n",
       "                         'classifier__class_weight': [None, 'balanced'],\n",
       "                         'classifier__max_iter': [200, 500, 1000],\n",
       "                         'classifier__penalty': ['l1', 'l2']},\n",
       "             scoring='f1')"
      ]
     },
     "execution_count": 117,
     "metadata": {},
     "output_type": "execute_result"
    }
   ],
   "source": [
    "from sklearn.linear_model import LogisticRegression\n",
    "from sklearn.preprocessing import OneHotEncoder\n",
    "from sklearn.model_selection import KFold, GridSearchCV\n",
    "from imblearn.pipeline import make_pipeline, Pipeline\n",
    "from sklearn.compose import ColumnTransformer\n",
    "\n",
    "#전처리\n",
    "cat_process = make_pipeline(OneHotEncoder(handle_unknown='ignore'))\n",
    "preprocess = ColumnTransformer([('cat', cat_process, train_X.columns)], remainder=\"passthrough\")\n",
    "# 전처리+모델\n",
    "l_pipe = Pipeline(\n",
    "    [\n",
    "        ('preprocess', preprocess), \n",
    "        ('classifier', LogisticRegression(random_state=0))\n",
    "    ]\n",
    ")\n",
    "kf = KFold(n_splits=5, shuffle=True, random_state=0)\n",
    "lr_param = {\n",
    "    'classifier__penalty': ['l1', 'l2'],\n",
    "    'classifier__C': [0.001, 0.01, 0.1, 1, 10, 100],\n",
    "    'classifier__class_weight': [None, 'balanced'],\n",
    "    'classifier__max_iter': [200, 500, 1000]\n",
    "}\n",
    "\n",
    "lr_model = GridSearchCV(\n",
    "    estimator = l_pipe, \n",
    "    scoring = 'f1', \n",
    "    param_grid = lr_param,\n",
    "    cv = kf\n",
    ")\n",
    "\n",
    "lr_model.fit(train_X, train_Y)"
   ]
  },
  {
   "cell_type": "code",
   "execution_count": 118,
   "metadata": {},
   "outputs": [
    {
     "name": "stdout",
     "output_type": "stream",
     "text": [
      "Logistic regression Best Model: \n",
      "- param: {'classifier__C': 10, 'classifier__class_weight': 'balanced', 'classifier__max_iter': 200, 'classifier__penalty': 'l2'}\n",
      "- score: 0.563\n",
      "train_set\n"
     ]
    },
    {
     "data": {
      "text/html": [
       "<div>\n",
       "<style scoped>\n",
       "    .dataframe tbody tr th:only-of-type {\n",
       "        vertical-align: middle;\n",
       "    }\n",
       "\n",
       "    .dataframe tbody tr th {\n",
       "        vertical-align: top;\n",
       "    }\n",
       "\n",
       "    .dataframe thead th {\n",
       "        text-align: right;\n",
       "    }\n",
       "</style>\n",
       "<table border=\"1\" class=\"dataframe\">\n",
       "  <thead>\n",
       "    <tr style=\"text-align: right;\">\n",
       "      <th></th>\n",
       "      <th>PF</th>\n",
       "      <th>PT</th>\n",
       "    </tr>\n",
       "  </thead>\n",
       "  <tbody>\n",
       "    <tr>\n",
       "      <th>AF</th>\n",
       "      <td>85</td>\n",
       "      <td>106</td>\n",
       "    </tr>\n",
       "    <tr>\n",
       "      <th>AT</th>\n",
       "      <td>64</td>\n",
       "      <td>127</td>\n",
       "    </tr>\n",
       "  </tbody>\n",
       "</table>\n",
       "</div>"
      ],
      "text/plain": [
       "    PF   PT\n",
       "AF  85  106\n",
       "AT  64  127"
      ]
     },
     "metadata": {},
     "output_type": "display_data"
    },
    {
     "name": "stdout",
     "output_type": "stream",
     "text": [
      "None\n",
      "              precision    recall  f1-score   support\n",
      "\n",
      "           0       0.57      0.45      0.50       191\n",
      "           1       0.55      0.66      0.60       191\n",
      "\n",
      "    accuracy                           0.55       382\n",
      "   macro avg       0.56      0.55      0.55       382\n",
      "weighted avg       0.56      0.55      0.55       382\n",
      "\n",
      "test_set\n"
     ]
    },
    {
     "data": {
      "text/html": [
       "<div>\n",
       "<style scoped>\n",
       "    .dataframe tbody tr th:only-of-type {\n",
       "        vertical-align: middle;\n",
       "    }\n",
       "\n",
       "    .dataframe tbody tr th {\n",
       "        vertical-align: top;\n",
       "    }\n",
       "\n",
       "    .dataframe thead th {\n",
       "        text-align: right;\n",
       "    }\n",
       "</style>\n",
       "<table border=\"1\" class=\"dataframe\">\n",
       "  <thead>\n",
       "    <tr style=\"text-align: right;\">\n",
       "      <th></th>\n",
       "      <th>PF</th>\n",
       "      <th>PT</th>\n",
       "    </tr>\n",
       "  </thead>\n",
       "  <tbody>\n",
       "    <tr>\n",
       "      <th>AF</th>\n",
       "      <td>26</td>\n",
       "      <td>39</td>\n",
       "    </tr>\n",
       "    <tr>\n",
       "      <th>AT</th>\n",
       "      <td>29</td>\n",
       "      <td>50</td>\n",
       "    </tr>\n",
       "  </tbody>\n",
       "</table>\n",
       "</div>"
      ],
      "text/plain": [
       "    PF  PT\n",
       "AF  26  39\n",
       "AT  29  50"
      ]
     },
     "metadata": {},
     "output_type": "display_data"
    },
    {
     "name": "stdout",
     "output_type": "stream",
     "text": [
      "None\n",
      "              precision    recall  f1-score   support\n",
      "\n",
      "           0       0.47      0.40      0.43        65\n",
      "           1       0.56      0.63      0.60        79\n",
      "\n",
      "    accuracy                           0.53       144\n",
      "   macro avg       0.52      0.52      0.51       144\n",
      "weighted avg       0.52      0.53      0.52       144\n",
      "\n"
     ]
    }
   ],
   "source": [
    "print(f\"Logistic regression Best Model: \\n- param: {lr_model.best_params_}\\n- score: {lr_model.best_score_:.3f}\")\n",
    "\n",
    "train_pred = lr_model.predict(train_X)\n",
    "test_pred = lr_model.predict(test_X)\n",
    "\n",
    "print(f\"train_set\")\n",
    "\n",
    "cm_1 = pd.DataFrame(confusion_matrix(train_Y, train_pred, labels=[0, 1]), index=['AF', 'AT'], columns=['PF', 'PT'])\n",
    "print(f\"{display(cm_1)}\")\n",
    "print(f\"{classification_report(train_Y, train_pred)}\")\n",
    "\n",
    "print(f\"test_set\")\n",
    "cm_2 = pd.DataFrame(confusion_matrix(test_Y, test_pred, labels=[0, 1]), index=['AF', 'AT'], columns=['PF', 'PT'])\n",
    "print(f\"{display(cm_2)}\")\n",
    "print(f\"{classification_report(test_Y, test_pred)}\")"
   ]
  },
  {
   "cell_type": "markdown",
   "metadata": {},
   "source": [
    "Logistic Regression 결과이다. 평가지표는 f1 score를 사용한다.(recall도 확인) \n",
    "- train_set: 0.69\n",
    "- test_set: 0.68\n",
    "\n",
    "train, test set 전반적으로 성능은 낮지만, 균일한 성능을 보이고 있다."
   ]
  },
  {
   "cell_type": "markdown",
   "metadata": {},
   "source": [
    "#### 2-5. XGBoost 적용하고 결과를 분석하시오."
   ]
  },
  {
   "cell_type": "code",
   "execution_count": 119,
   "metadata": {},
   "outputs": [
    {
     "data": {
      "text/plain": [
       "GridSearchCV(cv=KFold(n_splits=5, random_state=0, shuffle=True),\n",
       "             estimator=Pipeline(steps=[('preprocess',\n",
       "                                        ColumnTransformer(remainder='passthrough',\n",
       "                                                          transformers=[('cat',\n",
       "                                                                         Pipeline(steps=[('onehotencoder',\n",
       "                                                                                          OneHotEncoder(handle_unknown='ignore'))]),\n",
       "                                                                         Index(['action1', 'hb'], dtype='object'))])),\n",
       "                                       ('classifier', XGBClassifier())]),\n",
       "             param_grid={'classifier__learning_rate': array([0.01, 0.02, 0.03, 0.04, 0.05, 0.06, 0.07, 0.08, 0.09, 0.1 , 0.11,\n",
       "       0.12, 0.13, 0.14, 0.15, 0.16, 0.17, 0.18, 0.19])},\n",
       "             scoring='f1')"
      ]
     },
     "execution_count": 119,
     "metadata": {},
     "output_type": "execute_result"
    }
   ],
   "source": [
    "from xgboost import XGBClassifier\n",
    "\n",
    "# 전처리+모델\n",
    "x_pipe = Pipeline(\n",
    "    [\n",
    "        ('preprocess', preprocess), \n",
    "        ('classifier', XGBClassifier(random_state=0))\n",
    "    ]\n",
    ")\n",
    "kf = KFold(n_splits=5, shuffle=True, random_state=0)\n",
    "Xgb_param = {'classifier__learning_rate': np.arange(0.01, 0.2, 0.01)}\n",
    "\n",
    "xgb_model = GridSearchCV(\n",
    "    estimator = x_pipe, \n",
    "    scoring = 'f1', \n",
    "    param_grid = Xgb_param,\n",
    "    cv = kf\n",
    ")\n",
    "\n",
    "xgb_model.fit(train_X, train_Y)"
   ]
  },
  {
   "cell_type": "code",
   "execution_count": 120,
   "metadata": {},
   "outputs": [
    {
     "name": "stdout",
     "output_type": "stream",
     "text": [
      "XGB Calssifier Best Model: \n",
      "- param: {'classifier__learning_rate': 0.18000000000000002}\n",
      "- score: 0.507\n",
      "train_set\n"
     ]
    },
    {
     "data": {
      "text/html": [
       "<div>\n",
       "<style scoped>\n",
       "    .dataframe tbody tr th:only-of-type {\n",
       "        vertical-align: middle;\n",
       "    }\n",
       "\n",
       "    .dataframe tbody tr th {\n",
       "        vertical-align: top;\n",
       "    }\n",
       "\n",
       "    .dataframe thead th {\n",
       "        text-align: right;\n",
       "    }\n",
       "</style>\n",
       "<table border=\"1\" class=\"dataframe\">\n",
       "  <thead>\n",
       "    <tr style=\"text-align: right;\">\n",
       "      <th></th>\n",
       "      <th>PF</th>\n",
       "      <th>PT</th>\n",
       "    </tr>\n",
       "  </thead>\n",
       "  <tbody>\n",
       "    <tr>\n",
       "      <th>AF</th>\n",
       "      <td>104</td>\n",
       "      <td>87</td>\n",
       "    </tr>\n",
       "    <tr>\n",
       "      <th>AT</th>\n",
       "      <td>76</td>\n",
       "      <td>115</td>\n",
       "    </tr>\n",
       "  </tbody>\n",
       "</table>\n",
       "</div>"
      ],
      "text/plain": [
       "     PF   PT\n",
       "AF  104   87\n",
       "AT   76  115"
      ]
     },
     "metadata": {},
     "output_type": "display_data"
    },
    {
     "name": "stdout",
     "output_type": "stream",
     "text": [
      "None\n",
      "              precision    recall  f1-score   support\n",
      "\n",
      "           0       0.58      0.54      0.56       191\n",
      "           1       0.57      0.60      0.59       191\n",
      "\n",
      "    accuracy                           0.57       382\n",
      "   macro avg       0.57      0.57      0.57       382\n",
      "weighted avg       0.57      0.57      0.57       382\n",
      "\n",
      "test_set\n"
     ]
    },
    {
     "data": {
      "text/html": [
       "<div>\n",
       "<style scoped>\n",
       "    .dataframe tbody tr th:only-of-type {\n",
       "        vertical-align: middle;\n",
       "    }\n",
       "\n",
       "    .dataframe tbody tr th {\n",
       "        vertical-align: top;\n",
       "    }\n",
       "\n",
       "    .dataframe thead th {\n",
       "        text-align: right;\n",
       "    }\n",
       "</style>\n",
       "<table border=\"1\" class=\"dataframe\">\n",
       "  <thead>\n",
       "    <tr style=\"text-align: right;\">\n",
       "      <th></th>\n",
       "      <th>PF</th>\n",
       "      <th>PT</th>\n",
       "    </tr>\n",
       "  </thead>\n",
       "  <tbody>\n",
       "    <tr>\n",
       "      <th>AF</th>\n",
       "      <td>27</td>\n",
       "      <td>38</td>\n",
       "    </tr>\n",
       "    <tr>\n",
       "      <th>AT</th>\n",
       "      <td>39</td>\n",
       "      <td>40</td>\n",
       "    </tr>\n",
       "  </tbody>\n",
       "</table>\n",
       "</div>"
      ],
      "text/plain": [
       "    PF  PT\n",
       "AF  27  38\n",
       "AT  39  40"
      ]
     },
     "metadata": {},
     "output_type": "display_data"
    },
    {
     "name": "stdout",
     "output_type": "stream",
     "text": [
      "None\n",
      "              precision    recall  f1-score   support\n",
      "\n",
      "           0       0.41      0.42      0.41        65\n",
      "           1       0.51      0.51      0.51        79\n",
      "\n",
      "    accuracy                           0.47       144\n",
      "   macro avg       0.46      0.46      0.46       144\n",
      "weighted avg       0.47      0.47      0.47       144\n",
      "\n"
     ]
    }
   ],
   "source": [
    "print(f\"XGB Calssifier Best Model: \\n- param: {xgb_model.best_params_}\\n- score: {xgb_model.best_score_:.3f}\")\n",
    "\n",
    "train_pred = xgb_model.predict(train_X)\n",
    "test_pred = xgb_model.predict(test_X)\n",
    "\n",
    "print(f\"train_set\")\n",
    "\n",
    "cm_1 = pd.DataFrame(confusion_matrix(train_Y, train_pred, labels=[0, 1]), index=['AF', 'AT'], columns=['PF', 'PT'])\n",
    "print(f\"{display(cm_1)}\")\n",
    "print(f\"{classification_report(train_Y, train_pred)}\")\n",
    "\n",
    "print(f\"test_set\")\n",
    "cm_2 = pd.DataFrame(confusion_matrix(test_Y, test_pred, labels=[0, 1]), index=['AF', 'AT'], columns=['PF', 'PT'])\n",
    "print(f\"{display(cm_2)}\")\n",
    "print(f\"{classification_report(test_Y, test_pred)}\")"
   ]
  },
  {
   "cell_type": "markdown",
   "metadata": {},
   "source": [
    "XGB Classifier 결과이다. 평가지표는 f1 score를 사용한다.(recall도 확인) \n",
    "- train_set: 0.66\n",
    "- test_set: 0.57\n",
    "\n",
    "train set에 비해 test_set의 성능이 낮다.\n",
    "\n",
    "두 모델을 비교했을 시 로지스틱 회귀분석의 결과가 더 높으며 train/test set 모두 균일한 성능을 보이므로 해당 모델을 채택한다."
   ]
  },
  {
   "attachments": {
    "image.png": {
     "image/png": "[encoded data removed]"
    }
   },
   "cell_type": "markdown",
   "metadata": {},
   "source": [
    "#### 3. 제품 A의 불량률은 0.03이다. 25개의 제품을 뽑았을 때 3개가 불량일 확률을 구하시오(소수점 다섯째 자리에서 반올림)\n",
    "- 이항분포 문제이다.\n",
    "![image.png](attachment:image.png)"
   ]
  },
  {
   "cell_type": "code",
   "execution_count": 62,
   "metadata": {},
   "outputs": [
    {
     "name": "stdout",
     "output_type": "stream",
     "text": [
      "3개가 불량일 확률: 0.0318\n"
     ]
    }
   ],
   "source": [
    "from scipy.stats import binom\n",
    "\n",
    "n = 25 \n",
    "k = 3\n",
    "p = 0.03 \n",
    "\n",
    "prob = binom.pmf(k, n, p)\n",
    "\n",
    "print(f\"3개가 불량일 확률: {prob:.4f}\")"
   ]
  },
  {
   "cell_type": "markdown",
   "metadata": {},
   "source": [
    "### 4. C사 생산 제품 1000개 중 양품이 600개, D사 생산 제품 500개 중 양품이 200개 이다. 두 회사의 양품률에 차이가 있는지 검정하시오."
   ]
  },
  {
   "attachments": {
    "image.png": {
     "image/png": "[encoded data removed]"
    }
   },
   "cell_type": "markdown",
   "metadata": {},
   "source": [
    "이 문제는 두 집단의 비율 차이에 대한 가설검정 문제(C사와 D사의 양품률 차이가 통계적으로 유의미한가?)\n",
    "\n",
    "**1. 가설수립**\n",
    "- H0: 두 회사의 양품률에 차이가 없다.(p_c == p_d)\n",
    "- H1: 두 회사의 양품률에 차이가 있다.(p_c != p_d)\n",
    "\n",
    "**2. Z검정(두 집단이 동일분산을 가질 경우) 검정통계량 확인**\n",
    "![image.png](attachment:image.png)\n",
    "\n",
    "**3. 유의수준 5% 하 양측검정 실시**  \n",
    "C사를 기준으로 할 때, D사의 양품률이 크거나 작을 수 있기 때문에 양측검정 실시"
   ]
  },
  {
   "cell_type": "code",
   "execution_count": 63,
   "metadata": {},
   "outputs": [
    {
     "name": "stdout",
     "output_type": "stream",
     "text": [
      "z 검정통계량: 7.319\n",
      "p_value 0.000로 유의수준 5% 하에서 귀무가설을 기각할 수 있다.(양품률 차이있음)\n"
     ]
    }
   ],
   "source": [
    "from scipy.stats import norm\n",
    "\n",
    "p1 = 600/1000\n",
    "p2 = 200/500\n",
    "p = (600+200)/(1000+500)\n",
    "\n",
    "z_score = (p1-p2) / np.sqrt(p*(1-p)*((1/1000)+(1/500)))\n",
    "\n",
    "p_value = 2*(1-norm.cdf(abs(z_score)))\n",
    "\n",
    "print(f\"z 검정통계량: {z_score:.3f}\")\n",
    "print(f\"p_value {p_value:.3f}로 유의수준 5% 하에서 귀무가설을 기각할 수\", \"있다.(양품률 차이있음)\" if p_value < 0.05 else \"없다.(양품률 차이없음)\")"
   ]
  },
  {
   "cell_type": "code",
   "execution_count": 64,
   "metadata": {},
   "outputs": [
    {
     "name": "stdout",
     "output_type": "stream",
     "text": [
      "Z = 7.3193, p-value = 0.0000\n"
     ]
    }
   ],
   "source": [
    "from statsmodels.stats.proportion import proportions_ztest\n",
    "\n",
    "count = [600, 200]  # 성공 (양품) 개수\n",
    "nobs = [1000, 500]  # 총 개수\n",
    "\n",
    "z, p = proportions_ztest(count, nobs)\n",
    "print(f\"Z = {z:.4f}, p-value = {p:.4f}\")"
   ]
  },
  {
   "cell_type": "markdown",
   "metadata": {},
   "source": [
    "## 문제 5\n",
    "\n",
    "Data description\n",
    "\n",
    "name : 차종(A, B, C, D)\n",
    "\n",
    "ratio : 5회 실험 시 범퍼 파손 정도"
   ]
  },
  {
   "cell_type": "code",
   "execution_count": 65,
   "metadata": {},
   "outputs": [
    {
     "name": "stdout",
     "output_type": "stream",
     "text": [
      "<class 'pandas.core.frame.DataFrame'>\n",
      "RangeIndex: 20 entries, 0 to 19\n",
      "Data columns (total 2 columns):\n",
      " #   Column  Non-Null Count  Dtype  \n",
      "---  ------  --------------  -----  \n",
      " 0   name    20 non-null     object \n",
      " 1   ratio   20 non-null     float64\n",
      "dtypes: float64(1), object(1)\n",
      "memory usage: 448.0+ bytes\n",
      "None\n"
     ]
    },
    {
     "data": {
      "text/html": [
       "<div>\n",
       "<style scoped>\n",
       "    .dataframe tbody tr th:only-of-type {\n",
       "        vertical-align: middle;\n",
       "    }\n",
       "\n",
       "    .dataframe tbody tr th {\n",
       "        vertical-align: top;\n",
       "    }\n",
       "\n",
       "    .dataframe thead th {\n",
       "        text-align: right;\n",
       "    }\n",
       "</style>\n",
       "<table border=\"1\" class=\"dataframe\">\n",
       "  <thead>\n",
       "    <tr style=\"text-align: right;\">\n",
       "      <th></th>\n",
       "      <th>name</th>\n",
       "      <th>ratio</th>\n",
       "    </tr>\n",
       "  </thead>\n",
       "  <tbody>\n",
       "    <tr>\n",
       "      <th>0</th>\n",
       "      <td>A</td>\n",
       "      <td>10.993428</td>\n",
       "    </tr>\n",
       "    <tr>\n",
       "      <th>1</th>\n",
       "      <td>A</td>\n",
       "      <td>9.723471</td>\n",
       "    </tr>\n",
       "    <tr>\n",
       "      <th>2</th>\n",
       "      <td>A</td>\n",
       "      <td>11.295377</td>\n",
       "    </tr>\n",
       "    <tr>\n",
       "      <th>3</th>\n",
       "      <td>A</td>\n",
       "      <td>13.046060</td>\n",
       "    </tr>\n",
       "    <tr>\n",
       "      <th>4</th>\n",
       "      <td>A</td>\n",
       "      <td>9.531693</td>\n",
       "    </tr>\n",
       "    <tr>\n",
       "      <th>5</th>\n",
       "      <td>B</td>\n",
       "      <td>14.297589</td>\n",
       "    </tr>\n",
       "  </tbody>\n",
       "</table>\n",
       "</div>"
      ],
      "text/plain": [
       "  name      ratio\n",
       "0    A  10.993428\n",
       "1    A   9.723471\n",
       "2    A  11.295377\n",
       "3    A  13.046060\n",
       "4    A   9.531693\n",
       "5    B  14.297589"
      ]
     },
     "execution_count": 65,
     "metadata": {},
     "output_type": "execute_result"
    }
   ],
   "source": [
    "df5 = pd.read_csv('https://raw.githubusercontent.com/qiwerr1004/ADP_go/main/29/problem5.csv')\n",
    "print(df5.info())\n",
    "df5.head(6)"
   ]
  },
  {
   "cell_type": "code",
   "execution_count": 66,
   "metadata": {},
   "outputs": [
    {
     "data": {
      "text/plain": [
       "name     0\n",
       "ratio    0\n",
       "dtype: int64"
      ]
     },
     "execution_count": 66,
     "metadata": {},
     "output_type": "execute_result"
    }
   ],
   "source": [
    "df5.isna().sum()"
   ]
  },
  {
   "cell_type": "markdown",
   "metadata": {},
   "source": [
    "#### 5-1. 각 차종 별 범퍼 파손의 정도에 차이가 유의한지 검정하시오(모분산 동일, 정규성 가정 하에)."
   ]
  },
  {
   "cell_type": "markdown",
   "metadata": {},
   "source": [
    "해당문제는 한 개의 **범주형 독립변수(차량)** 에 대해 차이를 검정하는 one-way ANOVA 검정문제이다.\n",
    "\n",
    "- H0: 차종 간 범퍼 파손률 간에는 차이가 없다.\n",
    "- H1: 차종 간 범퍼 파손률 간에는 차이가 있다.\n",
    "\n",
    "유의수준 5% 하에서 one-way ANOVA 검정을 실시한다.\n",
    "\n",
    "| 종류                                          | 설명                           | 독립변수 수 | 종속변수          | 예시                       | 사용 조건             | **필요한 가정**                                           |\n",
    "| ------------------------------------------- | ---------------------------- | ------ | ------------- | ------------------------ | ----------------- | ---------------------------------------------------- |\n",
    "| **One-way ANOVA**<br>(일원분산분석)               | 1개의 범주형 독립변수에 따라 평균 차이 비교    | 1      | 연속형           | A/B/C/D 차량의 평균 연비 차이     | **독립 집단**         | - 정규성<br>- 등분산성<br>- 독립성                             |\n",
    "| **Two-way ANOVA**<br>(이원분산분석)               | 2개의 범주형 독립변수에 따른 평균 차이 비교    | 2      | 연속형           | 성별/운전자 유형에 따른 연비 차이      | **독립 집단**         | - 정규성<br>- 등분산성<br>- 독립성                             |\n",
    "| **Two-way ANOVA with interaction**          | 두 범주형 독립변수의 주효과 + 교호작용 효과 분석 | 2      | 연속형           | 성별 × 운전습관이 연비에 미치는 영향    | 상호작용 고려           | - 정규성<br>- 등분산성<br>- 독립성<br>- 충분한 샘플                 |\n",
    "| **Repeated Measures ANOVA**<br>(반복측정 ANOVA) | 동일 집단에서 여러 조건 하 평균 비교        | 1 이상   | 연속형           | 동일한 차량에서 5회 파손 실험 결과     | **종속 집단** (측정 반복) | - 정규성<br>- **구형성** (sphericity)<br>- 측정치 간 상관 고려     |\n",
    "| **Mixed ANOVA**<br>(혼합설계 분산분석)              | 반복측정 + 독립집단 요인이 함께 있는 설계     | 복합     | 연속형           | 차량 타입은 독립집단, 각 차량은 반복 측정 | 반복 + 독립 혼합        | - 정규성<br>- 등분산성<br>- **구형성** (반복 요인)<br>- 요인 간 독립성   |\n",
    "| **MANOVA**<br>(다변량분산분석)                     | 여러 종속변수의 집단 간 평균 차이 검정       | 1 이상   | **2개 이상** 연속형 | 브랜드별 연비 + 승차감 차이 검정      | 종속변수가 2개 이상일 때    | - 정규성<br>- 공분산행렬 동질성<br>- 독립성                        |\n",
    "| **ANCOVA**<br>(공분산분석)                       | 집단 평균 비교 + 연속형 **공변량 보정**    | 1 이상   | 연속형           | 차량 연비 비교 시 차량 무게 보정      | **공변량 존재**        | - 정규성<br>- 등분산성<br>- 공변량과 독립변수 독립<br>- 공변량과 종속변수 선형성 |\n",
    "\n",
    "\n",
    "| 실험 상황                           | 적절한 ANOVA                            |\n",
    "| ------------------------------- | ------------------------------------ |\n",
    "| 서로 다른 3개 브랜드의 연비 비교             | **One-way ANOVA**                    |\n",
    "| 성별과 브랜드가 연비에 미치는 영향             | **Two-way ANOVA**                    |\n",
    "| 동일 차량에서 5회 제동거리 측정              | **Repeated Measures ANOVA**          |\n",
    "| 여러 차량, 각 차량 5회 측정 → A/B/C 차량 비교 | **One-way ANOVA** (반복이긴 하지만 차량 간 독립) |\n",
    "| 브랜드별 연비 + 제동거리 모두 차이 확인         | **MANOVA**                           |\n",
    "| 연비 비교 시 차량 무게 보정하고 싶음           | **ANCOVA**                           |\n"
   ]
  },
  {
   "cell_type": "code",
   "execution_count": 67,
   "metadata": {},
   "outputs": [
    {
     "name": "stdout",
     "output_type": "stream",
     "text": [
      "              sum_sq    df          F    PR(>F)\n",
      "name      236.534027   3.0  24.976953  0.000003\n",
      "Residual   50.507154  16.0        NaN       NaN\n"
     ]
    }
   ],
   "source": [
    "import statsmodels.api as sm\n",
    "from statsmodels.formula.api import ols\n",
    "# one-way ANOVA\n",
    "model = ols('ratio ~ name', data=df5).fit()\n",
    "\n",
    "aov_rs = sm.stats.anova_lm(model, typ=2)\n",
    "\n",
    "print(aov_rs)"
   ]
  },
  {
   "cell_type": "markdown",
   "metadata": {},
   "source": [
    "유의수준 5% 하에서 p-value가 0.000003으로 0.05보다 작으므로 귀무가설을 기각한다.  \n",
    "따라서 차종 간 범퍼 파손률 간에는 차이가 있다."
   ]
  },
  {
   "cell_type": "markdown",
   "metadata": {},
   "source": [
    "참고  \n",
    "\n",
    "| 상황                   | 권장하는 `typ` |\n",
    "| -------------------- | ---------- |\n",
    "| 균형 잡힌 데이터, 주효과만 분석   | `typ=2`    |\n",
    "| 불균형 데이터, 상호작용 존재 가능성 | `typ=3`    |\n",
    "| 순차적으로 변수 투입하여 평가할 때  | `typ=1`    |\n"
   ]
  },
  {
   "cell_type": "markdown",
   "metadata": {},
   "source": [
    "#### 5-2. 귀무가설을 채택한다면 그 의미를 해석하고, 귀무가설을 기각한다면 사후분석을 수행하시오."
   ]
  },
  {
   "cell_type": "markdown",
   "metadata": {},
   "source": [
    "귀무가설을 기각하므로 사후분석을 실시한다. Tukey's HSD (사후 분석)를 실시한다.\n",
    "\n",
    "Tukey's HSD (Tukey’s Honest Significant Difference test)는 ANOVA 분석 후, 그룹 간 어떤 쌍이 유의하게 다른지를 확인하기 위해 사용하는 **사후 분석(post-hoc test)**\n",
    "\n",
    "| 항목         | 내용                            |\n",
    "| ---------- | ----------------------------- |\n",
    "| 용도         | 그룹 간 **모든 쌍의 평균 차이** 비교       |\n",
    "| 전제조건       | 정규성, 등분산성, 독립성 충족 필요          |\n",
    "| 비교 방식      | 모든 그룹 간 쌍(pair)을 비교           |\n",
    "| 다중비교 보정 포함 | O (family-wise error rate 제어) |\n",
    "| 출력         | 그룹쌍, 평균차, 신뢰구간, 유의성           |\n"
   ]
  },
  {
   "cell_type": "code",
   "execution_count": 68,
   "metadata": {},
   "outputs": [
    {
     "name": "stdout",
     "output_type": "stream",
     "text": [
      " Multiple Comparison of Means - Tukey HSD, FWER=0.05 \n",
      "=====================================================\n",
      "group1 group2 meandiff p-adj   lower    upper  reject\n",
      "-----------------------------------------------------\n",
      "     A      B   5.3934  0.001   2.1785  8.6083   True\n",
      "     A      C  -4.2156 0.0085  -7.4305 -1.0007   True\n",
      "     A      D  -0.7086 0.9207  -3.9235  2.5063  False\n",
      "     B      C   -9.609    0.0 -12.8239 -6.3941   True\n",
      "     B      D   -6.102 0.0003  -9.3169 -2.8871   True\n",
      "     C      D    3.507 0.0302   0.2921  6.7219   True\n",
      "-----------------------------------------------------\n"
     ]
    }
   ],
   "source": [
    "from statsmodels.stats.multicomp import pairwise_tukeyhsd\n",
    "\n",
    "tsd = pairwise_tukeyhsd(endog=df5['ratio'], groups=df5['name'], alpha=0.05)\n",
    "\n",
    "print(tsd)"
   ]
  },
  {
   "cell_type": "markdown",
   "metadata": {},
   "source": [
    "- 유의수준 5% 하에서 통계적으로 유의미한 차이가 있는 그룹 (p-value)\n",
    "  - (A, B): 0.001\n",
    "  - (A, C): 0.0085\n",
    "  - (B, C): 0\n",
    "  - (B, D): 0.0003\n",
    "  - (C, D): 0.0302\n",
    "  \n",
    "  \n",
    "\n",
    "- 유의수준 5%하에서 통계적으로 유의미한 차이가 없는 그룹\n",
    "  - (A, D): 0.9207\n",
    "  \n",
    "**유의수준 5%하에서 A그룹과 D그룹 사이를 제외하고, 각 그룹 간 범퍼파손률 간에는 통계적으로 유의미한 차이가 있다.**"
   ]
  },
  {
   "cell_type": "markdown",
   "metadata": {},
   "source": [
    "## 문제 6\n",
    "\n",
    "별도의 데이터 없음\n",
    "\n",
    "L1,L2,L3 세 개의 생산라인에서 각각 13%, 37%, 50%를 생산하며, 각각 1.1% , 2.1%, 3.3% 불량률을 갖는다. 불량 제품이 나왔을 때 L1 라인에서 생산되었을 확률을 구하시오(소수점 둘째자리에서 반올림)\n",
    "- 베이즈 정리 문제"
   ]
  },
  {
   "cell_type": "code",
   "execution_count": 69,
   "metadata": {},
   "outputs": [
    {
     "name": "stdout",
     "output_type": "stream",
     "text": [
      "불량제품이 나왔을 때 L1 라인에서 생산되었을 확률은 0.1 이다.\n"
     ]
    }
   ],
   "source": [
    "s1 = 0.13\n",
    "s2 = 0.37\n",
    "s3 = 0.5\n",
    "\n",
    "p1 = 0.011 # p(불량|L1)\n",
    "p2 = 0.021\n",
    "p3 = 0.033\n",
    "\n",
    "# 전체불량률\n",
    "er = (s1*p1) + (s2*p2) + (s3*p3)\n",
    "\n",
    "#베이즈 정리에 의한 불량 나왔을 때 L1 확률\n",
    "\n",
    "e1 = s1*p1 / er\n",
    "\n",
    "print(f\"불량제품이 나왔을 때 L1 라인에서 생산되었을 확률은 {e1:.1f} 이다.\")"
   ]
  },
  {
   "cell_type": "markdown",
   "metadata": {},
   "source": [
    "베이즈 정리에 대한 문제이다.  \n",
    "P(L1라인 생산|불량률) = [ P(L1라인 생산) x P(불량률|L1라인 생산) ] / P(불량률) = 0.1(소숫점 둘째자리에서 반올림)\n",
    "\n",
    "- 불량률: 각 생산라일 생산률 x 불량률의 합\n",
    "- P(불량률|L1라인 생산) : 0.011(1.1%)"
   ]
  }
 ],
 "metadata": {
  "kernelspec": {
   "display_name": "Python 3",
   "language": "python",
   "name": "python3"
  },
  "language_info": {
   "codemirror_mode": {
    "name": "ipython",
    "version": 3
   },
   "file_extension": ".py",
   "mimetype": "text/x-python",
   "name": "python",
   "nbconvert_exporter": "python",
   "pygments_lexer": "ipython3",
   "version": "3.7.9"
  }
 },
 "nbformat": 4,
 "nbformat_minor": 2
}
