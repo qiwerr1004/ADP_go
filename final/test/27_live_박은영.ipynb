{
 "cells": [
  {
   "cell_type": "markdown",
   "metadata": {},
   "source": [
    "## 1. 데이터 탐색\n",
    "- amount : 거래금액\n",
    "\n",
    "- time : 거래된 기간\n",
    "\n",
    "- V1 ~ V17 : 비식별된 칼럼"
   ]
  },
  {
   "cell_type": "code",
   "execution_count": null,
   "metadata": {},
   "outputs": [],
   "source": [
    "# 필수 라이브러리 및 데이터셋 로드\n",
    "import pandas as pd\n",
    "import numpy as np\n",
    "import matplotlib.pyplot as plt\n",
    "import seaborn as sns\n",
    "import warnings \n",
    "import koreanize_matplotlib\n",
    "\n",
    "pd.set_option('display.max_columns', None)\n",
    "warnings.filterwarnings('ignore')"
   ]
  },
  {
   "cell_type": "markdown",
   "metadata": {},
   "source": [
    "### 1-1. 데이터의 특징을 파악하시오. EDA"
   ]
  },
  {
   "cell_type": "code",
   "execution_count": null,
   "metadata": {},
   "outputs": [],
   "source": [
    "# df = pd.read_csv('problem1.csv', encoding='cp949')\n",
    "df = pd.read_csv('https://raw.githubusercontent.com/ADPclass/ADP_book_ver01/main/data/27_problem1.csv', encoding='cp949')\n",
    "print(df.info())\n",
    "\n",
    "df.rename(columns={'Class': 'class', 'Time':'time', 'Amount':'amount'}, inplace=True)\n",
    "display(df.head())"
   ]
  },
  {
   "cell_type": "code",
   "execution_count": null,
   "metadata": {},
   "outputs": [],
   "source": [
    "df.isna().sum()"
   ]
  },
  {
   "cell_type": "markdown",
   "metadata": {},
   "source": [
    "- 데이터셋은 총 1,234개의 row로 이루어져 있으며, feature는 모두 수치형, 20개이다. \n",
    "- 이 중 label인 class는 0과 1로 이루어진 명목변수이다.\n",
    "- time은 거래된 기간이며, 연속형 수치형 변수이다."
   ]
  },
  {
   "cell_type": "code",
   "execution_count": 4,
   "metadata": {},
   "outputs": [
    {
     "data": {
      "text/html": [
       "<div>\n",
       "<style scoped>\n",
       "    .dataframe tbody tr th:only-of-type {\n",
       "        vertical-align: middle;\n",
       "    }\n",
       "\n",
       "    .dataframe tbody tr th {\n",
       "        vertical-align: top;\n",
       "    }\n",
       "\n",
       "    .dataframe thead th {\n",
       "        text-align: right;\n",
       "    }\n",
       "</style>\n",
       "<table border=\"1\" class=\"dataframe\">\n",
       "  <thead>\n",
       "    <tr style=\"text-align: right;\">\n",
       "      <th></th>\n",
       "      <th>time</th>\n",
       "      <th>V1</th>\n",
       "      <th>V2</th>\n",
       "      <th>V3</th>\n",
       "      <th>V4</th>\n",
       "      <th>V5</th>\n",
       "      <th>V6</th>\n",
       "      <th>V7</th>\n",
       "      <th>V8</th>\n",
       "      <th>V9</th>\n",
       "      <th>V10</th>\n",
       "      <th>V11</th>\n",
       "      <th>V12</th>\n",
       "      <th>V13</th>\n",
       "      <th>V14</th>\n",
       "      <th>V15</th>\n",
       "      <th>V16</th>\n",
       "      <th>V17</th>\n",
       "      <th>amount</th>\n",
       "    </tr>\n",
       "  </thead>\n",
       "  <tbody>\n",
       "    <tr>\n",
       "      <th>count</th>\n",
       "      <td>1193.000000</td>\n",
       "      <td>1193.000000</td>\n",
       "      <td>1193.000000</td>\n",
       "      <td>1193.000000</td>\n",
       "      <td>1193.000000</td>\n",
       "      <td>1193.000000</td>\n",
       "      <td>1193.000000</td>\n",
       "      <td>1193.000000</td>\n",
       "      <td>1193.000000</td>\n",
       "      <td>1193.000000</td>\n",
       "      <td>1193.000000</td>\n",
       "      <td>1193.000000</td>\n",
       "      <td>1193.000000</td>\n",
       "      <td>1193.000000</td>\n",
       "      <td>1193.000000</td>\n",
       "      <td>1193.000000</td>\n",
       "      <td>1193.000000</td>\n",
       "      <td>1193.000000</td>\n",
       "      <td>1193.00000</td>\n",
       "    </tr>\n",
       "    <tr>\n",
       "      <th>mean</th>\n",
       "      <td>91514.485331</td>\n",
       "      <td>-0.755027</td>\n",
       "      <td>0.543730</td>\n",
       "      <td>-1.148224</td>\n",
       "      <td>0.777816</td>\n",
       "      <td>-0.409181</td>\n",
       "      <td>-0.283953</td>\n",
       "      <td>-0.852545</td>\n",
       "      <td>0.145026</td>\n",
       "      <td>-0.446390</td>\n",
       "      <td>-0.904275</td>\n",
       "      <td>0.656342</td>\n",
       "      <td>-1.014185</td>\n",
       "      <td>0.011973</td>\n",
       "      <td>-1.168346</td>\n",
       "      <td>0.019232</td>\n",
       "      <td>-0.629529</td>\n",
       "      <td>-1.070657</td>\n",
       "      <td>88.88570</td>\n",
       "    </tr>\n",
       "    <tr>\n",
       "      <th>std</th>\n",
       "      <td>47896.081947</td>\n",
       "      <td>3.622262</td>\n",
       "      <td>2.663928</td>\n",
       "      <td>3.908787</td>\n",
       "      <td>2.345566</td>\n",
       "      <td>2.702077</td>\n",
       "      <td>1.507579</td>\n",
       "      <td>3.396565</td>\n",
       "      <td>2.471559</td>\n",
       "      <td>1.664075</td>\n",
       "      <td>2.902608</td>\n",
       "      <td>1.957200</td>\n",
       "      <td>2.996734</td>\n",
       "      <td>1.013383</td>\n",
       "      <td>3.230613</td>\n",
       "      <td>0.908008</td>\n",
       "      <td>2.269400</td>\n",
       "      <td>3.812768</td>\n",
       "      <td>220.14133</td>\n",
       "    </tr>\n",
       "    <tr>\n",
       "      <th>min</th>\n",
       "      <td>60.000000</td>\n",
       "      <td>-30.552380</td>\n",
       "      <td>-33.644637</td>\n",
       "      <td>-31.103685</td>\n",
       "      <td>-4.294888</td>\n",
       "      <td>-22.105532</td>\n",
       "      <td>-10.886820</td>\n",
       "      <td>-37.060311</td>\n",
       "      <td>-37.353443</td>\n",
       "      <td>-11.126624</td>\n",
       "      <td>-23.228255</td>\n",
       "      <td>-2.651584</td>\n",
       "      <td>-17.228662</td>\n",
       "      <td>-2.800154</td>\n",
       "      <td>-18.493773</td>\n",
       "      <td>-4.498945</td>\n",
       "      <td>-14.129855</td>\n",
       "      <td>-25.162799</td>\n",
       "      <td>0.00000</td>\n",
       "    </tr>\n",
       "    <tr>\n",
       "      <th>25%</th>\n",
       "      <td>50265.000000</td>\n",
       "      <td>-1.302600</td>\n",
       "      <td>-0.435358</td>\n",
       "      <td>-1.609339</td>\n",
       "      <td>-0.610310</td>\n",
       "      <td>-0.842184</td>\n",
       "      <td>-1.017863</td>\n",
       "      <td>-0.806043</td>\n",
       "      <td>-0.219328</td>\n",
       "      <td>-1.039740</td>\n",
       "      <td>-0.883807</td>\n",
       "      <td>-0.601391</td>\n",
       "      <td>-0.967306</td>\n",
       "      <td>-0.692559</td>\n",
       "      <td>-0.950226</td>\n",
       "      <td>-0.549590</td>\n",
       "      <td>-0.701499</td>\n",
       "      <td>-0.682272</td>\n",
       "      <td>3.54000</td>\n",
       "    </tr>\n",
       "    <tr>\n",
       "      <th>50%</th>\n",
       "      <td>81797.000000</td>\n",
       "      <td>-0.302521</td>\n",
       "      <td>0.231973</td>\n",
       "      <td>-0.234204</td>\n",
       "      <td>0.327567</td>\n",
       "      <td>-0.073622</td>\n",
       "      <td>-0.379633</td>\n",
       "      <td>-0.084983</td>\n",
       "      <td>0.073036</td>\n",
       "      <td>-0.210455</td>\n",
       "      <td>-0.226471</td>\n",
       "      <td>0.283080</td>\n",
       "      <td>-0.014046</td>\n",
       "      <td>0.023014</td>\n",
       "      <td>-0.099055</td>\n",
       "      <td>0.046894</td>\n",
       "      <td>-0.055831</td>\n",
       "      <td>-0.152578</td>\n",
       "      <td>20.99000</td>\n",
       "    </tr>\n",
       "    <tr>\n",
       "      <th>75%</th>\n",
       "      <td>136995.000000</td>\n",
       "      <td>1.249960</td>\n",
       "      <td>1.112040</td>\n",
       "      <td>0.811507</td>\n",
       "      <td>1.335332</td>\n",
       "      <td>0.684224</td>\n",
       "      <td>0.302350</td>\n",
       "      <td>0.464553</td>\n",
       "      <td>0.454794</td>\n",
       "      <td>0.452561</td>\n",
       "      <td>0.287274</td>\n",
       "      <td>1.212163</td>\n",
       "      <td>0.512121</td>\n",
       "      <td>0.699744</td>\n",
       "      <td>0.419194</td>\n",
       "      <td>0.660619</td>\n",
       "      <td>0.458139</td>\n",
       "      <td>0.368286</td>\n",
       "      <td>77.49000</td>\n",
       "    </tr>\n",
       "    <tr>\n",
       "      <th>max</th>\n",
       "      <td>172676.000000</td>\n",
       "      <td>2.320621</td>\n",
       "      <td>19.167239</td>\n",
       "      <td>3.324665</td>\n",
       "      <td>12.114672</td>\n",
       "      <td>15.275762</td>\n",
       "      <td>6.268481</td>\n",
       "      <td>8.123589</td>\n",
       "      <td>20.007208</td>\n",
       "      <td>5.916809</td>\n",
       "      <td>7.135948</td>\n",
       "      <td>11.669205</td>\n",
       "      <td>3.106650</td>\n",
       "      <td>3.068228</td>\n",
       "      <td>3.886382</td>\n",
       "      <td>2.869424</td>\n",
       "      <td>3.139656</td>\n",
       "      <td>6.739384</td>\n",
       "      <td>3335.73000</td>\n",
       "    </tr>\n",
       "  </tbody>\n",
       "</table>\n",
       "</div>"
      ],
      "text/plain": [
       "                time           V1           V2           V3           V4  \\\n",
       "count    1193.000000  1193.000000  1193.000000  1193.000000  1193.000000   \n",
       "mean    91514.485331    -0.755027     0.543730    -1.148224     0.777816   \n",
       "std     47896.081947     3.622262     2.663928     3.908787     2.345566   \n",
       "min        60.000000   -30.552380   -33.644637   -31.103685    -4.294888   \n",
       "25%     50265.000000    -1.302600    -0.435358    -1.609339    -0.610310   \n",
       "50%     81797.000000    -0.302521     0.231973    -0.234204     0.327567   \n",
       "75%    136995.000000     1.249960     1.112040     0.811507     1.335332   \n",
       "max    172676.000000     2.320621    19.167239     3.324665    12.114672   \n",
       "\n",
       "                V5           V6           V7           V8           V9  \\\n",
       "count  1193.000000  1193.000000  1193.000000  1193.000000  1193.000000   \n",
       "mean     -0.409181    -0.283953    -0.852545     0.145026    -0.446390   \n",
       "std       2.702077     1.507579     3.396565     2.471559     1.664075   \n",
       "min     -22.105532   -10.886820   -37.060311   -37.353443   -11.126624   \n",
       "25%      -0.842184    -1.017863    -0.806043    -0.219328    -1.039740   \n",
       "50%      -0.073622    -0.379633    -0.084983     0.073036    -0.210455   \n",
       "75%       0.684224     0.302350     0.464553     0.454794     0.452561   \n",
       "max      15.275762     6.268481     8.123589    20.007208     5.916809   \n",
       "\n",
       "               V10          V11          V12          V13          V14  \\\n",
       "count  1193.000000  1193.000000  1193.000000  1193.000000  1193.000000   \n",
       "mean     -0.904275     0.656342    -1.014185     0.011973    -1.168346   \n",
       "std       2.902608     1.957200     2.996734     1.013383     3.230613   \n",
       "min     -23.228255    -2.651584   -17.228662    -2.800154   -18.493773   \n",
       "25%      -0.883807    -0.601391    -0.967306    -0.692559    -0.950226   \n",
       "50%      -0.226471     0.283080    -0.014046     0.023014    -0.099055   \n",
       "75%       0.287274     1.212163     0.512121     0.699744     0.419194   \n",
       "max       7.135948    11.669205     3.106650     3.068228     3.886382   \n",
       "\n",
       "               V15          V16          V17      amount  \n",
       "count  1193.000000  1193.000000  1193.000000  1193.00000  \n",
       "mean      0.019232    -0.629529    -1.070657    88.88570  \n",
       "std       0.908008     2.269400     3.812768   220.14133  \n",
       "min      -4.498945   -14.129855   -25.162799     0.00000  \n",
       "25%      -0.549590    -0.701499    -0.682272     3.54000  \n",
       "50%       0.046894    -0.055831    -0.152578    20.99000  \n",
       "75%       0.660619     0.458139     0.368286    77.49000  \n",
       "max       2.869424     3.139656     6.739384  3335.73000  "
      ]
     },
     "metadata": {},
     "output_type": "display_data"
    },
    {
     "name": "stdout",
     "output_type": "stream",
     "text": [
      "<각 레이블 갯수>\n"
     ]
    },
    {
     "data": {
      "text/plain": [
       "0    993\n",
       "1    200\n",
       "Name: class, dtype: int64"
      ]
     },
     "execution_count": 4,
     "metadata": {},
     "output_type": "execute_result"
    }
   ],
   "source": [
    "# 통계량 확인: v1 ~ amount\n",
    "display(df[df.columns[:-1]].describe())\n",
    "# label(종속변수) 비율 확인\n",
    "print(\"<각 레이블 갯수>\")\n",
    "df['class'].value_counts()"
   ]
  },
  {
   "cell_type": "code",
   "execution_count": 5,
   "metadata": {},
   "outputs": [
    {
     "data": {
      "image/png": "[encoded data removed]",
      "text/plain": [
       "<Figure size 432x288 with 1 Axes>"
      ]
     },
     "metadata": {
      "needs_background": "light"
     },
     "output_type": "display_data"
    }
   ],
   "source": [
    "# 먼저 레이블 비율을 barplot 으로 표시\n",
    "sns.countplot(df['class'])\n",
    "plt.title(\"각 레이블별 데이터수\")\n",
    "plt.show()"
   ]
  },
  {
   "cell_type": "markdown",
   "metadata": {},
   "source": [
    "- class의 불균형이 매우 심하며, 이상거래 탐지인만큼 이상 데이터(1)가 정상 거래에 비해 확연히 적은 것을 볼 수 있다."
   ]
  },
  {
   "cell_type": "code",
   "execution_count": 6,
   "metadata": {},
   "outputs": [
    {
     "data": {
      "image/png": "[encoded data removed]",
      "text/plain": [
       "<Figure size 1080x1080 with 19 Axes>"
      ]
     },
     "metadata": {
      "needs_background": "light"
     },
     "output_type": "display_data"
    }
   ],
   "source": [
    "# 다음은 수치형 데이터의 히스토그램을 통해 데이터 분포를 시각적으로 확인\n",
    "fig, ax = plt.subplots(5, 4, figsize=(15, 15))\n",
    "col_list = df.columns[:-1]\n",
    "for i, col in enumerate(col_list):\n",
    "    x = i // 4\n",
    "    y= i % 4\n",
    "    df[col].hist(ax=ax[x, y])\n",
    "    ax[x, y].set_title(col)\n",
    "ax[4, 3].remove() #안쓰는 plot 삭제\n",
    "plt.subplots_adjust(wspace=0.2, hspace=0.4)\n",
    "plt.show()"
   ]
  },
  {
   "cell_type": "markdown",
   "metadata": {},
   "source": [
    "```\n",
    "각 feature의 분포를 살펴보면 v1~17 변수는 0을 중심으로 분포해 있고, \n",
    "time은 5000, 12000에서 이봉분포를 보이고 있다.\n",
    "amount는 0~72.75 사이에 75% 의 데이터값이 모여있는 왜도가 -인 분포를 보이고 있다.\n",
    "각 변수들 간 이상치 데이터가 보이고 있으나,\n",
    "해당 문제는 이상치 탐지(anomaliy detection) 문제이므로, 이상치를 삭제하지 않고\n",
    "모델에 잘 반영하여 학습함으로써 이상치를 탐지하도록 한다.\n",
    "```"
   ]
  },
  {
   "cell_type": "code",
   "execution_count": 7,
   "metadata": {},
   "outputs": [
    {
     "data": {
      "image/png": "[encoded data removed]",
      "text/plain": [
       "<Figure size 1080x720 with 1 Axes>"
      ]
     },
     "metadata": {
      "needs_background": "light"
     },
     "output_type": "display_data"
    }
   ],
   "source": [
    "# box plot으로 이상치 확인\n",
    "plt.figure(figsize=(15, 10))\n",
    "sns.boxplot(data=df.drop(['amount', 'time'], axis=1))\n",
    "plt.show()"
   ]
  },
  {
   "cell_type": "code",
   "execution_count": 8,
   "metadata": {},
   "outputs": [
    {
     "data": {
      "image/png": "[encoded data removed]",
      "text/plain": [
       "<Figure size 360x432 with 1 Axes>"
      ]
     },
     "metadata": {
      "needs_background": "light"
     },
     "output_type": "display_data"
    }
   ],
   "source": [
    "plt.figure(figsize=(5, 6))\n",
    "sns.boxplot(data=df['amount'])\n",
    "plt.show()"
   ]
  },
  {
   "cell_type": "markdown",
   "metadata": {},
   "source": [
    "```\n",
    "상자 그림 상에도 이상치가 보이고 있다.\n",
    "다음으로는 각 변수 간의 상관관계를 살펴본다.\n",
    "해당 데이터셋은 차원의 수가 20개 정도로 많기 떄문에\n",
    "충분히 데이터를 설명할 수 있는 수준으로 차원축소를 하여 학습을 진행하는 것을 고려한다.\n",
    "```"
   ]
  },
  {
   "cell_type": "code",
   "execution_count": 9,
   "metadata": {},
   "outputs": [
    {
     "data": {
      "image/png": "[encoded data removed]",
      "text/plain": [
       "<Figure size 1080x864 with 2 Axes>"
      ]
     },
     "metadata": {
      "needs_background": "light"
     },
     "output_type": "display_data"
    }
   ],
   "source": [
    "# feature간의 관계를 확인하는 것이므로 label인 class는 제외함\n",
    "# 일단 선형적 corr인 pearson corr로 확인\n",
    "plt.figure(figsize=(15, 12))\n",
    "p_corr = df.drop(['class', 'time'], axis=1).corr()\n",
    "#상삼각 마스크\n",
    "mask = np.triu(np.ones_like(p_corr, dtype=bool))\n",
    "sns.heatmap(p_corr, mask=mask, annot=True, cmap='RdBu')\n",
    "plt.show()"
   ]
  },
  {
   "cell_type": "markdown",
   "metadata": {},
   "source": [
    "- 각 변수들 간 양/음의 상관관계를 가지는 변수들이 많다.\n",
    "- 예)\n",
    "    - v12 ~ 17은 0.71로 양의 상관관계, \n",
    "    - v11 ~ v17은 -0.47로 음의 상관관계를 가진다."
   ]
  },
  {
   "cell_type": "markdown",
   "metadata": {},
   "source": [
    "## 2. 차원축소가 필요한지 검토하시오. 2개 이상의 후보 알고리즘을 비교하고, 1개를 추천하시오."
   ]
  },
  {
   "cell_type": "markdown",
   "metadata": {},
   "source": [
    "- 위 데이터는 충분히 변수들 간의 상관관계가 높다고 볼 수는 없지만... 있다 치고\n",
    "```\n",
    "각 변수들 간 양/음의 상관관계가 많으며, 변수의 수가 많으므로 차원축소를 통해 적절한 설명력을 만족하는 저차원의 모델을\n",
    "사용하는 것으로 결정한다.\n",
    "```\n",
    "- 상관관계가 많다는 것은 **변수 간 중복 정보(선형 종속성)**가 있다는 의미이고,\n",
    "\n",
    "- 차원 축소(PCA 등)는 주요 정보는 유지하면서 중복된 변수를 제거해 분석 성능 및 해석력을 높일 수 있음\n",
    "\n",
    "**이 문제에서는 일반적으로 널리 사용되는 주성분분석(PCA)와 지도학습 기반인 선형판별분석(LDA)를 비교한다.**\n",
    "```\n",
    "- PCA: 데이터의 분산을 최대한 보존하는 방향으로 새로운 축(주성분)을 찾아 상관관계가 있는 변수들을 새로운 축에 \n",
    "       직교화 된 축으로 변환하여 중복을 제거하는 방식, 각 변수들 간 설명력 정도를 직관적으로 확인 가능, 비지도학습\n",
    "- LDA: 클래스 간 분리를 최대화하고 클래스 내 분산을 최소화하는 축을 찾음. 클래스 정보를 반영하여 성능이 높은 저차원모델 학습\n",
    "       (지도학습)\n",
    "```   \n",
    "- 해당문제는 레이블이 불균형하여 클래스 간 분리 설명모델보다는, 데이터 자체를 적절히 잘 설명하는 \n",
    "  저차원 모델이 필요하므로 PCA를 활용한다."
   ]
  },
  {
   "cell_type": "markdown",
   "metadata": {},
   "source": [
    "- 먼저 불필요한 feature를 제거하고, feature간 스케일을 맞춰준다.\n",
    "- 각 feature간 scale이 맞지 않으면 모델 성능에 좋지 않은 영향을 준다.\n",
    "\n",
    "해당 문제에서는 amount의 scale을 특히 맞춰주어야 하며, time은 분산을 살펴봤을 때도\n",
    "\n",
    "유의미한 값을 도출하기 어려워보이며, 해당 문제는 시계열 모형이 아니기 때문에 제거한다.\n",
    "\n",
    "- 데이터 누설(leakage)을 막기 위해 PCA 전 정규화부터 데이터셋을 나눠준다.\n",
    "* 정규화와 PCA, 모델 학습은 train set으로만 해야함.\n"
   ]
  },
  {
   "cell_type": "code",
   "execution_count": 10,
   "metadata": {},
   "outputs": [
    {
     "data": {
      "text/html": [
       "<div>\n",
       "<style scoped>\n",
       "    .dataframe tbody tr th:only-of-type {\n",
       "        vertical-align: middle;\n",
       "    }\n",
       "\n",
       "    .dataframe tbody tr th {\n",
       "        vertical-align: top;\n",
       "    }\n",
       "\n",
       "    .dataframe thead th {\n",
       "        text-align: right;\n",
       "    }\n",
       "</style>\n",
       "<table border=\"1\" class=\"dataframe\">\n",
       "  <thead>\n",
       "    <tr style=\"text-align: right;\">\n",
       "      <th></th>\n",
       "      <th>V1</th>\n",
       "      <th>V2</th>\n",
       "      <th>V3</th>\n",
       "      <th>V4</th>\n",
       "      <th>V5</th>\n",
       "      <th>V6</th>\n",
       "      <th>V7</th>\n",
       "      <th>V8</th>\n",
       "      <th>V9</th>\n",
       "      <th>V10</th>\n",
       "      <th>V11</th>\n",
       "      <th>V12</th>\n",
       "      <th>V13</th>\n",
       "      <th>V14</th>\n",
       "      <th>V15</th>\n",
       "      <th>V16</th>\n",
       "      <th>V17</th>\n",
       "      <th>amount</th>\n",
       "    </tr>\n",
       "  </thead>\n",
       "  <tbody>\n",
       "    <tr>\n",
       "      <th>0</th>\n",
       "      <td>0.536084</td>\n",
       "      <td>-0.371487</td>\n",
       "      <td>0.514740</td>\n",
       "      <td>-0.701871</td>\n",
       "      <td>-0.259292</td>\n",
       "      <td>0.140539</td>\n",
       "      <td>-0.022735</td>\n",
       "      <td>0.062704</td>\n",
       "      <td>1.368504</td>\n",
       "      <td>-0.028234</td>\n",
       "      <td>0.306606</td>\n",
       "      <td>0.603572</td>\n",
       "      <td>-1.490878</td>\n",
       "      <td>0.463666</td>\n",
       "      <td>1.044592</td>\n",
       "      <td>0.066035</td>\n",
       "      <td>0.260679</td>\n",
       "      <td>-0.403235</td>\n",
       "    </tr>\n",
       "    <tr>\n",
       "      <th>1</th>\n",
       "      <td>0.036255</td>\n",
       "      <td>0.133209</td>\n",
       "      <td>0.115213</td>\n",
       "      <td>-0.676747</td>\n",
       "      <td>0.522786</td>\n",
       "      <td>0.114904</td>\n",
       "      <td>0.427578</td>\n",
       "      <td>0.092589</td>\n",
       "      <td>-0.065955</td>\n",
       "      <td>0.154236</td>\n",
       "      <td>-0.697429</td>\n",
       "      <td>0.502180</td>\n",
       "      <td>0.622337</td>\n",
       "      <td>0.529747</td>\n",
       "      <td>-0.906270</td>\n",
       "      <td>0.543029</td>\n",
       "      <td>-0.040311</td>\n",
       "      <td>-0.265177</td>\n",
       "    </tr>\n",
       "    <tr>\n",
       "      <th>2</th>\n",
       "      <td>0.267765</td>\n",
       "      <td>0.183327</td>\n",
       "      <td>0.117213</td>\n",
       "      <td>-0.343079</td>\n",
       "      <td>0.457475</td>\n",
       "      <td>-0.624339</td>\n",
       "      <td>0.690617</td>\n",
       "      <td>-0.227671</td>\n",
       "      <td>0.143281</td>\n",
       "      <td>-0.104740</td>\n",
       "      <td>-0.632729</td>\n",
       "      <td>0.367583</td>\n",
       "      <td>0.220103</td>\n",
       "      <td>0.062185</td>\n",
       "      <td>-0.054839</td>\n",
       "      <td>0.126290</td>\n",
       "      <td>0.478381</td>\n",
       "      <td>-0.190290</td>\n",
       "    </tr>\n",
       "  </tbody>\n",
       "</table>\n",
       "</div>"
      ],
      "text/plain": [
       "         V1        V2        V3        V4        V5        V6        V7  \\\n",
       "0  0.536084 -0.371487  0.514740 -0.701871 -0.259292  0.140539 -0.022735   \n",
       "1  0.036255  0.133209  0.115213 -0.676747  0.522786  0.114904  0.427578   \n",
       "2  0.267765  0.183327  0.117213 -0.343079  0.457475 -0.624339  0.690617   \n",
       "\n",
       "         V8        V9       V10       V11       V12       V13       V14  \\\n",
       "0  0.062704  1.368504 -0.028234  0.306606  0.603572 -1.490878  0.463666   \n",
       "1  0.092589 -0.065955  0.154236 -0.697429  0.502180  0.622337  0.529747   \n",
       "2 -0.227671  0.143281 -0.104740 -0.632729  0.367583  0.220103  0.062185   \n",
       "\n",
       "        V15       V16       V17    amount  \n",
       "0  1.044592  0.066035  0.260679 -0.403235  \n",
       "1 -0.906270  0.543029 -0.040311 -0.265177  \n",
       "2 -0.054839  0.126290  0.478381 -0.190290  "
      ]
     },
     "metadata": {},
     "output_type": "display_data"
    },
    {
     "name": "stdout",
     "output_type": "stream",
     "text": [
      "(954, 18) (239, 18)\n"
     ]
    }
   ],
   "source": [
    "df2 = df.drop(['time', 'class'], axis=1)\n",
    "Y = df['class'].copy()\n",
    "\n",
    "from sklearn.model_selection import train_test_split\n",
    "from sklearn.preprocessing import StandardScaler\n",
    "\n",
    "# 정규화 전 train/test set 분할한다. 정규화는 훈련데이터 기준으로 해야하기 때문이다.\n",
    "train_X, test_X, train_Y, test_Y = train_test_split(df2, Y, random_state=0, test_size=0.2)\n",
    "\n",
    "scaler = StandardScaler()\n",
    "\n",
    "# v1~ amount까지의 feature의 스케일을 정규분포로 맞춰준다.\n",
    "train_X = pd.DataFrame(scaler.fit_transform(train_X), columns=df2.columns)\n",
    "test_X = pd.DataFrame(scaler.transform(test_X), columns=df2.columns)\n",
    "display(train_X.head(3))\n",
    "train_X.describe()\n",
    "print(train_X.shape, test_X.shape)"
   ]
  },
  {
   "cell_type": "code",
   "execution_count": 11,
   "metadata": {},
   "outputs": [
    {
     "data": {
      "text/html": [
       "<div>\n",
       "<style scoped>\n",
       "    .dataframe tbody tr th:only-of-type {\n",
       "        vertical-align: middle;\n",
       "    }\n",
       "\n",
       "    .dataframe tbody tr th {\n",
       "        vertical-align: top;\n",
       "    }\n",
       "\n",
       "    .dataframe thead th {\n",
       "        text-align: right;\n",
       "    }\n",
       "</style>\n",
       "<table border=\"1\" class=\"dataframe\">\n",
       "  <thead>\n",
       "    <tr style=\"text-align: right;\">\n",
       "      <th></th>\n",
       "      <th>V1</th>\n",
       "      <th>V2</th>\n",
       "      <th>V3</th>\n",
       "      <th>V4</th>\n",
       "      <th>V5</th>\n",
       "      <th>V6</th>\n",
       "      <th>V7</th>\n",
       "      <th>V8</th>\n",
       "      <th>V9</th>\n",
       "      <th>V10</th>\n",
       "      <th>V11</th>\n",
       "      <th>V12</th>\n",
       "      <th>V13</th>\n",
       "      <th>V14</th>\n",
       "      <th>V15</th>\n",
       "      <th>V16</th>\n",
       "      <th>V17</th>\n",
       "      <th>amount</th>\n",
       "    </tr>\n",
       "  </thead>\n",
       "  <tbody>\n",
       "    <tr>\n",
       "      <th>count</th>\n",
       "      <td>239.000000</td>\n",
       "      <td>239.000000</td>\n",
       "      <td>239.000000</td>\n",
       "      <td>239.000000</td>\n",
       "      <td>239.000000</td>\n",
       "      <td>239.000000</td>\n",
       "      <td>239.000000</td>\n",
       "      <td>239.000000</td>\n",
       "      <td>239.000000</td>\n",
       "      <td>239.000000</td>\n",
       "      <td>239.000000</td>\n",
       "      <td>239.000000</td>\n",
       "      <td>239.000000</td>\n",
       "      <td>239.000000</td>\n",
       "      <td>239.000000</td>\n",
       "      <td>239.000000</td>\n",
       "      <td>239.000000</td>\n",
       "      <td>239.000000</td>\n",
       "    </tr>\n",
       "    <tr>\n",
       "      <th>mean</th>\n",
       "      <td>0.020329</td>\n",
       "      <td>0.173561</td>\n",
       "      <td>-0.065559</td>\n",
       "      <td>0.041646</td>\n",
       "      <td>-0.031969</td>\n",
       "      <td>-0.040866</td>\n",
       "      <td>-0.122919</td>\n",
       "      <td>-0.079477</td>\n",
       "      <td>-0.027563</td>\n",
       "      <td>-0.121842</td>\n",
       "      <td>-0.009125</td>\n",
       "      <td>-0.089834</td>\n",
       "      <td>0.064623</td>\n",
       "      <td>-0.074002</td>\n",
       "      <td>-0.080393</td>\n",
       "      <td>-0.024749</td>\n",
       "      <td>-0.103823</td>\n",
       "      <td>-0.177488</td>\n",
       "    </tr>\n",
       "    <tr>\n",
       "      <th>std</th>\n",
       "      <td>1.031059</td>\n",
       "      <td>0.946556</td>\n",
       "      <td>1.097582</td>\n",
       "      <td>1.028656</td>\n",
       "      <td>1.042875</td>\n",
       "      <td>1.030590</td>\n",
       "      <td>1.356582</td>\n",
       "      <td>1.213536</td>\n",
       "      <td>1.157400</td>\n",
       "      <td>1.269739</td>\n",
       "      <td>1.123486</td>\n",
       "      <td>1.167185</td>\n",
       "      <td>0.975687</td>\n",
       "      <td>1.087507</td>\n",
       "      <td>1.037753</td>\n",
       "      <td>1.147897</td>\n",
       "      <td>1.187681</td>\n",
       "      <td>0.463103</td>\n",
       "    </tr>\n",
       "    <tr>\n",
       "      <th>min</th>\n",
       "      <td>-7.136471</td>\n",
       "      <td>-2.008260</td>\n",
       "      <td>-7.592504</td>\n",
       "      <td>-2.070906</td>\n",
       "      <td>-6.533626</td>\n",
       "      <td>-2.745312</td>\n",
       "      <td>-11.556303</td>\n",
       "      <td>-12.255978</td>\n",
       "      <td>-6.638032</td>\n",
       "      <td>-8.180587</td>\n",
       "      <td>-1.520565</td>\n",
       "      <td>-5.624388</td>\n",
       "      <td>-2.614780</td>\n",
       "      <td>-5.476954</td>\n",
       "      <td>-5.032659</td>\n",
       "      <td>-5.342553</td>\n",
       "      <td>-6.598758</td>\n",
       "      <td>-0.407419</td>\n",
       "    </tr>\n",
       "    <tr>\n",
       "      <th>25%</th>\n",
       "      <td>-0.143200</td>\n",
       "      <td>-0.252716</td>\n",
       "      <td>-0.138147</td>\n",
       "      <td>-0.578306</td>\n",
       "      <td>-0.134468</td>\n",
       "      <td>-0.569741</td>\n",
       "      <td>-0.002567</td>\n",
       "      <td>-0.172354</td>\n",
       "      <td>-0.297317</td>\n",
       "      <td>-0.058681</td>\n",
       "      <td>-0.728748</td>\n",
       "      <td>-0.034672</td>\n",
       "      <td>-0.514792</td>\n",
       "      <td>0.043658</td>\n",
       "      <td>-0.731663</td>\n",
       "      <td>0.011964</td>\n",
       "      <td>0.065203</td>\n",
       "      <td>-0.399093</td>\n",
       "    </tr>\n",
       "    <tr>\n",
       "      <th>50%</th>\n",
       "      <td>0.151108</td>\n",
       "      <td>-0.008504</td>\n",
       "      <td>0.189369</td>\n",
       "      <td>-0.163813</td>\n",
       "      <td>0.130367</td>\n",
       "      <td>-0.224363</td>\n",
       "      <td>0.231047</td>\n",
       "      <td>-0.063958</td>\n",
       "      <td>0.158737</td>\n",
       "      <td>0.210074</td>\n",
       "      <td>-0.285636</td>\n",
       "      <td>0.324484</td>\n",
       "      <td>0.049198</td>\n",
       "      <td>0.302822</td>\n",
       "      <td>-0.007301</td>\n",
       "      <td>0.295696</td>\n",
       "      <td>0.214815</td>\n",
       "      <td>-0.350438</td>\n",
       "    </tr>\n",
       "    <tr>\n",
       "      <th>75%</th>\n",
       "      <td>0.570499</td>\n",
       "      <td>0.307156</td>\n",
       "      <td>0.483951</td>\n",
       "      <td>0.225806</td>\n",
       "      <td>0.410695</td>\n",
       "      <td>0.299444</td>\n",
       "      <td>0.387602</td>\n",
       "      <td>0.102115</td>\n",
       "      <td>0.593987</td>\n",
       "      <td>0.365925</td>\n",
       "      <td>0.184833</td>\n",
       "      <td>0.488598</td>\n",
       "      <td>0.689295</td>\n",
       "      <td>0.476646</td>\n",
       "      <td>0.622880</td>\n",
       "      <td>0.520064</td>\n",
       "      <td>0.362531</td>\n",
       "      <td>-0.180250</td>\n",
       "    </tr>\n",
       "    <tr>\n",
       "      <th>max</th>\n",
       "      <td>0.828138</td>\n",
       "      <td>6.969817</td>\n",
       "      <td>1.123205</td>\n",
       "      <td>4.446049</td>\n",
       "      <td>2.292098</td>\n",
       "      <td>4.365588</td>\n",
       "      <td>1.398218</td>\n",
       "      <td>5.722558</td>\n",
       "      <td>3.946076</td>\n",
       "      <td>2.707650</td>\n",
       "      <td>5.770475</td>\n",
       "      <td>0.978171</td>\n",
       "      <td>3.015358</td>\n",
       "      <td>1.191442</td>\n",
       "      <td>2.170555</td>\n",
       "      <td>1.183078</td>\n",
       "      <td>1.386180</td>\n",
       "      <td>2.798720</td>\n",
       "    </tr>\n",
       "  </tbody>\n",
       "</table>\n",
       "</div>"
      ],
      "text/plain": [
       "               V1          V2          V3          V4          V5          V6  \\\n",
       "count  239.000000  239.000000  239.000000  239.000000  239.000000  239.000000   \n",
       "mean     0.020329    0.173561   -0.065559    0.041646   -0.031969   -0.040866   \n",
       "std      1.031059    0.946556    1.097582    1.028656    1.042875    1.030590   \n",
       "min     -7.136471   -2.008260   -7.592504   -2.070906   -6.533626   -2.745312   \n",
       "25%     -0.143200   -0.252716   -0.138147   -0.578306   -0.134468   -0.569741   \n",
       "50%      0.151108   -0.008504    0.189369   -0.163813    0.130367   -0.224363   \n",
       "75%      0.570499    0.307156    0.483951    0.225806    0.410695    0.299444   \n",
       "max      0.828138    6.969817    1.123205    4.446049    2.292098    4.365588   \n",
       "\n",
       "               V7          V8          V9         V10         V11         V12  \\\n",
       "count  239.000000  239.000000  239.000000  239.000000  239.000000  239.000000   \n",
       "mean    -0.122919   -0.079477   -0.027563   -0.121842   -0.009125   -0.089834   \n",
       "std      1.356582    1.213536    1.157400    1.269739    1.123486    1.167185   \n",
       "min    -11.556303  -12.255978   -6.638032   -8.180587   -1.520565   -5.624388   \n",
       "25%     -0.002567   -0.172354   -0.297317   -0.058681   -0.728748   -0.034672   \n",
       "50%      0.231047   -0.063958    0.158737    0.210074   -0.285636    0.324484   \n",
       "75%      0.387602    0.102115    0.593987    0.365925    0.184833    0.488598   \n",
       "max      1.398218    5.722558    3.946076    2.707650    5.770475    0.978171   \n",
       "\n",
       "              V13         V14         V15         V16         V17      amount  \n",
       "count  239.000000  239.000000  239.000000  239.000000  239.000000  239.000000  \n",
       "mean     0.064623   -0.074002   -0.080393   -0.024749   -0.103823   -0.177488  \n",
       "std      0.975687    1.087507    1.037753    1.147897    1.187681    0.463103  \n",
       "min     -2.614780   -5.476954   -5.032659   -5.342553   -6.598758   -0.407419  \n",
       "25%     -0.514792    0.043658   -0.731663    0.011964    0.065203   -0.399093  \n",
       "50%      0.049198    0.302822   -0.007301    0.295696    0.214815   -0.350438  \n",
       "75%      0.689295    0.476646    0.622880    0.520064    0.362531   -0.180250  \n",
       "max      3.015358    1.191442    2.170555    1.183078    1.386180    2.798720  "
      ]
     },
     "metadata": {},
     "output_type": "display_data"
    }
   ],
   "source": [
    "display(test_X.describe())"
   ]
  },
  {
   "cell_type": "code",
   "execution_count": 13,
   "metadata": {},
   "outputs": [
    {
     "data": {
      "image/png": "[encoded data removed]",
      "text/plain": [
       "<Figure size 1080x1080 with 18 Axes>"
      ]
     },
     "metadata": {
      "needs_background": "light"
     },
     "output_type": "display_data"
    }
   ],
   "source": [
    "# 다음은 수치형 데이터의 히스토그램을 통해 데이터 분포를 시각적으로 확인\n",
    "fig, ax = plt.subplots(5, 4, figsize=(15, 15))\n",
    "col_list = train_X.columns\n",
    "for i, col in enumerate(col_list):\n",
    "    x = i // 4\n",
    "    y= i % 4\n",
    "    train_X[col].hist(ax=ax[x, y])\n",
    "    ax[x, y].set_title(col)\n",
    "ax[4, 3].remove() #안쓰는 plot 삭제\n",
    "ax[4, 2].remove() #안쓰는 plot 삭제\n",
    "plt.subplots_adjust(wspace=0.2, hspace=0.4)\n",
    "plt.show()"
   ]
  },
  {
   "cell_type": "markdown",
   "metadata": {},
   "source": [
    "- amount가 평균 0을 기준으로 분포(var=1)하는 스케일링이 된 것을 확인할 수 있으며, 나머지 수치형 변수도 마찬가지로 스케일링되었다.\n",
    "- 다음은 PCA의 각 변수별 분산 설명력을 확인 후 PCA 통해 저차원 데이터로 변환한다."
   ]
  },
  {
   "cell_type": "markdown",
   "metadata": {},
   "source": [
    "## 3. 추천한 알고리즘을 구현하고, 정당성을 제시하시오."
   ]
  },
  {
   "cell_type": "code",
   "execution_count": 14,
   "metadata": {},
   "outputs": [
    {
     "name": "stdout",
     "output_type": "stream",
     "text": [
      "< PCA 분석결과 >\n"
     ]
    },
    {
     "data": {
      "text/html": [
       "<div>\n",
       "<style scoped>\n",
       "    .dataframe tbody tr th:only-of-type {\n",
       "        vertical-align: middle;\n",
       "    }\n",
       "\n",
       "    .dataframe tbody tr th {\n",
       "        vertical-align: top;\n",
       "    }\n",
       "\n",
       "    .dataframe thead th {\n",
       "        text-align: right;\n",
       "    }\n",
       "</style>\n",
       "<table border=\"1\" class=\"dataframe\">\n",
       "  <thead>\n",
       "    <tr style=\"text-align: right;\">\n",
       "      <th></th>\n",
       "      <th>feature</th>\n",
       "      <th>고윳값</th>\n",
       "      <th>분산설명률</th>\n",
       "      <th>누적 분산설명률</th>\n",
       "    </tr>\n",
       "  </thead>\n",
       "  <tbody>\n",
       "    <tr>\n",
       "      <th>0</th>\n",
       "      <td>V1</td>\n",
       "      <td>93.618521</td>\n",
       "      <td>0.510391</td>\n",
       "      <td>0.510391</td>\n",
       "    </tr>\n",
       "    <tr>\n",
       "      <th>1</th>\n",
       "      <td>V2</td>\n",
       "      <td>35.650578</td>\n",
       "      <td>0.074014</td>\n",
       "      <td>0.584404</td>\n",
       "    </tr>\n",
       "    <tr>\n",
       "      <th>2</th>\n",
       "      <td>V3</td>\n",
       "      <td>34.185548</td>\n",
       "      <td>0.068056</td>\n",
       "      <td>0.652460</td>\n",
       "    </tr>\n",
       "    <tr>\n",
       "      <th>3</th>\n",
       "      <td>V4</td>\n",
       "      <td>31.799046</td>\n",
       "      <td>0.058885</td>\n",
       "      <td>0.711345</td>\n",
       "    </tr>\n",
       "    <tr>\n",
       "      <th>4</th>\n",
       "      <td>V5</td>\n",
       "      <td>30.344203</td>\n",
       "      <td>0.053620</td>\n",
       "      <td>0.764966</td>\n",
       "    </tr>\n",
       "    <tr>\n",
       "      <th>5</th>\n",
       "      <td>V6</td>\n",
       "      <td>29.442434</td>\n",
       "      <td>0.050481</td>\n",
       "      <td>0.815447</td>\n",
       "    </tr>\n",
       "    <tr>\n",
       "      <th>6</th>\n",
       "      <td>V7</td>\n",
       "      <td>25.081239</td>\n",
       "      <td>0.036633</td>\n",
       "      <td>0.852080</td>\n",
       "    </tr>\n",
       "    <tr>\n",
       "      <th>7</th>\n",
       "      <td>V8</td>\n",
       "      <td>21.759212</td>\n",
       "      <td>0.027572</td>\n",
       "      <td>0.879652</td>\n",
       "    </tr>\n",
       "    <tr>\n",
       "      <th>8</th>\n",
       "      <td>V9</td>\n",
       "      <td>20.659093</td>\n",
       "      <td>0.024854</td>\n",
       "      <td>0.904506</td>\n",
       "    </tr>\n",
       "    <tr>\n",
       "      <th>9</th>\n",
       "      <td>V10</td>\n",
       "      <td>19.125770</td>\n",
       "      <td>0.021302</td>\n",
       "      <td>0.925808</td>\n",
       "    </tr>\n",
       "    <tr>\n",
       "      <th>10</th>\n",
       "      <td>V11</td>\n",
       "      <td>17.297535</td>\n",
       "      <td>0.017424</td>\n",
       "      <td>0.943232</td>\n",
       "    </tr>\n",
       "    <tr>\n",
       "      <th>11</th>\n",
       "      <td>V12</td>\n",
       "      <td>15.301003</td>\n",
       "      <td>0.013634</td>\n",
       "      <td>0.956866</td>\n",
       "    </tr>\n",
       "    <tr>\n",
       "      <th>12</th>\n",
       "      <td>V13</td>\n",
       "      <td>14.033944</td>\n",
       "      <td>0.011469</td>\n",
       "      <td>0.968335</td>\n",
       "    </tr>\n",
       "    <tr>\n",
       "      <th>13</th>\n",
       "      <td>V14</td>\n",
       "      <td>12.190400</td>\n",
       "      <td>0.008654</td>\n",
       "      <td>0.976989</td>\n",
       "    </tr>\n",
       "    <tr>\n",
       "      <th>14</th>\n",
       "      <td>V15</td>\n",
       "      <td>11.827351</td>\n",
       "      <td>0.008146</td>\n",
       "      <td>0.985135</td>\n",
       "    </tr>\n",
       "    <tr>\n",
       "      <th>15</th>\n",
       "      <td>V16</td>\n",
       "      <td>10.638166</td>\n",
       "      <td>0.006590</td>\n",
       "      <td>0.991726</td>\n",
       "    </tr>\n",
       "    <tr>\n",
       "      <th>16</th>\n",
       "      <td>V17</td>\n",
       "      <td>9.461108</td>\n",
       "      <td>0.005213</td>\n",
       "      <td>0.996938</td>\n",
       "    </tr>\n",
       "    <tr>\n",
       "      <th>17</th>\n",
       "      <td>amount</td>\n",
       "      <td>7.250720</td>\n",
       "      <td>0.003062</td>\n",
       "      <td>1.000000</td>\n",
       "    </tr>\n",
       "  </tbody>\n",
       "</table>\n",
       "</div>"
      ],
      "text/plain": [
       "   feature        고윳값     분산설명률  누적 분산설명률\n",
       "0       V1  93.618521  0.510391  0.510391\n",
       "1       V2  35.650578  0.074014  0.584404\n",
       "2       V3  34.185548  0.068056  0.652460\n",
       "3       V4  31.799046  0.058885  0.711345\n",
       "4       V5  30.344203  0.053620  0.764966\n",
       "5       V6  29.442434  0.050481  0.815447\n",
       "6       V7  25.081239  0.036633  0.852080\n",
       "7       V8  21.759212  0.027572  0.879652\n",
       "8       V9  20.659093  0.024854  0.904506\n",
       "9      V10  19.125770  0.021302  0.925808\n",
       "10     V11  17.297535  0.017424  0.943232\n",
       "11     V12  15.301003  0.013634  0.956866\n",
       "12     V13  14.033944  0.011469  0.968335\n",
       "13     V14  12.190400  0.008654  0.976989\n",
       "14     V15  11.827351  0.008146  0.985135\n",
       "15     V16  10.638166  0.006590  0.991726\n",
       "16     V17   9.461108  0.005213  0.996938\n",
       "17  amount   7.250720  0.003062  1.000000"
      ]
     },
     "metadata": {},
     "output_type": "display_data"
    }
   ],
   "source": [
    "from sklearn.decomposition import PCA\n",
    "pca = PCA()\n",
    "p_fit = pca.fit(train_X)\n",
    "\n",
    "print(\"< PCA 분석결과 >\")\n",
    "p_result = pd.DataFrame({\"feature\": train_X.columns, \n",
    "                        \"고윳값\": p_fit.singular_values_, \n",
    "                        \"분산설명률\": p_fit.explained_variance_ratio_, \n",
    "                        \"누적 분산설명률\": np.cumsum(p_fit.explained_variance_ratio_)})\n",
    "\n",
    "display(p_result)"
   ]
  },
  {
   "cell_type": "code",
   "execution_count": 15,
   "metadata": {},
   "outputs": [
    {
     "data": {
      "image/png": "[encoded data removed]",
      "text/plain": [
       "<Figure size 504x504 with 1 Axes>"
      ]
     },
     "metadata": {
      "needs_background": "light"
     },
     "output_type": "display_data"
    }
   ],
   "source": [
    "plt.figure(figsize=(7, 7))\n",
    "plt.plot(p_result['누적 분산설명률'], marker='o')\n",
    "plt.title('PCA Scree Plot')\n",
    "plt.xlabel('features')\n",
    "plt.ylabel(\"누적설명률\")\n",
    "plt.axvline(x=5, color='red', linestyle='--')\n",
    "plt.axhline(y=0.8, color='red', linestyle='--')\n",
    "plt.xlim(0, 18)\n",
    "plt.show()"
   ]
  },
  {
   "cell_type": "code",
   "execution_count": 17,
   "metadata": {},
   "outputs": [
    {
     "data": {
      "text/html": [
       "<div>\n",
       "<style scoped>\n",
       "    .dataframe tbody tr th:only-of-type {\n",
       "        vertical-align: middle;\n",
       "    }\n",
       "\n",
       "    .dataframe tbody tr th {\n",
       "        vertical-align: top;\n",
       "    }\n",
       "\n",
       "    .dataframe thead th {\n",
       "        text-align: right;\n",
       "    }\n",
       "</style>\n",
       "<table border=\"1\" class=\"dataframe\">\n",
       "  <thead>\n",
       "    <tr style=\"text-align: right;\">\n",
       "      <th></th>\n",
       "      <th>V1</th>\n",
       "      <th>V2</th>\n",
       "      <th>V3</th>\n",
       "      <th>V4</th>\n",
       "      <th>V5</th>\n",
       "      <th>V6</th>\n",
       "    </tr>\n",
       "  </thead>\n",
       "  <tbody>\n",
       "    <tr>\n",
       "      <th>0</th>\n",
       "      <td>-1.178851</td>\n",
       "      <td>-0.421287</td>\n",
       "      <td>-0.350137</td>\n",
       "      <td>-1.023558</td>\n",
       "      <td>-1.428261</td>\n",
       "      <td>-0.026321</td>\n",
       "    </tr>\n",
       "    <tr>\n",
       "      <th>1</th>\n",
       "      <td>-1.077971</td>\n",
       "      <td>-0.164943</td>\n",
       "      <td>0.929735</td>\n",
       "      <td>0.662723</td>\n",
       "      <td>0.509357</td>\n",
       "      <td>-0.223675</td>\n",
       "    </tr>\n",
       "    <tr>\n",
       "      <th>2</th>\n",
       "      <td>-0.865907</td>\n",
       "      <td>-0.446792</td>\n",
       "      <td>0.151450</td>\n",
       "      <td>-0.186306</td>\n",
       "      <td>0.482599</td>\n",
       "      <td>-0.269478</td>\n",
       "    </tr>\n",
       "    <tr>\n",
       "      <th>3</th>\n",
       "      <td>-1.171317</td>\n",
       "      <td>-0.105448</td>\n",
       "      <td>1.138310</td>\n",
       "      <td>0.223213</td>\n",
       "      <td>0.627500</td>\n",
       "      <td>0.342708</td>\n",
       "    </tr>\n",
       "    <tr>\n",
       "      <th>4</th>\n",
       "      <td>7.925550</td>\n",
       "      <td>-1.206190</td>\n",
       "      <td>-2.506497</td>\n",
       "      <td>0.409594</td>\n",
       "      <td>0.759476</td>\n",
       "      <td>-0.234980</td>\n",
       "    </tr>\n",
       "  </tbody>\n",
       "</table>\n",
       "</div>"
      ],
      "text/plain": [
       "         V1        V2        V3        V4        V5        V6\n",
       "0 -1.178851 -0.421287 -0.350137 -1.023558 -1.428261 -0.026321\n",
       "1 -1.077971 -0.164943  0.929735  0.662723  0.509357 -0.223675\n",
       "2 -0.865907 -0.446792  0.151450 -0.186306  0.482599 -0.269478\n",
       "3 -1.171317 -0.105448  1.138310  0.223213  0.627500  0.342708\n",
       "4  7.925550 -1.206190 -2.506497  0.409594  0.759476 -0.234980"
      ]
     },
     "execution_count": 17,
     "metadata": {},
     "output_type": "execute_result"
    }
   ],
   "source": [
    "# 누적설명률이 0.8 이상인 feature 수: 6를 선택한다.\n",
    "pca_r = PCA(n_components=6)\n",
    "\n",
    "train_X = pd.DataFrame(pca_r.fit_transform(train_X), columns=train_X.columns[:6])\n",
    "test_X =  pd.DataFrame(pca_r.transform(test_X), columns=train_X.columns[:6])\n",
    "\n",
    "train_X.head()"
   ]
  },
  {
   "cell_type": "markdown",
   "metadata": {},
   "source": [
    "누적 설명률이 80% 이상인 8개 차원의 데이터셋으로 변환하였다.\n",
    "\n",
    "이는 원본데이터의 정보를 82%가량 설명하는 데이터셋으로 변환되었음을 의미한다."
   ]
  },
  {
   "cell_type": "markdown",
   "metadata": {},
   "source": [
    "## 4. Over sampling / under sampling의 장단점을 기술하시오. 적절한 샘플링을 제안하고 구현하시오."
   ]
  },
  {
   "cell_type": "markdown",
   "metadata": {},
   "source": [
    "1. Over sampling: 소수 레이블에 해당하는 데이터수를 늘리는 방식이다.(Random Oversampling, SMOTE, ADASYN)\n",
    "    - 장점: 데이터의 정보손실이 없으며, 소수 클래스의 패턴학습이 가능\n",
    "    - 단점: 랜덤 오버샘플링처럼 소수데이터를 단순복제할 경우 과적합 위험\n",
    "2. under sampling: 다수 레이블에 해당하는 데이터를 제거하여 레이블 간 균형을 맞추는 방식(Random Undersampling, Nearmiss)\n",
    "    - 장점: 전체 데이터수가 줄어 연산량이 줄어듬\n",
    "    - 단점: 정보손실이 있음\n",
    "        \n",
    "해당 데이터셋은 소수 레이블이 크게 적어서 under samping을 시행 시 정보손실이 아주 크므로, Oversampling을 시행한다.\n",
    "- 과적합을 줄이기 위해 kmeans_SMOTE를 활용한다.(데이터 누수를 막기 위해 train/test셋으로 분할 후 train에만 적용)\n",
    "+ 비교군: randomoversampling"
   ]
  },
  {
   "cell_type": "code",
   "execution_count": 18,
   "metadata": {},
   "outputs": [
    {
     "name": "stderr",
     "output_type": "stream",
     "text": [
      "Using TensorFlow backend.\n"
     ]
    },
    {
     "name": "stdout",
     "output_type": "stream",
     "text": [
      "KMeans SMOTE의 레이블별 데이터수: Counter({1: 795, 0: 793})\n",
      "Random Over Sampling의 레이블별 데이터수: Counter({0: 793, 1: 793})\n"
     ]
    }
   ],
   "source": [
    "from collections import Counter\n",
    "\n",
    "from imblearn.over_sampling import KMeansSMOTE, RandomOverSampler\n",
    "\n",
    "k_smt = KMeansSMOTE(random_state=0, k_neighbors=3)\n",
    "k_train_X, k_train_Y = k_smt.fit_resample(train_X, train_Y)\n",
    "\n",
    "#비교군인 Randomoversampling\n",
    "ro = RandomOverSampler(random_state=0)\n",
    "r_train_X, r_train_Y = ro.fit_resample(train_X, train_Y)\n",
    "\n",
    "print(f\"KMeans SMOTE의 레이블별 데이터수: {Counter(k_train_Y)}\")\n",
    "print(f\"Random Over Sampling의 레이블별 데이터수: {Counter(r_train_Y)}\")\n"
   ]
  },
  {
   "cell_type": "markdown",
   "metadata": {},
   "source": [
    "- 두 oversampling 기법의 성능을 테스트셋으로 평가해 본다.\n",
    "\n",
    "일반적으로는 f1 score나 auc score를 성능지표로 판단하지만, 이 데이터는 사기를 놓치지 않고 사기(true) 라고 판별해내는 것이\n",
    "\n",
    "중요한 모델이므로 재현율을 가장 우선적으로 보고(f2 score) f1, auc score는 보조지표로 활용한다."
   ]
  },
  {
   "cell_type": "code",
   "execution_count": 19,
   "metadata": {},
   "outputs": [
    {
     "name": "stdout",
     "output_type": "stream",
     "text": [
      "< kmeans_smote > \n"
     ]
    },
    {
     "data": {
      "text/html": [
       "<div>\n",
       "<style scoped>\n",
       "    .dataframe tbody tr th:only-of-type {\n",
       "        vertical-align: middle;\n",
       "    }\n",
       "\n",
       "    .dataframe tbody tr th {\n",
       "        vertical-align: top;\n",
       "    }\n",
       "\n",
       "    .dataframe thead th {\n",
       "        text-align: right;\n",
       "    }\n",
       "</style>\n",
       "<table border=\"1\" class=\"dataframe\">\n",
       "  <thead>\n",
       "    <tr style=\"text-align: right;\">\n",
       "      <th></th>\n",
       "      <th>Predict label:0</th>\n",
       "      <th>Predict label:1</th>\n",
       "    </tr>\n",
       "  </thead>\n",
       "  <tbody>\n",
       "    <tr>\n",
       "      <th>True label:0</th>\n",
       "      <td>199</td>\n",
       "      <td>1</td>\n",
       "    </tr>\n",
       "    <tr>\n",
       "      <th>True label:1</th>\n",
       "      <td>3</td>\n",
       "      <td>36</td>\n",
       "    </tr>\n",
       "  </tbody>\n",
       "</table>\n",
       "</div>"
      ],
      "text/plain": [
       "              Predict label:0  Predict label:1\n",
       "True label:0              199                1\n",
       "True label:1                3               36"
      ]
     },
     "metadata": {},
     "output_type": "display_data"
    },
    {
     "name": "stdout",
     "output_type": "stream",
     "text": [
      "f2 score: 0.933\n",
      "\n",
      "< random_over_sampling > \n"
     ]
    },
    {
     "data": {
      "text/html": [
       "<div>\n",
       "<style scoped>\n",
       "    .dataframe tbody tr th:only-of-type {\n",
       "        vertical-align: middle;\n",
       "    }\n",
       "\n",
       "    .dataframe tbody tr th {\n",
       "        vertical-align: top;\n",
       "    }\n",
       "\n",
       "    .dataframe thead th {\n",
       "        text-align: right;\n",
       "    }\n",
       "</style>\n",
       "<table border=\"1\" class=\"dataframe\">\n",
       "  <thead>\n",
       "    <tr style=\"text-align: right;\">\n",
       "      <th></th>\n",
       "      <th>Predict label:0</th>\n",
       "      <th>Predict label:1</th>\n",
       "    </tr>\n",
       "  </thead>\n",
       "  <tbody>\n",
       "    <tr>\n",
       "      <th>True label:0</th>\n",
       "      <td>196</td>\n",
       "      <td>4</td>\n",
       "    </tr>\n",
       "    <tr>\n",
       "      <th>True label:1</th>\n",
       "      <td>1</td>\n",
       "      <td>38</td>\n",
       "    </tr>\n",
       "  </tbody>\n",
       "</table>\n",
       "</div>"
      ],
      "text/plain": [
       "              Predict label:0  Predict label:1\n",
       "True label:0              196                4\n",
       "True label:1                1               38"
      ]
     },
     "metadata": {},
     "output_type": "display_data"
    },
    {
     "name": "stdout",
     "output_type": "stream",
     "text": [
      "f2 score: 0.960\n",
      "\n"
     ]
    }
   ],
   "source": [
    "from sklearn.linear_model import LogisticRegression\n",
    "from sklearn.metrics import confusion_matrix, ConfusionMatrixDisplay, fbeta_score\n",
    "\n",
    "dt_title = ['kmeans_smote', 'random_over_sampling']\n",
    "dt_list = [(k_train_X, k_train_Y), (r_train_X, r_train_Y)]\n",
    "\n",
    "for df, title in zip(dt_list, dt_title):\n",
    "    lr = LogisticRegression(max_iter=300)\n",
    "    lr.fit(df[0], df[1])\n",
    "    pred_train = lr.predict(df[0])\n",
    "    pred_test = lr.predict(test_X)\n",
    "    cm = confusion_matrix(test_Y, pred_test, labels=[0, 1])\n",
    "    f2 = fbeta_score(test_Y, pred_test, beta=2)\n",
    "    print(f\"< {title} > \")\n",
    "    display(pd.DataFrame(cm, index=['True label:0', \"True label:1\"], columns=['Predict label:0', 'Predict label:1']))\n",
    "    print(f\"f2 score: {f2:.3f}\\n\")"
   ]
  },
  {
   "attachments": {
    "image.png": {
     "image/png": "[encoded data removed]"
    }
   },
   "cell_type": "markdown",
   "metadata": {},
   "source": [
    "![image.png](attachment:image.png)\n",
    "- 해당 문제는 재현율과 f2 score를 감안하여 random oversampling을 선택한다.\n",
    "  * 단, 일반적인 경우에는 random oversampling 은 과적합으로 잘 사용하지 않는다."
   ]
  },
  {
   "cell_type": "markdown",
   "metadata": {},
   "source": [
    "## 5. 이전 결과를 활용하여 사기 분류 모델 2개를 구현하고 성능을 비교하시오."
   ]
  },
  {
   "cell_type": "markdown",
   "metadata": {},
   "source": [
    "- class가 2개인 분류문제이니, supervised learning calssification 모델 두 개를 구현한다.\n",
    "- 일반적으로 성능이 좋은 앙상블 모델인 random forerest 와 Support vector를 활용하는 SVM Clssifier를 구현한다.\n",
    "- 성능은 recall에 가중치를 주면서 정밀도 또한 고려한 f2 score를 활용하여 성능을 비교한다."
   ]
  },
  {
   "cell_type": "code",
   "execution_count": 48,
   "metadata": {},
   "outputs": [
    {
     "name": "stdout",
     "output_type": "stream",
     "text": [
      "Best Params: {'max_depth': 3, 'min_samples_split': 2, 'n_estimators': 100}\n",
      "Best Score: 0.98\n",
      "<학습 데이터 결과>\n",
      "              precision    recall  f1-score   support\n",
      "\n",
      "           0       0.97      1.00      0.98       793\n",
      "           1       1.00      0.97      0.98       795\n",
      "\n",
      "    accuracy                           0.98      1588\n",
      "   macro avg       0.98      0.98      0.98      1588\n",
      "weighted avg       0.98      0.98      0.98      1588\n",
      "\n",
      "\n",
      "<테스트 데이터 결과>\n",
      "              precision    recall  f1-score   support\n",
      "\n",
      "           0       0.99      0.99      0.99       200\n",
      "           1       0.95      0.95      0.95        39\n",
      "\n",
      "    accuracy                           0.98       239\n",
      "   macro avg       0.97      0.97      0.97       239\n",
      "weighted avg       0.98      0.98      0.98       239\n",
      "\n",
      "f2 score: 0.94872\n"
     ]
    }
   ],
   "source": [
    "from sklearn.ensemble import RandomForestClassifier\n",
    "from sklearn.svm import SVC\n",
    "from sklearn.model_selection import GridSearchCV, KFold\n",
    "from sklearn.metrics import make_scorer, classification_report\n",
    "\n",
    "kf = KFold(n_splits=5, shuffle=True, random_state=0)\n",
    "\n",
    "rf = RandomForestClassifier(random_state=0)\n",
    "\n",
    "f2 = make_scorer(fbeta_score, beta=2, average='weighted')\n",
    "\n",
    "#하이퍼파라미터\n",
    "param1 = {\n",
    "    'n_estimators': [50, 100],\n",
    "    'max_depth': [3, 5],\n",
    "    'min_samples_split': [2, 5]\n",
    "}\n",
    "grid_f = GridSearchCV(\n",
    "    estimator = rf, \n",
    "    param_grid = param1, \n",
    "    scoring= f2, \n",
    "    n_jobs= 1, \n",
    "    cv = kf\n",
    ")\n",
    "\n",
    "grid_f.fit(k_train_X, k_train_Y)\n",
    "\n",
    "print(f\"Best Params: {grid_f.best_params_}\")\n",
    "print(f\"Best Score: {grid_f.best_score_:.2f}\")\n",
    "\n",
    "# 이제 test_set으로 예측 및 레포트 출력\n",
    "print(\"<학습 데이터 결과>\")\n",
    "f_train_pred = grid_f.predict(k_train_X)\n",
    "print(classification_report(k_train_Y, f_train_pred))\n",
    "\n",
    "print(\"\\n<테스트 데이터 결과>\")\n",
    "f_test_pred = grid_f.predict(test_X)\n",
    "print(classification_report(test_Y, f_test_pred))\n",
    "print(f\"f2 score: {fbeta_score(test_Y, f_test_pred, beta=2):.5f}\")"
   ]
  },
  {
   "cell_type": "code",
   "execution_count": 49,
   "metadata": {},
   "outputs": [
    {
     "name": "stdout",
     "output_type": "stream",
     "text": [
      "Best Params: {'C': 0.09, 'gamma': 'scale', 'kernel': 'linear'}\n",
      "Best Score: 0.93\n",
      "<학습 데이터 결과>\n",
      "              precision    recall  f1-score   support\n",
      "\n",
      "           0       0.97      0.99      0.98       793\n",
      "           1       0.99      0.97      0.98       795\n",
      "\n",
      "    accuracy                           0.98      1588\n",
      "   macro avg       0.98      0.98      0.98      1588\n",
      "weighted avg       0.98      0.98      0.98      1588\n",
      "\n",
      "\n",
      "<테스트 데이터 결과>\n",
      "              precision    recall  f1-score   support\n",
      "\n",
      "           0       0.99      0.99      0.99       200\n",
      "           1       0.97      0.97      0.97        39\n",
      "\n",
      "    accuracy                           0.99       239\n",
      "   macro avg       0.98      0.98      0.98       239\n",
      "weighted avg       0.99      0.99      0.99       239\n",
      "\n",
      "f2 score: 0.97436\n"
     ]
    }
   ],
   "source": [
    "# 다음으로 SVM Classifier 모델\n",
    "svm = SVC(random_state=0)\n",
    "\n",
    "param2 = {\n",
    "    'C': [0.01, 0.09, 0.01], \n",
    "    'kernel': ['linear', 'rbf'], \n",
    "    'gamma': ['scale', 'auto']\n",
    "}\n",
    "\n",
    "grid_s = GridSearchCV(\n",
    "    estimator=svm, \n",
    "    param_grid=param2, \n",
    "    cv = kf, \n",
    "    scoring = f2, \n",
    "    n_jobs = 1\n",
    ")\n",
    "\n",
    "grid_s.fit(r_train_X, r_train_Y)\n",
    "\n",
    "print(f\"Best Params: {grid_s.best_params_}\")\n",
    "print(f\"Best Score: {grid_s.best_score_:.2f}\")\n",
    "\n",
    "# 이제 test_set으로 예측 및 레포트 출력\n",
    "print(\"<학습 데이터 결과>\")\n",
    "s_train_pred = grid_s.predict(k_train_X)\n",
    "print(classification_report(k_train_Y, s_train_pred))\n",
    "\n",
    "print(\"\\n<테스트 데이터 결과>\")\n",
    "s_test_pred = grid_s.predict(test_X)\n",
    "print(classification_report(test_Y, s_test_pred))\n",
    "print(f\"f2 score: {fbeta_score(test_Y, s_test_pred, beta=2):.5f}\")\n"
   ]
  },
  {
   "cell_type": "code",
   "execution_count": 50,
   "metadata": {},
   "outputs": [
    {
     "name": "stdout",
     "output_type": "stream",
     "text": [
      "Best Params: {'max_iter': 30}\n",
      "Best Score: 0.93\n",
      "<학습 데이터 결과>\n",
      "              precision    recall  f1-score   support\n",
      "\n",
      "           0       0.98      0.98      0.98       793\n",
      "           1       0.98      0.98      0.98       795\n",
      "\n",
      "    accuracy                           0.98      1588\n",
      "   macro avg       0.98      0.98      0.98      1588\n",
      "weighted avg       0.98      0.98      0.98      1588\n",
      "\n",
      "\n",
      "<테스트 데이터 결과>\n",
      "              precision    recall  f1-score   support\n",
      "\n",
      "           0       0.99      0.98      0.99       200\n",
      "           1       0.90      0.97      0.94        39\n",
      "\n",
      "    accuracy                           0.98       239\n",
      "   macro avg       0.95      0.98      0.96       239\n",
      "weighted avg       0.98      0.98      0.98       239\n",
      "\n",
      "f2 score: 0.95960\n"
     ]
    }
   ],
   "source": [
    "# 데이터가 단순하고 수량이 적어서 완전히 똑같은 결과가 나왔다!\n",
    "# 비교를 위해 logistic regression을 구현한다.\n",
    "from sklearn.linear_model import LogisticRegression\n",
    "\n",
    "lc = LogisticRegression(random_state=0, max_iter=300)\n",
    "\n",
    "param3 = {'max_iter': [10, 30]}\n",
    "\n",
    "grid_l = GridSearchCV(\n",
    "    estimator = lc, \n",
    "    param_grid = param3,\n",
    "    cv = kf, \n",
    "    scoring = f2, \n",
    "    n_jobs = 1\n",
    ")\n",
    "\n",
    "grid_l.fit(r_train_X, r_train_Y)\n",
    "\n",
    "print(f\"Best Params: {grid_l.best_params_}\")\n",
    "print(f\"Best Score: {grid_l.best_score_:.2f}\")\n",
    "\n",
    "# 이제 test_set으로 예측 및 레포트 출력\n",
    "print(\"<학습 데이터 결과>\")\n",
    "l_train_pred = grid_l.predict(k_train_X)\n",
    "print(classification_report(k_train_Y, l_train_pred))\n",
    "\n",
    "print(\"\\n<테스트 데이터 결과>\")\n",
    "l_test_pred = grid_l.predict(test_X)\n",
    "print(classification_report(test_Y, l_test_pred))\n",
    "print(f\"f2 score: {fbeta_score(test_Y, l_test_pred, beta=2):.5f}\")\n",
    "\n"
   ]
  },
  {
   "cell_type": "markdown",
   "metadata": {},
   "source": [
    "- 결론: recall은 모두 동일하므로 재현율에 가중치를 두고 정밀도도 감안한 f2 score가 높은 random forerest 모델로 채택한다.\n",
    "- f2 score: 0.98"
   ]
  },
  {
   "cell_type": "code",
   "execution_count": 23,
   "metadata": {},
   "outputs": [
    {
     "name": "stdout",
     "output_type": "stream",
     "text": [
      "<테스트셋 confusion matrix>\n"
     ]
    },
    {
     "data": {
      "text/html": [
       "<div>\n",
       "<style scoped>\n",
       "    .dataframe tbody tr th:only-of-type {\n",
       "        vertical-align: middle;\n",
       "    }\n",
       "\n",
       "    .dataframe tbody tr th {\n",
       "        vertical-align: top;\n",
       "    }\n",
       "\n",
       "    .dataframe thead th {\n",
       "        text-align: right;\n",
       "    }\n",
       "</style>\n",
       "<table border=\"1\" class=\"dataframe\">\n",
       "  <thead>\n",
       "    <tr style=\"text-align: right;\">\n",
       "      <th></th>\n",
       "      <th>Pred label:0</th>\n",
       "      <th>Pred label:1</th>\n",
       "    </tr>\n",
       "  </thead>\n",
       "  <tbody>\n",
       "    <tr>\n",
       "      <th>Actual label:0</th>\n",
       "      <td>198</td>\n",
       "      <td>2</td>\n",
       "    </tr>\n",
       "    <tr>\n",
       "      <th>Actual label: 1</th>\n",
       "      <td>2</td>\n",
       "      <td>37</td>\n",
       "    </tr>\n",
       "  </tbody>\n",
       "</table>\n",
       "</div>"
      ],
      "text/plain": [
       "                 Pred label:0  Pred label:1\n",
       "Actual label:0            198             2\n",
       "Actual label: 1             2            37"
      ]
     },
     "execution_count": 23,
     "metadata": {},
     "output_type": "execute_result"
    }
   ],
   "source": [
    "print(f\"<테스트셋 confusion matrix>\")\n",
    "pd.DataFrame(confusion_matrix(test_Y, f_test_pred), index=['Actual label:0', 'Actual label: 1'], columns = ['Pred label:0', 'Pred label:1'])"
   ]
  },
  {
   "cell_type": "markdown",
   "metadata": {},
   "source": [
    "## 6. 이상탐지(anomaly detection) 방법을 사용하여 신용카드 사기 데이터를 식별하시오.\n",
    "- 2개 이상 탐지 방법(후보 알고리즘)을 도출하여 장단점을 비교하시오.\n",
    "\n",
    "- 비지도학습인 KMeans clustering을 구현하고 비교한다. 이 모델을 쓰는 이유는 DBSCAN에 비해 하이퍼파라미터 없이\n",
    "- 군집의 수만 지정하면 데이터의 분포만을 통해 분류하기 때문이다.\n",
    "- 데이터의 분포가 중요하기 때문에 스케일링한 데이터 그대로를 오버샘플링 없이 사용한다."
   ]
  },
  {
   "cell_type": "code",
   "execution_count": 25,
   "metadata": {},
   "outputs": [
    {
     "data": {
      "text/plain": [
       "((954, 6), (239, 6))"
      ]
     },
     "execution_count": 25,
     "metadata": {},
     "output_type": "execute_result"
    }
   ],
   "source": [
    "train_X.shape, test_X.shape"
   ]
  },
  {
   "cell_type": "code",
   "execution_count": 26,
   "metadata": {},
   "outputs": [
    {
     "data": {
      "text/html": [
       "<div>\n",
       "<style scoped>\n",
       "    .dataframe tbody tr th:only-of-type {\n",
       "        vertical-align: middle;\n",
       "    }\n",
       "\n",
       "    .dataframe tbody tr th {\n",
       "        vertical-align: top;\n",
       "    }\n",
       "\n",
       "    .dataframe thead th {\n",
       "        text-align: right;\n",
       "    }\n",
       "</style>\n",
       "<table border=\"1\" class=\"dataframe\">\n",
       "  <thead>\n",
       "    <tr style=\"text-align: right;\">\n",
       "      <th></th>\n",
       "      <th>Pred label:0</th>\n",
       "      <th>Pred label:1</th>\n",
       "    </tr>\n",
       "  </thead>\n",
       "  <tbody>\n",
       "    <tr>\n",
       "      <th>Actual label:0</th>\n",
       "      <td>710</td>\n",
       "      <td>83</td>\n",
       "    </tr>\n",
       "    <tr>\n",
       "      <th>Actual label: 1</th>\n",
       "      <td>34</td>\n",
       "      <td>127</td>\n",
       "    </tr>\n",
       "  </tbody>\n",
       "</table>\n",
       "</div>"
      ],
      "text/plain": [
       "                 Pred label:0  Pred label:1\n",
       "Actual label:0            710            83\n",
       "Actual label: 1            34           127"
      ]
     },
     "metadata": {},
     "output_type": "display_data"
    },
    {
     "name": "stdout",
     "output_type": "stream",
     "text": [
      "              precision    recall  f1-score   support\n",
      "\n",
      "           0       0.95      0.90      0.92       793\n",
      "           1       0.60      0.79      0.68       161\n",
      "\n",
      "    accuracy                           0.88       954\n",
      "   macro avg       0.78      0.84      0.80       954\n",
      "weighted avg       0.90      0.88      0.88       954\n",
      "\n",
      "f2 score: 0.74\n"
     ]
    }
   ],
   "source": [
    "# 이미 위에 이상탐지 방법을 구현했는데 똑같은 문제가 왜 나온지 모르겠음.\n",
    "# 그냥 이번에는 비지도 학습방법인 k-means clustering을 해봐야 하나?\n",
    "# kmeans를 선택한 이유: 하이퍼파라미터를 정하지 않아도 됨\n",
    "\n",
    "from sklearn.cluster import KMeans\n",
    "\n",
    "km = KMeans(n_clusters=2, random_state = 0, max_iter=1000)\n",
    "km.fit(train_X)\n",
    "\n",
    "# 각 샘플 중심점과 거리계산\n",
    "dist = np.linalg.norm(train_X - km.cluster_centers_[km.labels_], axis=1)\n",
    "#거리기준 이상치 설정\n",
    "threshold = np.percentile(dist,78)\n",
    "outliers = (dist > threshold).astype(int)\n",
    "\n",
    "display(pd.DataFrame(confusion_matrix(train_Y, outliers), index=['Actual label:0', 'Actual label: 1'], columns = ['Pred label:0', 'Pred label:1']))\n",
    "print(classification_report(train_Y, outliers))\n",
    "print(f\"f2 score: {fbeta_score(train_Y, outliers, beta=2):.2f}\")"
   ]
  },
  {
   "cell_type": "markdown",
   "metadata": {},
   "source": [
    "```\n",
    "레이블을 활용하는 지도학습(RandomForest, SVM)은 비지도학습(KMeans)보다 훨씬 높은 성능을 보였다.\n",
    "해당 데이터셋은 소수 클래스(사기)의 비율이 매우 낮고, 전체 데이터 수도 많지 않아,\n",
    "SMOTE와 같은 오버샘플링 기법을 적용하여 데이터의 불균형문제를 처리한 후 적용하는 지도학습 방식이 적절하다고 판단된다.\n",
    "\n",
    "단, 레이블이 있는 데이터를 구하기 어려운 극단적인 상황에서는 비지도학습을 적용하는 것이 합리적일 것이다.\n",
    "```"
   ]
  },
  {
   "cell_type": "markdown",
   "metadata": {},
   "source": [
    "## 2. 문제 2(변형 문제)\n",
    "- 2-1. 데이터가 과대 산포되어있는지 확인하시오. "
   ]
  },
  {
   "cell_type": "code",
   "execution_count": 27,
   "metadata": {},
   "outputs": [
    {
     "name": "stdout",
     "output_type": "stream",
     "text": [
      "<class 'pandas.core.frame.DataFrame'>\n",
      "RangeIndex: 314 entries, 0 to 313\n",
      "Data columns (total 6 columns):\n",
      " #   Column   Non-Null Count  Dtype \n",
      "---  ------   --------------  ----- \n",
      " 0   ...1     314 non-null    int64 \n",
      " 1   id       314 non-null    int64 \n",
      " 2   gender   314 non-null    object\n",
      " 3   math     314 non-null    int64 \n",
      " 4   daysabs  314 non-null    int64 \n",
      " 5   prog     314 non-null    object\n",
      "dtypes: int64(4), object(2)\n",
      "memory usage: 14.8+ KB\n"
     ]
    },
    {
     "data": {
      "text/html": [
       "<div>\n",
       "<style scoped>\n",
       "    .dataframe tbody tr th:only-of-type {\n",
       "        vertical-align: middle;\n",
       "    }\n",
       "\n",
       "    .dataframe tbody tr th {\n",
       "        vertical-align: top;\n",
       "    }\n",
       "\n",
       "    .dataframe thead th {\n",
       "        text-align: right;\n",
       "    }\n",
       "</style>\n",
       "<table border=\"1\" class=\"dataframe\">\n",
       "  <thead>\n",
       "    <tr style=\"text-align: right;\">\n",
       "      <th></th>\n",
       "      <th>...1</th>\n",
       "      <th>id</th>\n",
       "      <th>gender</th>\n",
       "      <th>math</th>\n",
       "      <th>daysabs</th>\n",
       "      <th>prog</th>\n",
       "    </tr>\n",
       "  </thead>\n",
       "  <tbody>\n",
       "    <tr>\n",
       "      <th>0</th>\n",
       "      <td>1</td>\n",
       "      <td>1001</td>\n",
       "      <td>male</td>\n",
       "      <td>63</td>\n",
       "      <td>4</td>\n",
       "      <td>Academic</td>\n",
       "    </tr>\n",
       "    <tr>\n",
       "      <th>1</th>\n",
       "      <td>2</td>\n",
       "      <td>1002</td>\n",
       "      <td>male</td>\n",
       "      <td>27</td>\n",
       "      <td>4</td>\n",
       "      <td>Academic</td>\n",
       "    </tr>\n",
       "    <tr>\n",
       "      <th>2</th>\n",
       "      <td>3</td>\n",
       "      <td>1003</td>\n",
       "      <td>female</td>\n",
       "      <td>20</td>\n",
       "      <td>2</td>\n",
       "      <td>Academic</td>\n",
       "    </tr>\n",
       "    <tr>\n",
       "      <th>3</th>\n",
       "      <td>4</td>\n",
       "      <td>1004</td>\n",
       "      <td>female</td>\n",
       "      <td>16</td>\n",
       "      <td>3</td>\n",
       "      <td>Academic</td>\n",
       "    </tr>\n",
       "    <tr>\n",
       "      <th>4</th>\n",
       "      <td>5</td>\n",
       "      <td>1005</td>\n",
       "      <td>female</td>\n",
       "      <td>2</td>\n",
       "      <td>3</td>\n",
       "      <td>Academic</td>\n",
       "    </tr>\n",
       "  </tbody>\n",
       "</table>\n",
       "</div>"
      ],
      "text/plain": [
       "   ...1    id  gender  math  daysabs      prog\n",
       "0     1  1001    male    63        4  Academic\n",
       "1     2  1002    male    27        4  Academic\n",
       "2     3  1003  female    20        2  Academic\n",
       "3     4  1004  female    16        3  Academic\n",
       "4     5  1005  female     2        3  Academic"
      ]
     },
     "metadata": {},
     "output_type": "display_data"
    }
   ],
   "source": [
    "df2 = pd.read_csv('problem2.csv')\n",
    "df2.info()\n",
    "display(df2.head())"
   ]
  },
  {
   "cell_type": "markdown",
   "metadata": {},
   "source": [
    "***데이터 설명***\n",
    "- 총 314개 데이터, 6개의 변수가 있으며, \n",
    "- 수치형 변수: 4, 문자형 변수: 2\n",
    "- 이 중 1번째 컬럼의 값은 무의미하며, id 값은 식별자로 object 형으로 변환하는 것이 적절함."
   ]
  },
  {
   "cell_type": "code",
   "execution_count": 28,
   "metadata": {},
   "outputs": [
    {
     "name": "stdout",
     "output_type": "stream",
     "text": [
      "<class 'pandas.core.frame.DataFrame'>\n",
      "RangeIndex: 314 entries, 0 to 313\n",
      "Data columns (total 5 columns):\n",
      " #   Column   Non-Null Count  Dtype \n",
      "---  ------   --------------  ----- \n",
      " 0   id       314 non-null    object\n",
      " 1   gender   314 non-null    object\n",
      " 2   math     314 non-null    int64 \n",
      " 3   daysabs  314 non-null    int64 \n",
      " 4   prog     314 non-null    object\n",
      "dtypes: int64(2), object(3)\n",
      "memory usage: 12.4+ KB\n"
     ]
    }
   ],
   "source": [
    "df2 = df2[df2.columns[1:]].astype({'id':'object'})\n",
    "df2.info()"
   ]
  },
  {
   "cell_type": "code",
   "execution_count": 29,
   "metadata": {},
   "outputs": [
    {
     "data": {
      "text/html": [
       "<div>\n",
       "<style scoped>\n",
       "    .dataframe tbody tr th:only-of-type {\n",
       "        vertical-align: middle;\n",
       "    }\n",
       "\n",
       "    .dataframe tbody tr th {\n",
       "        vertical-align: top;\n",
       "    }\n",
       "\n",
       "    .dataframe thead th {\n",
       "        text-align: right;\n",
       "    }\n",
       "</style>\n",
       "<table border=\"1\" class=\"dataframe\">\n",
       "  <thead>\n",
       "    <tr style=\"text-align: right;\">\n",
       "      <th></th>\n",
       "      <th>math</th>\n",
       "      <th>daysabs</th>\n",
       "    </tr>\n",
       "  </thead>\n",
       "  <tbody>\n",
       "    <tr>\n",
       "      <th>count</th>\n",
       "      <td>314.000000</td>\n",
       "      <td>314.000000</td>\n",
       "    </tr>\n",
       "    <tr>\n",
       "      <th>mean</th>\n",
       "      <td>48.267516</td>\n",
       "      <td>5.955414</td>\n",
       "    </tr>\n",
       "    <tr>\n",
       "      <th>std</th>\n",
       "      <td>25.362391</td>\n",
       "      <td>7.036958</td>\n",
       "    </tr>\n",
       "    <tr>\n",
       "      <th>min</th>\n",
       "      <td>1.000000</td>\n",
       "      <td>0.000000</td>\n",
       "    </tr>\n",
       "    <tr>\n",
       "      <th>25%</th>\n",
       "      <td>28.000000</td>\n",
       "      <td>1.000000</td>\n",
       "    </tr>\n",
       "    <tr>\n",
       "      <th>50%</th>\n",
       "      <td>48.000000</td>\n",
       "      <td>4.000000</td>\n",
       "    </tr>\n",
       "    <tr>\n",
       "      <th>75%</th>\n",
       "      <td>70.000000</td>\n",
       "      <td>8.000000</td>\n",
       "    </tr>\n",
       "    <tr>\n",
       "      <th>max</th>\n",
       "      <td>99.000000</td>\n",
       "      <td>35.000000</td>\n",
       "    </tr>\n",
       "  </tbody>\n",
       "</table>\n",
       "</div>"
      ],
      "text/plain": [
       "             math     daysabs\n",
       "count  314.000000  314.000000\n",
       "mean    48.267516    5.955414\n",
       "std     25.362391    7.036958\n",
       "min      1.000000    0.000000\n",
       "25%     28.000000    1.000000\n",
       "50%     48.000000    4.000000\n",
       "75%     70.000000    8.000000\n",
       "max     99.000000   35.000000"
      ]
     },
     "execution_count": 29,
     "metadata": {},
     "output_type": "execute_result"
    }
   ],
   "source": [
    "df2.describe()"
   ]
  },
  {
   "cell_type": "markdown",
   "metadata": {},
   "source": [
    "```\n",
    "과대산포는 분산이 평균보다 훨씬 큰 현상을 말한다. 여기서 두 수치형 독립변수의 산포를 알아본다.\n",
    "과대산포의 여부는 포아송 분포나, 이항분포로 확인할 수 있다.\n",
    "```"
   ]
  },
  {
   "cell_type": "code",
   "execution_count": 30,
   "metadata": {},
   "outputs": [
    {
     "name": "stdout",
     "output_type": "stream",
     "text": [
      "분산/평균: 13.33\n",
      "분산/평균: 8.31\n"
     ]
    },
    {
     "data": {
      "image/png": "[encoded data removed]",
      "text/plain": [
       "<Figure size 720x360 with 2 Axes>"
      ]
     },
     "metadata": {
      "needs_background": "light"
     },
     "output_type": "display_data"
    }
   ],
   "source": [
    "fig, ax = plt.subplots(1, 2, figsize=(10, 5))\n",
    "\n",
    "for i, col in enumerate(df2.select_dtypes('number').columns):    \n",
    "    sns.kdeplot(data= df2[col], ax=ax[i])\n",
    "    ax[i].set_title(f\"{col}'s Distribution'\")\n",
    "    ax[i].set_xlabel(\"value\")\n",
    "    ax[i].set_ylabel(\"cumsum percent\")\n",
    "    print(f\"분산/평균: {df2[col].var()/df2[col].mean():.2f}\")\n",
    "    \n",
    "plt.show()"
   ]
  },
  {
   "cell_type": "markdown",
   "metadata": {},
   "source": [
    "- 두 수치형 변수 모두 분산이 평균에 비해 상당히 높으므로 과대산포이다."
   ]
  },
  {
   "cell_type": "markdown",
   "metadata": {},
   "source": [
    "## 2. 포아송 회귀 모델과 음이항 회귀 모델 중 적합한 모델을 선택하고, 이유를 기술하시오.\n",
    "```\n",
    "포아송분포 모델은 평균과 분산이 같은 분포를 가정한다. 따라서 이 문제에서는 과대산포를 허용하는 음이항 회귀모델을\n",
    "채택한다. 음이항 회귀는 포아송 모델에 분산 조절 인자를 추가함으로써 분산이 평균보다 클 수 있도록 설계되어 있으며,\n",
    "실제 관측값의 산포가 클 때 더 좋은 예측 성능을 보여준다.\n",
    "```"
   ]
  },
  {
   "cell_type": "markdown",
   "metadata": {},
   "source": [
    "## 3. 모델 적합도 검정을 수행하시오.\n",
    "***가설***\n",
    "- H0(귀무가설): 모든 계수들이 0이다.\n",
    "- H1(대립가설): 적어도 하나의 계수는 0이 아니다."
   ]
  },
  {
   "cell_type": "code",
   "execution_count": 31,
   "metadata": {},
   "outputs": [
    {
     "name": "stdout",
     "output_type": "stream",
     "text": [
      "모델 적합도 검정 p-value: 2.2337202493553e-14\n"
     ]
    }
   ],
   "source": [
    "import statsmodels.api as sm\n",
    "import statsmodels.formula.api as smf\n",
    "from scipy import stats\n",
    "\n",
    "\n",
    "fit = smf.glm('daysabs ~ gender + math + prog', \n",
    "             data = df2, \n",
    "             family = sm.families.NegativeBinomial()).fit() # 종속변수 ~ 독립변수\n",
    "\n",
    "# null deviance와 deviance\n",
    "null_deviance = fit.null_deviance\n",
    "deviance = fit.deviance\n",
    "test_stat = round(null_deviance - deviance, 3)\n",
    "\n",
    "#자유도 계산\n",
    "df = fit.df_model #자유도(추정된 계수 수)\n",
    "p_value = stats.chi2.sf(test_stat, df)\n",
    "print(f\"모델 적합도 검정 p-value: {p_value}\")"
   ]
  },
  {
   "cell_type": "markdown",
   "metadata": {},
   "source": [
    " - 유의수준 5%(0.005) 에서 p-value가 0.005보다 적은 2.2337202493553e-14이므로 귀무가설을 기각한다.\n",
    "   - 따라서 적어도 1개의 변수 계수는 0이 아니므로 모델이 데이터에 적합하다."
   ]
  },
  {
   "cell_type": "markdown",
   "metadata": {},
   "source": [
    "## 4. 각 회귀계수의 통계적 유의성에 관해 기술하시오."
   ]
  },
  {
   "cell_type": "code",
   "execution_count": 32,
   "metadata": {},
   "outputs": [
    {
     "data": {
      "text/html": [
       "<table class=\"simpletable\">\n",
       "<caption>Generalized Linear Model Regression Results</caption>\n",
       "<tr>\n",
       "  <th>Dep. Variable:</th>        <td>daysabs</td>     <th>  No. Observations:  </th>  <td>   314</td> \n",
       "</tr>\n",
       "<tr>\n",
       "  <th>Model:</th>                  <td>GLM</td>       <th>  Df Residuals:      </th>  <td>   309</td> \n",
       "</tr>\n",
       "<tr>\n",
       "  <th>Model Family:</th>    <td>NegativeBinomial</td> <th>  Df Model:          </th>  <td>     4</td> \n",
       "</tr>\n",
       "<tr>\n",
       "  <th>Link Function:</th>          <td>Log</td>       <th>  Scale:             </th> <td>  1.0000</td>\n",
       "</tr>\n",
       "<tr>\n",
       "  <th>Method:</th>                <td>IRLS</td>       <th>  Log-Likelihood:    </th> <td> -864.25</td>\n",
       "</tr>\n",
       "<tr>\n",
       "  <th>Date:</th>            <td>Mon, 09 Jun 2025</td> <th>  Deviance:          </th> <td>  348.13</td>\n",
       "</tr>\n",
       "<tr>\n",
       "  <th>Time:</th>                <td>00:08:07</td>     <th>  Pearson chi2:      </th>  <td>  333.</td> \n",
       "</tr>\n",
       "<tr>\n",
       "  <th>No. Iterations:</th>          <td>6</td>        <th>  Pseudo R-squ. (CS):</th>  <td>0.1999</td> \n",
       "</tr>\n",
       "<tr>\n",
       "  <th>Covariance Type:</th>     <td>nonrobust</td>    <th>                     </th>     <td> </td>   \n",
       "</tr>\n",
       "</table>\n",
       "<table class=\"simpletable\">\n",
       "<tr>\n",
       "           <td></td>             <th>coef</th>     <th>std err</th>      <th>z</th>      <th>P>|z|</th>  <th>[0.025</th>    <th>0.975]</th>  \n",
       "</tr>\n",
       "<tr>\n",
       "  <th>Intercept</th>          <td>    2.2825</td> <td>    0.150</td> <td>   15.255</td> <td> 0.000</td> <td>    1.989</td> <td>    2.576</td>\n",
       "</tr>\n",
       "<tr>\n",
       "  <th>gender[T.male]</th>     <td>   -0.2108</td> <td>    0.124</td> <td>   -1.695</td> <td> 0.090</td> <td>   -0.454</td> <td>    0.033</td>\n",
       "</tr>\n",
       "<tr>\n",
       "  <th>prog[T.General]</th>    <td>    0.4245</td> <td>    0.186</td> <td>    2.288</td> <td> 0.022</td> <td>    0.061</td> <td>    0.788</td>\n",
       "</tr>\n",
       "<tr>\n",
       "  <th>prog[T.Vocational]</th> <td>   -0.8279</td> <td>    0.146</td> <td>   -5.672</td> <td> 0.000</td> <td>   -1.114</td> <td>   -0.542</td>\n",
       "</tr>\n",
       "<tr>\n",
       "  <th>math</th>               <td>   -0.0062</td> <td>    0.003</td> <td>   -2.451</td> <td> 0.014</td> <td>   -0.011</td> <td>   -0.001</td>\n",
       "</tr>\n",
       "</table>"
      ],
      "text/plain": [
       "<class 'statsmodels.iolib.summary.Summary'>\n",
       "\"\"\"\n",
       "                 Generalized Linear Model Regression Results                  \n",
       "==============================================================================\n",
       "Dep. Variable:                daysabs   No. Observations:                  314\n",
       "Model:                            GLM   Df Residuals:                      309\n",
       "Model Family:        NegativeBinomial   Df Model:                            4\n",
       "Link Function:                    Log   Scale:                          1.0000\n",
       "Method:                          IRLS   Log-Likelihood:                -864.25\n",
       "Date:                Mon, 09 Jun 2025   Deviance:                       348.13\n",
       "Time:                        00:08:07   Pearson chi2:                     333.\n",
       "No. Iterations:                     6   Pseudo R-squ. (CS):             0.1999\n",
       "Covariance Type:            nonrobust                                         \n",
       "======================================================================================\n",
       "                         coef    std err          z      P>|z|      [0.025      0.975]\n",
       "--------------------------------------------------------------------------------------\n",
       "Intercept              2.2825      0.150     15.255      0.000       1.989       2.576\n",
       "gender[T.male]        -0.2108      0.124     -1.695      0.090      -0.454       0.033\n",
       "prog[T.General]        0.4245      0.186      2.288      0.022       0.061       0.788\n",
       "prog[T.Vocational]    -0.8279      0.146     -5.672      0.000      -1.114      -0.542\n",
       "math                  -0.0062      0.003     -2.451      0.014      -0.011      -0.001\n",
       "======================================================================================\n",
       "\"\"\""
      ]
     },
     "execution_count": 32,
     "metadata": {},
     "output_type": "execute_result"
    }
   ],
   "source": [
    "fit.summary()"
   ]
  },
  {
   "attachments": {
    "image.png": {
     "image/png": "[encoded data removed]"
    }
   },
   "cell_type": "markdown",
   "metadata": {},
   "source": [
    "![image.png](attachment:image.png)\n",
    "\n",
    "- Intercept(절편): 평균적인 결석일수의 로그값 2.2825\n",
    "- Gender: -0.2108로 남학생은 여학생에 비해 결석일수가 적은 경향이 있으나, 해당변수는 통계적으로 유의하지 않음(0.09로 귀무가설 채택)\n",
    "- prog: 0.4245로 일반 교육과정은 학문적 코스에 비해 결석이 많은 경향, p-value 0.022로 통계적으로 유의\n",
    "      - 직업코스는 학문코스보다 결석이 적은 경향이며, 통계적으로 매우 유의\n",
    "- math: 수학점수가 1점 증가할 때마다 결석이 -0.0062만큼 감소함. 통계적으로 매우 유의\n",
    "\n",
    "#### prog, math 변수가 p-value 0.05 이하로 유의수준 5%에서 통계적으로 유의함\n",
    "즉, 직업코스 수강 학생이거나, 수학 성적이 높을수록 결석이 적으며, \n",
    "일반 교육과정 학생의 결석은 많은 편임."
   ]
  },
  {
   "cell_type": "markdown",
   "metadata": {},
   "source": [
    "## 문제 3\n",
    "2년 전 회사 매출이 200,000달러, 1년 전 회사 매출이 300,000달러, 그 후 서비스 품질의 개선으로 회사 매출이 500,000달러가 되었을 때,\n",
    "\n",
    "연평균 매출 상승률의 대푯값을 구하시오. (반올림하여 소수점 아래 둘째자리까지 표기)\n",
    "- 조화평균 문제"
   ]
  },
  {
   "attachments": {
    "image.png": {
     "image/png": "[encoded data removed]"
    }
   },
   "cell_type": "markdown",
   "metadata": {},
   "source": [
    "![image.png](attachment:image.png)"
   ]
  },
  {
   "cell_type": "code",
   "execution_count": 33,
   "metadata": {},
   "outputs": [
    {
     "name": "stdout",
     "output_type": "stream",
     "text": [
      "58.11%\n"
     ]
    }
   ],
   "source": [
    "cagr = (500000 / 200000)**(1/2) -1\n",
    "\n",
    "print(f\"{cagr*100:.2f}%\")"
   ]
  },
  {
   "attachments": {
    "image.png": {
     "image/png": "[encoded data removed]"
    }
   },
   "cell_type": "markdown",
   "metadata": {},
   "source": [
    "## 문제 4\n",
    "어느 대학교에서 무작위로 뽑은 20명의 학생들이 매주 운동하는 평균 시간이 시간으로 측정되었다. \n",
    "\n",
    "해당 데이터의 표본 평균은 6.2, 표본편차는 1.5 이다. 이 데이터를 바탕으로, 95% 신뢰수준에서 학생들이 매주 운동하는 시간의 모평균에 대한 신뢰구간을 구하시오.\n",
    "![image.png](attachment:image.png)"
   ]
  },
  {
   "cell_type": "code",
   "execution_count": 34,
   "metadata": {},
   "outputs": [
    {
     "name": "stdout",
     "output_type": "stream",
     "text": [
      "신뢰구간: (5.498 , 6.902)\n"
     ]
    }
   ],
   "source": [
    "import math\n",
    "\n",
    "# 표본분산을 제시하고 모평균 신뢰구간 추정하는 문제는 t분포 사용\n",
    "\n",
    "\n",
    "mean_x = 6.2\n",
    "df = 20-1\n",
    "var_x = 1.5**2\n",
    "\n",
    "t_25 = stats.t.ppf(1 - 0.05/2, df) #0.25 t값\n",
    "\n",
    "down = mean_x - t_25*(np.sqrt(var_x)/np.sqrt(20))\n",
    "up = mean_x + t_25*(np.sqrt(var_x)/np.sqrt(20))\n",
    "\n",
    "print(f\"신뢰구간: ({down:.3f} , {up:.3f})\")\n"
   ]
  },
  {
   "cell_type": "markdown",
   "metadata": {},
   "source": [
    "## 문제 5\n",
    "강의 상류와 하류의 생물 다양성 점수에 차이가 있는지 검정하시오. \n",
    "\n",
    "(단, 같은 강에서 상류와 하류는 서로 독립적이지 않으며, 종속적인 관계에 있다.)"
   ]
  },
  {
   "cell_type": "markdown",
   "metadata": {},
   "source": [
    "## 1. 귀무가설과 대립가설을 설정하시오.\n",
    "- 귀무가설 : 상류와 하류의 생물 다양성 점수에 차이가 없다.\n",
    "- 대립가설 : 상류와 하류의 생물 다양성 점수에 차이가 있다\n",
    "\n",
    "두 집단이 종속적이기 때문에, 짝을 이룬다. 그리고 점수의 차이를 비교하는 문제이기 때문에\n",
    "\n",
    "대응표본 t 검정(paired t-test) 문제이다."
   ]
  },
  {
   "cell_type": "code",
   "execution_count": 35,
   "metadata": {},
   "outputs": [
    {
     "data": {
      "text/html": [
       "<div>\n",
       "<style scoped>\n",
       "    .dataframe tbody tr th:only-of-type {\n",
       "        vertical-align: middle;\n",
       "    }\n",
       "\n",
       "    .dataframe tbody tr th {\n",
       "        vertical-align: top;\n",
       "    }\n",
       "\n",
       "    .dataframe thead th {\n",
       "        text-align: right;\n",
       "    }\n",
       "</style>\n",
       "<table border=\"1\" class=\"dataframe\">\n",
       "  <thead>\n",
       "    <tr style=\"text-align: right;\">\n",
       "      <th></th>\n",
       "      <th>river</th>\n",
       "      <th>up</th>\n",
       "      <th>down</th>\n",
       "    </tr>\n",
       "  </thead>\n",
       "  <tbody>\n",
       "    <tr>\n",
       "      <th>0</th>\n",
       "      <td>A</td>\n",
       "      <td>60.2</td>\n",
       "      <td>48.5</td>\n",
       "    </tr>\n",
       "    <tr>\n",
       "      <th>1</th>\n",
       "      <td>B</td>\n",
       "      <td>49.1</td>\n",
       "      <td>40.3</td>\n",
       "    </tr>\n",
       "    <tr>\n",
       "      <th>2</th>\n",
       "      <td>C</td>\n",
       "      <td>58.4</td>\n",
       "      <td>55.1</td>\n",
       "    </tr>\n",
       "    <tr>\n",
       "      <th>3</th>\n",
       "      <td>D</td>\n",
       "      <td>61.5</td>\n",
       "      <td>56.9</td>\n",
       "    </tr>\n",
       "    <tr>\n",
       "      <th>4</th>\n",
       "      <td>E</td>\n",
       "      <td>59.8</td>\n",
       "      <td>48.7</td>\n",
       "    </tr>\n",
       "  </tbody>\n",
       "</table>\n",
       "</div>"
      ],
      "text/plain": [
       "  river    up  down\n",
       "0     A  60.2  48.5\n",
       "1     B  49.1  40.3\n",
       "2     C  58.4  55.1\n",
       "3     D  61.5  56.9\n",
       "4     E  59.8  48.7"
      ]
     },
     "metadata": {},
     "output_type": "display_data"
    },
    {
     "name": "stdout",
     "output_type": "stream",
     "text": [
      "<class 'pandas.core.frame.DataFrame'>\n",
      "RangeIndex: 19 entries, 0 to 18\n",
      "Data columns (total 3 columns):\n",
      " #   Column  Non-Null Count  Dtype  \n",
      "---  ------  --------------  -----  \n",
      " 0   river   19 non-null     object \n",
      " 1   up      19 non-null     float64\n",
      " 2   down    19 non-null     float64\n",
      "dtypes: float64(2), object(1)\n",
      "memory usage: 584.0+ bytes\n"
     ]
    }
   ],
   "source": [
    "df5 = pd.read_csv('problem5.csv')\n",
    "display(df5.head())\n",
    "df5.info()"
   ]
  },
  {
   "cell_type": "code",
   "execution_count": 36,
   "metadata": {},
   "outputs": [
    {
     "data": {
      "text/plain": [
       "array(['A', 'B', 'C', 'D', 'E', 'F', 'G', 'H', 'I', 'J', 'K', 'L', 'M',\n",
       "       'N', 'O', 'P', 'Q', 'R', 'S'], dtype=object)"
      ]
     },
     "execution_count": 36,
     "metadata": {},
     "output_type": "execute_result"
    }
   ],
   "source": [
    "df5.river.unique()"
   ]
  },
  {
   "cell_type": "markdown",
   "metadata": {},
   "source": [
    "## 2. 검정 통계량과 유의 확률을 구하고, 연구가설 채택여부를 판단하시오.\n",
    "- t검정, anova는 정규성을 가정하기 때문에 먼저 정규성을 확인해준다.\n",
    "- shapiro-wilk 검정 및 시각화 확인을 해 보고 정규성을 만족하지 않으면 비모수 검정인 wilcoxon 부호순위 검정을 사용한다\n",
    "\n",
    "<정규성 검정>\n",
    "- 귀무가설 : 데이터가 정규분포를 따른다.\n",
    "- 대립가설 : 데이터가 정규분포를 따르지 않는다."
   ]
  },
  {
   "cell_type": "code",
   "execution_count": 37,
   "metadata": {
    "scrolled": true
   },
   "outputs": [
    {
     "data": {
      "image/png": "[encoded data removed]",
      "text/plain": [
       "<Figure size 432x288 with 1 Axes>"
      ]
     },
     "metadata": {
      "needs_background": "light"
     },
     "output_type": "display_data"
    }
   ],
   "source": [
    "from scipy.stats import shapiro\n",
    "\n",
    "df5['diff'] = df5['up'] - df5['down']\n",
    "\n",
    "sns.kdeplot(data=df5['diff'])\n",
    "plt.title('Difference Distribution')\n",
    "\n",
    "plt.show()"
   ]
  },
  {
   "cell_type": "code",
   "execution_count": 38,
   "metadata": {},
   "outputs": [
    {
     "name": "stdout",
     "output_type": "stream",
     "text": [
      "p-value: 0.23\n"
     ]
    }
   ],
   "source": [
    "# shapiro 검정\n",
    "stat, p = shapiro(df5['diff'])\n",
    "print(f\"p-value: {p:.2f}\")"
   ]
  },
  {
   "cell_type": "markdown",
   "metadata": {},
   "source": [
    "유의수준 5%에서 p-value가 0.23이므로 귀무가설을 기각할 수 없다. \n",
    "\n",
    "따라서 상류와 하류의 생물 다양성은 정규분포를 따른다.\n",
    "\n",
    "정규성을 만족하기 때문에 paired t-test를 실시한다."
   ]
  },
  {
   "cell_type": "code",
   "execution_count": 39,
   "metadata": {},
   "outputs": [
    {
     "name": "stdout",
     "output_type": "stream",
     "text": [
      "통계량: 1.7665772734750262\n",
      "p-value: 0.09425\n"
     ]
    }
   ],
   "source": [
    "t_test_result = stats.ttest_rel(df5['up'], df5['down'])\n",
    "print(f\"통계량: {t_test_result.statistic}\")\n",
    "print(f\"p-value: {t_test_result.pvalue:.5f}\")"
   ]
  },
  {
   "cell_type": "markdown",
   "metadata": {},
   "source": [
    "Shapiro 검정 결과 p-value가 0.09425로 유의수준 5%에서 귀무가설을 기각할 수 없다.\n",
    "\n",
    "따라서 강의 상류/하류 간 생물 다양성 점수는 차이가 없다."
   ]
  },
  {
   "cell_type": "markdown",
   "metadata": {},
   "source": [
    "## 문제 6\n",
    "- Data description\n",
    "- temperature : 온도\n",
    "- wind : 풍속\n",
    "- precipitation : 강수량\n",
    "- user_counts : 대여량\n",
    "\n",
    "## 1. 분위수 회귀분석 (Quantile Regression)을 사용하여 회귀 계수를 구하시오. (반올림하여 소수점 아래 둘째자리까지 표기하시오.)"
   ]
  },
  {
   "cell_type": "code",
   "execution_count": 40,
   "metadata": {},
   "outputs": [
    {
     "name": "stdout",
     "output_type": "stream",
     "text": [
      "<class 'pandas.core.frame.DataFrame'>\n",
      "RangeIndex: 2097 entries, 0 to 2096\n",
      "Data columns (total 4 columns):\n",
      " #   Column         Non-Null Count  Dtype  \n",
      "---  ------         --------------  -----  \n",
      " 0   temperature    2097 non-null   float64\n",
      " 1   wind           2097 non-null   float64\n",
      " 2   precipitation  2097 non-null   float64\n",
      " 3   user_counts    2097 non-null   int64  \n",
      "dtypes: float64(3), int64(1)\n",
      "memory usage: 65.7 KB\n"
     ]
    },
    {
     "data": {
      "text/html": [
       "<div>\n",
       "<style scoped>\n",
       "    .dataframe tbody tr th:only-of-type {\n",
       "        vertical-align: middle;\n",
       "    }\n",
       "\n",
       "    .dataframe tbody tr th {\n",
       "        vertical-align: top;\n",
       "    }\n",
       "\n",
       "    .dataframe thead th {\n",
       "        text-align: right;\n",
       "    }\n",
       "</style>\n",
       "<table border=\"1\" class=\"dataframe\">\n",
       "  <thead>\n",
       "    <tr style=\"text-align: right;\">\n",
       "      <th></th>\n",
       "      <th>temperature</th>\n",
       "      <th>wind</th>\n",
       "      <th>precipitation</th>\n",
       "      <th>user_counts</th>\n",
       "    </tr>\n",
       "  </thead>\n",
       "  <tbody>\n",
       "    <tr>\n",
       "      <th>0</th>\n",
       "      <td>10.400000</td>\n",
       "      <td>4.600</td>\n",
       "      <td>0.844944</td>\n",
       "      <td>6368</td>\n",
       "    </tr>\n",
       "    <tr>\n",
       "      <th>1</th>\n",
       "      <td>5.666667</td>\n",
       "      <td>4.625</td>\n",
       "      <td>0.040860</td>\n",
       "      <td>5902</td>\n",
       "    </tr>\n",
       "    <tr>\n",
       "      <th>2</th>\n",
       "      <td>4.933333</td>\n",
       "      <td>4.725</td>\n",
       "      <td>0.008696</td>\n",
       "      <td>6226</td>\n",
       "    </tr>\n",
       "    <tr>\n",
       "      <th>3</th>\n",
       "      <td>3.400000</td>\n",
       "      <td>2.675</td>\n",
       "      <td>0.156989</td>\n",
       "      <td>5829</td>\n",
       "    </tr>\n",
       "    <tr>\n",
       "      <th>4</th>\n",
       "      <td>8.900000</td>\n",
       "      <td>3.950</td>\n",
       "      <td>7.988462</td>\n",
       "      <td>7589</td>\n",
       "    </tr>\n",
       "  </tbody>\n",
       "</table>\n",
       "</div>"
      ],
      "text/plain": [
       "   temperature   wind  precipitation  user_counts\n",
       "0    10.400000  4.600       0.844944         6368\n",
       "1     5.666667  4.625       0.040860         5902\n",
       "2     4.933333  4.725       0.008696         6226\n",
       "3     3.400000  2.675       0.156989         5829\n",
       "4     8.900000  3.950       7.988462         7589"
      ]
     },
     "metadata": {},
     "output_type": "display_data"
    }
   ],
   "source": [
    "df6 = pd.read_csv('problem6.csv')\n",
    "df6.info()\n",
    "display(df6.head())"
   ]
  },
  {
   "cell_type": "code",
   "execution_count": 41,
   "metadata": {},
   "outputs": [
    {
     "data": {
      "text/plain": [
       "Index(['temperature', 'wind', 'precipitation', 'user_counts'], dtype='object')"
      ]
     },
     "execution_count": 41,
     "metadata": {},
     "output_type": "execute_result"
    }
   ],
   "source": [
    "df6.columns"
   ]
  },
  {
   "cell_type": "code",
   "execution_count": 42,
   "metadata": {},
   "outputs": [
    {
     "name": "stdout",
     "output_type": "stream",
     "text": [
      "결과값: \n",
      "                         QuantReg Regression Results                          \n",
      "==============================================================================\n",
      "Dep. Variable:            user_counts   Pseudo R-squared:               0.3723\n",
      "Model:                       QuantReg   Bandwidth:                       840.9\n",
      "Method:                 Least Squares   Sparsity:                        5590.\n",
      "Date:                Mon, 09 Jun 2025   No. Observations:                 2097\n",
      "Time:                        00:08:16   Df Residuals:                     2093\n",
      "                                        Df Model:                            3\n",
      "=================================================================================\n",
      "                    coef    std err          t      P>|t|      [0.025      0.975]\n",
      "---------------------------------------------------------------------------------\n",
      "Intercept      5941.8395    198.127     29.990      0.000    5553.293    6330.386\n",
      "temperature     268.8920      6.571     40.918      0.000     256.005     281.779\n",
      "wind           -129.4050     46.259     -2.797      0.005    -220.124     -38.686\n",
      "precipitation   -83.3843      7.891    -10.567      0.000     -98.859     -67.910\n",
      "=================================================================================\n",
      "coef값: \n",
      "Intercept        5941.84\n",
      "temperature       268.89\n",
      "wind             -129.41\n",
      "precipitation     -83.38\n",
      "dtype: float64\n"
     ]
    }
   ],
   "source": [
    "# 분위수 회귀 (0.9 분위): \"상위 10% 고소득자의 소득은 나이와 어떤 관계가 있을까?\"\n",
    "# 분위수 회귀 (0.1 분위): \"하위 10% 저소득자의 소득은 나이와 어떤 관계가 있을까?\"\n",
    "mod = smf.quantreg('user_counts ~ temperature + wind + precipitation', data=df6)\n",
    "res = mod.fit(q=0.5)\n",
    "\n",
    "print(f\"결과값: \\n{res.summary()}\")\n",
    "\n",
    "\n",
    "# coef만 구하려면\n",
    "# res.params\n",
    "coefs = res.params\n",
    "print(f\"coef값: \\n{round(coefs, 2)}\")"
   ]
  },
  {
   "cell_type": "markdown",
   "metadata": {},
   "source": [
    "## 2. 이전 문제에서 구한 모델의 회귀계수를 활용하여 temperature : 10.5 , wind : 8.2 , \n",
    "\n",
    "## precipitation : 3.5 일때 user_counts를 예측하시오."
   ]
  },
  {
   "cell_type": "code",
   "execution_count": 43,
   "metadata": {},
   "outputs": [
    {
     "name": "stdout",
     "output_type": "stream",
     "text": [
      "user_counts 예측값: 7412.239537255292\n",
      "\n",
      "모델예측값: 7412.239537255292\n"
     ]
    }
   ],
   "source": [
    "real_dt = [10.5, 8.2, 3.5]\n",
    "\n",
    "new_f = coefs[0] + coefs[1]*real_dt[0] + coefs[2]*real_dt[1] + coefs[3]*real_dt[2]\n",
    "\n",
    "print(f\"user_counts 예측값: {new_f}\")\n",
    "\n",
    "\n",
    "# 위 모델 활용법\n",
    "new_data = pd.DataFrame({\n",
    "    'temperature': [10.5], \n",
    "    'wind': [8.2], \n",
    "    'precipitation': [3.5]\n",
    "})\n",
    "\n",
    "pred = res.predict(new_data)\n",
    "print(f\"\\n모델예측값: {pred.values[0]}\")"
   ]
  },
  {
   "attachments": {
    "image.png": {
     "image/png": "[encoded data removed]"
    }
   },
   "cell_type": "markdown",
   "metadata": {},
   "source": [
    "## 문제 7\n",
    "지하철 호선과 월별, 승객 수 간 관계가 있는지 확인하시오(Type III Anova 사용)\n",
    "![image.png](attachment:image.png)\n",
    "\n",
    "<언제 사용?>\n",
    "- 실험 설계가 비균형(unbalanced) 한 경우\n",
    "- 모델에 상호작용(interaction) 항이 포함된 경우\n",
    "- 변수의 순서에 영향을 받지 않는 분석이 필요할 때"
   ]
  },
  {
   "cell_type": "markdown",
   "metadata": {},
   "source": [
    "## 1. 귀무가설과 대립가설 설정하시오."
   ]
  },
  {
   "cell_type": "markdown",
   "metadata": {},
   "source": [
    "- 1. 노선 - 승객수 영향\n",
    "  - 귀무가설: 지하철 노선별 승객 수의 평균은 같다.(또는 차이가 없다.)\n",
    "  - 대립가설: 지하철 노선별 승객 수의 평균은 다르다.(차이가 있다.)\n",
    "- 2. 월 - 승객수 영향\n",
    "  - 귀무가설: 월별 승객 수의 평균은 같다.(또는 차이가 없다.)\n",
    "  - 대립가설: 월별 승객 수의 평균은 다르다.(차이가 있다.)\n",
    "  \n",
    "- 상호작용 효과(1, 2)\n",
    "  - 귀무가설: 노선과 월 간 상호작용 효과가 없다.\n",
    "  - 대립가설: 노선과 월 간 상호작용 효과가 있다. ."
   ]
  },
  {
   "cell_type": "code",
   "execution_count": 44,
   "metadata": {},
   "outputs": [
    {
     "name": "stdout",
     "output_type": "stream",
     "text": [
      "<class 'pandas.core.frame.DataFrame'>\n",
      "RangeIndex: 72 entries, 0 to 71\n",
      "Data columns (total 3 columns):\n",
      " #   Column  Non-Null Count  Dtype\n",
      "---  ------  --------------  -----\n",
      " 0   line    72 non-null     int64\n",
      " 1   month   72 non-null     int64\n",
      " 2   total   72 non-null     int64\n",
      "dtypes: int64(3)\n",
      "memory usage: 1.8 KB\n"
     ]
    },
    {
     "data": {
      "text/html": [
       "<div>\n",
       "<style scoped>\n",
       "    .dataframe tbody tr th:only-of-type {\n",
       "        vertical-align: middle;\n",
       "    }\n",
       "\n",
       "    .dataframe tbody tr th {\n",
       "        vertical-align: top;\n",
       "    }\n",
       "\n",
       "    .dataframe thead th {\n",
       "        text-align: right;\n",
       "    }\n",
       "</style>\n",
       "<table border=\"1\" class=\"dataframe\">\n",
       "  <thead>\n",
       "    <tr style=\"text-align: right;\">\n",
       "      <th></th>\n",
       "      <th>line</th>\n",
       "      <th>month</th>\n",
       "      <th>total</th>\n",
       "    </tr>\n",
       "  </thead>\n",
       "  <tbody>\n",
       "    <tr>\n",
       "      <th>0</th>\n",
       "      <td>1</td>\n",
       "      <td>1</td>\n",
       "      <td>1310</td>\n",
       "    </tr>\n",
       "    <tr>\n",
       "      <th>1</th>\n",
       "      <td>1</td>\n",
       "      <td>2</td>\n",
       "      <td>1300</td>\n",
       "    </tr>\n",
       "    <tr>\n",
       "      <th>2</th>\n",
       "      <td>1</td>\n",
       "      <td>3</td>\n",
       "      <td>1305</td>\n",
       "    </tr>\n",
       "    <tr>\n",
       "      <th>3</th>\n",
       "      <td>1</td>\n",
       "      <td>4</td>\n",
       "      <td>1200</td>\n",
       "    </tr>\n",
       "    <tr>\n",
       "      <th>4</th>\n",
       "      <td>1</td>\n",
       "      <td>5</td>\n",
       "      <td>1301</td>\n",
       "    </tr>\n",
       "  </tbody>\n",
       "</table>\n",
       "</div>"
      ],
      "text/plain": [
       "   line  month  total\n",
       "0     1      1   1310\n",
       "1     1      2   1300\n",
       "2     1      3   1305\n",
       "3     1      4   1200\n",
       "4     1      5   1301"
      ]
     },
     "metadata": {},
     "output_type": "display_data"
    }
   ],
   "source": [
    "df7 = pd.read_csv('https://raw.githubusercontent.com/ADPclass/ADP_book_ver01/main/data/27_problem9.csv')\n",
    "df7.info()\n",
    "display(df7.head())"
   ]
  },
  {
   "cell_type": "markdown",
   "metadata": {},
   "source": [
    "## 2. 검정통계량을 구하고, 대립가설 채택여부를 기술하시오."
   ]
  },
  {
   "cell_type": "code",
   "execution_count": 45,
   "metadata": {},
   "outputs": [
    {
     "name": "stdout",
     "output_type": "stream",
     "text": [
      "                        sum_sq    df             F        PR(>F)\n",
      "Intercept         3.466344e+06   1.0  33455.335657  4.849033e-55\n",
      "C(line)           1.336630e+05   2.0    645.022520  6.417946e-29\n",
      "C(month)          3.942483e+04  11.0     34.591616  7.896179e-16\n",
      "C(line):C(month)  9.696908e+04  22.0     42.540665  1.582232e-19\n",
      "Residual          3.730000e+03  36.0           NaN           NaN\n"
     ]
    }
   ],
   "source": [
    "from statsmodels.stats.anova import anova_lm\n",
    "from statsmodels.formula.api import ols\n",
    "\n",
    "#일단 line과 month는 수치형에 적합하지 않으므로 object 변환\n",
    "df7 = df7.astype({'line':'object', \n",
    "                 'month': 'object'})\n",
    "\n",
    "model = ols('total ~ C(line) * C(month)', data=df7).fit()\n",
    "\n",
    "# 3 anova\n",
    "\n",
    "anova_rt = anova_lm(model, typ=3)\n",
    "\n",
    "print(anova_rt)"
   ]
  },
  {
   "cell_type": "markdown",
   "metadata": {},
   "source": [
    "***유의수준 5%(신뢰수준95%) 결과**\n",
    "- 노선-승객수: p-value가 6.417946e-29로 0.05보다 작으므로 유의함(귀무가설 기각)\n",
    "- 월-승객수: p-value가 7.896179e-16로 0.05보다 작으므로 유의함(귀무가설 기각)\n",
    "- 상호작용: p-value가 1.582232e-19로 0.05보다 작으므로 유의함(귀무가설 기각)\n",
    "\n",
    "***결론**\n",
    "\n",
    "지하철 노선, 월별 승객 수의 차이가 있다. \n",
    "\n",
    "또한 노선과 월별 유의미한 상호작용이 있다.\n"
   ]
  },
  {
   "cell_type": "code",
   "execution_count": 46,
   "metadata": {},
   "outputs": [
    {
     "data": {
      "image/png": "[encoded data removed]",
      "text/plain": [
       "<Figure size 864x360 with 1 Axes>"
      ]
     },
     "metadata": {
      "needs_background": "light"
     },
     "output_type": "display_data"
    }
   ],
   "source": [
    "# 시각화: sns.pointplot\n",
    "\n",
    "plt.figure(figsize=(12, 5))\n",
    "\n",
    "sns.pointplot(data=df7, x='month', y='total', hue='line', marker='o')\n",
    "plt.title('라인-월별 승객수')\n",
    "\n",
    "plt.show()"
   ]
  }
 ],
 "metadata": {
  "kernelspec": {
   "display_name": "Python 3",
   "language": "python",
   "name": "python3"
  },
  "language_info": {
   "codemirror_mode": {
    "name": "ipython",
    "version": 3
   },
   "file_extension": ".py",
   "mimetype": "text/x-python",
   "name": "python",
   "nbconvert_exporter": "python",
   "pygments_lexer": "ipython3",
   "version": "3.7.9"
  }
 },
 "nbformat": 4,
 "nbformat_minor": 2
}
