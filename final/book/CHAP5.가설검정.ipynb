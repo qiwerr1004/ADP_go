{
 "cells": [
  {
   "cell_type": "markdown",
   "metadata": {},
   "source": [
    "# 5. 추정과 가설검정(p135)\n",
    "\n",
    "- 점추정: 모집단의 모수를 하나의 수치로 추정하는 방법(표본평균, 표본분산, 표본비율)\n",
    "- 구간추정: 모집단의 모수가 일정한 신뢰수준 하에 포함될 것으로 예상되는 구간을 추정하는 방법\n",
    "  - 유의수준(a): 제1종 오류(귀무가설이 참인데 대립가설을 선택할 확률)\n",
    "  - 검정력(1-b): b는 제2종 오류로 대립가설이 참인데 귀무가설을 기각하지 않는 오류를 범할 확률\n",
    "  *두 오류 간에는 상호 역의 관계 성립, 제1종 오류를 고정한 다음 제2종 오류를 줄이려면 표본의 크기를 늘려야 함\n",
    "\n",
    "| 유형       | 검정 종류                        | 조건 요약                                      | 사용 분포           | 통계량 공식                                                                                          | 신뢰구간 / 비고                                                |\n",
    "|------------|----------------------------------|------------------------------------------------|---------------------|-------------------------------------------------------------------------------------------------------|-----------------------------------------------------------------|\n",
    "| **일표본** | Z-검정                           | 모분산 σ² 알고 있음 또는 n ≥ 30                | Z-분포              | $Z = \\frac{\\bar{x} - \\mu_0}{\\sigma / \\sqrt{n}}$                                                       | $\\bar{x} \\pm Z_{\\alpha/2} \\cdot \\frac{\\sigma}{\\sqrt{n}}$        |\n",
    "|             -| t-검정                           | 모분산 모름, n < 30, 정규성 가정              | t-분포(df = n−1)    | $t = \\frac{\\bar{x} - \\mu_0}{s / \\sqrt{n}}$                                                            | $\\bar{x} \\pm t_{\\alpha/2, n-1} \\cdot \\frac{s}{\\sqrt{n}}$        |\n",
    "| **이표본** | 독립 2표본 Z-검정                | 두 집단 모두 모분산 알고 있음                 | Z-분포              | $Z = \\frac{\\bar{x}_1 - \\bar{x}_2 - (\\mu_1 - \\mu_2)}{\\sqrt{\\frac{\\sigma_1^2}{n_1} + \\frac{\\sigma_2^2}{n_2}}}$            |                                                                 |\n",
    "|            -| 독립 2표본 t-검정 (등분산)       | 모분산 모름, 정규성, 등분산 가정              | t-분포(df = n₁+n₂−2)| $t = \\frac{\\bar{x}_1 - \\bar{x}_2}{s_p \\cdot \\sqrt{\\frac{1}{n_1} + \\frac{1}{n_2}}}$ ($s_p$: 풀링표준편차) |                                                                 |\n",
    "|            -| 독립 2표본 t-검정 (이분산)       | 분산 다름 (Welch)                              | t-분포 (df 근사)    | $t = \\frac{\\bar{x}_1 - \\bar{x}_2}{\\sqrt{\\frac{s_1^2}{n_1} + \\frac{s_2^2}{n_2}}}$                      |                                                                 |\n",
    "|            -| 대응표본 t-검정                  | 짝 데이터 (전후비교 등), 정규성 가정          | t-분포(df = n−1)    | $t = \\frac{\\bar{d}}{s_d / \\sqrt{n}}$ ($\\bar{d}$: 차이 평균)                                           |                                                                 |\n",
    "| **K표본**  | 일원분산분석 (One-way ANOVA)     | 집단 ≥3, 정규성, 등분산 가정                  | F-분포              | $F = \\frac{MS_{between}}{MS_{within}}$                                                                | 사후검정 필요 (Tukey HSD 등)                                   |\n",
    "|            -| 이원분산분석 (Two-way ANOVA)     | 두 개 범주형 독립변수, 상호작용 포함 가능     | F-분포              | 교호작용 포함된 분산비 산출                                                                           |                                                                 |\n",
    "|            -| 반복측정 ANOVA                   | 동일 집단 반복 측정, 구형성 가정 필요         | F-분포              | 피험자 내 요인 고려                                                                                  | Mauchly's Test로 구형성 확인                                   |\n",
    "|            -| 혼합설계 ANOVA (Mixed)           | 독립 + 반복 측정 요인 혼합 설계               | F-분포              | 반복요인, 독립요인 동시 고려                                                                          | 설계 복잡도 ↑                                                  |\n",
    "\n",
    "\n",
    "\n",
    "\n",
    "\n",
    "  \n",
    "## 1. 일표본(One-sample)\n",
    "- 모평균 추정과 가설검정: Z분포, t분포"
   ]
  },
  {
   "cell_type": "code",
   "execution_count": 1,
   "metadata": {},
   "outputs": [
    {
     "name": "stdout",
     "output_type": "stream",
     "text": [
      "점추정(평균): 31100\n",
      "구간추정(유의수준 5%): 29630.03 ~ 32569.97\n",
      "오차의 한계: 1469.973\n"
     ]
    }
   ],
   "source": [
    "import numpy as np\n",
    "from scipy.stats import norm \n",
    "\n",
    "#모표준편차를 아는 경우 모평균의 추정\n",
    "s_mean = 31100 #표본평균\n",
    "n = 36 #표본크기\n",
    "sd = 4500 #표본편차\n",
    "a = 0.05 #신뢰수준\n",
    "\n",
    "se = sd / np.sqrt(n) #표준오차\n",
    "z = norm.ppf(1-a/2) #신뢰계수(양측이니 2로 나눔)\n",
    "me = se*z #허용오차\n",
    "\n",
    "print(f\"점추정(평균): {s_mean}\")\n",
    "print(f\"구간추정(유의수준 5%): {s_mean-me:.2f} ~ {s_mean+me:.2f}\")\n",
    "print(f\"오차의 한계: {me:.3f}\")"
   ]
  },
  {
   "cell_type": "code",
   "execution_count": 2,
   "metadata": {},
   "outputs": [
    {
     "name": "stdout",
     "output_type": "stream",
     "text": [
      "유의수준 5%하 허용오차가 500 이하일 확률이 95%일 경우 표본 수는 311.16 이상\n"
     ]
    }
   ],
   "source": [
    "#오차의 한계에 따른 표본 규모\n",
    "#오차의 한계(허용오차)가 500 이하일 확률이 0.95(95%)가 되도록 모집단 평균의 추정치를 원하는 경우, 표본규모는?\n",
    "me = 500\n",
    "a = 0.05 #신뢰수준 95% 기준\n",
    "z = norm.ppf(1-a/2)\n",
    "sample_size = np.square(sd)/np.square(me/z) # 분산/[(허용오차/z값)^2]\n",
    "\n",
    "print(f\"유의수준 5% 하 허용오차가 500 이하일 확률이 95%일 경우 표본 수는 {sample_size:.2f} 이상\")"
   ]
  },
  {
   "cell_type": "code",
   "execution_count": 3,
   "metadata": {},
   "outputs": [
    {
     "name": "stdout",
     "output_type": "stream",
     "text": [
      "검정통계량: 1.467\n",
      "신뢰구간: [29630.02701159496, 32569.97298840504]\n",
      "p_value 0.142로 귀무가설을 기각하지 못함\n"
     ]
    }
   ],
   "source": [
    "#모평균의 가설검정\n",
    "# H0: 평균은 0이다. / H1: 평균은 0이 아니다.\n",
    "\n",
    "x = 31100 #표본평균\n",
    "n = 36 #표본수\n",
    "sd = 4500 #모표준편차\n",
    "mu0 = 30000 #귀무가설의 모평균\n",
    "test_a = 0.05 # 신뢰수준 5%\n",
    "\n",
    "se = sd/np.sqrt(n) #표준오차\n",
    "zstat = (x-mu0)/se #검정통계량 z\n",
    "\n",
    "#단측(right, left)/양측 검정에 따른 유의확률과 임계값\n",
    "\n",
    "def choice_oneway(op): #0: 양측, 1:right, 2:left\n",
    "    if op == 0:\n",
    "        z = norm.ppf(1-test_a/2)\n",
    "        true_r = [x - z*se, x + z*se] #신뢰구간\n",
    "        p_value = (1-norm.cdf(np.abs(zstat)))*2 #양측이니까 *2\n",
    "        \n",
    "    elif op == 1:\n",
    "        z = norm.ppf(1-test_a)\n",
    "        true_r = [x+z*se]\n",
    "        p_value = 1-norm.cdf(zstat)\n",
    "    else:\n",
    "        z = norm.ppf(test_a)\n",
    "        true_r = [x-z*se]\n",
    "        p_value = norm.cdf(zstat)\n",
    "    print(f\"검정통계량: {zstat:.3f}\")\n",
    "    print(f\"신뢰구간: {true_r}\")\n",
    "    print(f\"p_value {p_value:.3f}로 귀무가설을\", \"기각\" if p_value < 0.05 else \"기각하지 못함\")\n",
    "\n",
    "choice_oneway(0)"
   ]
  },
  {
   "cell_type": "code",
   "execution_count": 4,
   "metadata": {},
   "outputs": [
    {
     "name": "stdout",
     "output_type": "stream",
     "text": [
      "<모표준편차를 모르는 경우: t분포\n",
      "점추정(평균): 650\n",
      "구간추정(유의수준 5%): 620.69 ~ 679.31\n",
      "오차의 한계: 29.307\n"
     ]
    }
   ],
   "source": [
    "#모표준편차를 모르는 경우: t분포\n",
    "from scipy.stats import t\n",
    "\n",
    "x = 650\n",
    "n = 16 # 표본집단이 30 미만이므로 중심극한정리 사용 x\n",
    "s = 55 #표본표준오차\n",
    "a = 0.05\n",
    "df = n-1 #t분포 자유도\n",
    "\n",
    "se = s/np.sqrt(n)\n",
    "conf_t = t.ppf(1-a/2, df)\n",
    "me = conf_t*se\n",
    "\n",
    "print(\"<모표준편차를 모르는 경우: t분포\")\n",
    "print(f\"점추정(평균): {x}\")\n",
    "print(f\"구간추정(유의수준 5%): {x-me:.2f} ~ {x+me:.2f}\")\n",
    "print(f\"오차의 한계: {me:.3f}\")"
   ]
  },
  {
   "cell_type": "code",
   "execution_count": 5,
   "metadata": {},
   "outputs": [
    {
     "name": "stdout",
     "output_type": "stream",
     "text": [
      "유의수준 5% 하 허용오차가 20 이하일 확률이 95%일 경우 표본 수는 34.4 이상\n"
     ]
    }
   ],
   "source": [
    "# (위 조건에 이어서) 오차의 한계가 20이하일 확률이 0.95가 되도록 모집단 평균의 추정치를 원하는 경우, 표본 규모는?\n",
    "\n",
    "me2 = 20\n",
    "a = 0.05\n",
    "tt = t.ppf(1-a/2, df)\n",
    "sample_size = np.square(s)/np.square(me2/tt)\n",
    "print(f\"유의수준 5% 하 허용오차가 20 이하일 확률이 95%일 경우 표본 수는 {sample_size:.1f} 이상\")"
   ]
  },
  {
   "cell_type": "code",
   "execution_count": 6,
   "metadata": {},
   "outputs": [
    {
     "name": "stdout",
     "output_type": "stream",
     "text": [
      "검정통계량: 3.636\n",
      "신뢰구간: [674.1044423907726]\n",
      "p_value 0.001로 귀무가설을 기각\n"
     ]
    }
   ],
   "source": [
    "#모평균의 가설검정(one-sample t-test)\n",
    "#H0: mu=0 / H1: mu != 0\n",
    "\n",
    "mu0 = 600\n",
    "test_a = 0.05\n",
    "x = 650\n",
    "n = 16\n",
    "s = 55\n",
    "df = n-1\n",
    "\n",
    "se = s / np.sqrt(n)\n",
    "tstat = (x-mu0)/se\n",
    "\n",
    "#단측, 양측 검정에 따른 유의확률과 임계값\n",
    "#단측(right, left)/양측 검정에 따른 유의확률과 임계값\n",
    "\n",
    "def choice_t_oneway(op): #0: 양측, 1:right, 2:left\n",
    "    if op == 0:\n",
    "        tt = t.ppf(1-test_a/2, df) #t a/2\n",
    "        true_r = [x - tt*se, x + tt*se] #신뢰구간\n",
    "        p_value = (1-t.cdf(np.abs(tstat), df))*2 #양측이니까 *2\n",
    "        \n",
    "    elif op == 1:\n",
    "        tt = t.ppf(1-test_a, df)\n",
    "        true_r = [x+tt*se]\n",
    "        p_value = 1-t.cdf(tstat, df)\n",
    "    else:\n",
    "        tt = t.ppf(test_a, df)\n",
    "        true_r = [x-z*se]\n",
    "        p_value = t.cdf(tstat, df)\n",
    "    print(f\"검정통계량: {tstat:.3f}\")\n",
    "    print(f\"신뢰구간: {true_r}\")\n",
    "    print(f\"p_value {p_value:.3f}로 귀무가설을\", \"기각\" if p_value < 0.05 else \"기각하지 못함\")\n",
    "\n",
    "# one-right(mu > mu0)\n",
    "choice_t_oneway(1)"
   ]
  },
  {
   "cell_type": "markdown",
   "metadata": {},
   "source": [
    "## 모비율의 추정과 가설검정: Z분포\n",
    "- p: 모비율, p0: 귀무가설 모비유, ^p: 표본비율, n: 표본크기, Za/2: 신뢰계수"
   ]
  },
  {
   "cell_type": "code",
   "execution_count": 7,
   "metadata": {},
   "outputs": [
    {
     "name": "stdout",
     "output_type": "stream",
     "text": [
      "점추정(모비율): 0.44\n",
      "구간추정(유의수준 5%): 0.396 ~ 0.484\n",
      "오차의 한계: 0.044\n"
     ]
    }
   ],
   "source": [
    "# 모비율 추정\n",
    "n = 500 #표본크기\n",
    "p = 220/n #표본비율\n",
    "a = 0.05\n",
    "se = np.sqrt((p*(1-p))/n)\n",
    "z = norm.ppf(1-a/2)\n",
    "me = z*se\n",
    "\n",
    "\n",
    "print(f\"점추정(모비율): {p}\")\n",
    "print(f\"구간추정(유의수준 5%): {p-me:.3f} ~ {p+me:.3f}\")\n",
    "print(f\"오차의 한계: {me:.3f}\")"
   ]
  },
  {
   "cell_type": "code",
   "execution_count": 8,
   "metadata": {},
   "outputs": [
    {
     "name": "stdout",
     "output_type": "stream",
     "text": [
      "오차의 한계가 0.03일 확률이 99%인 경우의 표본규모는 1816.5 이상\n"
     ]
    }
   ],
   "source": [
    "#표본규모 계산: 모비율 p를 아는 경우 p 사용, 아니면 표본비율 p 로 계산, 두 정보 모두 모르면 p=0.5로 계산\n",
    "# 오차의 한계가 0.03 이하일 확률이 0.99가 되도록 모집단 비율의 추정치를 원하는 경우 표본규모는?\n",
    "\n",
    "me = 0.03\n",
    "a = 0.01\n",
    "z = norm.ppf(1-a/2)\n",
    "\n",
    "p_sample_size = (p*(1-p))/np.square(me/z)\n",
    "\n",
    "print(f\"오차의 한계가 0.03일 확률이 99%인 경우의 표본규모는 {p_sample_size:.1f} 이상\")"
   ]
  },
  {
   "cell_type": "code",
   "execution_count": 9,
   "metadata": {},
   "outputs": [
    {
     "name": "stdout",
     "output_type": "stream",
     "text": [
      "검정통계량: -2.683\n",
      "신뢰구간: [0.3961738729711709, 0.4838261270288291]\n",
      "p_value 0.007로 귀무가설을 기각\n"
     ]
    }
   ],
   "source": [
    "# 모비율의 가설검정\n",
    "# H0: P = P0 / H1: P!= P0\n",
    "\n",
    "n = 500\n",
    "p = 220/n\n",
    "p0 = 0.5 # 귀무가설 모비율\n",
    "test_a = 0.05\n",
    "\n",
    "se = np.sqrt((p0*(1-p0))/n)\n",
    "zstat = (p - p0)/se \n",
    "\n",
    "def choice_pz_oneway(op): #0: 양측, 1:right, 2:left\n",
    "    if op == 0:\n",
    "        z = norm.ppf(1-test_a/2) #z a/2\n",
    "        true_r = [p - z*se, p + z*se] #신뢰구간\n",
    "        p_value = (1-norm.cdf(np.abs(zstat)))*2 #양측이니까 *2\n",
    "        \n",
    "    elif op == 1:\n",
    "        z = norm.ppf(1-test_a)\n",
    "        true_r = [x+z*se]\n",
    "        p_value = 1-norm.cdf(zstat)\n",
    "    else:\n",
    "        z = norm.ppf(test_a)\n",
    "        true_r = [x-z*se]\n",
    "        p_value = norm.cdf(zstat)\n",
    "    print(f\"검정통계량: {zstat:.3f}\")\n",
    "    print(f\"신뢰구간: {true_r}\")\n",
    "    print(f\"p_value {p_value:.3f}로 귀무가설을\", \"기각\" if p_value < 0.05 else \"기각하지 못함\")\n",
    "\n",
    "# two\n",
    "choice_pz_oneway(0)"
   ]
  },
  {
   "attachments": {
    "image.png": {
     "image/png": "[encoded data removed]"
    }
   },
   "cell_type": "markdown",
   "metadata": {},
   "source": [
    "#### 모분산의 추정과 가설검정: 카이제곱 분포\n",
    "\n",
    "![image.png](attachment:image.png)"
   ]
  },
  {
   "cell_type": "code",
   "execution_count": 326,
   "metadata": {},
   "outputs": [
    {
     "name": "stdout",
     "output_type": "stream",
     "text": [
      "모평균을 모를 때 유의수준 5% 하에서 모분산 신뢰구간 추정: 1.609 ~ 11.332\n",
      "모분산 점추정량: 3.4\n"
     ]
    }
   ],
   "source": [
    "# 모평균을 모르는 경우 모분산의 추정\n",
    "n = 10 #표본크기\n",
    "v = 3.4 #표본분산\n",
    "df = n-1 #자유도\n",
    "a = 0.05 #신뢰구간\n",
    "\n",
    "from scipy.stats import chi2\n",
    "\n",
    "conf1 = chi2.ppf(1-a/2,df)#하한\n",
    "conf2 = chi2.ppf(a/2, df) #상한\n",
    "\n",
    "down = df*v/conf1\n",
    "up = df*v/conf2\n",
    "\n",
    "print(f\"모평균을 모를 때 유의수준 5% 하에서 모분산 신뢰구간 추정: {down:.3f} ~ {up:.3f}\")\n",
    "print(f\"모분산 점추정량: {v}\")"
   ]
  },
  {
   "cell_type": "code",
   "execution_count": 332,
   "metadata": {},
   "outputs": [
    {
     "name": "stdout",
     "output_type": "stream",
     "text": [
      "검정통계량: 8.500\n",
      "p_value 0.515로 귀무가설을 기각하지 못함\n"
     ]
    }
   ],
   "source": [
    "# 가설검정(왼쪽검정)\n",
    "#H0: 표본분산과 모분산은 같다.(표본분산: 0) / H1: 표분분산 < v0\n",
    "\n",
    "n = 10\n",
    "v = 3.4\n",
    "df = n-1\n",
    "v0 = 3.6\n",
    "test_a = 0.05\n",
    "\n",
    "c_stat = df*v/v0\n",
    "\n",
    "def choice_c_oneway(op): #0: 양측, 1:right, 2:left\n",
    "    if op == 0:\n",
    "        if chi2.cdf(c_stat, df) < 0.5:\n",
    "            p_value = (chi2.cdf(np.abs(c_stat), df))*2\n",
    "        else:\n",
    "            p_value = (1-chi2.cdf(np.abs(c_stat), df))*2 #양측이니까 *2\n",
    "        \n",
    "    elif op == 1:\n",
    "        p_value = 1-chi2.cdf(c_stat, df)\n",
    "    else:\n",
    "        p_value = chi2.cdf(c_stat, df)\n",
    "    print(f\"검정통계량: {c_stat:.3f}\")\n",
    "    print(f\"p_value {p_value:.3f}로 귀무가설을\", \"기각\" if p_value < 0.05 else \"기각하지 못함\")\n",
    "\n",
    "# left\n",
    "choice_c_oneway(2)"
   ]
  },
  {
   "cell_type": "markdown",
   "metadata": {},
   "source": [
    "## 2. 이표본(Two-sample)\n",
    "### 독립표본 모평균 차이의 추정과 가설검정: Z분포, t분포\n",
    "- u1 - u2: 모평균의 차\n",
    "- u0(1) - u0(2): 귀무가설의 모평균의 차\n",
    "- X1 - X2: 표본평균의 차\n",
    "\n",
    "| **검정 유형**         | **사용 조건**                     | **자유도(df) 공식**                                                                                                                                                                        | **비고**               |\n",
    "| ----------------- | ----------------------------- | ------------------------------------------------------------------------------------------------------------------------------------------------------------------------------------- | -------------------- |\n",
    "| **단일표본 t검정**      | 하나의 표본 평균 vs 모평균 비교           | $df = n - 1$                                                                                                                                                                          | n: 표본 크기             |\n",
    "| **대응표본 t검정**      | 동일 집단의 전후 비교 (쌍별 비교)          | $df = n - 1$                                                                                                                                                                          | n: 쌍의 개수 (차이값 개수)    |\n",
    "| **이표본 t검정 (등분산)** | 독립된 두 집단, 등분산 가정              | $df = n_1 + n_2 - 2$                                                                                                                                                                  | Pooled variance 사용   |\n",
    "| **이표본 t검정 (이분산)** | 독립된 두 집단, 등분산 가정하지 않음 (Welch) | $df = \\frac{ \\left( \\frac{s_1^2}{n_1} + \\frac{s_2^2}{n_2} \\right)^2 }{ \\frac{ \\left( \\frac{s_1^2}{n_1} \\right)^2 }{n_1 - 1} + \\frac{ \\left( \\frac{s_2^2}{n_2} \\right)^2 }{n_2 - 1} }$ | **소수점 df** 사용, 계산 복잡 |\n"
   ]
  },
  {
   "cell_type": "code",
   "execution_count": 75,
   "metadata": {},
   "outputs": [
    {
     "name": "stdout",
     "output_type": "stream",
     "text": [
      "점추정량: 8.000\n",
      "오차의 한계: 2.6473302537602597\n",
      "구간추정량: 5.353 ~ 10.647\n"
     ]
    }
   ],
   "source": [
    "#표본의 크기가 30이상이고 모집단의분산을 아는 경우 독립표본 모평균 차이의 추정(z)\n",
    "x1 = 78 #1번 모집단의 표본평균\n",
    "x2 = 70 #2번 모집단 표본평균\n",
    "std1 = 4.8 #1번 모집단 모표준편차\n",
    "std2 = 3.1 #2번 모집단 모표준편차\n",
    "n1= 16 #1번 모집단 수\n",
    "n2 = 25 #2번 모집단 수\n",
    "a = 0.05 #신뢰수준\n",
    "\n",
    "d = x1 - x2 # 두 모평균 차이의 점추정값\n",
    "se = np.sqrt(std1**2/n1 + std2**2/n2)\n",
    "z = norm.ppf(1-a/2)\n",
    "me = z*se\n",
    "\n",
    "print(f\"점추정량: {d:.3f}\")\n",
    "print(f\"오차의 한계: {me}\")\n",
    "print(f\"구간추정량: {x1-x2-me:.3f} ~ {x1-x2+me:.3f}\")"
   ]
  },
  {
   "cell_type": "code",
   "execution_count": 77,
   "metadata": {},
   "outputs": [
    {
     "name": "stdout",
     "output_type": "stream",
     "text": [
      "검정통계량: 5.923\n",
      "신뢰구간: [5.352669746239741, 10.64733025376026]\n",
      "p_value 0.000로 귀무가설을 기각\n"
     ]
    }
   ],
   "source": [
    "#독립표본 모평균 차이의 가설검정\n",
    "# H0: 모평균의 차 0(두 독립표본의 평균은 같다.) / H1: 모평균의 차 0 아님(두 독립표본의 평균은 차이있음)\n",
    "#신뢰구간 상에 0이 포함 x\n",
    "\n",
    "test_a = 0.05\n",
    "d = x1 - x2\n",
    "se = np.sqrt(std1**2/n1  + std2**2/n2)\n",
    "zstat = (x1-x2-0)/se #u1-u2=0(귀무)\n",
    "\n",
    "def choice_z_twoway(op): #0: 양측, 1:right, 2:left\n",
    "    if op == 0:\n",
    "        z = norm.ppf(1-test_a/2) #z a/2\n",
    "        true_r = [d - z*se, d + z*se] #신뢰구간\n",
    "        p_value = (1-norm.cdf(np.abs(zstat)))*2 #양측이니까 *2\n",
    "        \n",
    "    elif op == 1:\n",
    "        z = norm.ppf(1-test_a)\n",
    "        true_r = [d+z*se]\n",
    "        p_value = 1-norm.cdf(zstat)\n",
    "    else:\n",
    "        z = norm.ppf(test_a)\n",
    "        true_r = [d-z*se]\n",
    "        p_value = norm.cdf(zstat)\n",
    "    print(f\"검정통계량: {zstat:.3f}\")\n",
    "    print(f\"신뢰구간: {true_r}\")\n",
    "    print(f\"p_value {p_value:.3f}로 귀무가설을\", \"기각\" if p_value < 0.05 else \"기각하지 못함\")\n",
    "choice_z_twoway(0)"
   ]
  },
  {
   "cell_type": "code",
   "execution_count": 80,
   "metadata": {},
   "outputs": [
    {
     "name": "stdout",
     "output_type": "stream",
     "text": [
      "점추정량: 4\n",
      "오차의 한계: 3.999\n",
      "구간추정량: 0.001 ~ 7.999\n"
     ]
    }
   ],
   "source": [
    "#표본의 크기가 30미만이고, 모집단의 분산을 모르지만 같다는 것을 알고 있는 경우\n",
    "# 독립표본 모평균 차이의 추정(t분포)\n",
    "\n",
    "x1 = 85\n",
    "x2 = 81\n",
    "s1 = 4\n",
    "s2 = 5\n",
    "n1 = 12\n",
    "n2 = 10\n",
    "a = 0.05\n",
    "\n",
    "d = x1 - x2\n",
    "df = n1+n2 -2\n",
    "pv = ((n1-1)*(s1**2)+(n2-1)*(s2**2))/df #합동분산\n",
    "\n",
    "se = np.sqrt(pv)*np.sqrt(1/n1+1/n2)\n",
    "tstat = t.ppf(1-a/2, df)\n",
    "me = tstat*se\n",
    "\n",
    "print(f\"점추정량: {d}\")\n",
    "print(f\"오차의 한계: {me:.3f}\")\n",
    "print(f\"구간추정량: {d-me:.3f} ~ {d+me:.3f}\")"
   ]
  },
  {
   "cell_type": "code",
   "execution_count": 83,
   "metadata": {},
   "outputs": [
    {
     "name": "stdout",
     "output_type": "stream",
     "text": [
      "검정통계량: 2.086\n",
      "신뢰구간: [0.0006943213868382259, 7.999305678613162]\n",
      "p_value 0.050로 귀무가설을 기각\n"
     ]
    }
   ],
   "source": [
    "# 독립표본 모평균 차이의 가설검정\n",
    "# H0: 모평균의 차 0(두 독립표본의 평균은 같다.) / H1: 모평균의 차 0 아님(두 독립표본의 평균은 차이있음)\n",
    "test_a = 0.05\n",
    "d0 = 0\n",
    "d = x1 - x2\n",
    "df = n1 + n2 -2\n",
    "pv = ((n1-1)*(s1**2)+(n2-1)*(s2**2))/df\n",
    "se = np.sqrt(pv)*np.sqrt(1/n1+1/n2)\n",
    "tstat = (d-d0)/se\n",
    "\n",
    "def choice_t_twoway(op): #0: 양측, 1:right, 2:left\n",
    "    if op == 0:\n",
    "        tt = t.ppf(1-test_a/2, df)\n",
    "        true_r = [d - tt*se, d + tt*se] #신뢰구간\n",
    "        p_value = (1-t.cdf(np.abs(tstat), df))*2 #양측이니까 *2\n",
    "        \n",
    "    elif op == 1:\n",
    "        tt = t.ppf(1-test_a, df)\n",
    "        true_r = [d+tt*se]\n",
    "        p_value = 1-t.cdf(tstat)\n",
    "    else:\n",
    "        tt = t.ppf(test_a, df)\n",
    "        true_r = [d-tt*se]\n",
    "        p_value = t.cdf(tstat)\n",
    "    print(f\"검정통계량: {tstat:.3f}\")\n",
    "    print(f\"신뢰구간: {true_r}\")\n",
    "    print(f\"p_value {p_value:.3f}로 귀무가설을\", \"기각\" if p_value < 0.05 else \"기각하지 못함\")\n",
    "choice_t_twoway(0)"
   ]
  },
  {
   "cell_type": "code",
   "execution_count": 86,
   "metadata": {},
   "outputs": [
    {
     "name": "stdout",
     "output_type": "stream",
     "text": [
      "점추정량: 4\n",
      "오차의 한계: 4.128\n",
      "구간추정량: -0.128 ~ 8.128\n",
      "자유도: 17.165\n"
     ]
    }
   ],
   "source": [
    "#표본의 크기가 30미만이고 모집단의 분산을 모르지만 다르다고 알고 있을 경우\n",
    "# 독립표본 모평균 차이의 추정\n",
    "x1 = 85\n",
    "x2 = 81\n",
    "s1 = 4\n",
    "s2 = 5\n",
    "n1 = 12\n",
    "n2 = 10\n",
    "a = 0.05\n",
    "\n",
    "d = x1 - x2\n",
    "df = (s1**2/n1+s2**2/n2)**2/(1/(n1-1)*(s1**2/n1)**2 + 1/(n2-1)*(s2**2/n2)**2)\n",
    "\n",
    "se = np.sqrt(s1**2/n1 + s2**2/n2)\n",
    "tstat = t.ppf(1-a/2, df)\n",
    "me = tstat*se\n",
    "\n",
    "print(f\"점추정량: {d}\")\n",
    "print(f\"오차의 한계: {me:.3f}\")\n",
    "print(f\"구간추정량: {d-me:.3f} ~ {d+me:.3f}\")\n",
    "print(f\"자유도: {df:.3f}\")"
   ]
  },
  {
   "cell_type": "code",
   "execution_count": 87,
   "metadata": {},
   "outputs": [
    {
     "name": "stdout",
     "output_type": "stream",
     "text": [
      "검정통계량: 2.108\n",
      "신뢰구간: [-0.12776068933965323, 8.127760689339652]\n",
      "p_value 0.050로 귀무가설을 기각하지 못함\n"
     ]
    }
   ],
   "source": [
    "# 위 조건에 따른 가설검정\n",
    "test_a = 0.05\n",
    "d0 = 0\n",
    "d = x1 - x2\n",
    "tstate = (d-d0)/se\n",
    "\n",
    "\n",
    "def choice_t2_twoway(op): #0: 양측, 1:right, 2:left\n",
    "    if op == 0:\n",
    "        tt = t.ppf(1-test_a/2, df)\n",
    "        true_r = [d - tt*se, d + tt*se] #신뢰구간\n",
    "        p_value = (1-t.cdf(np.abs(tstat), df))*2 #양측이니까 *2\n",
    "        \n",
    "    elif op == 1:\n",
    "        tt = t.ppf(1-test_a, df)\n",
    "        true_r = [d+tt*se]\n",
    "        p_value = 1-t.cdf(tstat)\n",
    "    else:\n",
    "        tt = t.ppf(test_a, df)\n",
    "        true_r = [d-tt*se]\n",
    "        p_value = t.cdf(tstat)\n",
    "    print(f\"검정통계량: {tstat:.3f}\")\n",
    "    print(f\"신뢰구간: {true_r}\")\n",
    "    print(f\"p_value {p_value:.3f}로 귀무가설을\", \"기각\" if p_value < 0.05 else \"기각하지 못함\")\n",
    "choice_t2_twoway(0)"
   ]
  },
  {
   "cell_type": "code",
   "execution_count": 89,
   "metadata": {},
   "outputs": [
    {
     "name": "stdout",
     "output_type": "stream",
     "text": [
      "검정통계량/p-value: -3.564 / 0.009\n"
     ]
    }
   ],
   "source": [
    "# 위 내용과 똑같은 라이브러리(2 샘플 독립표본 모평균 차 검정)\n",
    "from scipy.stats import ttest_ind\n",
    "X1 = [1, 3, 5, 7, 9]\n",
    "X2 = [9, 11, 13, 15]\n",
    "\n",
    "#equal_var : 모집단의 분산이 동일한지 여부\n",
    "#alternative: two-sided, less, greater\n",
    "\n",
    "tstat, p = ttest_ind(X1, X2, equal_var=True, alternative='two-sided')\n",
    "\n",
    "print(f\"검정통계량/p-value: {tstat:.3f} / {p:.3f}\")\n"
   ]
  },
  {
   "cell_type": "markdown",
   "metadata": {},
   "source": [
    "## 대응표본 모평균 차이의 추정과 가설검정: z분포, t분포\n",
    "- 30 이상인 경우: z분포\n",
    "- 30 미만인 경우 : t분포"
   ]
  },
  {
   "cell_type": "code",
   "execution_count": 115,
   "metadata": {},
   "outputs": [
    {
     "name": "stdout",
     "output_type": "stream",
     "text": [
      "점추정량: -1.0\n",
      "오차의 한계: 2.893\n",
      "구간 추정량: -3.893 ~  1.893\n"
     ]
    }
   ],
   "source": [
    "#표본의 크기가 30미만인 경우(t분포)\n",
    "#대응표본 모평균 차이의 추정\n",
    "x1 = np.array([75, 83, 96, 77, 81, 90, 82, 67, 94, 85, 78, 82, 96, 80, 87, 81])\n",
    "x2 = np.array([80, 90, 92, 75, 86, 90, 81, 70, 89, 88, 82, 79, 91, 90, 78, 89])\n",
    "\n",
    "n = len(x1)\n",
    "df = n - 1\n",
    "a = 0.05\n",
    "\n",
    "d = x1 - x2 #두 데이터의 차이\n",
    "d_mean = d.mean()\n",
    "# std = np.sqrt(sum((d-d_mean)**2)/df)\n",
    "std = d.std(ddof=1)\n",
    "se = std/np.sqrt(n)\n",
    "tt = t.ppf(1-a/2, df)\n",
    "me = tt*se\n",
    "\n",
    "print(f\"점추정량: {d_mean}\") #두 대응표본 차의 평균\n",
    "print(f\"오차의 한계: {me:.3f}\")\n",
    "print(f\"구간 추정량: {d_mean - me:.3f} ~ {d_mean + me: .3f}\")"
   ]
  },
  {
   "cell_type": "code",
   "execution_count": 117,
   "metadata": {},
   "outputs": [
    {
     "name": "stdout",
     "output_type": "stream",
     "text": [
      "검정통계량: -0.737\n",
      "신뢰구간: [-3.892547973562949, 1.892547973562949]\n",
      "p_value 0.473로 귀무가설을 기각하지 못함\n"
     ]
    }
   ],
   "source": [
    "# 위에 따른 가설검정\n",
    "# H0: 모평균 차는 0이다. / H1: 모평균 차는 0이 아니다.\n",
    "\n",
    "test_a = 0.05\n",
    "d0 = 0\n",
    "tstat = (d_mean - d0)/se\n",
    "\n",
    "def choice_t3_twoway(op): #0: 양측, 1:right, 2:left\n",
    "    if op == 0:\n",
    "        tt = t.ppf(1-test_a/2, df)\n",
    "        true_r = [d_mean - tt*se, d_mean + tt*se] #신뢰구간\n",
    "        p_value = (1-t.cdf(np.abs(tstat), df))*2 #양측이니까 *2\n",
    "        \n",
    "    elif op == 1:\n",
    "        tt = t.ppf(1-test_a, df)\n",
    "        true_r = [d_mean+tt*se]\n",
    "        p_value = 1-t.cdf(tstat)\n",
    "    else:\n",
    "        tt = t.ppf(test_a, df)\n",
    "        true_r = [d_mean-tt*se]\n",
    "        p_value = t.cdf(tstat)\n",
    "    print(f\"검정통계량: {tstat:.3f}\")\n",
    "    print(f\"신뢰구간: {true_r}\")\n",
    "    print(f\"p_value {p_value:.3f}로 귀무가설을\", \"기각\" if p_value < 0.05 else \"기각하지 못함\")\n",
    "choice_t3_twoway(0)"
   ]
  },
  {
   "cell_type": "code",
   "execution_count": 118,
   "metadata": {},
   "outputs": [
    {
     "name": "stdout",
     "output_type": "stream",
     "text": [
      "라이브러리 t 대응표본 검정\n",
      "검정통계량: -0.737 / 유의확률: 0.473\n"
     ]
    }
   ],
   "source": [
    "# 라이브러리 검정(이걸 쓸 것!)\n",
    "\n",
    "from scipy.stats import ttest_rel\n",
    "\n",
    "tstat, p = ttest_rel(x1, x2, alternative='two-sided')\n",
    "print(\"라이브러리 t 대응표본 검정\")\n",
    "print(f\"검정통계량: {tstat:.3f} / 유의확률: {p:.3f}\")"
   ]
  },
  {
   "cell_type": "code",
   "execution_count": 119,
   "metadata": {},
   "outputs": [
    {
     "name": "stdout",
     "output_type": "stream",
     "text": [
      "점추정량: 2.275\n",
      "오차의 한계: 2.781\n",
      "구간 추정량: -0.506 ~  5.056\n"
     ]
    }
   ],
   "source": [
    "# 대응표본 크기가 30이상인 경우: z 검정\n",
    "\n",
    "np.random.seed(0)\n",
    "x1 = np.random.randint(80, 100, 40)\n",
    "x2 = np.random.randint(80, 100, 40)\n",
    "n = len(x1)\n",
    "df = n-1\n",
    "a = 0.05\n",
    "\n",
    "d = x1 - x2\n",
    "d_mean = d.mean()\n",
    "std = d.std(ddof=1)\n",
    "se = std/np.sqrt(n)\n",
    "z = norm.ppf(1-a/2)\n",
    "me = se*z\n",
    "\n",
    "print(f\"점추정량: {d_mean}\") #두 대응표본 차의 평균\n",
    "print(f\"오차의 한계: {me:.3f}\")\n",
    "print(f\"구간 추정량: {d_mean - me:.3f} ~ {d_mean + me: .3f}\")"
   ]
  },
  {
   "cell_type": "code",
   "execution_count": 121,
   "metadata": {},
   "outputs": [
    {
     "name": "stdout",
     "output_type": "stream",
     "text": [
      "검정통계량: 1.604\n",
      "신뢰구간: [-0.5056663862477926, 5.055666386247792]\n",
      "p_value 0.109로 귀무가설을 기각하지 못함\n"
     ]
    }
   ],
   "source": [
    "# 대응푶본 모평균 차의 가설검정 : z\n",
    "test_a = 0.05\n",
    "d0 = 0\n",
    "zstat = (d_mean - d0)/se\n",
    "\n",
    "def choice_z3_twoway(op): #0: 양측, 1:right, 2:left\n",
    "    if op == 0:\n",
    "        z = norm.ppf(1-test_a/2)\n",
    "        true_r = [d_mean - z*se, d_mean + z*se] #신뢰구간\n",
    "        p_value = (1-norm.cdf(np.abs(zstat)))*2 #양측이니까 *2\n",
    "        \n",
    "    elif op == 1:\n",
    "        z = norm.ppf(1-test_a)\n",
    "        true_r = [d_mean+z*se]\n",
    "        p_value = 1-norm.cdf(zstat)\n",
    "    else:\n",
    "        z = norm.ppf(test_a, df)\n",
    "        true_r = [d_mean-z*se]\n",
    "        p_value = norm.cdf(zstat)\n",
    "    print(f\"검정통계량: {zstat:.3f}\")\n",
    "    print(f\"신뢰구간: {true_r}\")\n",
    "    print(f\"p_value {p_value:.3f}로 귀무가설을\", \"기각\" if p_value < 0.05 else \"기각하지 못함\")\n",
    "choice_z3_twoway(0)"
   ]
  },
  {
   "cell_type": "code",
   "execution_count": 122,
   "metadata": {},
   "outputs": [
    {
     "name": "stdout",
     "output_type": "stream",
     "text": [
      "라이브러리 z 대응표본 검정\n",
      "검정통계량: 1.604 / 유의확률: 0.117\n"
     ]
    }
   ],
   "source": [
    "# 라이브러리: z test는 없어서 직접구현 필요\n",
    "from scipy.stats import ttest_rel\n",
    "\n",
    "zstat, p = ttest_rel(x1, x2, alternative='two-sided')\n",
    "\n",
    "print(\"라이브러리 z 대응표본 검정\")\n",
    "print(f\"검정통계량: {zstat:.3f} / 유의확률: {p:.3f}\")"
   ]
  },
  {
   "cell_type": "markdown",
   "metadata": {},
   "source": [
    "## 모비율 차이의 추정과 가설검정: z분포"
   ]
  },
  {
   "cell_type": "code",
   "execution_count": 123,
   "metadata": {},
   "outputs": [
    {
     "name": "stdout",
     "output_type": "stream",
     "text": [
      "점 추정량: 0.080\n",
      "오차 한계: 0.100\n",
      "구간 추정량: -0.020 ~ 0.180\n"
     ]
    }
   ],
   "source": [
    "# 독립표본 모비율 차이의 추정\n",
    "n1 = 250 #캠페인 후의 인지도(관심있는 대상)\n",
    "p1 = 120/n1\n",
    "n2 = 150 # 캠페인 전의 인지도\n",
    "p2 = 60/n2\n",
    "a = 0.05\n",
    "\n",
    "d = p1- p2 # 모비율 차\n",
    "z = norm.ppf(1-a/2)\n",
    "se = np.sqrt(p1*(1-p1)/n1 + p2*(1-p2)/n2)\n",
    "me = z*se\n",
    "\n",
    "print(f\"점 추정량: {d:.3f}\")\n",
    "print(f\"오차 한계: {me:.3f}\")\n",
    "print(f\"구간 추정량: {d - me:.3f} ~ {d + me:.3f}\")\n"
   ]
  },
  {
   "cell_type": "code",
   "execution_count": 125,
   "metadata": {},
   "outputs": [
    {
     "name": "stdout",
     "output_type": "stream",
     "text": [
      "검정통계량: 1.557\n",
      "신뢰구간: [0.1638455968499331]\n",
      "p_value 0.060로 귀무가설을 기각하지 못함\n"
     ]
    }
   ],
   "source": [
    "# 독립표본 모비유 차이의 가설검정\n",
    "# H0: 모비율 차이는 없다.(0) / H1: 모비율 차이는 있다.\n",
    "\n",
    "d0 = 0\n",
    "pp = (n1*p1 + n2*p2) / (n1+n2) #합동표본비율\n",
    "se2 = np.sqrt(pp*(1-pp)*(1/n1+1/n2))\n",
    "zstat = (p1-p2-d0)/se2\n",
    "\n",
    "def choice_zp_twoway(op): #0: 양측, 1:right, 2:left\n",
    "    if op == 0:\n",
    "        z = norm.ppf(1-test_a/2)\n",
    "        true_r = [d - z*se, d + z*se] #신뢰구간\n",
    "        p_value = (1-norm.cdf(np.abs(zstat)))*2 #양측이니까 *2\n",
    "        \n",
    "    elif op == 1:\n",
    "        z = norm.ppf(1-test_a)\n",
    "        true_r = [d+z*se]\n",
    "        p_value = 1-norm.cdf(zstat)\n",
    "    else:\n",
    "        z = norm.ppf(test_a, df)\n",
    "        true_r = [d-z*se]\n",
    "        p_value = norm.cdf(zstat)\n",
    "    print(f\"검정통계량: {zstat:.3f}\")\n",
    "    print(f\"신뢰구간: {true_r}\")\n",
    "    print(f\"p_value {p_value:.3f}로 귀무가설을\", \"기각\" if p_value < 0.05 else \"기각하지 못함\")\n",
    "\n",
    "# one-right\n",
    "choice_zp_twoway(1)"
   ]
  },
  {
   "cell_type": "markdown",
   "metadata": {},
   "source": [
    "## 모분산 비의 추정과 가설 검정: F 분포\n",
    "- 모집단의 분산을 비교하는 경우, 분산의 비가 1보다 큰지 작은지 여부 확인"
   ]
  },
  {
   "cell_type": "code",
   "execution_count": 129,
   "metadata": {},
   "outputs": [
    {
     "name": "stdout",
     "output_type": "stream",
     "text": [
      "점 추정량: 0.764\n",
      "구간추정량: 0.190 ~ 3.075\n"
     ]
    }
   ],
   "source": [
    "# 모분산 비의 추정\n",
    "from scipy.stats import f\n",
    "\n",
    "x1 = np.array([272, 255, 278, 282, 296, 312, 356, 296, 302, 312])\n",
    "x2 = np.array([276, 280, 369, 285, 303, 317, 290, 250, 313, 307])\n",
    "\n",
    "n1 = len(x1)\n",
    "n2 = len(x2)\n",
    "df1 = n1-1\n",
    "df2 = n2-1 \n",
    "v1 = x1.std(ddof=1)**2 #표본분산\n",
    "v2 = x2.std(ddof=1)**2\n",
    "\n",
    "a = 0.05\n",
    "fstat = v1/v2\n",
    "f1 = f.ppf(a/2, df2, df1)\n",
    "f2 = f.ppf(1-a/2, df2, df1)\n",
    "\n",
    "down = f1*fstat\n",
    "up = f2*fstat\n",
    "\n",
    "print(f\"점 추정량: {fstat:.3f}\")\n",
    "print(f\"구간추정량: {down:.3f} ~ {up:.3f}\")"
   ]
  },
  {
   "cell_type": "code",
   "execution_count": 131,
   "metadata": {},
   "outputs": [
    {
     "name": "stdout",
     "output_type": "stream",
     "text": [
      "검정통계량: 0.764\n",
      "신뢰구간: [4.025994158282978]\n",
      "p_value 0.347로 귀무가설을 기각하지 못함\n"
     ]
    }
   ],
   "source": [
    "# 모분산 비의 가설검정\n",
    "# H0: 모분산 비는 1이다. / H1: 모분산 1 < 모분산 2(one-left)\n",
    "v0 = 1\n",
    "trust = []\n",
    "\n",
    "def choice_f_twoway(op): #0: 양측, 1:right(1 > 2), 2:left(1 < 2)\n",
    "    if op == 0:\n",
    "        if f.cdf(fstat, df1, df2) < 0.5:\n",
    "            sp = f.cdf(fstat, df1, df2)*2 #유의확률\n",
    "        else:\n",
    "            sp = (1-f.cdf(fstat, df1, df2))*2\n",
    "        trust.append(f.ppf(a/2, df1, df2))\n",
    "        trust.append(f.ppf(1-a/2, df1, df2))\n",
    "    elif op == 1:\n",
    "        sp = 1-f.cdf(fstat, df1, df2)\n",
    "        up = f.ppf(1-a/2, df1, df2)\n",
    "        trust.append(f.ppf(a/2, df1, df2))\n",
    "    else:\n",
    "        sp = f.cdf(fstat, df1, df2)\n",
    "        down = f.ppf(a/2, df1, df2)\n",
    "        trust.append(f.ppf(1-a/2, df1, df2))\n",
    "    print(f\"검정통계량: {fstat:.3f}\")\n",
    "    print(f\"신뢰구간: {trust}\")\n",
    "    print(f\"p_value {sp:.3f}로 귀무가설을\", \"기각\" if sp < 0.05 else \"기각하지 못함\")\n",
    "\n",
    "# one-left\n",
    "choice_f_twoway(2)"
   ]
  },
  {
   "cell_type": "markdown",
   "metadata": {},
   "source": [
    "# 3. 분산분석의 가정\n",
    "**분산분석은 3개 이상의 집단의 모평균 차이를 검정하기 위해** 전체 제곱합과 자유도를 전체와 오차로 분할하는 과정이다.  \n",
    "분산분석을 시행하기 위해서는 가정을 충족해야 한다. \n",
    "- 정규성: 각 표본의 반응변수는 정규분포여야 한다.\n",
    "  - 검정방법: Shapiro(소규모샘플), Anderson-Darling(대규모샘플), Kolmogorov-Smirnov, Jarque-Bera, QQ plot\n",
    "  - H0: 표본의 모집단이 정규분포와 차이가 없다.(만족) / H1: 표본의 모집단이 정규분포와 차이가 있다. \n",
    "- 등분산성: 모든 집단의 반응변수의 분산이 동일해야 한다.\n",
    "  - 검정방법: Bartlett 검정(정규성 만족하는 샘플), Levene 검정(정규성 만족하지 않는 샘플)\n",
    "  - H0: 집단 간 모분산에는 차이가 없다.(만족) / H1: 집단 간 모분산에는 차이가 있다.\n",
    "- 독립성: 각 관찰값은 독립적이여야 한다.\n",
    "\n",
    "**※ 일반적으로 수집한 관찰값은 독립적으로 수집되었다고 보기 때문에 독립성 검정은 진행하지 않는 편이다.**  \n",
    "**※ 분산분석을 진행하기 전 샘플의 정규성과 등분산 검정을 통해 가정을 충족하는지 여부를 확인한다.**"
   ]
  },
  {
   "cell_type": "markdown",
   "metadata": {},
   "source": [
    "## 정규성 검정"
   ]
  },
  {
   "cell_type": "code",
   "execution_count": 149,
   "metadata": {},
   "outputs": [
    {
     "name": "stdout",
     "output_type": "stream",
     "text": [
      "shapiro test 통계량/p-value: 0.993 / 0.869\n",
      "andelson-darling test 통계량/임계치/유의수준: 0.181 / 0.759 / 0.050\n",
      "KS test 통계량/p-value: 0.058 / 0.867\n",
      "jarque_bera test 통계량/p-value: 0.597 / 0.742\n"
     ]
    },
    {
     "data": {
      "image/png": "[encoded data removed]",
      "text/plain": [
       "<Figure size 720x216 with 2 Axes>"
      ]
     },
     "metadata": {
      "needs_background": "light"
     },
     "output_type": "display_data"
    }
   ],
   "source": [
    "# 정규성을 만족하는 데이터 생성: 모든 검정에서 정규성 만족\n",
    "from scipy.stats import norm\n",
    "\n",
    "dt = norm.rvs(size=100, random_state=0)\n",
    "\n",
    "#정규성 검정\n",
    "from scipy.stats import shapiro, anderson, jarque_bera, kstest, zscore, probplot\n",
    "\n",
    "#Shapiro 검정: 검정통계량, p-value 반환\n",
    "s_stat, p1 = shapiro(dt)\n",
    "print(f'shapiro test 통계량/p-value: {s_stat:.3f} / {p1:.3f}') \n",
    "\n",
    "# 안델슨-델링 검정: 검정통계량, 임계치, 유의수준\n",
    "a_stat, cv, sl =anderson(dt, dist='norm') \n",
    "print(f'andelson-darling test 통계량/임계치/유의수준: {a_stat:.3f} / {cv[2]:.3f} / {sl[2]*0.01:.3f}') \n",
    "\n",
    "#KS(콜모고로프 스미르노프) test: 검정통계량, p-value\n",
    "ks_stat, p3 = kstest(dt, cdf=norm.cdf)\n",
    "print(f'KS test 통계량/p-value: {ks_stat:.3f} / {p3:.3f}')\n",
    "\n",
    "# jarque_bera: 검정통계량, p-value, 왜도, 첨도\n",
    "j_stat, p4 = jarque_bera(dt)\n",
    "print(f'jarque_bera test 통계량/p-value: {j_stat:.3f} / {p4:.3f}')\n",
    "\n",
    "# QQ plot and histogram\n",
    "import matplotlib.pyplot as plt\n",
    "zdata = zscore(dt)\n",
    "fig, ax = plt.subplots(1, 2, figsize=(10, 3))\n",
    "\n",
    "#QQ plot: 데이터들이 대각선에 붙어있을수록 정규성을 만족\n",
    "(osm, odr), (slope, intercept, r) = probplot(zdata, plot=ax[0])\n",
    "ax[0].set_title('QQ plot')\n",
    "\n",
    "#histogram\n",
    "ax[1].hist(dt)\n",
    "ax[1].set_title('histogram')\n",
    "\n",
    "plt.show()"
   ]
  },
  {
   "cell_type": "markdown",
   "metadata": {},
   "source": [
    "## 등분산 검정\n",
    "### k표본 등분산 검정(Bartlett: 정규성 만족)"
   ]
  },
  {
   "cell_type": "code",
   "execution_count": 151,
   "metadata": {},
   "outputs": [
    {
     "name": "stdout",
     "output_type": "stream",
     "text": [
      "등분산 검정[정규성 만족]:stat 1.082, p-value: 0.582\n"
     ]
    }
   ],
   "source": [
    "from scipy.stats import bartlett\n",
    "\n",
    "dt1 = norm.rvs(size=50, random_state=0)\n",
    "dt2 = norm.rvs(size=50, random_state=1)\n",
    "dt3 = norm.rvs(size=50, random_state=2)\n",
    "\n",
    "b_stat, p = bartlett(dt1, dt2, dt3)\n",
    "print(f\"등분산 검정[정규성 만족]:stat {b_stat:.3f}, p-value: {p:.3f}\") # 등분산 만족"
   ]
  },
  {
   "cell_type": "markdown",
   "metadata": {},
   "source": [
    "### k 표본 등분산 검정(Levene: 정규성 불만족)"
   ]
  },
  {
   "cell_type": "code",
   "execution_count": 158,
   "metadata": {},
   "outputs": [
    {
     "name": "stdout",
     "output_type": "stream",
     "text": [
      "등분산 검정[정규성 만족]:stat 0.145, p-value: 0.867\n"
     ]
    }
   ],
   "source": [
    "from scipy.stats import levene\n",
    "import pandas as pd\n",
    "\n",
    "dd = np.array([[48, 54, 57, 54, 62], \n",
    "              [73, 63, 66, 64, 74], \n",
    "              [51, 63, 61, 54, 56]])\n",
    "\n",
    "dt = pd.DataFrame(dd.T, columns=['fac1', 'fac2', 'fac3'])\n",
    "\n",
    "l_stat, p = levene(dt['fac1'], dt['fac2'], dt['fac3'], center='mean')\n",
    "print(f\"등분산 검정[정규성 만족]:stat {l_stat:.3f}, p-value: {p:.3f}\") # 등분산 만족"
   ]
  },
  {
   "cell_type": "code",
   "execution_count": 181,
   "metadata": {},
   "outputs": [
    {
     "name": "stdout",
     "output_type": "stream",
     "text": [
      "오른쪽 검정의 임계값: 3.885 / 검정통계량: 0.145\n",
      "유의수준 / 유의확률: 0.05 / 0.867\n"
     ]
    }
   ],
   "source": [
    "#수기: 표본수가 동일한 검정\n",
    "\n",
    "a = 0.05\n",
    "\n",
    "n1 = n2 = n3 = len(dt)\n",
    "N = n1+n2+n3 # 총 표본수\n",
    "k = dt.shape[1] # 그룹의 수(수준 수)\n",
    "df1 = k - 1 # 모집단 자유도\n",
    "df2 = N - k # 오차 자유도(총 표본수 - 그룹수)\n",
    "df3 = N - 1 # 전체자유도(총 표본수 - 1)\n",
    "\n",
    "l_mean = dt.mean().values #각 수준의 평균\n",
    "zij1 = np.abs(dt['fac1'] - l_mean[0]) #각 오차\n",
    "zij2 = np.abs(dt['fac2'] - l_mean[1])\n",
    "zij3 = np.abs(dt['fac3'] - l_mean[2])\n",
    "zi1 = zij1.mean() #오차평균\n",
    "zi2 = zij2.mean()\n",
    "zi3 = zij3.mean()\n",
    "z = (zij1.sum()+zij2.sum()+zij3.sum())/N #전체 오차 평균\n",
    "\n",
    "F = df2 / df1 * (n1*(zi1-z)**2 + n2*(zi2-z)**2 + n3*(zi3-z)**2) / sum((zij1-zi1)**2 + (zij2-zi2)**2 + (zij3-zi3)**2)\n",
    "\n",
    "from scipy.stats import f\n",
    "\n",
    "cv = f.ppf(1-a, df1, df2) #F가 cv보다 크면 기각\n",
    "sp = 1-f.cdf(F, df1, df2)\n",
    "\n",
    "print(f\"오른쪽 검정의 임계값: {cv:.3f} / 검정통계량: {F:.3f}\")\n",
    "print(f\"유의수준 / 유의확률: {a} / {sp:.3f}\")"
   ]
  },
  {
   "cell_type": "code",
   "execution_count": 199,
   "metadata": {},
   "outputs": [
    {
     "name": "stdout",
     "output_type": "stream",
     "text": [
      "오른쪽 검정의 임계값: 3.982 / 검정통계량: 0.096\n",
      "유의수준 / 유의확률: 0.05 / 0.909\n"
     ]
    }
   ],
   "source": [
    "#수기: 표본수가 다른 검정\n",
    "a = 0.05\n",
    "\n",
    "dt = np.array([[36, 41, 42, 49], [40, 48, 39, 45, 44], [35, 37, 42, 34, 32]])\n",
    "\n",
    "n1, n2, n3 = len(dt[0]), len(dt[1]), len(dt[2])\n",
    "N = n1+n2+n3 # 총 표본수\n",
    "k = len(dt) # 그룹의 수(수준 수)\n",
    "df1 = k - 1 # 모집단 자유도\n",
    "df2 = N - k # 오차 자유도(총 표본수 - 그룹수)\n",
    "df3 = N - 1 # 전체자유도(총 표본수 - 1)\n",
    "\n",
    "l_mean = []\n",
    "\n",
    "for d in dt:#각 수준의 평균\n",
    "    l_mean.append(np.mean(d))\n",
    "\n",
    "zij1 = np.abs(dt[0] - l_mean[0]) #각 오차\n",
    "zij2 = np.abs(dt[1] - l_mean[1])\n",
    "zij3 = np.abs(dt[2] - l_mean[2])\n",
    "zi1 = zij1.mean() #오차평균\n",
    "zi2 = zij2.mean()\n",
    "zi3 = zij3.mean()\n",
    "z = (zij1.sum()+zij2.sum()+zij3.sum())/N #전체 오차 평균\n",
    "\n",
    "F = df2 / df1 * (n1*(zi1-z)**2 + n2*(zi2-z)**2 + n3*(zi3-z)**2) / (sum((zij1-zi1)**2) + sum((zij2-zi2)**2) + sum((zij3-zi3)**2))\n",
    "\n",
    "from scipy.stats import f\n",
    "\n",
    "cv = f.ppf(1-a, df1, df2) #F가 cv보다 크면 기각\n",
    "sp = 1-f.cdf(F, df1, df2)\n",
    "\n",
    "print(f\"오른쪽 검정의 임계값: {cv:.3f} / 검정통계량: {F:.3f}\")\n",
    "print(f\"유의수준 / 유의확률: {a} / {sp:.3f}\")"
   ]
  },
  {
   "cell_type": "code",
   "execution_count": 200,
   "metadata": {},
   "outputs": [
    {
     "name": "stdout",
     "output_type": "stream",
     "text": [
      "등분산 검정[정규성 만족]:stat 0.096, p-value: 0.909\n"
     ]
    }
   ],
   "source": [
    "l_stat2, p2 = levene(dt[0], dt[1], dt[2], center='mean')\n",
    "print(f\"등분산 검정[정규성 만족]:stat {l_stat2:.3f}, p-value: {p2:.3f}\") # 등분산 만족"
   ]
  },
  {
   "cell_type": "markdown",
   "metadata": {},
   "source": [
    "## 분산분석: F분포\n",
    "분산분석의 모든 가정(정규성, 등분산성, 독립성)을 만족할 때 standard ANOVA를 진행한다.  \n",
    "등분산을 만족하지 않거나 샘플이 불균형일 경우 다음과 같이 각 상황에 맞는 분산분석과 사후검정을 진행한다.  \n",
    "※ 사후검정: 분산분석을 통해 k개의 집단 중에서 적어도 한 집단의 모평균이 다르다고 판단될 때 어느 집단 간의 모평균이 다른지 확인\n",
    "\n",
    "- 정규성, 등분산, 샘플사이즈 동일\n",
    "  - 분산분석: standard ANOVA\n",
    "  - 사후검정: **Tukey HSD**, snk, Dunnett, Duncan, REQWG, REGWF\n",
    "- 정규성, 등분산, 샘플사이즈 다름\n",
    "  - 분산분석: standard ANOVA\n",
    "  - 사후검정: **Fisher's LSD**, Scheffe, Dunnett, **Tukey HSD**, Bonferroni, sidak, Hochberg, GT2, Gabrial\n",
    "- 정규성, 등분산 불만족\n",
    "  - 분산분석: Welch's ANOVA, Broun-Forsythe ANOVA\n",
    "  - 사후검정: GamesHowell, Dunnett T3, Dunnett C, Tamhane T2  \n",
    "  \n",
    " \n",
    "standard ANOVA는 종속변수와 독립변수의 개수에 따라서 분류  \n",
    "- 일원배치 분산분석(One-way ANOVA, CRD:완전확률화계획법): 종속변수1, 독립변수 1개\n",
    "- 이원배치 분산분석(Two-way ANOVA): 종속변수 1, 독립변수 2개\n",
    "- multi-way ANOVA: 종속변수 1, 독립변수 3개 이상"
   ]
  },
  {
   "cell_type": "markdown",
   "metadata": {},
   "source": [
    "#### 등분산인 one-way ANOVA(수준별 샘플사이즈가 동일한 완전확률화계획법)"
   ]
  },
  {
   "cell_type": "code",
   "execution_count": 213,
   "metadata": {},
   "outputs": [
    {
     "name": "stdout",
     "output_type": "stream",
     "text": [
      "정규/등분산 one-way ANOVA 통계량은 6.953, p-value는 0.002\n",
      "유의수준 5% 하에서 귀무가설 기각\n"
     ]
    }
   ],
   "source": [
    "dd = np.array([[76, 80, 78, 79, 83, 74], \n",
    "              [82, 75, 83, 78, 85, 80], \n",
    "              [79, 87, 88, 86, 84, 82], \n",
    "              [81, 74, 76, 78, 73, 70]]).T\n",
    "\n",
    "dt = pd.DataFrame(dd, columns=['A0', 'A1', 'A2', 'A3'])\n",
    "\n",
    "# H0: 모든 모집단의 평균이 동일 / H1: 모든 모집단의 평균이 동일한 것은 아님\n",
    "from statsmodels.stats.oneway import anova_oneway\n",
    "\n",
    "oa = anova_oneway(data = dt.melt()['value'], \n",
    "                 groups=dt.melt()['variable'], \n",
    "                 use_var = 'equal') #등분산\n",
    "\n",
    "print(f\"정규/등분산 one-way ANOVA 통계량은 {oa.statistic:.3f}, p-value는 {oa.pvalue:.3f}\") # 귀무가설 기각\n",
    "print(f\"유의수준 5% 하에서 귀무가설\", \"기각\" if oa.pvalue < 0.05 else \"채택\")"
   ]
  },
  {
   "cell_type": "code",
   "execution_count": 212,
   "metadata": {},
   "outputs": [
    {
     "data": {
      "text/html": [
       "<div>\n",
       "<style scoped>\n",
       "    .dataframe tbody tr th:only-of-type {\n",
       "        vertical-align: middle;\n",
       "    }\n",
       "\n",
       "    .dataframe tbody tr th {\n",
       "        vertical-align: top;\n",
       "    }\n",
       "\n",
       "    .dataframe thead th {\n",
       "        text-align: right;\n",
       "    }\n",
       "</style>\n",
       "<table border=\"1\" class=\"dataframe\">\n",
       "  <thead>\n",
       "    <tr style=\"text-align: right;\">\n",
       "      <th></th>\n",
       "      <th>variable</th>\n",
       "      <th>value</th>\n",
       "    </tr>\n",
       "  </thead>\n",
       "  <tbody>\n",
       "    <tr>\n",
       "      <th>0</th>\n",
       "      <td>A0</td>\n",
       "      <td>76</td>\n",
       "    </tr>\n",
       "    <tr>\n",
       "      <th>1</th>\n",
       "      <td>A0</td>\n",
       "      <td>80</td>\n",
       "    </tr>\n",
       "    <tr>\n",
       "      <th>2</th>\n",
       "      <td>A0</td>\n",
       "      <td>78</td>\n",
       "    </tr>\n",
       "  </tbody>\n",
       "</table>\n",
       "</div>"
      ],
      "text/plain": [
       "  variable  value\n",
       "0       A0     76\n",
       "1       A0     80\n",
       "2       A0     78"
      ]
     },
     "metadata": {},
     "output_type": "display_data"
    },
    {
     "name": "stdout",
     "output_type": "stream",
     "text": [
      " Multiple Comparison of Means - Tukey HSD, FWER=0.05 \n",
      "=====================================================\n",
      "group1 group2 meandiff p-adj   lower    upper  reject\n",
      "-----------------------------------------------------\n",
      "    A0     A1   2.1667  0.713   -3.518  7.8513  False\n",
      "    A0     A2      6.0 0.0363   0.3153 11.6847   True\n",
      "    A0     A3     -3.0  0.469  -8.6847  2.6847  False\n",
      "    A1     A2   3.8333 0.2647  -1.8513   9.518  False\n",
      "    A1     A3  -5.1667 0.0831 -10.8513   0.518  False\n",
      "    A2     A3     -9.0 0.0014 -14.6847 -3.3153   True\n",
      "-----------------------------------------------------\n"
     ]
    },
    {
     "data": {
      "image/png": "[encoded data removed]",
      "text/plain": [
       "<Figure size 720x432 with 1 Axes>"
      ]
     },
     "metadata": {
      "needs_background": "light"
     },
     "output_type": "display_data"
    }
   ],
   "source": [
    "# 사후검정(Tukey HSD): 정규성, 등분산성, 샘플사이즈 동일\n",
    "# from statsmodels.sandbox.stats.multicomp import MultiComparison\n",
    "from statsmodels.stats.multicomp import pairwise_tukeyhsd\n",
    "from scipy.stats import ttest_ind\n",
    "\n",
    "org_data = dt.melt()\n",
    "\n",
    "display(org_data.head(3))\n",
    "\n",
    "\n",
    "tukey = pairwise_tukeyhsd(endog=org_data['value'], groups=org_data['variable'], alpha=0.05)\n",
    "\n",
    "print(tukey)\n",
    "tukey.plot_simultaneous()\n",
    "plt.axvline(0, color='red', linestyle='--')  # 평균 차이 0 기준선\n",
    "plt.show()"
   ]
  },
  {
   "cell_type": "markdown",
   "metadata": {},
   "source": [
    "사후검정 결과...  \n",
    "- (A0-A2), (A1-A3), (A2-A3) 쌍에서 모평균의 차이가 있는 것으로 확인\n",
    "- meandiff는 각 그룹간 모평균 차의 점추정량"
   ]
  },
  {
   "cell_type": "code",
   "execution_count": 238,
   "metadata": {},
   "outputs": [
    {
     "name": "stdout",
     "output_type": "stream",
     "text": [
      "SSTR: 258.125, SSE: 247.500, SST: 0.000\n",
      "MSR: 86.042, MSE: 12.375, F: 6.953\n",
      "오른쪽 검정의 임계값: 3.098 / 검정통계량: 6.953\n",
      "유의수준 / 유의확률: 0.05 / 0.002\n"
     ]
    }
   ],
   "source": [
    "# 수기 one-way ANOVA\n",
    "o_means = dt.mean() #모집단별 평균\n",
    "mu = o_means.values.mean() #전체평균\n",
    "var = dt.var(ddof=1) #모집단별 분산\n",
    "n = dt.shape[0]*dt.shape[1] #표본 전체개수\n",
    "k = dt.shape[0] #모집단별 표본개수\n",
    "level = dt.shape[1] # 그룹(수준)의 개수\n",
    "dfr = level - 1 # 수준 자유도\n",
    "dfe = n - dfr - 1# 오차 자유도\n",
    "\n",
    "sstr = (k*(o_means - mu)**2).sum() #처리제곱: 각 수준 평균과 전체평균 차 제곱합\n",
    "sse = ((k-1)*var).sum() #오차제곱\n",
    "sst = (dt.values - mu).sum() #sstr + sse\n",
    "\n",
    "MSR = sstr/dfr\n",
    "MSE = sse/dfe\n",
    "F = MSR/MSE\n",
    "\n",
    "print(f\"SSTR: {sstr:.3f}, SSE: {sse:.3f}, SST: {sst:.3f}\")\n",
    "print(f\"MSR: {MSR:.3f}, MSE: {MSE:.3f}, F: {F:.3f}\")\n",
    "\n",
    "from scipy.stats import f\n",
    "cv = f.ppf(1-a, dfr, dfe)\n",
    "sp = 1-f.cdf(F, dfr, dfe)\n",
    "\n",
    "print(f\"오른쪽 검정의 임계값: {cv:.3f} / 검정통계량: {F:.3f}\")\n",
    "print(f\"유의수준 / 유의확률: {a} / {sp:.3f}\") #기각"
   ]
  },
  {
   "cell_type": "markdown",
   "metadata": {},
   "source": [
    "#### 등분산인 one-way ANOVA(수준별 샘플사이즈가 다른 완전확률화계획법)"
   ]
  },
  {
   "cell_type": "code",
   "execution_count": 240,
   "metadata": {},
   "outputs": [
    {
     "name": "stdout",
     "output_type": "stream",
     "text": [
      "stat: 4.347, p-value: 0.019\n"
     ]
    }
   ],
   "source": [
    "dt = [[81, 75, 69, 90, 72, 83], \n",
    "     [65, 80, 73, 79, 81, 69], \n",
    "     [72, 67, 62, 76, 80], \n",
    "     [89, 94, 79, 88]]\n",
    "\n",
    "from scipy.stats import f_oneway\n",
    "\n",
    "oa2 = f_oneway(*dt)\n",
    "print(f\"stat: {oa2.statistic:.3f}, p-value: {oa2.pvalue:.3f}\") #귀무가설 기각"
   ]
  },
  {
   "cell_type": "code",
   "execution_count": 250,
   "metadata": {},
   "outputs": [
    {
     "name": "stdout",
     "output_type": "stream",
     "text": [
      "Test Multiple Comparison ttest_ind \n",
      "FWER=0.05 method=bonf\n",
      "alphacSidak=0.01, alphacBonf=0.008\n",
      "=============================================\n",
      "group1 group2   stat   pval  pval_corr reject\n",
      "---------------------------------------------\n",
      "    A0     A1  0.9218 0.3783       1.0  False\n",
      "    A0     A2  1.5262 0.1613    0.9678  False\n",
      "    A0     A3 -1.9591 0.0858    0.5146  False\n",
      "    A1     A2  0.7506 0.4721       1.0  False\n",
      "    A1     A3 -3.1239 0.0141    0.0849  False\n",
      "    A2     A3 -3.5486 0.0094    0.0562  False\n",
      "---------------------------------------------\n"
     ]
    }
   ],
   "source": [
    "# 사후검정: 정규성, 등분산성, 샘플사이즈 다름- Bonferroni\n",
    "\n",
    "df = pd.DataFrame(dt).T\n",
    "df.columns = ['A0', 'A1', 'A2', 'A3']\n",
    "df = df.melt().dropna()\n",
    "\n",
    "from statsmodels.stats.multicomp import MultiComparison\n",
    "from scipy.stats import ttest_ind\n",
    "\n",
    "mc = MultiComparison(data= df['value'], \n",
    "                    groups=df['variable']).allpairtest(testfunc=ttest_ind, method='bonf')\n",
    "\n",
    "print(mc[0])"
   ]
  },
  {
   "cell_type": "markdown",
   "metadata": {},
   "source": [
    "보정된 p-value인 'pval_corr'을 확인해야 한다.  \n",
    "유의수준 5% 하에서 모든 그룹 쌍이 0.05보다 크므로 모든 집단의 모평균의 차이가 없다.(귀무가설 기각 x)"
   ]
  },
  {
   "cell_type": "markdown",
   "metadata": {},
   "source": [
    "####  이분산(등분산x)인 one-way ANOVA"
   ]
  },
  {
   "cell_type": "code",
   "execution_count": 255,
   "metadata": {},
   "outputs": [
    {
     "name": "stdout",
     "output_type": "stream",
     "text": [
      "Welch's one-way stat 6.019, p-value 0.011\n",
      "Brown-Forsythe one-way stat 6.953, p-value 0.002\n",
      "유의수준 5% 하에서 각 집단의 모평균의 차이가 모두 같지는 않다.\n"
     ]
    }
   ],
   "source": [
    "#파라미터 use_var를 다르게 설정하여 다양한 분산분석 가능\n",
    "#'equal': standard anova, 'unequal': Welch anova, 'bf': Brown-Forsythe\n",
    "\n",
    "r = np.array([[76, 80, 78, 79, 83, 74], \n",
    "             [82, 75, 83, 78, 85, 80], \n",
    "             [79, 87, 88, 86, 84, 82], \n",
    "             [81, 74, 76, 78, 73, 70]]).T\n",
    "\n",
    "dt = pd.DataFrame(r, columns = ['A1', 'A2', 'A3', 'A4'])\n",
    "\n",
    "#Wehlch's one-way anova\n",
    "welch = anova_oneway(data = dt.melt()['value'], \n",
    "                    groups=dt.melt()['variable'], \n",
    "                    use_var='unequal')\n",
    "\n",
    "print(f\"Welch's one-way stat {welch.statistic:.3f}, p-value {welch.pvalue:.3f}\")\n",
    "\n",
    "#Brown-Forsythe\n",
    "bf = anova_oneway(data = dt.melt()['value'], \n",
    "                    groups=dt.melt()['variable'], \n",
    "                    use_var='bf')\n",
    "\n",
    "print(f\"Brown-Forsythe one-way stat {bf.statistic:.3f}, p-value {bf.pvalue:.3f}\")\n",
    "\n",
    "print(\"유의수준 5% 하에서 각 집단의 모평균의 차이가 모두 같지는 않다.\")"
   ]
  },
  {
   "cell_type": "code",
   "execution_count": 257,
   "metadata": {},
   "outputs": [
    {
     "data": {
      "text/html": [
       "<div>\n",
       "<style scoped>\n",
       "    .dataframe tbody tr th:only-of-type {\n",
       "        vertical-align: middle;\n",
       "    }\n",
       "\n",
       "    .dataframe tbody tr th {\n",
       "        vertical-align: top;\n",
       "    }\n",
       "\n",
       "    .dataframe thead th {\n",
       "        text-align: right;\n",
       "    }\n",
       "</style>\n",
       "<table border=\"1\" class=\"dataframe\">\n",
       "  <thead>\n",
       "    <tr style=\"text-align: right;\">\n",
       "      <th></th>\n",
       "      <th>A</th>\n",
       "      <th>B</th>\n",
       "      <th>mean(A)</th>\n",
       "      <th>mean(B)</th>\n",
       "      <th>diff</th>\n",
       "      <th>se</th>\n",
       "      <th>tail</th>\n",
       "      <th>T</th>\n",
       "      <th>df</th>\n",
       "      <th>pval</th>\n",
       "      <th>hedges</th>\n",
       "    </tr>\n",
       "  </thead>\n",
       "  <tbody>\n",
       "    <tr>\n",
       "      <th>0</th>\n",
       "      <td>A1</td>\n",
       "      <td>A2</td>\n",
       "      <td>78.333333</td>\n",
       "      <td>80.500000</td>\n",
       "      <td>-2.166667</td>\n",
       "      <td>1.383434</td>\n",
       "      <td>two-sided</td>\n",
       "      <td>-1.107436</td>\n",
       "      <td>9.805651</td>\n",
       "      <td>0.659345</td>\n",
       "      <td>-0.590196</td>\n",
       "    </tr>\n",
       "    <tr>\n",
       "      <th>1</th>\n",
       "      <td>A1</td>\n",
       "      <td>A3</td>\n",
       "      <td>78.333333</td>\n",
       "      <td>84.333333</td>\n",
       "      <td>-6.000000</td>\n",
       "      <td>1.333333</td>\n",
       "      <td>two-sided</td>\n",
       "      <td>-3.181981</td>\n",
       "      <td>9.944065</td>\n",
       "      <td>0.014513</td>\n",
       "      <td>-1.695801</td>\n",
       "    </tr>\n",
       "    <tr>\n",
       "      <th>2</th>\n",
       "      <td>A1</td>\n",
       "      <td>A4</td>\n",
       "      <td>78.333333</td>\n",
       "      <td>75.333333</td>\n",
       "      <td>3.000000</td>\n",
       "      <td>1.441450</td>\n",
       "      <td>two-sided</td>\n",
       "      <td>1.471657</td>\n",
       "      <td>9.583173</td>\n",
       "      <td>0.457487</td>\n",
       "      <td>0.784303</td>\n",
       "    </tr>\n",
       "    <tr>\n",
       "      <th>3</th>\n",
       "      <td>A2</td>\n",
       "      <td>A3</td>\n",
       "      <td>80.500000</td>\n",
       "      <td>84.333333</td>\n",
       "      <td>-3.833333</td>\n",
       "      <td>1.430812</td>\n",
       "      <td>two-sided</td>\n",
       "      <td>-1.894432</td>\n",
       "      <td>9.955991</td>\n",
       "      <td>0.246419</td>\n",
       "      <td>-1.009616</td>\n",
       "    </tr>\n",
       "    <tr>\n",
       "      <th>4</th>\n",
       "      <td>A2</td>\n",
       "      <td>A4</td>\n",
       "      <td>80.500000</td>\n",
       "      <td>75.333333</td>\n",
       "      <td>5.166667</td>\n",
       "      <td>1.532065</td>\n",
       "      <td>two-sided</td>\n",
       "      <td>2.384615</td>\n",
       "      <td>9.951485</td>\n",
       "      <td>0.098525</td>\n",
       "      <td>1.270854</td>\n",
       "    </tr>\n",
       "    <tr>\n",
       "      <th>5</th>\n",
       "      <td>A3</td>\n",
       "      <td>A4</td>\n",
       "      <td>84.333333</td>\n",
       "      <td>75.333333</td>\n",
       "      <td>9.000000</td>\n",
       "      <td>1.486981</td>\n",
       "      <td>two-sided</td>\n",
       "      <td>4.279788</td>\n",
       "      <td>9.819241</td>\n",
       "      <td>0.001000</td>\n",
       "      <td>2.280865</td>\n",
       "    </tr>\n",
       "  </tbody>\n",
       "</table>\n",
       "</div>"
      ],
      "text/plain": [
       "    A   B    mean(A)    mean(B)      diff        se       tail         T  \\\n",
       "0  A1  A2  78.333333  80.500000 -2.166667  1.383434  two-sided -1.107436   \n",
       "1  A1  A3  78.333333  84.333333 -6.000000  1.333333  two-sided -3.181981   \n",
       "2  A1  A4  78.333333  75.333333  3.000000  1.441450  two-sided  1.471657   \n",
       "3  A2  A3  80.500000  84.333333 -3.833333  1.430812  two-sided -1.894432   \n",
       "4  A2  A4  80.500000  75.333333  5.166667  1.532065  two-sided  2.384615   \n",
       "5  A3  A4  84.333333  75.333333  9.000000  1.486981  two-sided  4.279788   \n",
       "\n",
       "         df      pval    hedges  \n",
       "0  9.805651  0.659345 -0.590196  \n",
       "1  9.944065  0.014513 -1.695801  \n",
       "2  9.583173  0.457487  0.784303  \n",
       "3  9.955991  0.246419 -1.009616  \n",
       "4  9.951485  0.098525  1.270854  \n",
       "5  9.819241  0.001000  2.280865  "
      ]
     },
     "metadata": {},
     "output_type": "display_data"
    }
   ],
   "source": [
    "# 사후검정: GamesHowell\n",
    "from pingouin import pairwise_gameshowell\n",
    "\n",
    "dt = dt.melt()\n",
    "\n",
    "gw = pairwise_gameshowell(data = dt, dv='value', between='variable')\n",
    "display(gw)"
   ]
  },
  {
   "cell_type": "markdown",
   "metadata": {},
   "source": [
    "'pval'을 확인한다. 유의수준 5% 하에서  \n",
    "(A1 - A3), (A3 - A4) 그룹 간 모평균의 차이가 있다. "
   ]
  },
  {
   "cell_type": "markdown",
   "metadata": {},
   "source": [
    "### Two-way ANOVA\n",
    "\n",
    "| 용어                       | 의미                                          |\n",
    "| ------------------------ | ------------------------------------------- |\n",
    "| **모수인자 (fixed factor)**  | 실험자가 직접 설정하고 비교하고자 하는 요인 (예: 비료 종류, 온도 등)   |\n",
    "| **변량인자 (random factor)** | 실험자가 통제하지 않거나 무작위로 추출된 요인 (예: 지역, 토양, 시간 등) |\n",
    "| **조합별 데이터 수**            | 두 인자의 조합(A×B)마다 측정된 데이터 개수 (1개 or 2개 이상)    |\n",
    "\n",
    "\n",
    "1. 모수인자(fixed factor)+모수인자의 조합별 데이터 수가 1개: 반복이 없는 이원배치 분산분석\n",
    "\n",
    "| A (약 종류) | B (운동 유무) | 반응시간 |\n",
    "| -------- | --------- | ---- |\n",
    "| 약1       | 운동함       | 10   |\n",
    "| 약1       | 운동안함      | 12   |\n",
    "| 약2       | 운동함       | 15   |\n",
    "| 약2       | 운동안함      | 14   |\n",
    "\n",
    "\n",
    "2. 모수인자(fixed factor)+모수인자의 조합별 데이터 수가 2개 이상: 반복이 있는 이원배치 분산분석\n",
    "\n",
    "| A (비료) | B (관수량) | 수확량1 | 수확량2 |\n",
    "| ------ | ------- | ---- | ---- |\n",
    "| A1     | B1      | 20   | 22   |\n",
    "| A1     | B2      | 24   | 25   |\n",
    "| A2     | B1      | 19   | 21   |\n",
    "| A2     | B2      | 23   | 26   |\n",
    "\n",
    "\n",
    "3. 모수인자+변량인자 조합별 데이터 수 1개: 난괴법 또는 확률화블럭계획법(RBD)\n",
    "\n",
    "| 약 종류(A, fixed) | 사람(B, random) | 반응시간 |\n",
    "| -------------- | ------------- | ---- |\n",
    "| 약1             | 사람1           | 10   |\n",
    "| 약1             | 사람2           | 12   |\n",
    "| 약2             | 사람1           | 15   |\n",
    "| 약2             | 사람2           | 14   |\n",
    "\n",
    "\n",
    "4. 모수인자+변량인자 조합별 데이터 수 2개: 반복이 있는 이원배치 혼합모형(Mixed model)\n",
    "\n",
    "| 비료(fixed) | 지역(random) | 수확량1 | 수확량2 |\n",
    "| --------- | ---------- | ---- | ---- |\n",
    "| A1        | 지역1        | 30   | 31   |\n",
    "| A1        | 지역2        | 28   | 29   |\n",
    "| A2        | 지역1        | 35   | 36   |\n",
    "| A2        | 지역2        | 33   | 32   |\n",
    "\n",
    "- 가설설정\n",
    "  - H0: 변수 A, B에 따른 종속변수의 값에는 차이가 없으며, A-B의 상호작용 효과가 없다.\n",
    "  - H1: 모든 변수에 따른 종속변수 값에 차이가 없는 것은 아니다. A-B의 상호작용 효과가 있다.\n",
    "  - 사후검정: \n",
    "    - 모수인자+모수인자 조합인 경우, 교호작용 검증이 반드시 필요하며, 교호작용이 유의할 시 주효과 검정은 무의미(교호작용만)  \n",
    "      교호작용이 없을 시 유의하지 않은 교호작용 효과를 오차항에 풀링 후 모수인자들의 주효과 검정을 진행\n",
    "    - 모수인자+변량인자 조합인 경우, 교호작용이 유의할 때 모수인자의 주효과 검정만 의미가 있으며  \n",
    "      교호작용이 유의하지 않으면 유의하지 않은 교호작용 효과를 오차항에 풀링 후 모수인자의 주효과 검정을 진행\n",
    "      - 변량인자의 통계량: 이원배치 분산분석 설계의 상대적 효율성을 평가\n",
    "\n",
    "- 참고\n",
    "    \n",
    "| 구분         | 모수인자 (Fixed Factor)   | 변량인자 (Random Factor) |\n",
    "| ---------- | --------------------- | -------------------- |\n",
    "| **정의**     | 비교하고자 하는 특정 수준 (범주)   | 모집단에서 무작위로 뽑힌 수준     |\n",
    "| **수준 개수**  | 분석자가 **선택**한 것만 관심 있음 | 수준이 많거나 전체 중 일부 추출   |\n",
    "| **목적**     | **수준 간 차이 비교가 목적**    | **변동성(분산) 설명이 목적**   |\n",
    "| **예시**     | 비료 종류, 치료법, 교육 방법     | 지역, 실험자, 학교, 날씨 등    |\n",
    "| **해석**     | 수준 간 효과를 직접 해석        | 수준은 대표성만 있고 추정치만 사용  |\n",
    "| **결과 일반화** | **현재 수준에만 적용됨**       | **전체 모집단으로 일반화 가능**  |"
   ]
  },
  {
   "cell_type": "markdown",
   "metadata": {},
   "source": [
    "#### 등분산인 two-way ANOVA(모수-모수)"
   ]
  },
  {
   "cell_type": "code",
   "execution_count": 258,
   "metadata": {},
   "outputs": [
    {
     "data": {
      "text/html": [
       "<div>\n",
       "<style scoped>\n",
       "    .dataframe tbody tr th:only-of-type {\n",
       "        vertical-align: middle;\n",
       "    }\n",
       "\n",
       "    .dataframe tbody tr th {\n",
       "        vertical-align: top;\n",
       "    }\n",
       "\n",
       "    .dataframe thead th {\n",
       "        text-align: right;\n",
       "    }\n",
       "</style>\n",
       "<table border=\"1\" class=\"dataframe\">\n",
       "  <thead>\n",
       "    <tr style=\"text-align: right;\">\n",
       "      <th></th>\n",
       "      <th>df</th>\n",
       "      <th>sum_sq</th>\n",
       "      <th>mean_sq</th>\n",
       "      <th>F</th>\n",
       "      <th>PR(&gt;F)</th>\n",
       "    </tr>\n",
       "  </thead>\n",
       "  <tbody>\n",
       "    <tr>\n",
       "      <th>C(A)</th>\n",
       "      <td>2.0</td>\n",
       "      <td>8.0</td>\n",
       "      <td>4.0</td>\n",
       "      <td>4.0</td>\n",
       "      <td>0.078717</td>\n",
       "    </tr>\n",
       "    <tr>\n",
       "      <th>C(B)</th>\n",
       "      <td>3.0</td>\n",
       "      <td>60.0</td>\n",
       "      <td>20.0</td>\n",
       "      <td>20.0</td>\n",
       "      <td>0.001586</td>\n",
       "    </tr>\n",
       "    <tr>\n",
       "      <th>Residual</th>\n",
       "      <td>6.0</td>\n",
       "      <td>6.0</td>\n",
       "      <td>1.0</td>\n",
       "      <td>NaN</td>\n",
       "      <td>NaN</td>\n",
       "    </tr>\n",
       "  </tbody>\n",
       "</table>\n",
       "</div>"
      ],
      "text/plain": [
       "           df  sum_sq  mean_sq     F    PR(>F)\n",
       "C(A)      2.0     8.0      4.0   4.0  0.078717\n",
       "C(B)      3.0    60.0     20.0  20.0  0.001586\n",
       "Residual  6.0     6.0      1.0   NaN       NaN"
      ]
     },
     "metadata": {},
     "output_type": "display_data"
    }
   ],
   "source": [
    "#반복이 없는 이원배치 분산분석: 반복이 없으므로 교호작용 효과 검출 불가\n",
    "dd = np.array([[1, 2, 3, 1, 2, 3, 1, 2, 3, 1, 2, 3], \n",
    "             [1, 1, 1, 2, 2, 2, 3, 3, 3, 4, 4, 4], \n",
    "              [4, 3, 5, 5, 7, 6, 7, 8, 9, 8, 10, 12]]).T\n",
    "dt = pd.DataFrame(dd, columns=['A', 'B', 'Y'])\n",
    "\n",
    "from statsmodels.formula.api import ols\n",
    "from statsmodels.stats.anova import anova_lm\n",
    "\n",
    "model = ols(\"Y ~ C(A) + C(B)\", data=dt).fit()\n",
    "result = anova_lm(model)\n",
    "\n",
    "display(result)"
   ]
  },
  {
   "cell_type": "markdown",
   "metadata": {},
   "source": [
    "A그룹과 종속변수 간 차이는 없고(0.078717), B그룹과 종속변수 간에는 차이가 있다.(0.001586)"
   ]
  },
  {
   "cell_type": "code",
   "execution_count": 288,
   "metadata": {},
   "outputs": [
    {
     "data": {
      "text/html": [
       "<div>\n",
       "<style scoped>\n",
       "    .dataframe tbody tr th:only-of-type {\n",
       "        vertical-align: middle;\n",
       "    }\n",
       "\n",
       "    .dataframe tbody tr th {\n",
       "        vertical-align: top;\n",
       "    }\n",
       "\n",
       "    .dataframe thead th {\n",
       "        text-align: right;\n",
       "    }\n",
       "</style>\n",
       "<table border=\"1\" class=\"dataframe\">\n",
       "  <thead>\n",
       "    <tr style=\"text-align: right;\">\n",
       "      <th></th>\n",
       "      <th>A</th>\n",
       "      <th>B</th>\n",
       "      <th>Y</th>\n",
       "    </tr>\n",
       "  </thead>\n",
       "  <tbody>\n",
       "    <tr>\n",
       "      <th>0</th>\n",
       "      <td>1</td>\n",
       "      <td>1</td>\n",
       "      <td>64</td>\n",
       "    </tr>\n",
       "    <tr>\n",
       "      <th>1</th>\n",
       "      <td>1</td>\n",
       "      <td>1</td>\n",
       "      <td>66</td>\n",
       "    </tr>\n",
       "    <tr>\n",
       "      <th>2</th>\n",
       "      <td>1</td>\n",
       "      <td>1</td>\n",
       "      <td>70</td>\n",
       "    </tr>\n",
       "    <tr>\n",
       "      <th>3</th>\n",
       "      <td>2</td>\n",
       "      <td>1</td>\n",
       "      <td>72</td>\n",
       "    </tr>\n",
       "    <tr>\n",
       "      <th>4</th>\n",
       "      <td>2</td>\n",
       "      <td>1</td>\n",
       "      <td>81</td>\n",
       "    </tr>\n",
       "  </tbody>\n",
       "</table>\n",
       "</div>"
      ],
      "text/plain": [
       "   A  B   Y\n",
       "0  1  1  64\n",
       "1  1  1  66\n",
       "2  1  1  70\n",
       "3  2  1  72\n",
       "4  2  1  81"
      ]
     },
     "metadata": {},
     "output_type": "display_data"
    },
    {
     "data": {
      "text/html": [
       "<div>\n",
       "<style scoped>\n",
       "    .dataframe tbody tr th:only-of-type {\n",
       "        vertical-align: middle;\n",
       "    }\n",
       "\n",
       "    .dataframe tbody tr th {\n",
       "        vertical-align: top;\n",
       "    }\n",
       "\n",
       "    .dataframe thead th {\n",
       "        text-align: right;\n",
       "    }\n",
       "</style>\n",
       "<table border=\"1\" class=\"dataframe\">\n",
       "  <thead>\n",
       "    <tr style=\"text-align: right;\">\n",
       "      <th></th>\n",
       "      <th>df</th>\n",
       "      <th>sum_sq</th>\n",
       "      <th>mean_sq</th>\n",
       "      <th>F</th>\n",
       "      <th>PR(&gt;F)</th>\n",
       "    </tr>\n",
       "  </thead>\n",
       "  <tbody>\n",
       "    <tr>\n",
       "      <th>C(A)</th>\n",
       "      <td>2.0</td>\n",
       "      <td>342.388889</td>\n",
       "      <td>171.194444</td>\n",
       "      <td>3.081500</td>\n",
       "      <td>0.064393</td>\n",
       "    </tr>\n",
       "    <tr>\n",
       "      <th>C(B)</th>\n",
       "      <td>3.0</td>\n",
       "      <td>1002.888889</td>\n",
       "      <td>334.296296</td>\n",
       "      <td>6.017333</td>\n",
       "      <td>0.003307</td>\n",
       "    </tr>\n",
       "    <tr>\n",
       "      <th>C(A):C(B)</th>\n",
       "      <td>6.0</td>\n",
       "      <td>588.944444</td>\n",
       "      <td>98.157407</td>\n",
       "      <td>1.766833</td>\n",
       "      <td>0.148795</td>\n",
       "    </tr>\n",
       "    <tr>\n",
       "      <th>Residual</th>\n",
       "      <td>24.0</td>\n",
       "      <td>1333.333333</td>\n",
       "      <td>55.555556</td>\n",
       "      <td>NaN</td>\n",
       "      <td>NaN</td>\n",
       "    </tr>\n",
       "  </tbody>\n",
       "</table>\n",
       "</div>"
      ],
      "text/plain": [
       "             df       sum_sq     mean_sq         F    PR(>F)\n",
       "C(A)        2.0   342.388889  171.194444  3.081500  0.064393\n",
       "C(B)        3.0  1002.888889  334.296296  6.017333  0.003307\n",
       "C(A):C(B)   6.0   588.944444   98.157407  1.766833  0.148795\n",
       "Residual   24.0  1333.333333   55.555556       NaN       NaN"
      ]
     },
     "metadata": {},
     "output_type": "display_data"
    }
   ],
   "source": [
    "#반복이 있는 이원배치 분산분석\n",
    "# A, B 모두 모수인자\n",
    "a = [1, 1, 1, 2, 2, 2, 3, 3, 3]*4\n",
    "b = np.concatenate([[1]*9, [2]*9, [3]*9, [4]*9])\n",
    "y = [64, 66, 70, 72, 81, 64, 74, 51, 65, 65, 63, 58, 57, 43, 52, \n",
    "     47, 58, 67, 59, 68, 65, 66, 71, 59, 58, 45, 42, 58, 50, 49, \n",
    "    57, 61, 53, 53, 59, 38]\n",
    "df = pd.DataFrame({\"A\": a, \"B\": b, \"Y\": y})\n",
    "display(df.head(5))\n",
    "\n",
    "from statsmodels.formula.api import ols\n",
    "from statsmodels.stats.anova import anova_lm\n",
    "\n",
    "model = ols(\"Y~C(A)*C(B)\", data=df).fit() #이렇게 하면 상호작용까자 확인 가능\n",
    "result2 = anova_lm(model)\n",
    "display(result2)"
   ]
  },
  {
   "cell_type": "markdown",
   "metadata": {},
   "source": [
    "본 분석은 **모수+모수인자의 반복이 있는 이원배치 분산분석(two-way ANOVA)**으로, 먼저 두 모수 인자 간 **교호작용(A×B)**의 유무를 확인한다.\n",
    "\n",
    "- H0: 두 요인 간 상호작용이 없다.\n",
    "- H1: 두 요인 간 상호작용이 존재한다.(고정요인?)\n",
    "\n",
    "A×B의 p-value는 0.148795로, 유의수준 5% 하에서 귀무가설을 기각할 수 없다.  \n",
    "→ 따라서 두 요인 간 상호작용은 통계적으로 유의하지 않다."
   ]
  },
  {
   "cell_type": "code",
   "execution_count": 289,
   "metadata": {},
   "outputs": [
    {
     "data": {
      "text/html": [
       "<div>\n",
       "<style scoped>\n",
       "    .dataframe tbody tr th:only-of-type {\n",
       "        vertical-align: middle;\n",
       "    }\n",
       "\n",
       "    .dataframe tbody tr th {\n",
       "        vertical-align: top;\n",
       "    }\n",
       "\n",
       "    .dataframe thead th {\n",
       "        text-align: right;\n",
       "    }\n",
       "</style>\n",
       "<table border=\"1\" class=\"dataframe\">\n",
       "  <thead>\n",
       "    <tr style=\"text-align: right;\">\n",
       "      <th></th>\n",
       "      <th>df</th>\n",
       "      <th>sum_sq</th>\n",
       "      <th>mean_sq</th>\n",
       "      <th>F</th>\n",
       "      <th>PR(&gt;F)</th>\n",
       "    </tr>\n",
       "  </thead>\n",
       "  <tbody>\n",
       "    <tr>\n",
       "      <th>C(A)</th>\n",
       "      <td>2.0</td>\n",
       "      <td>342.388889</td>\n",
       "      <td>171.194444</td>\n",
       "      <td>2.671744</td>\n",
       "      <td>0.085542</td>\n",
       "    </tr>\n",
       "    <tr>\n",
       "      <th>C(B)</th>\n",
       "      <td>3.0</td>\n",
       "      <td>1002.888889</td>\n",
       "      <td>334.296296</td>\n",
       "      <td>5.217190</td>\n",
       "      <td>0.005102</td>\n",
       "    </tr>\n",
       "    <tr>\n",
       "      <th>Residual</th>\n",
       "      <td>30.0</td>\n",
       "      <td>1922.277778</td>\n",
       "      <td>64.075926</td>\n",
       "      <td>NaN</td>\n",
       "      <td>NaN</td>\n",
       "    </tr>\n",
       "  </tbody>\n",
       "</table>\n",
       "</div>"
      ],
      "text/plain": [
       "            df       sum_sq     mean_sq         F    PR(>F)\n",
       "C(A)       2.0   342.388889  171.194444  2.671744  0.085542\n",
       "C(B)       3.0  1002.888889  334.296296  5.217190  0.005102\n",
       "Residual  30.0  1922.277778   64.075926       NaN       NaN"
      ]
     },
     "metadata": {},
     "output_type": "display_data"
    }
   ],
   "source": [
    "model2 = ols(\"Y~C(A)+C(B)\", data=df).fit() #이렇게 하면 상호작용까자 확인 가능\n",
    "result3 = anova_lm(model2)\n",
    "display(result3)"
   ]
  },
  {
   "cell_type": "markdown",
   "metadata": {},
   "source": [
    "상호작용이 유의하지 않으므로, 각 요인의 **주효과(main effects)**를 해석한다. 유의수준 5% 하에서:\n",
    "\n",
    "- 요인 A에 대한 가설\n",
    "   - H₀: 요인 A는 종속변수에 유의미한 영향을 미치지 않는다.\n",
    "   - H₁: 요인 A는 종속변수에 유의미한 영향을 미친다.\n",
    "\n",
    "- 요인 B에 대한 가설\n",
    "   - H₀: 요인 B는 종속변수에 유의미한 영향을 미치지 않는다.\n",
    "   - H₁: 요인 B는 종속변수에 유의미한 영향을 미친다.\n",
    "\n",
    "요인 A의 p-value는 0.085542로, 유의수준보다 크므로 귀무가설을 기각할 수 없다.  \n",
    "→ 따라서 A는 종속변수에 유의미한 영향을 미치지 않는 것으로 판단된다.\n",
    "\n",
    "요인 B의 p-value는 0.005102로, 유의수준보다 작아 귀무가설을 기각할 수 있다.  \n",
    "→ 즉, B는 종속변수에 통계적으로 유의미한 영향을 미친다."
   ]
  },
  {
   "cell_type": "markdown",
   "metadata": {},
   "source": [
    "#### 등분산인 two-way ANOVA(모수인자-변량인자)"
   ]
  },
  {
   "cell_type": "code",
   "execution_count": 291,
   "metadata": {},
   "outputs": [
    {
     "data": {
      "text/html": [
       "<div>\n",
       "<style scoped>\n",
       "    .dataframe tbody tr th:only-of-type {\n",
       "        vertical-align: middle;\n",
       "    }\n",
       "\n",
       "    .dataframe tbody tr th {\n",
       "        vertical-align: top;\n",
       "    }\n",
       "\n",
       "    .dataframe thead th {\n",
       "        text-align: right;\n",
       "    }\n",
       "</style>\n",
       "<table border=\"1\" class=\"dataframe\">\n",
       "  <thead>\n",
       "    <tr style=\"text-align: right;\">\n",
       "      <th></th>\n",
       "      <th>A</th>\n",
       "      <th>B</th>\n",
       "      <th>Y</th>\n",
       "    </tr>\n",
       "  </thead>\n",
       "  <tbody>\n",
       "    <tr>\n",
       "      <th>0</th>\n",
       "      <td>1</td>\n",
       "      <td>1</td>\n",
       "      <td>4</td>\n",
       "    </tr>\n",
       "    <tr>\n",
       "      <th>1</th>\n",
       "      <td>2</td>\n",
       "      <td>1</td>\n",
       "      <td>3</td>\n",
       "    </tr>\n",
       "    <tr>\n",
       "      <th>2</th>\n",
       "      <td>3</td>\n",
       "      <td>1</td>\n",
       "      <td>5</td>\n",
       "    </tr>\n",
       "    <tr>\n",
       "      <th>3</th>\n",
       "      <td>1</td>\n",
       "      <td>2</td>\n",
       "      <td>5</td>\n",
       "    </tr>\n",
       "    <tr>\n",
       "      <th>4</th>\n",
       "      <td>2</td>\n",
       "      <td>2</td>\n",
       "      <td>7</td>\n",
       "    </tr>\n",
       "    <tr>\n",
       "      <th>5</th>\n",
       "      <td>3</td>\n",
       "      <td>2</td>\n",
       "      <td>6</td>\n",
       "    </tr>\n",
       "    <tr>\n",
       "      <th>6</th>\n",
       "      <td>1</td>\n",
       "      <td>3</td>\n",
       "      <td>7</td>\n",
       "    </tr>\n",
       "    <tr>\n",
       "      <th>7</th>\n",
       "      <td>2</td>\n",
       "      <td>3</td>\n",
       "      <td>8</td>\n",
       "    </tr>\n",
       "    <tr>\n",
       "      <th>8</th>\n",
       "      <td>3</td>\n",
       "      <td>3</td>\n",
       "      <td>9</td>\n",
       "    </tr>\n",
       "    <tr>\n",
       "      <th>9</th>\n",
       "      <td>1</td>\n",
       "      <td>4</td>\n",
       "      <td>8</td>\n",
       "    </tr>\n",
       "    <tr>\n",
       "      <th>10</th>\n",
       "      <td>2</td>\n",
       "      <td>4</td>\n",
       "      <td>10</td>\n",
       "    </tr>\n",
       "    <tr>\n",
       "      <th>11</th>\n",
       "      <td>3</td>\n",
       "      <td>4</td>\n",
       "      <td>12</td>\n",
       "    </tr>\n",
       "  </tbody>\n",
       "</table>\n",
       "</div>"
      ],
      "text/plain": [
       "    A  B   Y\n",
       "0   1  1   4\n",
       "1   2  1   3\n",
       "2   3  1   5\n",
       "3   1  2   5\n",
       "4   2  2   7\n",
       "5   3  2   6\n",
       "6   1  3   7\n",
       "7   2  3   8\n",
       "8   3  3   9\n",
       "9   1  4   8\n",
       "10  2  4  10\n",
       "11  3  4  12"
      ]
     },
     "metadata": {},
     "output_type": "display_data"
    },
    {
     "data": {
      "text/html": [
       "<div>\n",
       "<style scoped>\n",
       "    .dataframe tbody tr th:only-of-type {\n",
       "        vertical-align: middle;\n",
       "    }\n",
       "\n",
       "    .dataframe tbody tr th {\n",
       "        vertical-align: top;\n",
       "    }\n",
       "\n",
       "    .dataframe thead th {\n",
       "        text-align: right;\n",
       "    }\n",
       "</style>\n",
       "<table border=\"1\" class=\"dataframe\">\n",
       "  <thead>\n",
       "    <tr style=\"text-align: right;\">\n",
       "      <th></th>\n",
       "      <th>df</th>\n",
       "      <th>sum_sq</th>\n",
       "      <th>mean_sq</th>\n",
       "      <th>F</th>\n",
       "      <th>PR(&gt;F)</th>\n",
       "    </tr>\n",
       "  </thead>\n",
       "  <tbody>\n",
       "    <tr>\n",
       "      <th>C(A)</th>\n",
       "      <td>2.0</td>\n",
       "      <td>8.0</td>\n",
       "      <td>4.0</td>\n",
       "      <td>4.0</td>\n",
       "      <td>0.078717</td>\n",
       "    </tr>\n",
       "    <tr>\n",
       "      <th>C(B)</th>\n",
       "      <td>3.0</td>\n",
       "      <td>60.0</td>\n",
       "      <td>20.0</td>\n",
       "      <td>20.0</td>\n",
       "      <td>0.001586</td>\n",
       "    </tr>\n",
       "    <tr>\n",
       "      <th>Residual</th>\n",
       "      <td>6.0</td>\n",
       "      <td>6.0</td>\n",
       "      <td>1.0</td>\n",
       "      <td>NaN</td>\n",
       "      <td>NaN</td>\n",
       "    </tr>\n",
       "  </tbody>\n",
       "</table>\n",
       "</div>"
      ],
      "text/plain": [
       "           df  sum_sq  mean_sq     F    PR(>F)\n",
       "C(A)      2.0     8.0      4.0   4.0  0.078717\n",
       "C(B)      3.0    60.0     20.0  20.0  0.001586\n",
       "Residual  6.0     6.0      1.0   NaN       NaN"
      ]
     },
     "metadata": {},
     "output_type": "display_data"
    }
   ],
   "source": [
    "# 반복이 없는 경우: 난괴법, 확률화블럭계획법(RBD, Randomized block design)\n",
    "# 모수: A, 변량: B\n",
    "a = [1, 2, 3]*4\n",
    "b = np.concatenate([[1]*3, [2]*3, [3]*3, [4]*3])\n",
    "y = [4, 3, 5, 5, 7, 6, 7, 8, 9, 8, 10, 12]\n",
    "\n",
    "df = pd.DataFrame({\"A\": a, \"B\": b, \"Y\": y})\n",
    "\n",
    "display(df)\n",
    "\n",
    "from statsmodels.formula.api import ols\n",
    "from statsmodels.stats.anova import anova_lm\n",
    "\n",
    "model = ols(\"Y~C(A)+C(B)\", data=df).fit()\n",
    "\n",
    "result = anova_lm(model)\n",
    "\n",
    "display(result)"
   ]
  },
  {
   "cell_type": "markdown",
   "metadata": {},
   "source": [
    "등분산이며 반복이 없는 모수-변량인자 이원분산분석(Two-Way ANOVA with Mixed Effects) 결과이다.\n",
    "유의수준 5% 하에서:\n",
    "\n",
    "- 고정인자 가설\n",
    "  - H0: 고정인자 A는 종속변수에 유의미한 영향을 미치지 않는다.\n",
    "  - H1: 고정인자 A는 종속변수에 유의미한 영향을 미친다.\n",
    "- 변량인자 가설\n",
    "  - H0: 변량인자 B는 종속변수의 분산에 유의미한 기여를 하지 않는다.\n",
    "  - H1: 변량인자 B는 종속변수의 분산에 유의미한 기여를 한다.\n",
    "\n",
    "**고정 효과(Fixed Effect)**인 A의 p-value는 0.078717로, 이는 유의수준 0.05보다 크므로 귀무가설을 기각할 수 없다.\n",
    "→ 즉, A는 종속변수에 대해 통계적으로 유의미한 영향을 미치지 않는 것으로 해석된다 (주효과 없음).\n",
    "\n",
    "**변량 효과(Random Effect)**인 B의 p-value는 0.001586로 유의수준보다 작아 귀무가설을 기각할 수 있다.\n",
    "→ 이는 B가 종속변수의 분산에 유의미한 기여를 한다는 의미로, 랜덤 효과로서 고려할 가치가 있음을 나타낸다."
   ]
  },
  {
   "cell_type": "code",
   "execution_count": 297,
   "metadata": {},
   "outputs": [
    {
     "name": "stdout",
     "output_type": "stream",
     "text": [
      "                Mixed Linear Model Regression Results\n",
      "=====================================================================\n",
      "Model:                 MixedLM      Dependent Variable:      Y       \n",
      "No. Observations:      36           Method:                  REML    \n",
      "No. Groups:            4            Scale:                   55.5556 \n",
      "Min. group size:       9            Log-Likelihood:          -88.8548\n",
      "Max. group size:       9            Converged:               Yes     \n",
      "Mean group size:       9.0                                           \n",
      "---------------------------------------------------------------------\n",
      "                     Coef.     Std.Err.     z    P>|z|  [0.025 0.975]\n",
      "---------------------------------------------------------------------\n",
      "Intercept            66.667         8.607  7.746 0.000  49.798 83.535\n",
      "C(A)[T.2]             5.667         6.086  0.931 0.352  -6.261 17.595\n",
      "C(A)[T.3]            -3.333         6.086 -0.548 0.584 -15.261  8.595\n",
      "C(B)[T.2]            -4.667        12.172 -0.383 0.701 -28.523 19.189\n",
      "C(B)[T.3]            -2.667        12.172 -0.219 0.827 -26.523 21.189\n",
      "C(B)[T.4]           -14.333        12.172 -1.178 0.239 -38.189  9.523\n",
      "C(A)[T.2]:C(B)[T.2] -17.000         8.607 -1.975 0.048 -33.869 -0.131\n",
      "C(A)[T.3]:C(B)[T.2]  -1.333         8.607 -0.155 0.877 -18.202 15.535\n",
      "C(A)[T.2]:C(B)[T.3]  -4.333         8.607 -0.503 0.615 -21.202 12.535\n",
      "C(A)[T.3]:C(B)[T.3] -12.333         8.607 -1.433 0.152 -29.202  4.535\n",
      "C(A)[T.2]:C(B)[T.4]  -1.000         8.607 -0.116 0.908 -17.869 15.869\n",
      "C(A)[T.3]:C(B)[T.4]   1.000         8.607  0.116 0.908 -15.869 17.869\n",
      "B Var                55.556 500199939.323                            \n",
      "=====================================================================\n",
      "\n"
     ]
    }
   ],
   "source": [
    "# 반복이 있는 경우: 이원배치 혼합모형(mixed model)\n",
    "# A가 모수인자, B가 변량인자\n",
    "\n",
    "import statsmodels.api as sm\n",
    "import statsmodels.formula.api as smf\n",
    "\n",
    "a = [1, 1, 1, 2, 2, 2, 3, 3, 3]*4\n",
    "b = np.concatenate([[1]*9, [2]*9, [3]*9, [4]*9])\n",
    "y = [64, 66, 70, 72, 81, 64, 74, 51, 65, 65, 63, 58, 57, 43, 52, \n",
    "     47, 58, 67, 59, 68, 65, 66, 71, 59, 58, 45, 42, 58, 50, 49, \n",
    "    57, 61, 53, 53, 59, 38]\n",
    "\n",
    "df = pd.DataFrame({\"A\": a, \"B\": b, \"Y\": y})\n",
    "\n",
    "df['A'] = df['A'].astype('category')\n",
    "df['B'] = df['B'].astype('category')\n",
    "\n",
    "# 혼합모형 설정: A는 fixed, B는 random\n",
    "model = smf.mixedlm(\"Y ~ C(A)*C(B)\", data=df, groups=\"B\")\n",
    "result = model.fit()\n",
    "\n",
    "# 결과 출력\n",
    "print(result.summary())\n"
   ]
  },
  {
   "cell_type": "code",
   "execution_count": 298,
   "metadata": {},
   "outputs": [
    {
     "name": "stdout",
     "output_type": "stream",
     "text": [
      "                sum_sq    df         F    PR(>F)\n",
      "C(A)        342.388889   2.0  3.081500  0.064393\n",
      "C(B)       1002.888889   3.0  6.017333  0.003307\n",
      "C(A):C(B)   588.944444   6.0  1.766833  0.148795\n",
      "Residual   1333.333333  24.0       NaN       NaN\n"
     ]
    }
   ],
   "source": [
    "# 이걸로 할 것!\n",
    "# 반복이 있는 경우: 이원배치 혼합모형(mixed model)\n",
    "# A가 모수인자, B가 변량인자\n",
    "import statsmodels.api as sm\n",
    "import statsmodels.formula.api as smf\n",
    "from statsmodels.stats.anova import anova_lm\n",
    "import pandas as pd\n",
    "import numpy as np\n",
    "\n",
    "# 데이터 준비\n",
    "a = [1, 1, 1, 2, 2, 2, 3, 3, 3]*4\n",
    "b = np.concatenate([[1]*9, [2]*9, [3]*9, [4]*9])\n",
    "y = [64, 66, 70, 72, 81, 64, 74, 51, 65,\n",
    "     65, 63, 58, 57, 43, 52, 47, 58, 67,\n",
    "     59, 68, 65, 66, 71, 59, 58, 45, 42,\n",
    "     58, 50, 49, 57, 61, 53, 53, 59, 38]\n",
    "\n",
    "df = pd.DataFrame({'A': a, 'B': b, 'Y': y})\n",
    "df[\"A\"] = df[\"A\"].astype(\"category\")\n",
    "df[\"B\"] = df[\"B\"].astype(\"category\")\n",
    "\n",
    "# 모든 요인을 고정(fixed effect)으로 보고 ANOVA 실시\n",
    "model = smf.ols(\"Y ~ C(A) * C(B)\", data=df).fit()\n",
    "anova_results = sm.stats.anova_lm(model, typ=2)\n",
    "print(anova_results)"
   ]
  },
  {
   "cell_type": "markdown",
   "metadata": {},
   "source": [
    "✅ 분석 순서 (이해 기준)\n",
    "1. 요인 A의 주효과 (fixed)\n",
    "2. 요인 B의 주효과 (random)\n",
    "3. A와 B의 교호작용 (interaction)\n",
    "\n",
    "👉 교호작용(Interaction)을 먼저 검정하는 것이 원칙입니다.  \n",
    "    유의한 교호작용이 존재한다면, 주효과 해석은 보류하거나 교호작용 중심으로 해석해야 합니다.\n",
    "\n",
    "🔍 왜 교호작용부터 보나?\n",
    "교호작용이 유의하면 → \"A의 효과는 B에 따라 다르다\"는 뜻  \n",
    "그러면 단순히 A만의 평균 차이(Fixed Effect)는 무의미하거나 왜곡될 수 있음  \n",
    "예: A=1이 B=1에서는 크고, B=2에서는 작다면 전체 평균은 왜곡됨"
   ]
  },
  {
   "cell_type": "markdown",
   "metadata": {},
   "source": [
    "등분산이며 반복이 있는 **모수-변량 혼합설계(Mixed Model)**의 이원분산분석(Two-Way ANOVA) 결과이다.\n",
    "유의수준 5% 하에서,\n",
    "\n",
    "- 교호작용 A×B에 대한 가설\n",
    "  - H₀ (귀무가설): 요인 A와 요인 B 사이에는 교호작용이 없다.\n",
    "  - H₁(대립가설): 요인 A와 요인 B 사이에는 교호작용이 있다.\n",
    "- 주효과: 요인 A (고정 효과, Fixed Factor)\n",
    "  - H₀: 요인 A는 종속변수에 유의미한 영향을 미치지 않는다.\n",
    "  - H₁: 요인 A는 종속변수에 유의미한 영향을 미친다.\n",
    "- 주효과: 요인 B (변량 효과, Random Factor)\n",
    "  - H₀: 요인 B에 의한 분산은 0이다. (요인 B는 종속변수의 분산에 기여하지 않는다)\n",
    "  - H₁: 요인 B에 의한 분산은 0이 아니다. (요인 B는 종속변수의 분산에 유의미하게 기여한다)\n",
    "\n",
    "A와 B의 교호작용(A×B)은 p-value가 0.148795로 통계적으로 유의하지 않다.  \n",
    "따라서 각 요인의 **주효과(main effects)**를 개별적으로 해석할 수 있다.\n",
    "\n",
    "요인 A는 **고정 효과(Fixed Factor)**이며, p-value가 0.064393으로 0.05보다 크므로 통계적으로 유의하지 않다.\n",
    "\n",
    "요인 B는 **변량 효과(Random Factor)**로, 관련 분산 구성요소의 p-value가 0.003307로 통계적으로 유의하며,  \n",
    "이는 B가 종속변수의 분산에 유의미한 기여를 한다는 것을 의미한다."
   ]
  },
  {
   "cell_type": "markdown",
   "metadata": {},
   "source": [
    "# 연습문제\n",
    "1. 다음 데이터의 모분산 정보가 없을 때, 다음 데이터의 모평균에 대한 95% 신뢰수준의 구간을 구하시오.  \n",
    "   또한 다음 데이터의 모표준편차가 3이라는 것을 알고 있을 때, 다음 데이터의 모평균에 대한 95% 신뢰수준의 신뢰구간을 구하시오.\n",
    "   - 10, 19, 15, 11, 13, 14, 18"
   ]
  },
  {
   "cell_type": "code",
   "execution_count": 313,
   "metadata": {},
   "outputs": [
    {
     "name": "stdout",
     "output_type": "stream",
     "text": [
      "모분산 정보가 없을 때, 모평균 신뢰구간 추정(t검정)[점추정: 14.286]: 11.185 ~ 17.386\n",
      "모표준편차를 알 때 모평균 신뢰구간 추정(z검정)[점추정: 14.286]: 12.063 ~ 16.508\n"
     ]
    }
   ],
   "source": [
    "#모분산 정보가 없을 때, 모평균 신뢰구간 추정: t 검정\n",
    "# 모분산 정보가 있을 떄, 모평균 신뢰구간 추정: z 검정\n",
    "\n",
    "dt1 = np.array([10, 19, 15, 11, 13, 14, 18])\n",
    "t_m = dt1.mean()\n",
    "t_std = dt1.std(ddof=1)\n",
    "alpha = 0.05\n",
    "df = len(dt1) - 1 #자유도\n",
    "\n",
    "from scipy.stats import t\n",
    "\n",
    "tt = t.ppf(1-alpha/2, df)\n",
    "se = t_std/np.sqrt(len(dt1))\n",
    "\n",
    "me = tt*se\n",
    "\n",
    "print(f\"모분산 정보가 없을 때, 모평균 신뢰구간 추정(t검정)[점추정: {t_m:.3f}]: {t_m - me:.3f} ~ {t_m + me:.3f}\")\n",
    "\n",
    "z_std = 3\n",
    "n = len(dt1)\n",
    "\n",
    "from scipy.stats import norm\n",
    "\n",
    "z = norm.ppf(1-alpha/2)\n",
    "se2 = z_std/np.sqrt(n)\n",
    "\n",
    "me2 = z*se2\n",
    "\n",
    "print(f\"모표준편차를 알 때 모평균 신뢰구간 추정(z검정)[점추정: {t_m:.3f}]: {t_m - me2:.3f} ~ {t_m + me2:.3f}\")"
   ]
  },
  {
   "cell_type": "markdown",
   "metadata": {},
   "source": [
    "2. 어느 제조회사의 불량률이 5%로 알려져 있다면, 95% 신뢰수준에서 오차의 한계가 3%가 되도록 하는 최소 표본사이즈를 구하시오."
   ]
  },
  {
   "cell_type": "code",
   "execution_count": 319,
   "metadata": {},
   "outputs": [
    {
     "name": "stdout",
     "output_type": "stream",
     "text": [
      "95% 신뢰수준에서 오차의 한계가 3%가 되는 최소 표본사이즈는 203.0이다.\n"
     ]
    }
   ],
   "source": [
    "p = 0.05\n",
    "me = 0.03\n",
    "z = norm.ppf(1-alpha/2)\n",
    "\n",
    "p_sample_size = (p*(1-p))/np.square(me/z)\n",
    "\n",
    "print(f\"95% 신뢰수준에서 오차의 한계가 3%가 되는 최소 표본사이즈는 {np.ceil(p_sample_size)}이다.\")"
   ]
  },
  {
   "cell_type": "markdown",
   "metadata": {},
   "source": [
    "3. 임의로 추출한 표본 30개의 분산을 계산했더니 50일 때, 신뢰도 95%로 모분산의 신뢰구간을 추정하시오.(소수점 둘째자리까지 반올림)"
   ]
  },
  {
   "cell_type": "code",
   "execution_count": 333,
   "metadata": {},
   "outputs": [
    {
     "name": "stdout",
     "output_type": "stream",
     "text": [
      "신뢰수준 95%에서 신뢰구간은 31.713 ~ 81.882\n"
     ]
    }
   ],
   "source": [
    "# 모분산 신뢰구간 추정이므로 카이제곱 분포를 따른다. \n",
    "\n",
    "from scipy.stats import f\n",
    "\n",
    "df = 30 - 1\n",
    "f_var = 50\n",
    "a = 0.05\n",
    "\n",
    "from scipy.stats import chi2\n",
    "\n",
    "co1 = chi2.ppf(1-a/2, df) # down\n",
    "co2 = chi2.ppf(a, df)\n",
    "\n",
    "down = df*f_var/co1\n",
    "up = df*f_var/co2\n",
    "\n",
    "\n",
    "print(f\"신뢰수준 95%에서 신뢰구간은 {down:.3f} ~ {up:.3f}\")\n"
   ]
  },
  {
   "cell_type": "markdown",
   "metadata": {},
   "source": [
    "4. 어느 뽑기 기계에서 20번 뽑기를 했더니 그 중 5개는 미니카였다. 해당 뽑기 기계에 있는 장난감 중 미니카의 비율을 p라고 한다면,  \n",
    "   모비율 p에 대한 95% 신뢰구간을 구하시오."
   ]
  },
  {
   "cell_type": "code",
   "execution_count": 336,
   "metadata": {},
   "outputs": [
    {
     "name": "stdout",
     "output_type": "stream",
     "text": [
      "유의수준 5% 하 신뢰구간은 0.060 ~ 0.440\n"
     ]
    }
   ],
   "source": [
    "# 모분산을 모르며, 샘플 수가 20개이기 때문에 모비율 p 추정을 위해 t분포 사용\n",
    "p = 5/20\n",
    "n = 20\n",
    "a = 0.05\n",
    "\n",
    "from scipy.stats import norm\n",
    "\n",
    "z = norm.ppf(1-a/2)\n",
    "se = np.sqrt(p*(1-p)/n)\n",
    "me = z*se\n",
    "\n",
    "print(f\"유의수준 5% 하 신뢰구간은 {p-me:.3f} ~ {p+me:.3f}\")"
   ]
  },
  {
   "cell_type": "markdown",
   "metadata": {},
   "source": [
    "5. A국가의 성인 남성의 흡연률이 35%라고 발표하였으나 B는 그것보다 더 높은 수치를 예상했다.  \n",
    "   이에 성인 남성 중 450명을 임의 추출하여 조사한 결과, 180명이 흡연자인 것을 확인하였다.  \n",
    "   이에 대하여 귀무가설과 대립가설을 세우고, 검정통계량을 계산하여 검정 결과를 서술하시오.(유의수준 5%)"
   ]
  },
  {
   "cell_type": "code",
   "execution_count": 346,
   "metadata": {},
   "outputs": [
    {
     "name": "stdout",
     "output_type": "stream",
     "text": [
      "유의수준 5% 하에서의 검정통계량: 2.224, 임계값: 1.960\n",
      "p-value는 0.013로 유의수준 5% 하에서 귀무가설을 기각할 수 있다.\n"
     ]
    }
   ],
   "source": [
    "# 일표본 모비율 left 검정: z 통계량\n",
    "# H0: B국가의 성인 남성의 흡연율은 35%이다. / H1: B국가의 흡연율은 35%보다 높다.\n",
    "# 실제로 주어진 건 B국가만이므로 대응표본이나 이표본이 아님\n",
    "\n",
    "test_a = 0.05\n",
    "p0 = 0.35 #고정된 확률\n",
    "n = 450\n",
    "p = 180/n\n",
    "se = np.sqrt(p0*(1-p0)/n)\n",
    "zstat = (p-p0)/se\n",
    "\n",
    "# 단측(one-right): P > P0(0.35)\n",
    "cv = norm.ppf(1-test_a/2) #임계값\n",
    "sp = 1- norm.cdf(zstat)\n",
    "\n",
    "print(f\"유의수준 5% 하에서의 검정통계량: {zstat:.3f}, 임계값: {cv:.3f}\")\n",
    "print(f\"p-value는 {sp:.3f}로 유의확률 5% 하에서 귀무가설을 기각할 수\", \"있다.\" if sp < 0.05 else \"없다.\")\n",
    "\n"
   ]
  },
  {
   "cell_type": "markdown",
   "metadata": {},
   "source": [
    "6. 모평균을 모르는 상황에서 표본의 정보를 통해 모분산이 10인지 아닌지 여부를 검정하고자 한다.  \n",
    "   50개의 표본을 임의로 추출하여 계산한 결과, 표본의 분산은 8.8로 나타났다. 이에 대해 귀무가설과 대립가설을 세우고,  \n",
    "   검정통계량을 계산하여 검정 결과를 서술하시오.(유의수준 5%)"
   ]
  },
  {
   "cell_type": "code",
   "execution_count": 352,
   "metadata": {},
   "outputs": [
    {
     "name": "stdout",
     "output_type": "stream",
     "text": [
      "유의수준 5% 하에서의 검정통계량: 43.120, 임계값: 31.555 ~ 70.222\n",
      "p-value는 0.581로 유의확률 5% 하에서 귀무가설을 기각할 수 없다.\n",
      "즉, 해당집단의 모분산은 10으로 볼 수 있다.\n"
     ]
    }
   ],
   "source": [
    "# one sample 분산분석: 카이제곱 분포(모평균 모르는 상태)\n",
    "# H0: 해당집단의 모분산은 10이다. / H1: 해당집단의 모분산은 10이 아니다.\n",
    "a = 0.05\n",
    "n = 50\n",
    "df = n - 1\n",
    "var0 = 10\n",
    "var1 = 8.8\n",
    "c_stat = df*var1/var0\n",
    "\n",
    "from scipy.stats import chi2\n",
    "#양측검정\n",
    "cv1, cv2 = chi2.ppf(a/2, df), chi2.ppf(1-a/2, df) #임계값\n",
    "if chi2.cdf(c_stat, df) < 0.5:\n",
    "    p_value = (chi2.cdf(c_stat, df)*2)\n",
    "else:\n",
    "    p_value = (1-chi2.cdf(c_stat, df)*2)\n",
    "\n",
    "print(f\"유의수준 5% 하에서의 검정통계량: {c_stat:.3f}, 임계값: {cv1:.3f} ~ {cv2:.3f}\")\n",
    "print(f\"p-value는 {p_value:.3f}로 유의확률 5% 하에서 귀무가설을 기각할 수\", \"있다.\" if p_value < 0.05 else \"없다.\")\n",
    "print(\"즉, 해당집단의 모분산은 10으로 볼 수 있다.\")"
   ]
  },
  {
   "cell_type": "markdown",
   "metadata": {},
   "source": [
    "7. 50명의 당뇨환자에 대해 신약 투약 이전과 이후의 평균 혈당 차이가 15, 표준편차가 4일 때 투약 전후 평균 혈당의 차이가 존재하는지  \n",
    "   확인하고자 한다. 이에 대해 귀무가설과 대립가설을 제시하고, 검정통계량과 유의확률을 구하여 검정 결과를 서술하시오.(유의수준 5%)"
   ]
  },
  {
   "cell_type": "code",
   "execution_count": 364,
   "metadata": {},
   "outputs": [
    {
     "name": "stdout",
     "output_type": "stream",
     "text": [
      "유의수준 5% 하에서의 검정통계량: 26.517, 임계값: -2.010 ~ 2.010\n",
      "p-value는 0.000로 유의확률 5% 하에서 귀무가설을 기각할 수 있다.\n",
      "즉, 투약 전후 평균혈당 차이가 존재한다.\n"
     ]
    }
   ],
   "source": [
    "#대응표본 t검정(표본크기가 30 이상이지만 모집단 크기가 알려져있지 않으므로?) 모분산도 모름\n",
    "# H0: 투약 전후 평균혈당 차이가 존재하지 않는다. / H1: 투약 전후 평균혈당 차이가 존재한다.\n",
    "a = 0.05\n",
    "n = 50\n",
    "d0 = 0\n",
    "d_mean = 15 #점추정량\n",
    "p_std = 4 # 표준편차\n",
    "df = n-1\n",
    "\n",
    "#검정통계량\n",
    "se = p_std/np.sqrt(n)\n",
    "tt = (d_mean - d0)/se\n",
    "\n",
    "from scipy.stats import t\n",
    "\n",
    "#양측검정\n",
    "cv1, cv2 = t.ppf(a/2, df), t.ppf(1-a/2, df)\n",
    "p_value = (1 - t.cdf(tt, df))*2\n",
    "    \n",
    "print(f\"유의수준 5% 하에서의 검정통계량: {tt:.3f}, 임계값: {cv1:.3f} ~ {cv2:.3f}\")\n",
    "print(f\"p-value는 {p_value:.3f}로 유의확률 5% 하에서 귀무가설을 기각할 수\", \"있다.\" if p_value < 0.05 else \"없다.\")\n",
    "print(\"즉, 투약 전후 평균혈당 차이가 존재한다.\")"
   ]
  },
  {
   "cell_type": "markdown",
   "metadata": {},
   "source": [
    "8. 가수 A에 대한 호감도가 남녀별로 다른지 알아보고자 다음과 같은 데이터를 얻었다.  \n",
    "   남녀별로 지지율에 차이가 있는지 검정하시오.(유의수준 5%)\n",
    "   - 남성(총 100명) 30% 호감 | 여성(총 180명) 35% 호감"
   ]
  },
  {
   "cell_type": "code",
   "execution_count": 368,
   "metadata": {},
   "outputs": [
    {
     "name": "stdout",
     "output_type": "stream",
     "text": [
      "유의수준 5% 하에서의 검정통계량: -0.851, 임계값: -1.960 ~ 1.960\n",
      "p-value는 0.395로 유의확률 5% 하에서 귀무가설을 기각할 수 없다.\n",
      "즉, 가수 A에 대한 호감도가 남녀 지지율이 동일하다.\n"
     ]
    }
   ],
   "source": [
    "# 독립 2표본 모비율 차 검정: z통계량\n",
    "# H0: 가수 A에 대한 호감도가 남녀 지지율이 동일하다. / H1: 가수 A에 대한 호감도가 남녀 지지율이 다르다.\n",
    "n1 = 100\n",
    "n2 = 180\n",
    "p1 = 0.3\n",
    "p2 = 0.35\n",
    "d0 = 0\n",
    "a = 0.05\n",
    "\n",
    "p = (n1*p1+n2*p2)/(n1+n2) #합동표본비율 p\n",
    "se = np.sqrt(p*(1-p)*(1/n1+1/n2))\n",
    "zstat = (p1-p2-d0)/se\n",
    "\n",
    "#양측검정\n",
    "cv1, cv2 = norm.ppf(a/2), norm.ppf(1-a/2)\n",
    "p_value = (1- norm.cdf(np.abs(zstat))) * 2\n",
    "\n",
    "print(f\"유의수준 5% 하에서의 검정통계량: {zstat:.3f}, 임계값: {cv1:.3f} ~ {cv2:.3f}\")\n",
    "print(f\"p-value는 {p_value:.3f}로 유의확률 5% 하에서 귀무가설을 기각할 수\", \"있다.\" if p_value < 0.05 else \"없다.\")\n",
    "print(\"즉, 가수 A에 대한 호감도가 남녀 지지율이 동일하다.\")"
   ]
  },
  {
   "cell_type": "markdown",
   "metadata": {},
   "source": [
    "9. A 브랜드의 제품 14개를 추출하여 구한 평균과 표준편차는 각각 100g, 5g이고, B브랜드 제품 12개를 추출하여 구한 평균과 표준편차는  \n",
    "   각각 110g, 6g이라면, 두 제품의 평균이 차이가 있는지 여부를 검정하시오.(유의수준 5%)"
   ]
  },
  {
   "cell_type": "code",
   "execution_count": 375,
   "metadata": {},
   "outputs": [
    {
     "name": "stdout",
     "output_type": "stream",
     "text": [
      "검정통계량 : -4.571, p-value: 0.000\n",
      "두 표본집단의 평균은 차이가 있다.\n"
     ]
    }
   ],
   "source": [
    "#독립 2표본 평균 차 검정: t분포(분산 다름)\n",
    "#H0: 두 표본집단의 평균은 차이가 0이다. / H1: 두 표본집단의 평균은 차이가 있다.\n",
    "a = 0.05\n",
    "n1 = 14\n",
    "mean1 = 100\n",
    "std1 = 5\n",
    "n2 = 12\n",
    "mean2 = 110\n",
    "std2 = 6\n",
    "d0 = 0\n",
    "\n",
    "df = ((std1**2/n1+std2**2)**2)/((1/(n1-1))*((s1**2/n1)**2) + (1/(n2-1))*((s2**2/n2)**2))\n",
    "\n",
    "se =np.sqrt(std1**2/n1 + std2**2/n2)\n",
    "tt = (mean1-mean2-d0)/se\n",
    "\n",
    "from scipy.stats import t\n",
    "#양측\n",
    "p_value = (1- t.cdf(np.abs(tt), df))*2\n",
    "\n",
    "print(f\"검정통계량 : {tt:.3f}, p-value: {p_value:.3f}\")\n",
    "print(\"두 표본집단의 평균은 차이가 있다.\")"
   ]
  },
  {
   "cell_type": "code",
   "execution_count": 376,
   "metadata": {},
   "outputs": [
    {
     "name": "stdout",
     "output_type": "stream",
     "text": [
      "통계량: -2.630020741488941, p_value: 0.017589365080092574\n"
     ]
    }
   ],
   "source": [
    "#라이브러리: 임의로 샘플을 만들어서 안 맞음 걍 참고만\n",
    "from scipy.stats import ttest_ind\n",
    "\n",
    "m1, s1, n1 = 100, 5, 14\n",
    "m2, s2, n2 = 110, 6, 12\n",
    "\n",
    "np.random.seed(0)\n",
    "\n",
    "x1 = np.random.normal(loc=m1, scale=s1, size=n1)\n",
    "x2 = np.random.normal(loc=m2, scale=s2, size=n2)\n",
    "\n",
    "t_stat, p_value = ttest_ind(x1, x2, equal_var=False, alternative=\"two-sided\")\n",
    "\n",
    "print(f\"통계량: {t_stat}, p_value: {p_value}\")"
   ]
  },
  {
   "cell_type": "markdown",
   "metadata": {},
   "source": [
    "10. iris target별로 sepal length의 평균에 차이가 있는지 가설검정하시오. 차이가 있다면 어느 target들 사이에 평균 차이가 있는지  \n",
    "    사후검정하시오."
   ]
  },
  {
   "cell_type": "code",
   "execution_count": 392,
   "metadata": {},
   "outputs": [
    {
     "data": {
      "text/plain": [
       "['sepal length', 'sepal width', 'petal length', 'petal width']"
      ]
     },
     "execution_count": 392,
     "metadata": {},
     "output_type": "execute_result"
    }
   ],
   "source": [
    "from sklearn.datasets import load_iris\n",
    "import pandas as pd\n",
    "\n",
    "load = load_iris()\n",
    "f_names = [f[:-5] for f in load['feature_names'][:]]\n",
    "f_names"
   ]
  },
  {
   "cell_type": "code",
   "execution_count": null,
   "metadata": {},
   "outputs": [],
   "source": []
  }
 ],
 "metadata": {
  "kernelspec": {
   "display_name": "Python 3",
   "language": "python",
   "name": "python3"
  },
  "language_info": {
   "codemirror_mode": {
    "name": "ipython",
    "version": 3
   },
   "file_extension": ".py",
   "mimetype": "text/x-python",
   "name": "python",
   "nbconvert_exporter": "python",
   "pygments_lexer": "ipython3",
   "version": "3.7.9"
  }
 },
 "nbformat": 4,
 "nbformat_minor": 2
}
