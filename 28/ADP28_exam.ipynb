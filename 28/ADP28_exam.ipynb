{
 "cells": [
  {
   "cell_type": "markdown",
   "metadata": {},
   "source": [
    "# 28회차 기출문제 \n",
    "\n",
    "## 문제 1\n",
    "\n",
    "**Data description**\n",
    "\n",
    "-   sex : 성별\n",
    "\n",
    "-   age : 나이\n",
    "\n",
    "-   pstatus : 부모와의 동거 유무(T : 동거 o, A : 동거 x)\n",
    "\n",
    "-   medu : 엄마의 교육수준\n",
    "\n",
    "    -   0 : none\n",
    "\n",
    "    -   1 : 초등교육(초등학교)\n",
    "\n",
    "    -   2 : 5 \\~ 9th edu\n",
    "\n",
    "    -   3 : 중등교육(중학교, 고등학교)\n",
    "\n",
    "    -   4 : 고등교육(대학, 대학원수준)\n",
    "\n",
    "-   fedu : 아빠의 교육수준\n",
    "\n",
    "    -   0 : none\n",
    "\n",
    "    -   1 : 초등교육(초등학교)\n",
    "\n",
    "    -   2 : 5 \\~ 9th edu(5\\~9학년)\n",
    "\n",
    "    -   3 : 중등교육(중학교, 고등학교)\n",
    "\n",
    "    -   4 : 고등교육(대학, 대학원수준)\n",
    "\n",
    "-   guardian : 주보호자\n",
    "\n",
    "    -   어머니\n",
    "\n",
    "    -   아버지\n",
    "\n",
    "    -   기타\n",
    "\n",
    "-   traveltime : 등하교기간\n",
    "\n",
    "    -   1 : 15분 이하\n",
    "\n",
    "    -   2 : 15분 \\~ 30분 이하\n",
    "\n",
    "    -   3 : 30분 \\~ 1시간 이하\n",
    "\n",
    "    -   4 : 1시간 이상\n",
    "\n",
    "-   studytime : 학습시간\n",
    "\n",
    "    -   1 : 2시간 이하\n",
    "\n",
    "    -   2 : 2\\~5시간 이하\n",
    "\n",
    "    -   3 : 5\\~10시간 이하\n",
    "\n",
    "    -   4 : 10시간 이상\n",
    "\n",
    "-   failure : 학사경고 횟수\n",
    "\n",
    "-   freetime : 자유시간(1 : 매우 낮음 \\~ 5 : 매우 높음)\n",
    "\n",
    "-   famrel : 가족관계(1 : 매우나쁨 \\~ 5 : 매우우수)\n",
    "\n",
    "-   absences : 결석 유무"
   ]
  },
  {
   "cell_type": "code",
   "execution_count": 1,
   "metadata": {},
   "outputs": [],
   "source": [
    "import pandas as pd\n",
    "import numpy as np\n",
    "import matplotlib.pyplot as plt\n",
    "import seaborn as sns\n",
    "import warnings \n",
    "warnings.filterwarnings('ignore')"
   ]
  },
  {
   "cell_type": "code",
   "execution_count": 2,
   "metadata": {},
   "outputs": [],
   "source": [
    "import koreanize_matplotlib"
   ]
  },
  {
   "cell_type": "code",
   "execution_count": 3,
   "metadata": {},
   "outputs": [
    {
     "data": {
      "text/html": [
       "<div>\n",
       "<style scoped>\n",
       "    .dataframe tbody tr th:only-of-type {\n",
       "        vertical-align: middle;\n",
       "    }\n",
       "\n",
       "    .dataframe tbody tr th {\n",
       "        vertical-align: top;\n",
       "    }\n",
       "\n",
       "    .dataframe thead th {\n",
       "        text-align: right;\n",
       "    }\n",
       "</style>\n",
       "<table border=\"1\" class=\"dataframe\">\n",
       "  <thead>\n",
       "    <tr style=\"text-align: right;\">\n",
       "      <th></th>\n",
       "      <th>sex</th>\n",
       "      <th>age</th>\n",
       "      <th>pstatus</th>\n",
       "      <th>medu</th>\n",
       "      <th>fedu</th>\n",
       "      <th>guardian</th>\n",
       "      <th>traveltime</th>\n",
       "      <th>studytime</th>\n",
       "      <th>failures</th>\n",
       "      <th>freetime</th>\n",
       "      <th>famrel</th>\n",
       "      <th>absences</th>\n",
       "    </tr>\n",
       "  </thead>\n",
       "  <tbody>\n",
       "    <tr>\n",
       "      <th>0</th>\n",
       "      <td>F</td>\n",
       "      <td>18</td>\n",
       "      <td>A</td>\n",
       "      <td>4</td>\n",
       "      <td>4</td>\n",
       "      <td>mother</td>\n",
       "      <td>2</td>\n",
       "      <td>2</td>\n",
       "      <td>0</td>\n",
       "      <td>3</td>\n",
       "      <td>4</td>\n",
       "      <td>No</td>\n",
       "    </tr>\n",
       "    <tr>\n",
       "      <th>1</th>\n",
       "      <td>F</td>\n",
       "      <td>17</td>\n",
       "      <td>T</td>\n",
       "      <td>1</td>\n",
       "      <td>1</td>\n",
       "      <td>father</td>\n",
       "      <td>1</td>\n",
       "      <td>2</td>\n",
       "      <td>0</td>\n",
       "      <td>3</td>\n",
       "      <td>5</td>\n",
       "      <td>No</td>\n",
       "    </tr>\n",
       "    <tr>\n",
       "      <th>2</th>\n",
       "      <td>F</td>\n",
       "      <td>15</td>\n",
       "      <td>T</td>\n",
       "      <td>1</td>\n",
       "      <td>1</td>\n",
       "      <td>mother</td>\n",
       "      <td>1</td>\n",
       "      <td>2</td>\n",
       "      <td>3</td>\n",
       "      <td>3</td>\n",
       "      <td>4</td>\n",
       "      <td>No</td>\n",
       "    </tr>\n",
       "    <tr>\n",
       "      <th>3</th>\n",
       "      <td>F</td>\n",
       "      <td>15</td>\n",
       "      <td>T</td>\n",
       "      <td>4</td>\n",
       "      <td>2</td>\n",
       "      <td>mother</td>\n",
       "      <td>1</td>\n",
       "      <td>3</td>\n",
       "      <td>0</td>\n",
       "      <td>2</td>\n",
       "      <td>3</td>\n",
       "      <td>No</td>\n",
       "    </tr>\n",
       "    <tr>\n",
       "      <th>4</th>\n",
       "      <td>F</td>\n",
       "      <td>16</td>\n",
       "      <td>T</td>\n",
       "      <td>3</td>\n",
       "      <td>3</td>\n",
       "      <td>father</td>\n",
       "      <td>1</td>\n",
       "      <td>2</td>\n",
       "      <td>0</td>\n",
       "      <td>3</td>\n",
       "      <td>4</td>\n",
       "      <td>No</td>\n",
       "    </tr>\n",
       "  </tbody>\n",
       "</table>\n",
       "</div>"
      ],
      "text/plain": [
       "  sex  age pstatus  medu  fedu guardian  traveltime  studytime failures  \\\n",
       "0   F   18       A     4     4   mother           2          2        0   \n",
       "1   F   17       T     1     1   father           1          2        0   \n",
       "2   F   15       T     1     1   mother           1          2        3   \n",
       "3   F   15       T     4     2   mother           1          3        0   \n",
       "4   F   16       T     3     3   father           1          2        0   \n",
       "\n",
       "   freetime  famrel absences  \n",
       "0         3       4       No  \n",
       "1         3       5       No  \n",
       "2         3       4       No  \n",
       "3         2       3       No  \n",
       "4         3       4       No  "
      ]
     },
     "execution_count": 3,
     "metadata": {},
     "output_type": "execute_result"
    }
   ],
   "source": [
    "df = pd.read_csv('https://raw.githubusercontent.com/qiwerr1004/ADP_go/main/28/problem1.csv')\n",
    "df.head()"
   ]
  },
  {
   "cell_type": "markdown",
   "metadata": {},
   "source": [
    "1.  **EDA를 실시하시오(5점).**"
   ]
  },
  {
   "cell_type": "code",
   "execution_count": 4,
   "metadata": {},
   "outputs": [
    {
     "name": "stdout",
     "output_type": "stream",
     "text": [
      "<데이터 기본정보>\n",
      "<class 'pandas.core.frame.DataFrame'>\n",
      "RangeIndex: 395 entries, 0 to 394\n",
      "Data columns (total 12 columns):\n",
      " #   Column      Non-Null Count  Dtype \n",
      "---  ------      --------------  ----- \n",
      " 0   sex         395 non-null    object\n",
      " 1   age         395 non-null    int64 \n",
      " 2   pstatus     395 non-null    object\n",
      " 3   medu        395 non-null    int64 \n",
      " 4   fedu        395 non-null    int64 \n",
      " 5   guardian    395 non-null    object\n",
      " 6   traveltime  395 non-null    int64 \n",
      " 7   studytime   395 non-null    int64 \n",
      " 8   failures    395 non-null    object\n",
      " 9   freetime    395 non-null    int64 \n",
      " 10  famrel      395 non-null    int64 \n",
      " 11  absences    395 non-null    object\n",
      "dtypes: int64(7), object(5)\n",
      "memory usage: 37.2+ KB\n",
      "None\n"
     ]
    }
   ],
   "source": [
    "print(\"<데이터 기본정보>\")\n",
    "print(df.info())"
   ]
  },
  {
   "cell_type": "markdown",
   "metadata": {},
   "source": [
    "데이터셋은 총 395개의 레코드와 12개의 컬럼(변수)로 이루어져있다.\n",
    "\n",
    "이 중 11개의 변수가 설명변수, absences(결석일수)는 종속변수이다.\n",
    "\n",
    "<데이터 성격에 따른 분류: 일치하지 않으면 타입 변환 필요>\n",
    "\n",
    "- 수치형 변수: age(나이), failures(학사경고 횟수)\n",
    "- 범주형(순서, Ordinal):  medu(엄마 교육수준), fedu(아빠 교육수준), traveltime(통학시간), studytime(공부), freetime(쉬는시간), famrel(가족관계), absences(결석유무)\n",
    "- 명목형 변수: sex(성별), pstatus(동거유무), guardian(주보호자)\n",
    "  "
   ]
  },
  {
   "cell_type": "code",
   "execution_count": 5,
   "metadata": {},
   "outputs": [
    {
     "data": {
      "text/plain": [
       "sex           0\n",
       "age           0\n",
       "pstatus       0\n",
       "medu          0\n",
       "fedu          0\n",
       "guardian      0\n",
       "traveltime    0\n",
       "studytime     0\n",
       "failures      0\n",
       "freetime      0\n",
       "famrel        0\n",
       "absences      0\n",
       "dtype: int64"
      ]
     },
     "execution_count": 5,
     "metadata": {},
     "output_type": "execute_result"
    }
   ],
   "source": [
    "# 결측 데이터는 없다.\n",
    "df.isnull().sum()"
   ]
  },
  {
   "cell_type": "code",
   "execution_count": 6,
   "metadata": {},
   "outputs": [
    {
     "data": {
      "text/plain": [
       "0    72.405063\n",
       "1    12.658228\n",
       "2     4.303797\n",
       "3     4.050633\n",
       "T     3.544304\n",
       "A     3.037975\n",
       "Name: failures, dtype: float64"
      ]
     },
     "execution_count": 6,
     "metadata": {},
     "output_type": "execute_result"
    }
   ],
   "source": [
    "#변수 타입 변환 전 값을 확인한다.\n",
    "df.failures.value_counts(normalize=True)*100"
   ]
  },
  {
   "cell_type": "code",
   "execution_count": 7,
   "metadata": {},
   "outputs": [
    {
     "data": {
      "text/plain": [
       "26"
      ]
     },
     "execution_count": 7,
     "metadata": {},
     "output_type": "execute_result"
    }
   ],
   "source": [
    "len(df[df.failures.isin(['T', 'A'])])"
   ]
  },
  {
   "cell_type": "markdown",
   "metadata": {},
   "source": [
    "데이터 성격에 따른 변수타입 변환에 앞서 결측치와 데이터 값을 확인한다.\n",
    "\n",
    "failures는 학사경고 횟수로 수치형 데이터이나 \"T\", \"A\" 같은 의미를 알 수 없는 데이터가 존재한다.\n",
    "\n",
    "T, A가 전체 데이터에서 차지하는 비율은 약 6.5%로 작은 비율을 차지하므로 적절한 대체값으로 대체하기보다는 제거를 선택한다."
   ]
  },
  {
   "cell_type": "code",
   "execution_count": 8,
   "metadata": {},
   "outputs": [
    {
     "data": {
      "text/plain": [
       "0    286\n",
       "1     50\n",
       "2     17\n",
       "3     16\n",
       "Name: failures, dtype: int64"
      ]
     },
     "execution_count": 8,
     "metadata": {},
     "output_type": "execute_result"
    }
   ],
   "source": [
    "# failures T, A 인 행 삭제\n",
    "df = df[~df['failures'].isin(['T', 'A'])]\n",
    "df['failures'].value_counts()"
   ]
  },
  {
   "cell_type": "code",
   "execution_count": 9,
   "metadata": {},
   "outputs": [],
   "source": [
    "# 데이터 성격에 따라 변수형태 변환을 실시\n",
    "df = df.astype({col:'category' for col in ['medu', 'fedu', 'traveltime', 'studytime', 'freetime', 'famrel', 'absences']})\n",
    "df = df.astype({'failures':'int64'})"
   ]
  },
  {
   "cell_type": "code",
   "execution_count": 10,
   "metadata": {},
   "outputs": [
    {
     "name": "stdout",
     "output_type": "stream",
     "text": [
      "<class 'pandas.core.frame.DataFrame'>\n",
      "Int64Index: 369 entries, 0 to 394\n",
      "Data columns (total 12 columns):\n",
      " #   Column      Non-Null Count  Dtype   \n",
      "---  ------      --------------  -----   \n",
      " 0   sex         369 non-null    object  \n",
      " 1   age         369 non-null    int64   \n",
      " 2   pstatus     369 non-null    object  \n",
      " 3   medu        369 non-null    category\n",
      " 4   fedu        369 non-null    category\n",
      " 5   guardian    369 non-null    object  \n",
      " 6   traveltime  369 non-null    category\n",
      " 7   studytime   369 non-null    category\n",
      " 8   failures    369 non-null    int64   \n",
      " 9   freetime    369 non-null    category\n",
      " 10  famrel      369 non-null    category\n",
      " 11  absences    369 non-null    category\n",
      "dtypes: category(7), int64(2), object(3)\n",
      "memory usage: 21.1+ KB\n",
      "None\n"
     ]
    }
   ],
   "source": [
    "print(df.info())"
   ]
  },
  {
   "cell_type": "code",
   "execution_count": 11,
   "metadata": {},
   "outputs": [
    {
     "name": "stdout",
     "output_type": "stream",
     "text": [
      "<수치형 변수 통계량>\n"
     ]
    },
    {
     "data": {
      "text/html": [
       "<div>\n",
       "<style scoped>\n",
       "    .dataframe tbody tr th:only-of-type {\n",
       "        vertical-align: middle;\n",
       "    }\n",
       "\n",
       "    .dataframe tbody tr th {\n",
       "        vertical-align: top;\n",
       "    }\n",
       "\n",
       "    .dataframe thead th {\n",
       "        text-align: right;\n",
       "    }\n",
       "</style>\n",
       "<table border=\"1\" class=\"dataframe\">\n",
       "  <thead>\n",
       "    <tr style=\"text-align: right;\">\n",
       "      <th></th>\n",
       "      <th>age</th>\n",
       "      <th>failures</th>\n",
       "    </tr>\n",
       "  </thead>\n",
       "  <tbody>\n",
       "    <tr>\n",
       "      <th>count</th>\n",
       "      <td>369.000000</td>\n",
       "      <td>369.000000</td>\n",
       "    </tr>\n",
       "    <tr>\n",
       "      <th>mean</th>\n",
       "      <td>16.699187</td>\n",
       "      <td>0.357724</td>\n",
       "    </tr>\n",
       "    <tr>\n",
       "      <th>std</th>\n",
       "      <td>1.287070</td>\n",
       "      <td>0.763965</td>\n",
       "    </tr>\n",
       "    <tr>\n",
       "      <th>min</th>\n",
       "      <td>15.000000</td>\n",
       "      <td>0.000000</td>\n",
       "    </tr>\n",
       "    <tr>\n",
       "      <th>25%</th>\n",
       "      <td>16.000000</td>\n",
       "      <td>0.000000</td>\n",
       "    </tr>\n",
       "    <tr>\n",
       "      <th>50%</th>\n",
       "      <td>17.000000</td>\n",
       "      <td>0.000000</td>\n",
       "    </tr>\n",
       "    <tr>\n",
       "      <th>75%</th>\n",
       "      <td>18.000000</td>\n",
       "      <td>0.000000</td>\n",
       "    </tr>\n",
       "    <tr>\n",
       "      <th>max</th>\n",
       "      <td>22.000000</td>\n",
       "      <td>3.000000</td>\n",
       "    </tr>\n",
       "  </tbody>\n",
       "</table>\n",
       "</div>"
      ],
      "text/plain": [
       "              age    failures\n",
       "count  369.000000  369.000000\n",
       "mean    16.699187    0.357724\n",
       "std      1.287070    0.763965\n",
       "min     15.000000    0.000000\n",
       "25%     16.000000    0.000000\n",
       "50%     17.000000    0.000000\n",
       "75%     18.000000    0.000000\n",
       "max     22.000000    3.000000"
      ]
     },
     "metadata": {},
     "output_type": "display_data"
    },
    {
     "name": "stdout",
     "output_type": "stream",
     "text": [
      "\n",
      "<명목형 변수 통계량>\n"
     ]
    },
    {
     "data": {
      "text/html": [
       "<div>\n",
       "<style scoped>\n",
       "    .dataframe tbody tr th:only-of-type {\n",
       "        vertical-align: middle;\n",
       "    }\n",
       "\n",
       "    .dataframe tbody tr th {\n",
       "        vertical-align: top;\n",
       "    }\n",
       "\n",
       "    .dataframe thead th {\n",
       "        text-align: right;\n",
       "    }\n",
       "</style>\n",
       "<table border=\"1\" class=\"dataframe\">\n",
       "  <thead>\n",
       "    <tr style=\"text-align: right;\">\n",
       "      <th></th>\n",
       "      <th>sex</th>\n",
       "      <th>pstatus</th>\n",
       "      <th>medu</th>\n",
       "      <th>fedu</th>\n",
       "      <th>guardian</th>\n",
       "      <th>traveltime</th>\n",
       "      <th>studytime</th>\n",
       "      <th>freetime</th>\n",
       "      <th>famrel</th>\n",
       "      <th>absences</th>\n",
       "    </tr>\n",
       "  </thead>\n",
       "  <tbody>\n",
       "    <tr>\n",
       "      <th>count</th>\n",
       "      <td>369</td>\n",
       "      <td>369</td>\n",
       "      <td>369</td>\n",
       "      <td>369</td>\n",
       "      <td>369</td>\n",
       "      <td>369</td>\n",
       "      <td>369</td>\n",
       "      <td>369</td>\n",
       "      <td>369</td>\n",
       "      <td>369</td>\n",
       "    </tr>\n",
       "    <tr>\n",
       "      <th>unique</th>\n",
       "      <td>2</td>\n",
       "      <td>2</td>\n",
       "      <td>5</td>\n",
       "      <td>5</td>\n",
       "      <td>3</td>\n",
       "      <td>4</td>\n",
       "      <td>4</td>\n",
       "      <td>5</td>\n",
       "      <td>5</td>\n",
       "      <td>2</td>\n",
       "    </tr>\n",
       "    <tr>\n",
       "      <th>top</th>\n",
       "      <td>F</td>\n",
       "      <td>T</td>\n",
       "      <td>4</td>\n",
       "      <td>2</td>\n",
       "      <td>mother</td>\n",
       "      <td>1</td>\n",
       "      <td>2</td>\n",
       "      <td>3</td>\n",
       "      <td>4</td>\n",
       "      <td>No</td>\n",
       "    </tr>\n",
       "    <tr>\n",
       "      <th>freq</th>\n",
       "      <td>194</td>\n",
       "      <td>331</td>\n",
       "      <td>120</td>\n",
       "      <td>107</td>\n",
       "      <td>258</td>\n",
       "      <td>241</td>\n",
       "      <td>183</td>\n",
       "      <td>148</td>\n",
       "      <td>180</td>\n",
       "      <td>261</td>\n",
       "    </tr>\n",
       "  </tbody>\n",
       "</table>\n",
       "</div>"
      ],
      "text/plain": [
       "        sex pstatus  medu  fedu guardian  traveltime  studytime  freetime  \\\n",
       "count   369     369   369   369      369         369        369       369   \n",
       "unique    2       2     5     5        3           4          4         5   \n",
       "top       F       T     4     2   mother           1          2         3   \n",
       "freq    194     331   120   107      258         241        183       148   \n",
       "\n",
       "        famrel absences  \n",
       "count      369      369  \n",
       "unique       5        2  \n",
       "top          4       No  \n",
       "freq       180      261  "
      ]
     },
     "metadata": {},
     "output_type": "display_data"
    }
   ],
   "source": [
    "# 먼저 수치형 변수와 범주형 변수의 통계량 확인\n",
    "print(\"<수치형 변수 통계량>\")\n",
    "display(df.describe(include='number'))\n",
    "\n",
    "print(\"\\n<명목형 변수 통계량>\")\n",
    "display(df.describe(exclude='number'))"
   ]
  },
  {
   "cell_type": "code",
   "execution_count": 12,
   "metadata": {},
   "outputs": [
    {
     "ename": "NameError",
     "evalue": "name 'w_cols' is not defined",
     "output_type": "error",
     "traceback": [
      "\u001b[1;31m---------------------------------------------------------------------------\u001b[0m",
      "\u001b[1;31mNameError\u001b[0m                                 Traceback (most recent call last)",
      "\u001b[1;32m<ipython-input-12-6ca5e9fa5e23>\u001b[0m in \u001b[0;36m<module>\u001b[1;34m\u001b[0m\n\u001b[1;32m----> 1\u001b[1;33m \u001b[0mw_cols\u001b[0m\u001b[1;33m\u001b[0m\u001b[1;33m\u001b[0m\u001b[0m\n\u001b[0m",
      "\u001b[1;31mNameError\u001b[0m: name 'w_cols' is not defined"
     ]
    }
   ],
   "source": [
    "w_cols"
   ]
  },
  {
   "cell_type": "code",
   "execution_count": null,
   "metadata": {},
   "outputs": [],
   "source": [
    "# 수치형 히스토그램\n",
    "print(\"<수치형 변수 분포>\")\n",
    "\n",
    "fig, ax = plt.subplots(1, 2, figsize=(10, 5))\n",
    "n_cols = df.select_dtypes('number').columns\n",
    "\n",
    "for i, col in enumerate(n_cols):\n",
    "    df[col].hist(ax=ax[i])\n",
    "    ax[i].set_title(col)\n",
    "plt.show()\n",
    "\n",
    "print(\"<범주형 변수 분포>\")\n",
    "# 범주형 빈도별 count plot\n",
    "fig, ax = plt.subplots(2, 5, figsize=(15, 5))\n",
    "w_cols = df.select_dtypes(['object', 'category']).columns\n",
    "\n",
    "for i, col in enumerate(w_cols):\n",
    "    x = i // 5\n",
    "    y = i % 5\n",
    "    sns.countplot(df[col], ax=ax[x, y])\n",
    "plt.subplots_adjust(wspace=0.3, hspace=0.5)\n",
    "plt.show()\n"
   ]
  },
  {
   "cell_type": "markdown",
   "metadata": {},
   "source": [
    "***통계량 분석***\n",
    "- 수치형: age는 15~17세, 그리고 18세인 학생이 많으며, 학사경고는 받지 안은 학생의 빈도수가 가장 높다.\n",
    "- 범주형:\n",
    "    - 남성과 여성의 비율은 큰 차이는 없으나, 여성이 더 많다.\n",
    "    - 부모와 동거하는 비율이 높으며, 어머니가 주 보호자인 경우가 높다.\n",
    "    - 어머니의 교육수준은 고등교육이 가장 높으며(4), 아버지의 교육수준은 5~9학년(2)이 가장 많다.\n",
    "    - 등하교 시간은 가장 짧은 15분 이하(1)가 가장 많으며, 학습시간은 2~5시간 이하(2)가 가장 많았다.\n",
    "    - 자유시간은 수준\"3\"이 가장 많으며, 가족관계는 대체로 우수한 (4) 경우가 많았다.\n",
    "    - 결석여부는 결석하지 않은 학생이 많았다."
   ]
  },
  {
   "cell_type": "code",
   "execution_count": 13,
   "metadata": {},
   "outputs": [],
   "source": [
    "# 상관관계 분석 전 문자형으로 되어있는 카테고리형 데이터를 모두 categoriy로 바꿔준다. \n",
    "df2 = df.copy()\n",
    "df2 = df2.replace({'F':0, 'M':1})\n",
    "df2 = df2.replace({'A':0, 'T':1})\n",
    "df2 = df2.replace({'No': 0, 'Yes': 1})\n",
    "df2 = df2.astype({col:'category' for col in ['sex', 'pstatus']})\n",
    "df2 = df2.astype({col :'int64' for col in df2.select_dtypes(['category']).columns})"
   ]
  },
  {
   "cell_type": "code",
   "execution_count": 14,
   "metadata": {},
   "outputs": [
    {
     "name": "stdout",
     "output_type": "stream",
     "text": [
      "<class 'pandas.core.frame.DataFrame'>\n",
      "Int64Index: 369 entries, 0 to 394\n",
      "Data columns (total 12 columns):\n",
      " #   Column      Non-Null Count  Dtype \n",
      "---  ------      --------------  ----- \n",
      " 0   sex         369 non-null    int64 \n",
      " 1   age         369 non-null    int64 \n",
      " 2   pstatus     369 non-null    int64 \n",
      " 3   medu        369 non-null    int64 \n",
      " 4   fedu        369 non-null    int64 \n",
      " 5   guardian    369 non-null    object\n",
      " 6   traveltime  369 non-null    int64 \n",
      " 7   studytime   369 non-null    int64 \n",
      " 8   failures    369 non-null    int64 \n",
      " 9   freetime    369 non-null    int64 \n",
      " 10  famrel      369 non-null    int64 \n",
      " 11  absences    369 non-null    int64 \n",
      "dtypes: int64(11), object(1)\n",
      "memory usage: 37.5+ KB\n"
     ]
    }
   ],
   "source": [
    "df2.info()"
   ]
  },
  {
   "cell_type": "code",
   "execution_count": 15,
   "metadata": {},
   "outputs": [
    {
     "data": {
      "image/png": "[encoded data removed]",
      "text/plain": [
       "<Figure size 1080x936 with 2 Axes>"
      ]
     },
     "metadata": {
      "needs_background": "light"
     },
     "output_type": "display_data"
    }
   ],
   "source": [
    "# 다음으로 각 변수간 상관관계를 알아본다. (종속변수에 가장 많은 영향을 끼치는 변수도 확인)\n",
    "# pearson corration\n",
    "plt.figure(figsize=(15, 13))\n",
    "corr = df2.corr()\n",
    "mask = np.triu(np.ones_like(corr, dtype='bool'))\n",
    "sns.heatmap(corr, mask = mask, annot=True, cmap='RdBu')\n",
    "plt.xticks(fontsize=12)  # X축 글자 크기\n",
    "plt.yticks(fontsize=11)  # Y축 글자 크기\n",
    "plt.subplots_adjust(wspace=0.2, hspace=0.2)\n",
    "plt.show()"
   ]
  },
  {
   "cell_type": "markdown",
   "metadata": {},
   "source": [
    "***각 변수들 간 상관관계를 확인하기 위해 순서형 변수, 이진 명목변수를 수치형으로 변환하였다.***\n",
    "- 성별과 학습시간 간에는 약한 음의 상관관계가 있다. 즉, 여성이 학습시간이 더 많은 경향이 있다.\n",
    "- 어머니의 교육수준과 아버지의 교육수준 간에는 양의 상관관계가 존대한다.\n",
    "- 다른 변수들 간에는 대체로 유의미한 상관관계가 보이지 않는다."
   ]
  },
  {
   "cell_type": "markdown",
   "metadata": {},
   "source": [
    "## 1-2. 데이터 품질을 살펴보고, 차원축소가 필요한지 검토하시오(5점)"
   ]
  },
  {
   "cell_type": "markdown",
   "metadata": {},
   "source": [
    "차원축소는 차원이 높으며, 변수간의 중복되는 정보가 많을 때 과적합 방지, 연산속도 향상의 목적을 위해 고려하는 방식이다.\n",
    "\n",
    "대표적인 방식은 주성분분석(PCA), LDA 등이 있다.\n",
    "\n",
    "해당 데이터의 경우 유의미한 상관관계를 찾기 어려우며(선형적), 차원 축소 시 정보의 손실을 발생시킬 것으로 예상되기 때문에\n",
    "\n",
    "차원축소를 고려하지 않는다."
   ]
  },
  {
   "cell_type": "markdown",
   "metadata": {},
   "source": [
    "## 1-3. 위에서 적용한 것이 과적합이라는 전제하, 해결하기 위한 방법을 2개 제시 및 구현(5점)"
   ]
  },
  {
   "cell_type": "markdown",
   "metadata": {},
   "source": [
    "실제 변수 간 유의미한 상관관계는 없지만 과적합, 즉 변수 간 높은 양/음의 상관관계가 대부분 존재한다면 이를 해결하기 위한 방식으로 \n",
    "\n",
    "1. 정규화를 통한 일반화\n",
    "   * 데이터가 과적합이라는 것은 모델이 학습 데이터에 지나치게 민감하게 반응하여, 테스트 데이터나 다른 데이터 적용 시 일반화된\n",
    "     결과를 반환하지 못함을 뜻하므로, 정규화를 적용하여 데이터를 일반화함으로써 과적합을 줄일 수 있다. 보통 L1(lasso), L2(ledge) 사용\n",
    "2. 주성분분석(PCA)을 통한 차원축소\n",
    "    * 데이터를 대표하는 새로운 축(주성분)을 생성하고, 변수 데이터를 사영하여 적절한 설명률을 가진 변수 선택\n",
    "3. 앙상블 모델을 사용\n",
    "    * 편향/분산을 보완하여 일반화 성능 보장\n",
    "\n",
    "\n",
    "중 2, 3을 고려한다. PCA 와 bagging 을 사용하는 앙상블 모델인 randomforerest 모델을 사용한다.\n",
    "\n",
    "- PCA는 거리기반 방식이므로 범주형 변수에 대해 on-hot encoding, 그리고 수치형 데이터 변수간 범위 일치를 위한 scaling을 실시한다."
   ]
  },
  {
   "cell_type": "code",
   "execution_count": 16,
   "metadata": {},
   "outputs": [
    {
     "name": "stdout",
     "output_type": "stream",
     "text": [
      "데이터셋 크기: (258, 12) (111, 12)\n"
     ]
    }
   ],
   "source": [
    "df2 = df.copy()\n",
    "df2 = df2.replace({'No': 0, 'Yes': 1})\n",
    "\n",
    "# 스케일링, 순서가 없는 범주형 변수 one-hot encoding 실시\n",
    "c_cols = ['sex', 'pstatus', 'guardian']\n",
    "\n",
    "#순서가 있는 범주형 변수는 숫자형으로 변환\n",
    "df2 = df2.astype({col:'int64' for col in df2.select_dtypes(['category']).columns})\n",
    "\n",
    "\n",
    "# one-hot 전 데이터 분할\n",
    "from sklearn.model_selection import train_test_split\n",
    "\n",
    "Y = df2['absences']\n",
    "X = df2.drop(columns='absences', axis=1)\n",
    "\n",
    "train_X, test_X, train_Y, test_Y = train_test_split(X, Y, random_state=0, test_size=0.3, stratify = Y)\n",
    "\n",
    "\n",
    "# one-hot 인코딩\n",
    "train_X = pd.get_dummies(train_X, columns= c_cols, drop_first=True)\n",
    "test_X = pd.get_dummies(test_X, columns=c_cols, drop_first=True)\n",
    "test_X = test_X.reindex(columns=train_X.columns, fill_value=0)\n",
    "\n",
    "print(f\"데이터셋 크기: {train_X.shape} {test_X.shape}\")\n",
    "\n",
    "# 수치형 데이터 스케일링: standard scaler(age, failures)\n",
    "from sklearn.preprocessing import StandardScaler\n",
    "\n",
    "sc = StandardScaler()\n",
    "\n",
    "train_X[['age', 'failures']] = sc.fit_transform(train_X[['age', 'failures']])\n",
    "test_X[['age', 'failures']] =sc.transform(test_X[['age', 'failures']])"
   ]
  },
  {
   "cell_type": "code",
   "execution_count": 17,
   "metadata": {},
   "outputs": [
    {
     "name": "stdout",
     "output_type": "stream",
     "text": [
      "<train set 분포>\n"
     ]
    },
    {
     "data": {
      "text/html": [
       "<div>\n",
       "<style scoped>\n",
       "    .dataframe tbody tr th:only-of-type {\n",
       "        vertical-align: middle;\n",
       "    }\n",
       "\n",
       "    .dataframe tbody tr th {\n",
       "        vertical-align: top;\n",
       "    }\n",
       "\n",
       "    .dataframe thead th {\n",
       "        text-align: right;\n",
       "    }\n",
       "</style>\n",
       "<table border=\"1\" class=\"dataframe\">\n",
       "  <thead>\n",
       "    <tr style=\"text-align: right;\">\n",
       "      <th></th>\n",
       "      <th>count</th>\n",
       "      <th>mean</th>\n",
       "      <th>std</th>\n",
       "      <th>min</th>\n",
       "      <th>25%</th>\n",
       "      <th>50%</th>\n",
       "      <th>75%</th>\n",
       "      <th>max</th>\n",
       "    </tr>\n",
       "  </thead>\n",
       "  <tbody>\n",
       "    <tr>\n",
       "      <th>age</th>\n",
       "      <td>258.0</td>\n",
       "      <td>-2.117169e-16</td>\n",
       "      <td>1.001944</td>\n",
       "      <td>-1.314318</td>\n",
       "      <td>-0.512677</td>\n",
       "      <td>0.288963</td>\n",
       "      <td>1.090604</td>\n",
       "      <td>3.495525</td>\n",
       "    </tr>\n",
       "    <tr>\n",
       "      <th>failures</th>\n",
       "      <td>258.0</td>\n",
       "      <td>1.377021e-17</td>\n",
       "      <td>1.001944</td>\n",
       "      <td>-0.465952</td>\n",
       "      <td>-0.465952</td>\n",
       "      <td>-0.465952</td>\n",
       "      <td>-0.465952</td>\n",
       "      <td>3.541238</td>\n",
       "    </tr>\n",
       "  </tbody>\n",
       "</table>\n",
       "</div>"
      ],
      "text/plain": [
       "          count          mean       std       min       25%       50%  \\\n",
       "age       258.0 -2.117169e-16  1.001944 -1.314318 -0.512677  0.288963   \n",
       "failures  258.0  1.377021e-17  1.001944 -0.465952 -0.465952 -0.465952   \n",
       "\n",
       "               75%       max  \n",
       "age       1.090604  3.495525  \n",
       "failures -0.465952  3.541238  "
      ]
     },
     "metadata": {},
     "output_type": "display_data"
    },
    {
     "name": "stdout",
     "output_type": "stream",
     "text": [
      "<test set 분포>\n"
     ]
    },
    {
     "data": {
      "text/html": [
       "<div>\n",
       "<style scoped>\n",
       "    .dataframe tbody tr th:only-of-type {\n",
       "        vertical-align: middle;\n",
       "    }\n",
       "\n",
       "    .dataframe tbody tr th {\n",
       "        vertical-align: top;\n",
       "    }\n",
       "\n",
       "    .dataframe thead th {\n",
       "        text-align: right;\n",
       "    }\n",
       "</style>\n",
       "<table border=\"1\" class=\"dataframe\">\n",
       "  <thead>\n",
       "    <tr style=\"text-align: right;\">\n",
       "      <th></th>\n",
       "      <th>count</th>\n",
       "      <th>mean</th>\n",
       "      <th>std</th>\n",
       "      <th>min</th>\n",
       "      <th>25%</th>\n",
       "      <th>50%</th>\n",
       "      <th>75%</th>\n",
       "      <th>max</th>\n",
       "    </tr>\n",
       "  </thead>\n",
       "  <tbody>\n",
       "    <tr>\n",
       "      <th>age</th>\n",
       "      <td>111.0</td>\n",
       "      <td>0.158968</td>\n",
       "      <td>1.094576</td>\n",
       "      <td>-1.314318</td>\n",
       "      <td>-0.512677</td>\n",
       "      <td>0.288963</td>\n",
       "      <td>1.090604</td>\n",
       "      <td>4.297166</td>\n",
       "    </tr>\n",
       "    <tr>\n",
       "      <th>failures</th>\n",
       "      <td>111.0</td>\n",
       "      <td>0.039459</td>\n",
       "      <td>1.066367</td>\n",
       "      <td>-0.465952</td>\n",
       "      <td>-0.465952</td>\n",
       "      <td>-0.465952</td>\n",
       "      <td>-0.465952</td>\n",
       "      <td>3.541238</td>\n",
       "    </tr>\n",
       "  </tbody>\n",
       "</table>\n",
       "</div>"
      ],
      "text/plain": [
       "          count      mean       std       min       25%       50%       75%  \\\n",
       "age       111.0  0.158968  1.094576 -1.314318 -0.512677  0.288963  1.090604   \n",
       "failures  111.0  0.039459  1.066367 -0.465952 -0.465952 -0.465952 -0.465952   \n",
       "\n",
       "               max  \n",
       "age       4.297166  \n",
       "failures  3.541238  "
      ]
     },
     "metadata": {},
     "output_type": "display_data"
    }
   ],
   "source": [
    "print(\"<train set 분포>\")\n",
    "display(train_X[['age', 'failures']].describe().T)\n",
    "\n",
    "print(\"<test set 분포>\")\n",
    "display(test_X[['age', 'failures']].describe().T)"
   ]
  },
  {
   "cell_type": "code",
   "execution_count": 18,
   "metadata": {},
   "outputs": [
    {
     "data": {
      "text/html": [
       "<div>\n",
       "<style scoped>\n",
       "    .dataframe tbody tr th:only-of-type {\n",
       "        vertical-align: middle;\n",
       "    }\n",
       "\n",
       "    .dataframe tbody tr th {\n",
       "        vertical-align: top;\n",
       "    }\n",
       "\n",
       "    .dataframe thead th {\n",
       "        text-align: right;\n",
       "    }\n",
       "</style>\n",
       "<table border=\"1\" class=\"dataframe\">\n",
       "  <thead>\n",
       "    <tr style=\"text-align: right;\">\n",
       "      <th></th>\n",
       "      <th>변수명</th>\n",
       "      <th>singular value</th>\n",
       "      <th>설명률</th>\n",
       "      <th>누적설명률</th>\n",
       "    </tr>\n",
       "  </thead>\n",
       "  <tbody>\n",
       "    <tr>\n",
       "      <th>0</th>\n",
       "      <td>age</td>\n",
       "      <td>24.487358</td>\n",
       "      <td>0.283667</td>\n",
       "      <td>0.283667</td>\n",
       "    </tr>\n",
       "    <tr>\n",
       "      <th>1</th>\n",
       "      <td>medu</td>\n",
       "      <td>17.453908</td>\n",
       "      <td>0.144115</td>\n",
       "      <td>0.427783</td>\n",
       "    </tr>\n",
       "    <tr>\n",
       "      <th>2</th>\n",
       "      <td>fedu</td>\n",
       "      <td>16.264324</td>\n",
       "      <td>0.125140</td>\n",
       "      <td>0.552923</td>\n",
       "    </tr>\n",
       "    <tr>\n",
       "      <th>3</th>\n",
       "      <td>traveltime</td>\n",
       "      <td>15.371283</td>\n",
       "      <td>0.111775</td>\n",
       "      <td>0.664698</td>\n",
       "    </tr>\n",
       "    <tr>\n",
       "      <th>4</th>\n",
       "      <td>studytime</td>\n",
       "      <td>13.182713</td>\n",
       "      <td>0.082212</td>\n",
       "      <td>0.746910</td>\n",
       "    </tr>\n",
       "    <tr>\n",
       "      <th>5</th>\n",
       "      <td>failures</td>\n",
       "      <td>12.858487</td>\n",
       "      <td>0.078218</td>\n",
       "      <td>0.825128</td>\n",
       "    </tr>\n",
       "    <tr>\n",
       "      <th>6</th>\n",
       "      <td>freetime</td>\n",
       "      <td>11.363151</td>\n",
       "      <td>0.061083</td>\n",
       "      <td>0.886211</td>\n",
       "    </tr>\n",
       "    <tr>\n",
       "      <th>7</th>\n",
       "      <td>famrel</td>\n",
       "      <td>10.700193</td>\n",
       "      <td>0.054164</td>\n",
       "      <td>0.940375</td>\n",
       "    </tr>\n",
       "    <tr>\n",
       "      <th>8</th>\n",
       "      <td>sex_M</td>\n",
       "      <td>7.420109</td>\n",
       "      <td>0.026046</td>\n",
       "      <td>0.966421</td>\n",
       "    </tr>\n",
       "    <tr>\n",
       "      <th>9</th>\n",
       "      <td>pstatus_T</td>\n",
       "      <td>6.542982</td>\n",
       "      <td>0.020252</td>\n",
       "      <td>0.986674</td>\n",
       "    </tr>\n",
       "    <tr>\n",
       "      <th>10</th>\n",
       "      <td>guardian_mother</td>\n",
       "      <td>4.252062</td>\n",
       "      <td>0.008553</td>\n",
       "      <td>0.995227</td>\n",
       "    </tr>\n",
       "    <tr>\n",
       "      <th>11</th>\n",
       "      <td>guardian_other</td>\n",
       "      <td>3.176462</td>\n",
       "      <td>0.004773</td>\n",
       "      <td>1.000000</td>\n",
       "    </tr>\n",
       "  </tbody>\n",
       "</table>\n",
       "</div>"
      ],
      "text/plain": [
       "                변수명  singular value       설명률     누적설명률\n",
       "0               age       24.487358  0.283667  0.283667\n",
       "1              medu       17.453908  0.144115  0.427783\n",
       "2              fedu       16.264324  0.125140  0.552923\n",
       "3        traveltime       15.371283  0.111775  0.664698\n",
       "4         studytime       13.182713  0.082212  0.746910\n",
       "5          failures       12.858487  0.078218  0.825128\n",
       "6          freetime       11.363151  0.061083  0.886211\n",
       "7            famrel       10.700193  0.054164  0.940375\n",
       "8             sex_M        7.420109  0.026046  0.966421\n",
       "9         pstatus_T        6.542982  0.020252  0.986674\n",
       "10  guardian_mother        4.252062  0.008553  0.995227\n",
       "11   guardian_other        3.176462  0.004773  1.000000"
      ]
     },
     "metadata": {},
     "output_type": "display_data"
    }
   ],
   "source": [
    "# 주성분분석(PCA)\n",
    "\n",
    "from sklearn.decomposition import PCA\n",
    "pca = PCA()\n",
    "\n",
    "p_fit = pca.fit(train_X)\n",
    "\n",
    "p_result = pd.DataFrame({\"변수명\": train_X.columns, \n",
    "                        \"singular value\": p_fit.singular_values_, \n",
    "                        \"설명률\": p_fit.explained_variance_ratio_, \n",
    "                        \"누적설명률\": np.cumsum(p_fit.explained_variance_ratio_)})\n",
    "\n",
    "display(p_result)"
   ]
  },
  {
   "cell_type": "code",
   "execution_count": 19,
   "metadata": {},
   "outputs": [
    {
     "data": {
      "image/png": "[encoded data removed]",
      "text/plain": [
       "<Figure size 576x432 with 1 Axes>"
      ]
     },
     "metadata": {
      "needs_background": "light"
     },
     "output_type": "display_data"
    }
   ],
   "source": [
    "# 누적 scree plot 을 그려본다.\n",
    "plt.figure(figsize=(8, 6))\n",
    "plt.plot(p_result['누적설명률'], marker='o')\n",
    "plt.title(\"변수별 누적분산설명률\")\n",
    "plt.xlabel(\"features\")\n",
    "plt.ylabel(\"누적분산설명률\")\n",
    "plt.axvline(x=5, color='r', linestyle = '--')\n",
    "plt.axhline(y=0.8, color='r', linestyle = '--')\n",
    "plt.show()"
   ]
  },
  {
   "cell_type": "markdown",
   "metadata": {},
   "source": [
    "- PCA 실시 결과, 5개 feature 수준에서 누적분산설명률 0.8 이상이다.\n",
    "  여기서는 0.825128 누적 설명률을 가지는 5개 featuer를 선택하여 다시 pca를 설정한다.\n",
    "- 따라서 pca를 통해 전체 데이터의 약 82%를 설명하는 데이터로 재가공하였다.\n",
    "\n",
    "- 데이터 비율이 1:2.3 정도로 오버샘플링을 실시할 정도로 불균형하다고 판단되지 않는다.\n",
    "  - 그런데 성능이 너무 좋지않아 오버샘플링 기법인 SMOTE 를 시행한다."
   ]
  },
  {
   "cell_type": "code",
   "execution_count": 20,
   "metadata": {},
   "outputs": [
    {
     "data": {
      "text/html": [
       "<div>\n",
       "<style scoped>\n",
       "    .dataframe tbody tr th:only-of-type {\n",
       "        vertical-align: middle;\n",
       "    }\n",
       "\n",
       "    .dataframe tbody tr th {\n",
       "        vertical-align: top;\n",
       "    }\n",
       "\n",
       "    .dataframe thead th {\n",
       "        text-align: right;\n",
       "    }\n",
       "</style>\n",
       "<table border=\"1\" class=\"dataframe\">\n",
       "  <thead>\n",
       "    <tr style=\"text-align: right;\">\n",
       "      <th></th>\n",
       "      <th>age</th>\n",
       "      <th>medu</th>\n",
       "      <th>fedu</th>\n",
       "      <th>traveltime</th>\n",
       "      <th>studytime</th>\n",
       "    </tr>\n",
       "  </thead>\n",
       "  <tbody>\n",
       "    <tr>\n",
       "      <th>0</th>\n",
       "      <td>-1.738366</td>\n",
       "      <td>-0.826220</td>\n",
       "      <td>-0.317649</td>\n",
       "      <td>-0.331936</td>\n",
       "      <td>1.600585</td>\n",
       "    </tr>\n",
       "    <tr>\n",
       "      <th>1</th>\n",
       "      <td>-2.013525</td>\n",
       "      <td>0.758097</td>\n",
       "      <td>0.000453</td>\n",
       "      <td>-0.080243</td>\n",
       "      <td>1.096448</td>\n",
       "    </tr>\n",
       "    <tr>\n",
       "      <th>2</th>\n",
       "      <td>2.856067</td>\n",
       "      <td>2.774511</td>\n",
       "      <td>-0.121642</td>\n",
       "      <td>1.082899</td>\n",
       "      <td>0.782572</td>\n",
       "    </tr>\n",
       "    <tr>\n",
       "      <th>3</th>\n",
       "      <td>0.560817</td>\n",
       "      <td>-0.386613</td>\n",
       "      <td>-0.219796</td>\n",
       "      <td>-0.571027</td>\n",
       "      <td>-1.535113</td>\n",
       "    </tr>\n",
       "    <tr>\n",
       "      <th>4</th>\n",
       "      <td>0.545796</td>\n",
       "      <td>0.997692</td>\n",
       "      <td>0.031075</td>\n",
       "      <td>-0.130181</td>\n",
       "      <td>-0.735780</td>\n",
       "    </tr>\n",
       "  </tbody>\n",
       "</table>\n",
       "</div>"
      ],
      "text/plain": [
       "        age      medu      fedu  traveltime  studytime\n",
       "0 -1.738366 -0.826220 -0.317649   -0.331936   1.600585\n",
       "1 -2.013525  0.758097  0.000453   -0.080243   1.096448\n",
       "2  2.856067  2.774511 -0.121642    1.082899   0.782572\n",
       "3  0.560817 -0.386613 -0.219796   -0.571027  -1.535113\n",
       "4  0.545796  0.997692  0.031075   -0.130181  -0.735780"
      ]
     },
     "execution_count": 20,
     "metadata": {},
     "output_type": "execute_result"
    }
   ],
   "source": [
    "pca = PCA(n_components=5)\n",
    "\n",
    "train_X1 = pd.DataFrame(pca.fit_transform(train_X), columns=train_X.columns[:5])\n",
    "test_X1 = pd.DataFrame(pca.transform(test_X), columns=test_X.columns[:5])\n",
    "\n",
    "test_X1.head()"
   ]
  },
  {
   "cell_type": "markdown",
   "metadata": {},
   "source": [
    "다음으로 앙상블 모델인 random forerest를 구현한다.\n",
    "\n",
    "이후 test set을 이용하여 성능지표를 확인한다. 주 성능지표를 auc score 로 보조 성능지표로 f1 score를 활용한다.\n",
    "- 불균형이 아니라고 생각했는데 recall(재현율)이 아주 좋지 않다. f2 socre를 성능지표로 이용해 보고, 개선되지 않는다면, \n",
    "   oversampling을 고려한다.\n",
    "- f1_macro가 아닌 일반적인 f1 score를 사용하는 것이 적절하다. 왜냐하면 label 0의 f1 score는 높을 수밖에 없고, \n",
    "  f1 macro는 다중 레이블의 평균 f1 값이므로, label 1의 f1 score가 상쇄되어 성능이 좋지 않음에도 좋게 표시되기 때문이다."
   ]
  },
  {
   "cell_type": "code",
   "execution_count": 128,
   "metadata": {},
   "outputs": [
    {
     "name": "stdout",
     "output_type": "stream",
     "text": [
      "Best param: {'max_depth': 3, 'min_samples_split': 2, 'n_estimators': 50}\n",
      "Best socre: 0.00\n",
      "< 학습 데이터 학습결과 >\n",
      "f1 score / AUC score: 0.00 / 0.50\n"
     ]
    },
    {
     "data": {
      "text/html": [
       "<div>\n",
       "<style scoped>\n",
       "    .dataframe tbody tr th:only-of-type {\n",
       "        vertical-align: middle;\n",
       "    }\n",
       "\n",
       "    .dataframe tbody tr th {\n",
       "        vertical-align: top;\n",
       "    }\n",
       "\n",
       "    .dataframe thead th {\n",
       "        text-align: right;\n",
       "    }\n",
       "</style>\n",
       "<table border=\"1\" class=\"dataframe\">\n",
       "  <thead>\n",
       "    <tr style=\"text-align: right;\">\n",
       "      <th></th>\n",
       "      <th>예측 출석</th>\n",
       "      <th>예측 결석</th>\n",
       "    </tr>\n",
       "  </thead>\n",
       "  <tbody>\n",
       "    <tr>\n",
       "      <th>실제 출석</th>\n",
       "      <td>182</td>\n",
       "      <td>0</td>\n",
       "    </tr>\n",
       "    <tr>\n",
       "      <th>실제 결석</th>\n",
       "      <td>76</td>\n",
       "      <td>0</td>\n",
       "    </tr>\n",
       "  </tbody>\n",
       "</table>\n",
       "</div>"
      ],
      "text/plain": [
       "       예측 출석  예측 결석\n",
       "실제 출석    182      0\n",
       "실제 결석     76      0"
      ]
     },
     "metadata": {},
     "output_type": "display_data"
    },
    {
     "name": "stdout",
     "output_type": "stream",
     "text": [
      "< 테스트 데이터 학습결과 >\n",
      "f1 score / AUC score: 0.00 / 0.50\n"
     ]
    },
    {
     "data": {
      "text/html": [
       "<div>\n",
       "<style scoped>\n",
       "    .dataframe tbody tr th:only-of-type {\n",
       "        vertical-align: middle;\n",
       "    }\n",
       "\n",
       "    .dataframe tbody tr th {\n",
       "        vertical-align: top;\n",
       "    }\n",
       "\n",
       "    .dataframe thead th {\n",
       "        text-align: right;\n",
       "    }\n",
       "</style>\n",
       "<table border=\"1\" class=\"dataframe\">\n",
       "  <thead>\n",
       "    <tr style=\"text-align: right;\">\n",
       "      <th></th>\n",
       "      <th>예측 출석</th>\n",
       "      <th>예측 결석</th>\n",
       "    </tr>\n",
       "  </thead>\n",
       "  <tbody>\n",
       "    <tr>\n",
       "      <th>실제 출석</th>\n",
       "      <td>79</td>\n",
       "      <td>0</td>\n",
       "    </tr>\n",
       "    <tr>\n",
       "      <th>실제 결석</th>\n",
       "      <td>32</td>\n",
       "      <td>0</td>\n",
       "    </tr>\n",
       "  </tbody>\n",
       "</table>\n",
       "</div>"
      ],
      "text/plain": [
       "       예측 출석  예측 결석\n",
       "실제 출석     79      0\n",
       "실제 결석     32      0"
      ]
     },
     "metadata": {},
     "output_type": "display_data"
    }
   ],
   "source": [
    "# 랜덤포레스트\n",
    "from sklearn.ensemble import RandomForestClassifier\n",
    "from sklearn.model_selection import KFold, GridSearchCV\n",
    "from sklearn.metrics import confusion_matrix, f1_score, roc_auc_score, make_scorer, fbeta_score\n",
    "\n",
    "\n",
    "#f2 score\n",
    "# f2 = make_scorer(fbeta_score, beta=2, average='weighted')\n",
    "kf = KFold(n_splits=3, shuffle=True, random_state=0)\n",
    "rf = RandomForestClassifier(random_state=0)\n",
    "params = {\n",
    "    'n_estimators': [50, 100], \n",
    "    'max_depth': [3, 5], \n",
    "    'min_samples_split': [2, 5]\n",
    "}\n",
    "\n",
    "grid_f = GridSearchCV(\n",
    "    estimator = rf, \n",
    "    param_grid = params, \n",
    "    scoring = 'f1', \n",
    "    cv = kf\n",
    ")\n",
    "\n",
    "grid_f.fit(train_X, train_Y)\n",
    "\n",
    "print(f\"Best param: {grid_f.best_params_}\")\n",
    "print(f\"Best socre: {grid_f.best_score_:.2f}\")\n",
    "\n",
    "pred_train = grid_f.predict(train_X)\n",
    "pred_test = grid_f.predict(test_X)\n",
    "\n",
    "print(\"< 학습 데이터 학습결과 >\")\n",
    "con1 = pd.DataFrame(confusion_matrix(train_Y, pred_train, labels=[0, 1]), index=['실제 출석', '실제 결석'], columns=['예측 출석', '예측 결석'])\n",
    "print(f\"f1 score / AUC score: {f1_score(train_Y, pred_train):.2f} / {roc_auc_score(train_Y, pred_train):.2f}\")\n",
    "display(con1)\n",
    "\n",
    "print(\"< 테스트 데이터 학습결과 >\")\n",
    "con2 = pd.DataFrame(confusion_matrix(test_Y, pred_test, labels=[0, 1]), index=['실제 출석', '실제 결석'], columns=['예측 출석', '예측 결석'])\n",
    "print(f\"f1 score / AUC score: {f1_score(test_Y, pred_test):.2f} / {roc_auc_score(test_Y, pred_test):.2f}\")\n",
    "display(con2)"
   ]
  },
  {
   "cell_type": "markdown",
   "metadata": {},
   "source": [
    "**오버샘플링**\n",
    "\n",
    "반응변수에 클래스 불균형이 존재할 경우 다수 범주에 과적합되어 소수 범주에 대한 예측 성능이 떨어지는 문제가 발생할 수 있다. 이를 해결하기 위해 오버샘플링 혹은 언더샘플링을 고려해볼 수 있다. 반응변수(absences)의 경우 빈도 불균형이 존재하므로, 오버샘플링을 고려한다."
   ]
  },
  {
   "cell_type": "code",
   "execution_count": 129,
   "metadata": {},
   "outputs": [
    {
     "name": "stdout",
     "output_type": "stream",
     "text": [
      "Counter({0: 182, 1: 182})\n"
     ]
    }
   ],
   "source": [
    "from imblearn.over_sampling import BorderlineSMOTE\n",
    "from collections import Counter\n",
    "\n",
    "smt = BorderlineSMOTE(random_state=0, k_neighbors=3, sampling_strategy='minority')\n",
    "train_X_o, train_Y_o = smt.fit_resample(train_X, train_Y)\n",
    "print(Counter(train_Y_o))"
   ]
  },
  {
   "cell_type": "code",
   "execution_count": 130,
   "metadata": {},
   "outputs": [
    {
     "name": "stdout",
     "output_type": "stream",
     "text": [
      "Best param: {'max_depth': 5, 'min_samples_split': 2, 'n_estimators': 100}\n",
      "Best socre: 0.68\n",
      "< 학습 데이터 학습결과 >\n",
      "f1 score / AUC score: 0.85 / 0.86\n"
     ]
    },
    {
     "data": {
      "text/html": [
       "<div>\n",
       "<style scoped>\n",
       "    .dataframe tbody tr th:only-of-type {\n",
       "        vertical-align: middle;\n",
       "    }\n",
       "\n",
       "    .dataframe tbody tr th {\n",
       "        vertical-align: top;\n",
       "    }\n",
       "\n",
       "    .dataframe thead th {\n",
       "        text-align: right;\n",
       "    }\n",
       "</style>\n",
       "<table border=\"1\" class=\"dataframe\">\n",
       "  <thead>\n",
       "    <tr style=\"text-align: right;\">\n",
       "      <th></th>\n",
       "      <th>예측 출석</th>\n",
       "      <th>예측 결석</th>\n",
       "    </tr>\n",
       "  </thead>\n",
       "  <tbody>\n",
       "    <tr>\n",
       "      <th>실제 출석</th>\n",
       "      <td>171</td>\n",
       "      <td>11</td>\n",
       "    </tr>\n",
       "    <tr>\n",
       "      <th>실제 결석</th>\n",
       "      <td>39</td>\n",
       "      <td>143</td>\n",
       "    </tr>\n",
       "  </tbody>\n",
       "</table>\n",
       "</div>"
      ],
      "text/plain": [
       "       예측 출석  예측 결석\n",
       "실제 출석    171     11\n",
       "실제 결석     39    143"
      ]
     },
     "metadata": {},
     "output_type": "display_data"
    },
    {
     "name": "stdout",
     "output_type": "stream",
     "text": [
      "< 테스트 데이터 학습결과 >\n",
      "f1 score / AUC score: 0.19 / 0.47\n"
     ]
    },
    {
     "data": {
      "text/html": [
       "<div>\n",
       "<style scoped>\n",
       "    .dataframe tbody tr th:only-of-type {\n",
       "        vertical-align: middle;\n",
       "    }\n",
       "\n",
       "    .dataframe tbody tr th {\n",
       "        vertical-align: top;\n",
       "    }\n",
       "\n",
       "    .dataframe thead th {\n",
       "        text-align: right;\n",
       "    }\n",
       "</style>\n",
       "<table border=\"1\" class=\"dataframe\">\n",
       "  <thead>\n",
       "    <tr style=\"text-align: right;\">\n",
       "      <th></th>\n",
       "      <th>예측 출석</th>\n",
       "      <th>예측 결석</th>\n",
       "    </tr>\n",
       "  </thead>\n",
       "  <tbody>\n",
       "    <tr>\n",
       "      <th>실제 출석</th>\n",
       "      <td>62</td>\n",
       "      <td>17</td>\n",
       "    </tr>\n",
       "    <tr>\n",
       "      <th>실제 결석</th>\n",
       "      <td>27</td>\n",
       "      <td>5</td>\n",
       "    </tr>\n",
       "  </tbody>\n",
       "</table>\n",
       "</div>"
      ],
      "text/plain": [
       "       예측 출석  예측 결석\n",
       "실제 출석     62     17\n",
       "실제 결석     27      5"
      ]
     },
     "metadata": {},
     "output_type": "display_data"
    }
   ],
   "source": [
    "# 오버샘플링 데이터로 다시 모델 성능측정\n",
    "grid_f.fit(train_X_o, train_Y_o)\n",
    "\n",
    "print(f\"Best param: {grid_f.best_params_}\")\n",
    "print(f\"Best socre: {grid_f.best_score_:.2f}\")\n",
    "\n",
    "\n",
    "pred_train = grid_f.predict(train_X_o)\n",
    "pred_test = grid_f.predict(test_X)\n",
    "\n",
    "print(\"< 학습 데이터 학습결과 >\")\n",
    "con1 = pd.DataFrame(confusion_matrix(train_Y_o, pred_train, labels=[0, 1]), index=['실제 출석', '실제 결석'], columns=['예측 출석', '예측 결석'])\n",
    "print(f\"f1 score / AUC score: {f1_score(train_Y_o, pred_train):.2f} / {roc_auc_score(train_Y_o, pred_train):.2f}\")\n",
    "display(con1)\n",
    "\n",
    "print(\"< 테스트 데이터 학습결과 >\")\n",
    "con2 = pd.DataFrame(confusion_matrix(test_Y, pred_test, labels=[0, 1]), index=['실제 출석', '실제 결석'], columns=['예측 출석', '예측 결석'])\n",
    "print(f\"f1 score / AUC score: {f1_score(test_Y, pred_test):.2f} / {roc_auc_score(test_Y, pred_test):.2f}\")\n",
    "display(con2)"
   ]
  },
  {
   "cell_type": "markdown",
   "metadata": {},
   "source": [
    "## 4.  **Random forest, neural network, Lightgbm 알고리즘 적용하여 F1 score를 구하고 성능을 비교하시오(5점).**\n",
    "- 데이터가 불균형하다고 생각하지는 않지만, 데이터의 수가 전반적으로 적어 민감하게 반응하기 때문에 oversampling을 실시하였고, \n",
    "  보다 나은 성능을 보여주는 것을 확인하였다. \n",
    "- 위에서 랜덤 포레스트를 실시하였기 때문에 아래에서 이어서 MLP Model, Lightgbm 모델을 구현하고 성능을 f1 score로 비교한다."
   ]
  },
  {
   "cell_type": "code",
   "execution_count": 131,
   "metadata": {},
   "outputs": [],
   "source": [
    "from sklearn.neural_network import MLPClassifier\n",
    "from lightgbm import LGBMClassifier\n",
    "\n",
    "model2 = MLPClassifier(random_state=0, max_iter = 100)\n",
    "model3 = LGBMClassifier(random_state=0, max_iter=100)\n",
    "\n",
    "param2 = {'learning_rate_init': np.arange(0.01, 0.2, 0.01)}\n",
    "param3 = {'learning_rate': np.arange(0.01, 0.2, 0.01)}\n",
    "\n",
    "mlp_search = GridSearchCV(\n",
    "    estimator=model2, \n",
    "    param_grid=param2, \n",
    "    scoring='f1', \n",
    "    cv = kf\n",
    ")\n",
    "\n",
    "lgbm_search = GridSearchCV(\n",
    "    estimator=model3, \n",
    "    param_grid=param3, \n",
    "    scoring='f1', \n",
    "    cv = kf\n",
    ")"
   ]
  },
  {
   "cell_type": "code",
   "execution_count": 132,
   "metadata": {},
   "outputs": [
    {
     "name": "stdout",
     "output_type": "stream",
     "text": [
      "Best param: {'learning_rate_init': 0.01}\n",
      "Best socre: 0.68\n",
      "< 학습 데이터 학습결과 >\n",
      "f1 score / AUC score: 0.85 / 0.85\n"
     ]
    },
    {
     "data": {
      "text/html": [
       "<div>\n",
       "<style scoped>\n",
       "    .dataframe tbody tr th:only-of-type {\n",
       "        vertical-align: middle;\n",
       "    }\n",
       "\n",
       "    .dataframe tbody tr th {\n",
       "        vertical-align: top;\n",
       "    }\n",
       "\n",
       "    .dataframe thead th {\n",
       "        text-align: right;\n",
       "    }\n",
       "</style>\n",
       "<table border=\"1\" class=\"dataframe\">\n",
       "  <thead>\n",
       "    <tr style=\"text-align: right;\">\n",
       "      <th></th>\n",
       "      <th>예측 출석</th>\n",
       "      <th>예측 결석</th>\n",
       "    </tr>\n",
       "  </thead>\n",
       "  <tbody>\n",
       "    <tr>\n",
       "      <th>실제 출석</th>\n",
       "      <td>147</td>\n",
       "      <td>35</td>\n",
       "    </tr>\n",
       "    <tr>\n",
       "      <th>실제 결석</th>\n",
       "      <td>20</td>\n",
       "      <td>162</td>\n",
       "    </tr>\n",
       "  </tbody>\n",
       "</table>\n",
       "</div>"
      ],
      "text/plain": [
       "       예측 출석  예측 결석\n",
       "실제 출석    147     35\n",
       "실제 결석     20    162"
      ]
     },
     "metadata": {},
     "output_type": "display_data"
    },
    {
     "name": "stdout",
     "output_type": "stream",
     "text": [
      "< 테스트 데이터 학습결과 >\n",
      "f1 score / AUC score: 0.37 / 0.51\n"
     ]
    },
    {
     "data": {
      "text/html": [
       "<div>\n",
       "<style scoped>\n",
       "    .dataframe tbody tr th:only-of-type {\n",
       "        vertical-align: middle;\n",
       "    }\n",
       "\n",
       "    .dataframe tbody tr th {\n",
       "        vertical-align: top;\n",
       "    }\n",
       "\n",
       "    .dataframe thead th {\n",
       "        text-align: right;\n",
       "    }\n",
       "</style>\n",
       "<table border=\"1\" class=\"dataframe\">\n",
       "  <thead>\n",
       "    <tr style=\"text-align: right;\">\n",
       "      <th></th>\n",
       "      <th>예측 출석</th>\n",
       "      <th>예측 결석</th>\n",
       "    </tr>\n",
       "  </thead>\n",
       "  <tbody>\n",
       "    <tr>\n",
       "      <th>실제 출석</th>\n",
       "      <td>44</td>\n",
       "      <td>35</td>\n",
       "    </tr>\n",
       "    <tr>\n",
       "      <th>실제 결석</th>\n",
       "      <td>17</td>\n",
       "      <td>15</td>\n",
       "    </tr>\n",
       "  </tbody>\n",
       "</table>\n",
       "</div>"
      ],
      "text/plain": [
       "       예측 출석  예측 결석\n",
       "실제 출석     44     35\n",
       "실제 결석     17     15"
      ]
     },
     "metadata": {},
     "output_type": "display_data"
    }
   ],
   "source": [
    "# neural net\n",
    "mlp_search.fit(train_X_o, train_Y_o)\n",
    "\n",
    "print(f\"Best param: {mlp_search.best_params_}\")\n",
    "print(f\"Best socre: {mlp_search.best_score_:.2f}\")\n",
    "\n",
    "\n",
    "pred_train = mlp_search.predict(train_X_o)\n",
    "pred_test = mlp_search.predict(test_X)\n",
    "\n",
    "print(\"< 학습 데이터 학습결과 >\")\n",
    "con1 = pd.DataFrame(confusion_matrix(train_Y_o, pred_train, labels=[0, 1]), index=['실제 출석', '실제 결석'], columns=['예측 출석', '예측 결석'])\n",
    "print(f\"f1 score / AUC score: {f1_score(train_Y_o, pred_train):.2f} / {roc_auc_score(train_Y_o, pred_train):.2f}\")\n",
    "display(con1)\n",
    "\n",
    "print(\"< 테스트 데이터 학습결과 >\")\n",
    "con2 = pd.DataFrame(confusion_matrix(test_Y, pred_test, labels=[0, 1]), index=['실제 출석', '실제 결석'], columns=['예측 출석', '예측 결석'])\n",
    "print(f\"f1 score / AUC score: {f1_score(test_Y, pred_test):.2f} / {roc_auc_score(test_Y, pred_test):.2f}\")\n",
    "display(con2)"
   ]
  },
  {
   "cell_type": "code",
   "execution_count": 135,
   "metadata": {},
   "outputs": [
    {
     "name": "stdout",
     "output_type": "stream",
     "text": [
      "Best param: {'learning_rate': 0.18000000000000002}\n",
      "Best socre: 0.74\n",
      "< 학습 데이터 학습결과 >\n",
      "f1 score / AUC score: 0.99 / 0.99\n"
     ]
    },
    {
     "data": {
      "text/html": [
       "<div>\n",
       "<style scoped>\n",
       "    .dataframe tbody tr th:only-of-type {\n",
       "        vertical-align: middle;\n",
       "    }\n",
       "\n",
       "    .dataframe tbody tr th {\n",
       "        vertical-align: top;\n",
       "    }\n",
       "\n",
       "    .dataframe thead th {\n",
       "        text-align: right;\n",
       "    }\n",
       "</style>\n",
       "<table border=\"1\" class=\"dataframe\">\n",
       "  <thead>\n",
       "    <tr style=\"text-align: right;\">\n",
       "      <th></th>\n",
       "      <th>예측 출석</th>\n",
       "      <th>예측 결석</th>\n",
       "    </tr>\n",
       "  </thead>\n",
       "  <tbody>\n",
       "    <tr>\n",
       "      <th>실제 출석</th>\n",
       "      <td>182</td>\n",
       "      <td>0</td>\n",
       "    </tr>\n",
       "    <tr>\n",
       "      <th>실제 결석</th>\n",
       "      <td>2</td>\n",
       "      <td>180</td>\n",
       "    </tr>\n",
       "  </tbody>\n",
       "</table>\n",
       "</div>"
      ],
      "text/plain": [
       "       예측 출석  예측 결석\n",
       "실제 출석    182      0\n",
       "실제 결석      2    180"
      ]
     },
     "metadata": {},
     "output_type": "display_data"
    },
    {
     "name": "stdout",
     "output_type": "stream",
     "text": [
      "< 테스트 데이터 학습결과 >\n",
      "f1 score / AUC score: 0.34 / 0.55\n"
     ]
    },
    {
     "data": {
      "text/html": [
       "<div>\n",
       "<style scoped>\n",
       "    .dataframe tbody tr th:only-of-type {\n",
       "        vertical-align: middle;\n",
       "    }\n",
       "\n",
       "    .dataframe tbody tr th {\n",
       "        vertical-align: top;\n",
       "    }\n",
       "\n",
       "    .dataframe thead th {\n",
       "        text-align: right;\n",
       "    }\n",
       "</style>\n",
       "<table border=\"1\" class=\"dataframe\">\n",
       "  <thead>\n",
       "    <tr style=\"text-align: right;\">\n",
       "      <th></th>\n",
       "      <th>예측 출석</th>\n",
       "      <th>예측 결석</th>\n",
       "    </tr>\n",
       "  </thead>\n",
       "  <tbody>\n",
       "    <tr>\n",
       "      <th>실제 출석</th>\n",
       "      <td>63</td>\n",
       "      <td>16</td>\n",
       "    </tr>\n",
       "    <tr>\n",
       "      <th>실제 결석</th>\n",
       "      <td>22</td>\n",
       "      <td>10</td>\n",
       "    </tr>\n",
       "  </tbody>\n",
       "</table>\n",
       "</div>"
      ],
      "text/plain": [
       "       예측 출석  예측 결석\n",
       "실제 출석     63     16\n",
       "실제 결석     22     10"
      ]
     },
     "metadata": {},
     "output_type": "display_data"
    }
   ],
   "source": [
    "# LGBM 결과\n",
    "lgbm_search.fit(train_X_o, train_Y_o)\n",
    "\n",
    "print(f\"Best param: {lgbm_search.best_params_}\")\n",
    "print(f\"Best socre: {lgbm_search.best_score_:.2f}\")\n",
    "\n",
    "\n",
    "pred_train = lgbm_search.predict(train_X_o)\n",
    "pred_test = lgbm_search.predict(test_X)\n",
    "\n",
    "print(\"< 학습 데이터 학습결과 >\")\n",
    "con1 = pd.DataFrame(confusion_matrix(train_Y_o, pred_train, labels=[0, 1]), index=['실제 출석', '실제 결석'], columns=['예측 출석', '예측 결석'])\n",
    "print(f\"f1 score / AUC score: {f1_score(train_Y_o, pred_train):.2f} / {roc_auc_score(train_Y_o, pred_train):.2f}\")\n",
    "display(con1)\n",
    "\n",
    "print(\"< 테스트 데이터 학습결과 >\")\n",
    "con2 = pd.DataFrame(confusion_matrix(test_Y, pred_test, labels=[0, 1]), index=['실제 출석', '실제 결석'], columns=['예측 출석', '예측 결석'])\n",
    "print(f\"f1 score / AUC score: {f1_score(test_Y, pred_test):.2f} / {roc_auc_score(test_Y, pred_test):.2f}\")\n",
    "display(con2)"
   ]
  },
  {
   "cell_type": "markdown",
   "metadata": {},
   "source": [
    "***3개 모델 평가결과***\n",
    "- test set의 f1 sccore 기준, MLP 모델의 성능이 가장 좋았다.train_set의 성능은 0.9~1사이로 대체로 좋기 때문에 크게 비중을 두지 않는다.\n",
    "- random_forerest(f1/auc): 0.41 / 0.55\n",
    "- MLP(f1/auc): 0.45 / 0.60\n",
    "- LGBM(f1/auc): 0.30 / 0.48\n",
    "\n",
    "***시간관계상 파라미터 튜닝을 할 수 없었다. 이번 모델은 MLP의 성능이 가장 뛰어났지만, 파라미터 조정 시 다른 모델의 성능이 더 좋을 수 있다.***"
   ]
  },
  {
   "cell_type": "markdown",
   "metadata": {},
   "source": [
    "## 5. 하드 보팅 기법을 적용하고, 이전 결과와 비교하시오(5점)."
   ]
  },
  {
   "attachments": {
    "image.png": {
     "image/png": "[encoded data removed]"
    }
   },
   "cell_type": "markdown",
   "metadata": {},
   "source": [
    "하드보팅 기법은 앙상블 학습의 대표적 기법 중 하나이며, 여러분류모델의 최종 예측결과를 다수결 투표로 결정하는 방식이다.\n",
    "![image.png](attachment:image.png)"
   ]
  },
  {
   "cell_type": "code",
   "execution_count": 136,
   "metadata": {},
   "outputs": [
    {
     "data": {
      "text/plain": [
       "VotingClassifier(estimators=[('rf',\n",
       "                              RandomForestClassifier(max_depth=5,\n",
       "                                                     random_state=0)),\n",
       "                             ('mlp',\n",
       "                              MLPClassifier(learning_rate_init=0.01,\n",
       "                                            max_iter=300, random_state=0)),\n",
       "                             ('lgbm',\n",
       "                              LGBMClassifier(learning_rate=0.18000000000000002,\n",
       "                                             max_iter=300, random_state=0))])"
      ]
     },
     "execution_count": 136,
     "metadata": {},
     "output_type": "execute_result"
    }
   ],
   "source": [
    "from sklearn.ensemble import VotingClassifier\n",
    "rf_best_param = grid_f.best_params_\n",
    "mlp_best_param = mlp_search.best_params_\n",
    "lgbm_best_param = lgbm_search.best_params_\n",
    "\n",
    "rf = RandomForestClassifier(**rf_best_param, random_state=0)\n",
    "mlp = MLPClassifier(**mlp_best_param, random_state=0, max_iter=300)\n",
    "lgbm = LGBMClassifier(**lgbm_best_param, random_state=0, max_iter=300)\n",
    "\n",
    "\n",
    "hard_voting = VotingClassifier(estimators=[\n",
    "    ('rf', rf), \n",
    "    ('mlp', mlp), \n",
    "    ('lgbm', lgbm)\n",
    "], voting='hard')\n",
    "hard_voting.fit(train_X_o, train_Y_o)"
   ]
  },
  {
   "cell_type": "code",
   "execution_count": 137,
   "metadata": {},
   "outputs": [
    {
     "name": "stdout",
     "output_type": "stream",
     "text": [
      "< 학습 데이터 학습결과 >\n",
      "f1 score / AUC score: 0.99 / 0.99\n"
     ]
    },
    {
     "data": {
      "text/html": [
       "<div>\n",
       "<style scoped>\n",
       "    .dataframe tbody tr th:only-of-type {\n",
       "        vertical-align: middle;\n",
       "    }\n",
       "\n",
       "    .dataframe tbody tr th {\n",
       "        vertical-align: top;\n",
       "    }\n",
       "\n",
       "    .dataframe thead th {\n",
       "        text-align: right;\n",
       "    }\n",
       "</style>\n",
       "<table border=\"1\" class=\"dataframe\">\n",
       "  <thead>\n",
       "    <tr style=\"text-align: right;\">\n",
       "      <th></th>\n",
       "      <th>예측 출석</th>\n",
       "      <th>예측 결석</th>\n",
       "    </tr>\n",
       "  </thead>\n",
       "  <tbody>\n",
       "    <tr>\n",
       "      <th>실제 출석</th>\n",
       "      <td>182</td>\n",
       "      <td>0</td>\n",
       "    </tr>\n",
       "    <tr>\n",
       "      <th>실제 결석</th>\n",
       "      <td>2</td>\n",
       "      <td>180</td>\n",
       "    </tr>\n",
       "  </tbody>\n",
       "</table>\n",
       "</div>"
      ],
      "text/plain": [
       "       예측 출석  예측 결석\n",
       "실제 출석    182      0\n",
       "실제 결석      2    180"
      ]
     },
     "metadata": {},
     "output_type": "display_data"
    },
    {
     "name": "stdout",
     "output_type": "stream",
     "text": [
      "< 테스트 데이터 학습결과 >\n",
      "f1 score / AUC score: 0.34 / 0.55\n"
     ]
    },
    {
     "data": {
      "text/html": [
       "<div>\n",
       "<style scoped>\n",
       "    .dataframe tbody tr th:only-of-type {\n",
       "        vertical-align: middle;\n",
       "    }\n",
       "\n",
       "    .dataframe tbody tr th {\n",
       "        vertical-align: top;\n",
       "    }\n",
       "\n",
       "    .dataframe thead th {\n",
       "        text-align: right;\n",
       "    }\n",
       "</style>\n",
       "<table border=\"1\" class=\"dataframe\">\n",
       "  <thead>\n",
       "    <tr style=\"text-align: right;\">\n",
       "      <th></th>\n",
       "      <th>예측 출석</th>\n",
       "      <th>예측 결석</th>\n",
       "    </tr>\n",
       "  </thead>\n",
       "  <tbody>\n",
       "    <tr>\n",
       "      <th>실제 출석</th>\n",
       "      <td>63</td>\n",
       "      <td>16</td>\n",
       "    </tr>\n",
       "    <tr>\n",
       "      <th>실제 결석</th>\n",
       "      <td>22</td>\n",
       "      <td>10</td>\n",
       "    </tr>\n",
       "  </tbody>\n",
       "</table>\n",
       "</div>"
      ],
      "text/plain": [
       "       예측 출석  예측 결석\n",
       "실제 출석     63     16\n",
       "실제 결석     22     10"
      ]
     },
     "metadata": {},
     "output_type": "display_data"
    }
   ],
   "source": [
    "h_pred_train = hard_voting.predict(train_X_o)\n",
    "h_pred_test = hard_voting.predict(test_X)\n",
    "\n",
    "print(\"< 학습 데이터 학습결과 >\")\n",
    "con1 = pd.DataFrame(confusion_matrix(train_Y_o, pred_train, labels=[0, 1]), index=['실제 출석', '실제 결석'], columns=['예측 출석', '예측 결석'])\n",
    "print(f\"f1 score / AUC score: {f1_score(train_Y_o, pred_train):.2f} / {roc_auc_score(train_Y_o, pred_train):.2f}\")\n",
    "display(con1)\n",
    "\n",
    "print(\"< 테스트 데이터 학습결과 >\")\n",
    "con2 = pd.DataFrame(confusion_matrix(test_Y, pred_test, labels=[0, 1]), index=['실제 출석', '실제 결석'], columns=['예측 출석', '예측 결석'])\n",
    "print(f\"f1 score / AUC score: {f1_score(test_Y, pred_test):.2f} / {roc_auc_score(test_Y, pred_test):.2f}\")\n",
    "display(con2)"
   ]
  },
  {
   "cell_type": "markdown",
   "metadata": {},
   "source": [
    "최종 테스트 데이터에서 f1-score가 향상되지는 않았지만, 일반적으로는 모델 성능이 향상된다."
   ]
  },
  {
   "cell_type": "markdown",
   "metadata": {},
   "source": [
    "## 6. 추가적인 처리 방안이 있으면 제시하시오(5점)."
   ]
  },
  {
   "cell_type": "markdown",
   "metadata": {},
   "source": [
    "해당 데이터셋은 데이터 수가 적으며, label이 1:2.3 가량으로 불균형함을 보이고 있다.\n",
    "만일 데이터의 수가 충분하고 모델이 클래스 불균형에 잘 대응하는 경우, oversampling은 생략될 수 있다.\n",
    "\n",
    "하지만 이 데이터는 모델의 성능에 데이터가 민감하게 반응하여 과적합을 보이고 있다.\n",
    "(train set 성능이 높지만 test set 결과는 그에 비해 저조함) \n",
    "\n",
    "이 문제에서는 이를 위한 방법으로 오버샘플링과 앙상블 모델을 적용하였다.\n",
    "\n",
    "***tran set의 f1 score는 0.9~1 사이로 높은 성능을 보이지만, test set의 f1 score는 0.2~4 사이로 저조한 성능이다.\n",
    " label 1의 예측을 잘 해내지 못하고 있다.***\n",
    "\n",
    "모델을 단순화하기 위한 방안이 필요하며\n",
    "- 1. 추가적인 데이터의 확보 및 학습\n",
    "- 2. 불필요한 변수를 제거함으로써 모델의 복잡성을 낮춤\n",
    "    * Voting 모델이 개별 모델 기반이므로 permutation importance가 해석 가능한 경우 Permutation importance 방식을 통해 변수 중요도를 산출할 수 있다.\n",
    "- 3. 모델의 정규화 혹은 복잡도 제한 (예: max_depth 제한, L1/L2 적용)\n",
    "- 4. 언더샘플링 또는 클래스 가중치 조정\n",
    "- 5. 데이터 증강, 이상치 제거 등의 정제 방안\n",
    "\n",
    "이를 통해 과적합을 해결할 수 있을 것이다."
   ]
  },
  {
   "cell_type": "code",
   "execution_count": 140,
   "metadata": {},
   "outputs": [
    {
     "data": {
      "image/png": "[encoded data removed]",
      "text/plain": [
       "<Figure size 864x360 with 1 Axes>"
      ]
     },
     "metadata": {
      "needs_background": "light"
     },
     "output_type": "display_data"
    }
   ],
   "source": [
    "from sklearn.inspection import permutation_importance\n",
    "f_imp = permutation_importance(hard_voting, train_X_o, train_Y_o, n_repeats=10, random_state=0)\n",
    "\n",
    "\n",
    "f = train_X.columns\n",
    "imp = f_imp.importances_mean\n",
    "plt.figure(figsize=(12, 5))\n",
    "plt.bar(f, imp)\n",
    "plt.xticks(rotation=45)\n",
    "plt.show()"
   ]
  },
  {
   "cell_type": "code",
   "execution_count": 157,
   "metadata": {},
   "outputs": [
    {
     "data": {
      "text/plain": [
       "array(['age', 'medu', 'fedu', 'traveltime', 'studytime', 'failures',\n",
       "       'freetime', 'famrel', 'sex_M', 'pstatus_T', 'guardian_mother',\n",
       "       'guardian_other'], dtype=object)"
      ]
     },
     "execution_count": 157,
     "metadata": {},
     "output_type": "execute_result"
    }
   ],
   "source": [
    "train_X.columns.values"
   ]
  },
  {
   "cell_type": "markdown",
   "metadata": {},
   "source": [
    "변수 중요도를 기준으로 pstats를 제거한다."
   ]
  },
  {
   "cell_type": "markdown",
   "metadata": {},
   "source": [
    "## 7. 학교 운영시스템에 적용한다면 검토사항은 무엇이 있을지 제시하시오(5점)."
   ]
  },
  {
   "cell_type": "code",
   "execution_count": 160,
   "metadata": {},
   "outputs": [
    {
     "data": {
      "image/png": "[encoded data removed]",
      "text/plain": [
       "<Figure size 720x576 with 12 Axes>"
      ]
     },
     "metadata": {
      "needs_background": "light"
     },
     "output_type": "display_data"
    }
   ],
   "source": [
    "from sklearn.inspection import partial_dependence\n",
    "from sklearn.inspection import plot_partial_dependence\n",
    "\n",
    "s_col = ['age', 'medu', 'fedu', 'traveltime', 'studytime', 'failures', 'freetime', 'famrel', 'sex_M', 'guardian_mother', \n",
    "         'guardian_other']\n",
    "\n",
    "fig, ax = plt.subplots(figsize=(10, 8))\n",
    "plt.subplots_adjust(top=0.9, hspace=0.7)\n",
    "\n",
    "plot_partial_dependence(estimator=lgbm_search, \n",
    "                       X=train_X, \n",
    "                       features=s_col, \n",
    "                       percentiles=(0, 1), \n",
    "                       ax = ax)\n",
    "\n",
    "plt.tight_layout()\n",
    "plt.show()"
   ]
  },
  {
   "cell_type": "markdown",
   "metadata": {},
   "source": [
    "***결석이 1, 출석이 0***\n",
    "- 나이는 중간계층(19세) 대상자가 가장 결석할 확률이 높아지는 경향\n",
    "- 엄마의 교육수준이 높을수록 결석할 확률이 낮아지는 경향\n",
    "- 아빠의 교육수준이 다소 높은 경우 결석률이 가장 낮으며, 교육수준이 가장 높을 경우 결석률이 가장 높다.(실제로 일반화x)\n",
    "- 이동시간이 길수록 결석률이 낮아지는 경향\n",
    "- 자유시간이 중간수준까지는 결석률이 높아지다가(3), 이후 낮아지는 경향\n",
    "- 가족관계가 좋을수록 결석할 확률이 높아지는 경향\n",
    "- 남성이 결석할 확률이 낮은 경향\n",
    "- 주 보호자가 엄마, 다른 친척일 경우 결석률이 낮아지는 경향\n",
    "\n"
   ]
  },
  {
   "cell_type": "markdown",
   "metadata": {},
   "source": [
    "## 문제 2\n",
    "\n",
    "**Data description**\n",
    "\n",
    "-   **customer_id :** 고객의 고유 ID\n",
    "\n",
    "-   **age : 나이**\n",
    "\n",
    "-   **income** : 고객의 월 수입\n",
    "\n",
    "-   **email_open_rate** : 고객이 이메일을 연 비율\n",
    "\n",
    "-   **campaign_type : 마케팅 캠페인 타입**\n",
    "\n",
    "    -   'Sale', 'Discount', 'NewArrival'\n",
    "\n",
    "-   **clicks : 고객이 마케팅 캠페인에서 클릭한 횟수(target)**"
   ]
  },
  {
   "cell_type": "code",
   "execution_count": null,
   "metadata": {},
   "outputs": [],
   "source": [
    "dat = pd.read_csv('problem2.csv')"
   ]
  },
  {
   "cell_type": "markdown",
   "metadata": {},
   "source": [
    "1.  **데이터 전처리를 수행하시오.**"
   ]
  },
  {
   "cell_type": "code",
   "execution_count": null,
   "metadata": {},
   "outputs": [],
   "source": [
    "print(dat['campaign_type'].value_counts())"
   ]
  },
  {
   "cell_type": "markdown",
   "metadata": {},
   "source": [
    "campaign_type 변수에 \\@#!특수 문자가 존재하므로, 제거한다."
   ]
  },
  {
   "cell_type": "code",
   "execution_count": null,
   "metadata": {},
   "outputs": [],
   "source": [
    "import re\n",
    "dat['campaign_type'] = dat['campaign_type'].apply(lambda x: re.sub(r'[^\\w\\s]', '', x))"
   ]
  },
  {
   "cell_type": "code",
   "execution_count": null,
   "metadata": {},
   "outputs": [],
   "source": [
    "print(dat['campaign_type'].value_counts())"
   ]
  },
  {
   "cell_type": "markdown",
   "metadata": {},
   "source": [
    "단순 인덱스 칼럼인 ...1, customer_id 칼럼 경우 정보량이 없으므로 제거한다."
   ]
  },
  {
   "cell_type": "code",
   "execution_count": null,
   "metadata": {},
   "outputs": [],
   "source": [
    "adat = dat.drop(columns=['Unnamed: 0', 'customer_id'])"
   ]
  },
  {
   "cell_type": "markdown",
   "metadata": {},
   "source": [
    "2.  **캠페인 타입이 'Sale'인지 여부에 따라 새로운 파생변수를 생성하시오.**"
   ]
  },
  {
   "cell_type": "code",
   "execution_count": null,
   "metadata": {},
   "outputs": [],
   "source": [
    "dat['is_sale'] = np.where(dat['campaign_type'] == 'Sale', 1, 0)"
   ]
  },
  {
   "cell_type": "markdown",
   "metadata": {},
   "source": [
    "3.  **포아송 회귀 모델을 적합하고, 모델의 통계적 유의성을 검토하시오.**"
   ]
  },
  {
   "cell_type": "code",
   "execution_count": null,
   "metadata": {},
   "outputs": [],
   "source": [
    "import statsmodels.api as sm\n",
    "import statsmodels.formula.api as smf\n",
    "\n",
    "poisson_model = smf.glm(formula='clicks ~ age + income + email_open_rate + C(is_sale)', \n",
    "                        data=dat, \n",
    "                        family=sm.families.Poisson()).fit()"
   ]
  },
  {
   "cell_type": "code",
   "execution_count": null,
   "metadata": {},
   "outputs": [],
   "source": [
    "from scipy import stats\n",
    "residual_deviance = poisson_model.deviance\n",
    "df_resid = poisson_model.df_resid\n",
    "p_value = stats.chi2.sf(residual_deviance, df_resid) # CDF 계산 \n",
    "print(f\"p-value: {p_value}\")"
   ]
  },
  {
   "cell_type": "markdown",
   "metadata": {},
   "source": [
    "-   $H_0$ : 단순 모델(상수항만 포함된 모델)이 데이터에 적합하다.\n",
    "-   $H_1$ : 현재 모델이 데이터에 적합하다.\n",
    "\n",
    "유의수준 5%에서 p-value가 작으므로 귀무가설을 기각한다. 따라서 현재 모델이 단순 모델에 비해 데이터에 더 적합하다.\n",
    "\n",
    "4.  **회귀 계수의 통계적 유의성을 확인하고, 해석하시오.**"
   ]
  },
  {
   "cell_type": "code",
   "execution_count": null,
   "metadata": {},
   "outputs": [],
   "source": [
    "print(poisson_model.summary())"
   ]
  },
  {
   "cell_type": "markdown",
   "metadata": {},
   "source": [
    "-   $H0$: 나이의 회귀계수는 0이다.\n",
    "\n",
    "-   $H1$: 나이의 회귀계수는 0이 아니다.\n",
    "\n",
    "\n",
    "\n",
    "유의수준 5%에서 모든 설명변수의 p-value가 크므로 귀무가설을 기각할 수 없다. 따라서 나이는 click 칼럼과 통계적으로 유의미한 관계가 없다.\n",
    "\n",
    "나이와 마찬가지로 income, email_open_rate, is_sale 변수는 click 칼럼과 통계적으로 유의미한 관계가 없다.\n",
    "\n",
    "5.  **Random forest 모델을 적합하고, 포아송 회귀와 모델 성능을 비교하시오(평가 지표 : RMSE).**\n",
    "\n",
    "모델 평가를 위해 훈련 데이터와 테스트 데이터를 분할한다. 단순 무작위 샘플링을 통해 훈련 데이터와 테스트 데이터를 7:3으로 분할한다."
   ]
  },
  {
   "cell_type": "code",
   "execution_count": null,
   "metadata": {},
   "outputs": [],
   "source": [
    "from sklearn.model_selection import train_test_split\n",
    "train, test = train_test_split(dat, test_size=0.3, random_state=1)\n",
    "\n",
    "X_train = train[['age', 'income', 'email_open_rate', 'is_sale']]\n",
    "y_train = train['clicks']\n",
    "X_test = test[['age', 'income', 'email_open_rate', 'is_sale']]\n",
    "y_test = test['clicks']"
   ]
  },
  {
   "cell_type": "markdown",
   "metadata": {},
   "source": [
    "**poisson regression**"
   ]
  },
  {
   "cell_type": "code",
   "execution_count": null,
   "metadata": {},
   "outputs": [],
   "source": [
    "pred_pois = poisson_model.predict(X_test)"
   ]
  },
  {
   "cell_type": "markdown",
   "metadata": {},
   "source": [
    "**Random forest**"
   ]
  },
  {
   "cell_type": "code",
   "execution_count": null,
   "metadata": {},
   "outputs": [],
   "source": [
    "from sklearn.ensemble import RandomForestRegressor\n",
    "rf_model = RandomForestRegressor(random_state=1)\n",
    "rf_model.fit(X_train, y_train)\n",
    "pred_rf = rf_model.predict(X_test)"
   ]
  },
  {
   "cell_type": "code",
   "execution_count": null,
   "metadata": {},
   "outputs": [],
   "source": [
    "from sklearn.metrics import mean_squared_error\n",
    "mse_pois = mean_squared_error(y_test, pred_pois)\n",
    "mse_rf = mean_squared_error(y_test, pred_rf)\n",
    "print(f\"MSE for Poisson Regression: {mse_pois}\")\n",
    "print(f\"MSE for Random Forest: {mse_rf}\")"
   ]
  },
  {
   "cell_type": "markdown",
   "metadata": {},
   "source": [
    "포아송 회귀 모델의 모델 성능이 더 높다.\n",
    "\n",
    "## 문제 3"
   ]
  },
  {
   "cell_type": "code",
   "execution_count": null,
   "metadata": {},
   "outputs": [],
   "source": [
    "dat = pd.read_csv('problem3.csv')"
   ]
  },
  {
   "cell_type": "markdown",
   "metadata": {},
   "source": [
    "1.  **시간별, 제조사별 불량률 데이터로 생존분석을 시행한 후 25, 30, 35개월 후의 불량률을 계산하시오(5점).**"
   ]
  },
  {
   "cell_type": "code",
   "execution_count": null,
   "metadata": {},
   "outputs": [],
   "source": [
    "from lifelines import KaplanMeierFitter\n",
    "kmf_X = KaplanMeierFitter()\n",
    "kmf_Y = KaplanMeierFitter()\n",
    "\n",
    "company_X = dat.loc[dat.company == 'X']\n",
    "company_Y = dat.loc[dat.company == 'Y']\n",
    "\n",
    "kmf_X.fit(durations=company_X['time'], event_observed=company_X['status'], label='Company X')\n",
    "# 제조사 B에 대해 생존 함수 적합\n",
    "kmf_Y.fit(durations=company_Y['time'], event_observed=company_Y['status'], label='Company Y')\n",
    "\n",
    "# 그래프 그리기\n",
    "kmf_X.plot_survival_function();\n",
    "kmf_Y.plot_survival_function();\n",
    "plt.title('Kaplan-Meier Curve by Company');\n",
    "plt.show();"
   ]
  },
  {
   "cell_type": "markdown",
   "metadata": {},
   "source": [
    "25, 30, 35 시점에 생존 확률은 다음과 같다."
   ]
  },
  {
   "cell_type": "code",
   "execution_count": null,
   "metadata": {},
   "outputs": [],
   "source": [
    "times = [25, 30, 35]\n",
    "survival_probs_X = kmf_X.predict(times)\n",
    "survival_probs_Y = kmf_Y.predict(times)\n",
    "\n",
    "print('company X : \\n', survival_probs_X)\n",
    "print('company Y : \\n', survival_probs_Y)"
   ]
  },
  {
   "cell_type": "markdown",
   "metadata": {},
   "source": [
    "생존 확률을 불량률로 변환한다."
   ]
  },
  {
   "cell_type": "code",
   "execution_count": null,
   "metadata": {},
   "outputs": [],
   "source": [
    "failure_rates_X = 1 - survival_probs_X\n",
    "failure_rates_Y = 1 - survival_probs_Y"
   ]
  },
  {
   "cell_type": "markdown",
   "metadata": {},
   "source": [
    "제조사 X에 대한 불량률은 다음과 같다."
   ]
  },
  {
   "cell_type": "code",
   "execution_count": null,
   "metadata": {},
   "outputs": [],
   "source": [
    "print(f\"Company X의 불량률 \\n: {failure_rates_X}\")"
   ]
  },
  {
   "cell_type": "markdown",
   "metadata": {},
   "source": [
    "제조사 Y에 대한 불량률은 다음과 같다."
   ]
  },
  {
   "cell_type": "code",
   "execution_count": null,
   "metadata": {},
   "outputs": [],
   "source": [
    "print(f\"Company Y의 불량률 \\n: {failure_rates_Y}\")"
   ]
  },
  {
   "cell_type": "markdown",
   "metadata": {},
   "source": [
    "2.  **로그 순위법으로 제조사별 불량률의 차이가 있는지 검정하시오(5점).**\n",
    "\n",
    "로그 순위법은 두 생존 곡선이 차이가 있는지 검정하는 비모수적 방법입니다. `survdiff` 함수에 구현되어 있으며, 유의 수준 0.05에서 검정을 실시하는 방법입니다.\n",
    "\n",
    "-   $H_0$: 두 생존 함수는 동일하다. $S_X(t) = S_Y(t)$ for all $t$\n",
    "-   $H_1$: 두 생존 함수는 같지 않다. $S_X(t) \\neq S_Y(t)$ for some $t$"
   ]
  },
  {
   "cell_type": "code",
   "execution_count": null,
   "metadata": {},
   "outputs": [],
   "source": [
    "from lifelines.statistics import logrank_test\n",
    "results = logrank_test(company_X['time'], company_Y['time'], \n",
    "                       event_observed_A=company_X['status'], \n",
    "                       event_observed_B=company_Y['status'])\n",
    "\n",
    "p_value = results.p_value\n",
    "print(f\"Log-rank test p-value: {p_value}\")"
   ]
  },
  {
   "cell_type": "markdown",
   "metadata": {},
   "source": [
    "유의수준 0.05에서 p-value=0.056으로 크므로, 귀무가설을 기각할 수 없다. 따라서, 제조사 A, B의 불량률에는 통계적으로 유의미한 차이가 없습니다.\n",
    "\n",
    "## 문제 4\n",
    "\n",
    "별도의 데이터 없음\n",
    "\n",
    "**다음 표는 슬통 Food의 신제품 홍보 설문 조사 결과이다. 시식 행사에 참여한 고객들의 시식 후 구매 의사의 변화가 있는지 없는지 검정하시오(10점).**\n",
    "\n",
    "| 구분         | 시식 후 있음 | 시식 후 없음 |\n",
    "|--------------|--------------|--------------|\n",
    "| 시식 전 있음 | 23           | 7            |\n",
    "| 시식 전 없음 | 18           | 12           |\n",
    "\n",
    "-   $H_0$ : 시식 전후 구매의사에는 변화가 없다.\n",
    "-   $H_1$ : 시식 전후 구매의사에는 변화가 있다."
   ]
  },
  {
   "cell_type": "code",
   "execution_count": null,
   "metadata": {},
   "outputs": [],
   "source": [
    "from statsmodels.stats.contingency_tables import mcnemar\n",
    "\n",
    "tt = np.array([[23, 18],\n",
    "               [7, 12]])\n",
    "\n",
    "result = mcnemar(tt, exact=False, correction=False)\n",
    "print(f\"McNemar test statistic: {result.statistic}\")\n",
    "print(f\"p-value: {result.pvalue}\")"
   ]
  },
  {
   "cell_type": "markdown",
   "metadata": {},
   "source": [
    "유의수준 5%에서 p-value=0.02781로 작으므로, 귀무가설을 기각할 수 있다. 따라서 시식 전후 구매 의사에 변화가 있다는 통계적 근거가 충분하다.\n",
    "\n",
    "## 문제 5\n",
    "\n",
    "**두 개의 고등학교 학생들의 시험 표준 점수가 들어있습니다. 각 학생의 성적이 서로 독립적이라고 가정할 때, 두 학교의 표준 점수 분포에 유의미한 차이가 있는지 검정하시오(10점).**"
   ]
  },
  {
   "cell_type": "code",
   "execution_count": null,
   "metadata": {},
   "outputs": [],
   "source": [
    "dat = pd.read_csv('problem5.csv')"
   ]
  },
  {
   "cell_type": "code",
   "execution_count": null,
   "metadata": {},
   "outputs": [],
   "source": [
    "dat.isna().sum()"
   ]
  },
  {
   "cell_type": "markdown",
   "metadata": {},
   "source": [
    "school_A에 결측치가 12개 존재한다. school_A의 결측치를 삭제한다. "
   ]
  },
  {
   "cell_type": "code",
   "execution_count": null,
   "metadata": {},
   "outputs": [],
   "source": [
    "score_A = dat['school_A'].dropna().values\n",
    "score_B = dat['school_B'].values"
   ]
  },
  {
   "cell_type": "markdown",
   "metadata": {},
   "source": [
    "-   $H_0$ : 두 학교의 점수 분포는 같다.\n",
    "-   $H_1$ : 두 학교의 점수 분포는 다르다."
   ]
  },
  {
   "cell_type": "code",
   "execution_count": null,
   "metadata": {},
   "outputs": [],
   "source": [
    "from scipy.stats import ks_2samp\n",
    "statistic, p_value = ks_2samp(score_A, score_B)\n",
    "print(f\"KS Test statistic: {statistic}\")\n",
    "print(f\"p-value: {p_value}\")"
   ]
  },
  {
   "cell_type": "markdown",
   "metadata": {},
   "source": [
    "유의수준 5%에서 p-value=0.485 크므로, 귀무가설을 기각할 수 없다. 따라서 두 학교의 점수 분포는 같은 분포에서 나왔다고 할 수 있다.\n",
    "\n",
    "## 문제 6\n",
    "\n",
    "슬통 병원 환자들의 건강 검진 정보가 들어있습니다. 다음의 물음에 답하시오."
   ]
  },
  {
   "cell_type": "code",
   "execution_count": null,
   "metadata": {},
   "outputs": [],
   "source": [
    "dat = pd.read_csv('problem6.csv')"
   ]
  },
  {
   "cell_type": "markdown",
   "metadata": {},
   "source": [
    "1.  **몸무게를 제어했을 때, 나이와 콜레스테롤 상관계수 및 유의확률을 구하라(5점).**"
   ]
  },
  {
   "cell_type": "code",
   "execution_count": null,
   "metadata": {},
   "outputs": [],
   "source": [
    "import pingouin as pg\n",
    "result = pg.partial_corr(data=dat, x='AGE_GROUP', y='TOT_CHOLE', covar='WEIGHT')\n",
    "print(result)"
   ]
  },
  {
   "cell_type": "markdown",
   "metadata": {},
   "source": [
    "-   $H_0$ : 몸무게를 통제했을 때, 나이와 콜레스테롤의 상관계수는 0이다.\n",
    "\n",
    "-   $H_1$ : 몸무게를 통제했을 때, 나이와 콜레스테롤의 상관계수는 0이 아니다.\n",
    "\n",
    "편상관계수는 0.0167, p-value는 0.2826이다.\n",
    "\n",
    "2.  **유의수준 0.05 하에서 통계적 의사결정을 수행하라(5점).**\n",
    "\n",
    "유의수준 5%에서 p-value=0.2826로 크므로, 귀무가설을 기각할 수 없다. 따라서 몸무게를 통제했을 때, 나이와 콜레스테롤 간에는 통계적으로 유의미한 관계가 없다."
   ]
  },
  {
   "cell_type": "code",
   "execution_count": null,
   "metadata": {},
   "outputs": [],
   "source": []
  }
 ],
 "metadata": {
  "kernelspec": {
   "display_name": "Python 3",
   "language": "python",
   "name": "python3"
  },
  "language_info": {
   "codemirror_mode": {
    "name": "ipython",
    "version": 3
   },
   "file_extension": ".py",
   "mimetype": "text/x-python",
   "name": "python",
   "nbconvert_exporter": "python",
   "pygments_lexer": "ipython3",
   "version": "3.7.9"
  }
 },
 "nbformat": 4,
 "nbformat_minor": 4
}
