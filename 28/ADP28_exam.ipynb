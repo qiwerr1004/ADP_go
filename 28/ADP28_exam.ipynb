{
 "cells": [
  {
   "cell_type": "markdown",
   "metadata": {},
   "source": [
    "# 28회차 기출문제 \n",
    "\n",
    "## 문제 1\n",
    "\n",
    "**Data description**\n",
    "\n",
    "-   sex : 성별\n",
    "\n",
    "-   age : 나이\n",
    "\n",
    "-   pstatus : 부모와의 동거 유무(T : 동거 o, A : 동거 x)\n",
    "\n",
    "-   medu : 엄마의 교육수준\n",
    "\n",
    "    -   0 : none\n",
    "\n",
    "    -   1 : 초등교육(초등학교)\n",
    "\n",
    "    -   2 : 5 \\~ 9th edu\n",
    "\n",
    "    -   3 : 중등교육(중학교, 고등학교)\n",
    "\n",
    "    -   4 : 고등교육(대학, 대학원수준)\n",
    "\n",
    "-   fedu : 아빠의 교육수준\n",
    "\n",
    "    -   0 : none\n",
    "\n",
    "    -   1 : 초등교육(초등학교)\n",
    "\n",
    "    -   2 : 5 \\~ 9th edu(5\\~9학년)\n",
    "\n",
    "    -   3 : 중등교육(중학교, 고등학교)\n",
    "\n",
    "    -   4 : 고등교육(대학, 대학원수준)\n",
    "\n",
    "-   guardian : 주보호자\n",
    "\n",
    "    -   어머니\n",
    "\n",
    "    -   아버지\n",
    "\n",
    "    -   기타\n",
    "\n",
    "-   traveltime : 등하교기간\n",
    "\n",
    "    -   1 : 15분 이하\n",
    "\n",
    "    -   2 : 15분 \\~ 30분 이하\n",
    "\n",
    "    -   3 : 30분 \\~ 1시간 이하\n",
    "\n",
    "    -   4 : 1시간 이상\n",
    "\n",
    "-   studytime : 학습시간\n",
    "\n",
    "    -   1 : 2시간 이하\n",
    "\n",
    "    -   2 : 2\\~5시간 이하\n",
    "\n",
    "    -   3 : 5\\~10시간 이하\n",
    "\n",
    "    -   4 : 10시간 이상\n",
    "\n",
    "-   failure : 학사경고 횟수\n",
    "\n",
    "-   freetime : 자유시간(1 : 매우 낮음 \\~ 5 : 매우 높음)\n",
    "\n",
    "-   famrel : 가족관계(1 : 매우나쁨 \\~ 5 : 매우우수)\n",
    "\n",
    "-   absences : 결석 유무"
   ]
  },
  {
   "cell_type": "code",
   "execution_count": 1,
   "metadata": {},
   "outputs": [],
   "source": [
    "import pandas as pd\n",
    "import numpy as np\n",
    "import matplotlib.pyplot as plt\n",
    "import seaborn as sns\n",
    "import warnings \n",
    "warnings.filterwarnings('ignore')"
   ]
  },
  {
   "cell_type": "code",
   "execution_count": 2,
   "metadata": {},
   "outputs": [],
   "source": [
    "import koreanize_matplotlib"
   ]
  },
  {
   "cell_type": "code",
   "execution_count": 3,
   "metadata": {},
   "outputs": [
    {
     "data": {
      "text/html": [
       "<div>\n",
       "<style scoped>\n",
       "    .dataframe tbody tr th:only-of-type {\n",
       "        vertical-align: middle;\n",
       "    }\n",
       "\n",
       "    .dataframe tbody tr th {\n",
       "        vertical-align: top;\n",
       "    }\n",
       "\n",
       "    .dataframe thead th {\n",
       "        text-align: right;\n",
       "    }\n",
       "</style>\n",
       "<table border=\"1\" class=\"dataframe\">\n",
       "  <thead>\n",
       "    <tr style=\"text-align: right;\">\n",
       "      <th></th>\n",
       "      <th>sex</th>\n",
       "      <th>age</th>\n",
       "      <th>pstatus</th>\n",
       "      <th>medu</th>\n",
       "      <th>fedu</th>\n",
       "      <th>guardian</th>\n",
       "      <th>traveltime</th>\n",
       "      <th>studytime</th>\n",
       "      <th>failures</th>\n",
       "      <th>freetime</th>\n",
       "      <th>famrel</th>\n",
       "      <th>absences</th>\n",
       "    </tr>\n",
       "  </thead>\n",
       "  <tbody>\n",
       "    <tr>\n",
       "      <th>0</th>\n",
       "      <td>F</td>\n",
       "      <td>18</td>\n",
       "      <td>A</td>\n",
       "      <td>4</td>\n",
       "      <td>4</td>\n",
       "      <td>mother</td>\n",
       "      <td>2</td>\n",
       "      <td>2</td>\n",
       "      <td>0</td>\n",
       "      <td>3</td>\n",
       "      <td>4</td>\n",
       "      <td>No</td>\n",
       "    </tr>\n",
       "    <tr>\n",
       "      <th>1</th>\n",
       "      <td>F</td>\n",
       "      <td>17</td>\n",
       "      <td>T</td>\n",
       "      <td>1</td>\n",
       "      <td>1</td>\n",
       "      <td>father</td>\n",
       "      <td>1</td>\n",
       "      <td>2</td>\n",
       "      <td>0</td>\n",
       "      <td>3</td>\n",
       "      <td>5</td>\n",
       "      <td>No</td>\n",
       "    </tr>\n",
       "    <tr>\n",
       "      <th>2</th>\n",
       "      <td>F</td>\n",
       "      <td>15</td>\n",
       "      <td>T</td>\n",
       "      <td>1</td>\n",
       "      <td>1</td>\n",
       "      <td>mother</td>\n",
       "      <td>1</td>\n",
       "      <td>2</td>\n",
       "      <td>3</td>\n",
       "      <td>3</td>\n",
       "      <td>4</td>\n",
       "      <td>No</td>\n",
       "    </tr>\n",
       "    <tr>\n",
       "      <th>3</th>\n",
       "      <td>F</td>\n",
       "      <td>15</td>\n",
       "      <td>T</td>\n",
       "      <td>4</td>\n",
       "      <td>2</td>\n",
       "      <td>mother</td>\n",
       "      <td>1</td>\n",
       "      <td>3</td>\n",
       "      <td>0</td>\n",
       "      <td>2</td>\n",
       "      <td>3</td>\n",
       "      <td>No</td>\n",
       "    </tr>\n",
       "    <tr>\n",
       "      <th>4</th>\n",
       "      <td>F</td>\n",
       "      <td>16</td>\n",
       "      <td>T</td>\n",
       "      <td>3</td>\n",
       "      <td>3</td>\n",
       "      <td>father</td>\n",
       "      <td>1</td>\n",
       "      <td>2</td>\n",
       "      <td>0</td>\n",
       "      <td>3</td>\n",
       "      <td>4</td>\n",
       "      <td>No</td>\n",
       "    </tr>\n",
       "  </tbody>\n",
       "</table>\n",
       "</div>"
      ],
      "text/plain": [
       "  sex  age pstatus  medu  fedu guardian  traveltime  studytime failures  \\\n",
       "0   F   18       A     4     4   mother           2          2        0   \n",
       "1   F   17       T     1     1   father           1          2        0   \n",
       "2   F   15       T     1     1   mother           1          2        3   \n",
       "3   F   15       T     4     2   mother           1          3        0   \n",
       "4   F   16       T     3     3   father           1          2        0   \n",
       "\n",
       "   freetime  famrel absences  \n",
       "0         3       4       No  \n",
       "1         3       5       No  \n",
       "2         3       4       No  \n",
       "3         2       3       No  \n",
       "4         3       4       No  "
      ]
     },
     "execution_count": 3,
     "metadata": {},
     "output_type": "execute_result"
    }
   ],
   "source": [
    "df = pd.read_csv('https://raw.githubusercontent.com/qiwerr1004/ADP_go/main/28/problem1.csv')\n",
    "df.head()"
   ]
  },
  {
   "cell_type": "markdown",
   "metadata": {},
   "source": [
    "1.  **EDA를 실시하시오(5점).**"
   ]
  },
  {
   "cell_type": "code",
   "execution_count": 4,
   "metadata": {},
   "outputs": [
    {
     "name": "stdout",
     "output_type": "stream",
     "text": [
      "<데이터 기본정보>\n",
      "<class 'pandas.core.frame.DataFrame'>\n",
      "RangeIndex: 395 entries, 0 to 394\n",
      "Data columns (total 12 columns):\n",
      " #   Column      Non-Null Count  Dtype \n",
      "---  ------      --------------  ----- \n",
      " 0   sex         395 non-null    object\n",
      " 1   age         395 non-null    int64 \n",
      " 2   pstatus     395 non-null    object\n",
      " 3   medu        395 non-null    int64 \n",
      " 4   fedu        395 non-null    int64 \n",
      " 5   guardian    395 non-null    object\n",
      " 6   traveltime  395 non-null    int64 \n",
      " 7   studytime   395 non-null    int64 \n",
      " 8   failures    395 non-null    object\n",
      " 9   freetime    395 non-null    int64 \n",
      " 10  famrel      395 non-null    int64 \n",
      " 11  absences    395 non-null    object\n",
      "dtypes: int64(7), object(5)\n",
      "memory usage: 37.2+ KB\n",
      "None\n"
     ]
    }
   ],
   "source": [
    "print(\"<데이터 기본정보>\")\n",
    "print(df.info())"
   ]
  },
  {
   "cell_type": "markdown",
   "metadata": {},
   "source": [
    "데이터셋은 총 395개의 레코드와 12개의 컬럼(변수)로 이루어져있다.\n",
    "\n",
    "이 중 11개의 변수가 설명변수, absences(결석일수)는 종속변수이다.\n",
    "\n",
    "<데이터 성격에 따른 분류: 일치하지 않으면 타입 변환 필요>\n",
    "\n",
    "- 수치형 변수: age(나이), failures(학사경고 횟수)\n",
    "- 범주형(순서, Ordinal):  medu(엄마 교육수준), fedu(아빠 교육수준), traveltime(통학시간), studytime(공부), freetime(쉬는시간), famrel(가족관계), absences(결석유무)\n",
    "- 명목형 변수: sex(성별), pstatus(동거유무), guardian(주보호자)\n",
    "  "
   ]
  },
  {
   "cell_type": "code",
   "execution_count": 5,
   "metadata": {},
   "outputs": [
    {
     "data": {
      "text/plain": [
       "sex           0\n",
       "age           0\n",
       "pstatus       0\n",
       "medu          0\n",
       "fedu          0\n",
       "guardian      0\n",
       "traveltime    0\n",
       "studytime     0\n",
       "failures      0\n",
       "freetime      0\n",
       "famrel        0\n",
       "absences      0\n",
       "dtype: int64"
      ]
     },
     "execution_count": 5,
     "metadata": {},
     "output_type": "execute_result"
    }
   ],
   "source": [
    "# 결측 데이터는 없다.\n",
    "df.isnull().sum()"
   ]
  },
  {
   "cell_type": "code",
   "execution_count": 6,
   "metadata": {},
   "outputs": [
    {
     "data": {
      "text/plain": [
       "0    72.405063\n",
       "1    12.658228\n",
       "2     4.303797\n",
       "3     4.050633\n",
       "T     3.544304\n",
       "A     3.037975\n",
       "Name: failures, dtype: float64"
      ]
     },
     "execution_count": 6,
     "metadata": {},
     "output_type": "execute_result"
    }
   ],
   "source": [
    "#변수 타입 변환 전 값을 확인한다.\n",
    "df.failures.value_counts(normalize=True)*100"
   ]
  },
  {
   "cell_type": "code",
   "execution_count": 7,
   "metadata": {},
   "outputs": [
    {
     "data": {
      "text/plain": [
       "26"
      ]
     },
     "execution_count": 7,
     "metadata": {},
     "output_type": "execute_result"
    }
   ],
   "source": [
    "len(df[df.failures.isin(['T', 'A'])])"
   ]
  },
  {
   "cell_type": "markdown",
   "metadata": {},
   "source": [
    "데이터 성격에 따른 변수타입 변환에 앞서 결측치와 데이터 값을 확인한다.\n",
    "\n",
    "failures는 학사경고 횟수로 수치형 데이터이나 \"T\", \"A\" 같은 의미를 알 수 없는 데이터가 존재한다.\n",
    "\n",
    "T, A가 전체 데이터에서 차지하는 비율은 약 6.5%로 작은 비율을 차지하므로 적절한 대체값으로 대체하기보다는 제거를 선택한다."
   ]
  },
  {
   "cell_type": "code",
   "execution_count": 8,
   "metadata": {},
   "outputs": [
    {
     "data": {
      "text/plain": [
       "0    286\n",
       "1     50\n",
       "2     17\n",
       "3     16\n",
       "Name: failures, dtype: int64"
      ]
     },
     "execution_count": 8,
     "metadata": {},
     "output_type": "execute_result"
    }
   ],
   "source": [
    "# failures T, A 인 행 삭제\n",
    "df = df[~df['failures'].isin(['T', 'A'])]\n",
    "df['failures'].value_counts()"
   ]
  },
  {
   "cell_type": "code",
   "execution_count": 13,
   "metadata": {},
   "outputs": [],
   "source": [
    "# 데이터 성격에 따라 변수형태 변환을 실시\n",
    "df = df.astype({col:'category' for col in ['medu', 'fedu', 'traveltime', 'studytime', 'freetime', 'famrel', 'absences']})\n",
    "df = df.astype({'failures':'int64'})"
   ]
  },
  {
   "cell_type": "code",
   "execution_count": 14,
   "metadata": {},
   "outputs": [
    {
     "name": "stdout",
     "output_type": "stream",
     "text": [
      "<class 'pandas.core.frame.DataFrame'>\n",
      "Int64Index: 369 entries, 0 to 394\n",
      "Data columns (total 12 columns):\n",
      " #   Column      Non-Null Count  Dtype   \n",
      "---  ------      --------------  -----   \n",
      " 0   sex         369 non-null    object  \n",
      " 1   age         369 non-null    int64   \n",
      " 2   pstatus     369 non-null    object  \n",
      " 3   medu        369 non-null    category\n",
      " 4   fedu        369 non-null    category\n",
      " 5   guardian    369 non-null    object  \n",
      " 6   traveltime  369 non-null    category\n",
      " 7   studytime   369 non-null    category\n",
      " 8   failures    369 non-null    int64   \n",
      " 9   freetime    369 non-null    category\n",
      " 10  famrel      369 non-null    category\n",
      " 11  absences    369 non-null    category\n",
      "dtypes: category(7), int64(2), object(3)\n",
      "memory usage: 21.1+ KB\n",
      "None\n"
     ]
    }
   ],
   "source": [
    "print(df.info())"
   ]
  },
  {
   "cell_type": "code",
   "execution_count": 15,
   "metadata": {},
   "outputs": [
    {
     "name": "stdout",
     "output_type": "stream",
     "text": [
      "<수치형 변수 통계량>\n"
     ]
    },
    {
     "data": {
      "text/html": [
       "<div>\n",
       "<style scoped>\n",
       "    .dataframe tbody tr th:only-of-type {\n",
       "        vertical-align: middle;\n",
       "    }\n",
       "\n",
       "    .dataframe tbody tr th {\n",
       "        vertical-align: top;\n",
       "    }\n",
       "\n",
       "    .dataframe thead th {\n",
       "        text-align: right;\n",
       "    }\n",
       "</style>\n",
       "<table border=\"1\" class=\"dataframe\">\n",
       "  <thead>\n",
       "    <tr style=\"text-align: right;\">\n",
       "      <th></th>\n",
       "      <th>age</th>\n",
       "      <th>failures</th>\n",
       "    </tr>\n",
       "  </thead>\n",
       "  <tbody>\n",
       "    <tr>\n",
       "      <th>count</th>\n",
       "      <td>369.000000</td>\n",
       "      <td>369.000000</td>\n",
       "    </tr>\n",
       "    <tr>\n",
       "      <th>mean</th>\n",
       "      <td>16.699187</td>\n",
       "      <td>0.357724</td>\n",
       "    </tr>\n",
       "    <tr>\n",
       "      <th>std</th>\n",
       "      <td>1.287070</td>\n",
       "      <td>0.763965</td>\n",
       "    </tr>\n",
       "    <tr>\n",
       "      <th>min</th>\n",
       "      <td>15.000000</td>\n",
       "      <td>0.000000</td>\n",
       "    </tr>\n",
       "    <tr>\n",
       "      <th>25%</th>\n",
       "      <td>16.000000</td>\n",
       "      <td>0.000000</td>\n",
       "    </tr>\n",
       "    <tr>\n",
       "      <th>50%</th>\n",
       "      <td>17.000000</td>\n",
       "      <td>0.000000</td>\n",
       "    </tr>\n",
       "    <tr>\n",
       "      <th>75%</th>\n",
       "      <td>18.000000</td>\n",
       "      <td>0.000000</td>\n",
       "    </tr>\n",
       "    <tr>\n",
       "      <th>max</th>\n",
       "      <td>22.000000</td>\n",
       "      <td>3.000000</td>\n",
       "    </tr>\n",
       "  </tbody>\n",
       "</table>\n",
       "</div>"
      ],
      "text/plain": [
       "              age    failures\n",
       "count  369.000000  369.000000\n",
       "mean    16.699187    0.357724\n",
       "std      1.287070    0.763965\n",
       "min     15.000000    0.000000\n",
       "25%     16.000000    0.000000\n",
       "50%     17.000000    0.000000\n",
       "75%     18.000000    0.000000\n",
       "max     22.000000    3.000000"
      ]
     },
     "metadata": {},
     "output_type": "display_data"
    },
    {
     "name": "stdout",
     "output_type": "stream",
     "text": [
      "\n",
      "<명목형 변수 통계량>\n"
     ]
    },
    {
     "data": {
      "text/html": [
       "<div>\n",
       "<style scoped>\n",
       "    .dataframe tbody tr th:only-of-type {\n",
       "        vertical-align: middle;\n",
       "    }\n",
       "\n",
       "    .dataframe tbody tr th {\n",
       "        vertical-align: top;\n",
       "    }\n",
       "\n",
       "    .dataframe thead th {\n",
       "        text-align: right;\n",
       "    }\n",
       "</style>\n",
       "<table border=\"1\" class=\"dataframe\">\n",
       "  <thead>\n",
       "    <tr style=\"text-align: right;\">\n",
       "      <th></th>\n",
       "      <th>sex</th>\n",
       "      <th>pstatus</th>\n",
       "      <th>medu</th>\n",
       "      <th>fedu</th>\n",
       "      <th>guardian</th>\n",
       "      <th>traveltime</th>\n",
       "      <th>studytime</th>\n",
       "      <th>freetime</th>\n",
       "      <th>famrel</th>\n",
       "      <th>absences</th>\n",
       "    </tr>\n",
       "  </thead>\n",
       "  <tbody>\n",
       "    <tr>\n",
       "      <th>count</th>\n",
       "      <td>369</td>\n",
       "      <td>369</td>\n",
       "      <td>369</td>\n",
       "      <td>369</td>\n",
       "      <td>369</td>\n",
       "      <td>369</td>\n",
       "      <td>369</td>\n",
       "      <td>369</td>\n",
       "      <td>369</td>\n",
       "      <td>369</td>\n",
       "    </tr>\n",
       "    <tr>\n",
       "      <th>unique</th>\n",
       "      <td>2</td>\n",
       "      <td>2</td>\n",
       "      <td>5</td>\n",
       "      <td>5</td>\n",
       "      <td>3</td>\n",
       "      <td>4</td>\n",
       "      <td>4</td>\n",
       "      <td>5</td>\n",
       "      <td>5</td>\n",
       "      <td>2</td>\n",
       "    </tr>\n",
       "    <tr>\n",
       "      <th>top</th>\n",
       "      <td>F</td>\n",
       "      <td>T</td>\n",
       "      <td>4</td>\n",
       "      <td>2</td>\n",
       "      <td>mother</td>\n",
       "      <td>1</td>\n",
       "      <td>2</td>\n",
       "      <td>3</td>\n",
       "      <td>4</td>\n",
       "      <td>0</td>\n",
       "    </tr>\n",
       "    <tr>\n",
       "      <th>freq</th>\n",
       "      <td>194</td>\n",
       "      <td>331</td>\n",
       "      <td>120</td>\n",
       "      <td>107</td>\n",
       "      <td>258</td>\n",
       "      <td>241</td>\n",
       "      <td>183</td>\n",
       "      <td>148</td>\n",
       "      <td>180</td>\n",
       "      <td>261</td>\n",
       "    </tr>\n",
       "  </tbody>\n",
       "</table>\n",
       "</div>"
      ],
      "text/plain": [
       "        sex pstatus  medu  fedu guardian  traveltime  studytime  freetime  \\\n",
       "count   369     369   369   369      369         369        369       369   \n",
       "unique    2       2     5     5        3           4          4         5   \n",
       "top       F       T     4     2   mother           1          2         3   \n",
       "freq    194     331   120   107      258         241        183       148   \n",
       "\n",
       "        famrel  absences  \n",
       "count      369       369  \n",
       "unique       5         2  \n",
       "top          4         0  \n",
       "freq       180       261  "
      ]
     },
     "metadata": {},
     "output_type": "display_data"
    }
   ],
   "source": [
    "# 먼저 수치형 변수와 범주형 변수의 통계량 확인\n",
    "print(\"<수치형 변수 통계량>\")\n",
    "display(df.describe(include='number'))\n",
    "\n",
    "print(\"\\n<명목형 변수 통계량>\")\n",
    "display(df.describe(exclude='number'))"
   ]
  },
  {
   "cell_type": "code",
   "execution_count": 16,
   "metadata": {},
   "outputs": [
    {
     "name": "stdout",
     "output_type": "stream",
     "text": [
      "<수치형 변수 분포>\n"
     ]
    },
    {
     "data": {
      "image/png": "[encoded data removed]",
      "text/plain": [
       "<Figure size 720x360 with 2 Axes>"
      ]
     },
     "metadata": {
      "needs_background": "light"
     },
     "output_type": "display_data"
    },
    {
     "name": "stdout",
     "output_type": "stream",
     "text": [
      "<범주형 변수 분포>\n"
     ]
    },
    {
     "data": {
      "image/png": "[encoded data removed]",
      "text/plain": [
       "<Figure size 1080x360 with 10 Axes>"
      ]
     },
     "metadata": {
      "needs_background": "light"
     },
     "output_type": "display_data"
    }
   ],
   "source": [
    "# 수치형 히스토그램\n",
    "print(\"<수치형 변수 분포>\")\n",
    "\n",
    "fig, ax = plt.subplots(1, 2, figsize=(10, 5))\n",
    "n_cols = df.select_dtypes('number').columns\n",
    "\n",
    "for i, col in enumerate(n_cols):\n",
    "    df[col].hist(ax=ax[i])\n",
    "    ax[i].set_title(col)\n",
    "plt.show()\n",
    "\n",
    "print(\"<범주형 변수 분포>\")\n",
    "# 범주형 빈도별 count plot\n",
    "fig, ax = plt.subplots(2, 5, figsize=(15, 5))\n",
    "w_cols = df.select_dtypes(['object', 'category']).columns\n",
    "\n",
    "for i, col in enumerate(w_cols):\n",
    "    x = i // 5\n",
    "    y = i % 5\n",
    "    sns.countplot(df[col], ax=ax[x, y])\n",
    "plt.subplots_adjust(wspace=0.3, hspace=0.5)\n",
    "plt.show()\n"
   ]
  },
  {
   "cell_type": "markdown",
   "metadata": {},
   "source": [
    "***통계량 분석***\n",
    "- 수치형: age는 15~17세, 그리고 18세인 학생이 많으며, 학사경고는 받지 안은 학생의 빈도수가 가장 높다.\n",
    "- 범주형:\n",
    "    - 남성과 여성의 비율은 큰 차이는 없으나, 여성이 더 많다.\n",
    "    - 부모와 동거하는 비율이 높으며, 어머니가 주 보호자인 경우가 높다.\n",
    "    - 어머니의 교육수준은 고등교육이 가장 높으며(4), 아버지의 교육수준은 5~9학년(2)이 가장 많다.\n",
    "    - 등하교 시간은 가장 짧은 15분 이하(1)가 가장 많으며, 학습시간은 2~5시간 이하(2)가 가장 많았다.\n",
    "    - 자유시간은 수준\"3\"이 가장 많으며, 가족관계는 대체로 우수한 (4) 경우가 많았다.\n",
    "    - 결석여부는 결석하지 않은 학생이 많았다."
   ]
  },
  {
   "cell_type": "code",
   "execution_count": 17,
   "metadata": {},
   "outputs": [],
   "source": [
    "# 상관관계 분석 전 문자형으로 되어있는 카테고리형 데이터를 모두 categoriy로 바꿔준다. \n",
    "df2 = df.copy()\n",
    "df2 = df2.replace({'F':0, 'M':1})\n",
    "df2 = df2.replace({'A':0, 'T':1})\n",
    "df2 = df2.astype({col:'category' for col in ['sex', 'pstatus']})\n",
    "df2 = df2.astype({col :'int64' for col in df2.select_dtypes(['category']).columns})"
   ]
  },
  {
   "cell_type": "code",
   "execution_count": 18,
   "metadata": {},
   "outputs": [
    {
     "name": "stdout",
     "output_type": "stream",
     "text": [
      "<class 'pandas.core.frame.DataFrame'>\n",
      "Int64Index: 369 entries, 0 to 394\n",
      "Data columns (total 12 columns):\n",
      " #   Column      Non-Null Count  Dtype \n",
      "---  ------      --------------  ----- \n",
      " 0   sex         369 non-null    int64 \n",
      " 1   age         369 non-null    int64 \n",
      " 2   pstatus     369 non-null    int64 \n",
      " 3   medu        369 non-null    int64 \n",
      " 4   fedu        369 non-null    int64 \n",
      " 5   guardian    369 non-null    object\n",
      " 6   traveltime  369 non-null    int64 \n",
      " 7   studytime   369 non-null    int64 \n",
      " 8   failures    369 non-null    int64 \n",
      " 9   freetime    369 non-null    int64 \n",
      " 10  famrel      369 non-null    int64 \n",
      " 11  absences    369 non-null    int64 \n",
      "dtypes: int64(11), object(1)\n",
      "memory usage: 47.5+ KB\n"
     ]
    }
   ],
   "source": [
    "df2.info()"
   ]
  },
  {
   "cell_type": "code",
   "execution_count": 19,
   "metadata": {},
   "outputs": [
    {
     "data": {
      "image/png": "[encoded data removed]",
      "text/plain": [
       "<Figure size 1080x936 with 2 Axes>"
      ]
     },
     "metadata": {
      "needs_background": "light"
     },
     "output_type": "display_data"
    }
   ],
   "source": [
    "# 다음으로 각 변수간 상관관계를 알아본다. (종속변수에 가장 많은 영향을 끼치는 변수도 확인)\n",
    "# pearson corration\n",
    "plt.figure(figsize=(15, 13))\n",
    "corr = df2.corr()\n",
    "mask = np.triu(np.ones_like(corr, dtype='bool'))\n",
    "sns.heatmap(corr, mask = mask, annot=True, cmap='RdBu')\n",
    "plt.xticks(fontsize=12)  # X축 글자 크기\n",
    "plt.yticks(fontsize=11)  # Y축 글자 크기\n",
    "plt.subplots_adjust(wspace=0.2, hspace=0.2)\n",
    "plt.show()"
   ]
  },
  {
   "cell_type": "markdown",
   "metadata": {},
   "source": [
    "***각 변수들 간 상관관계를 확인하기 위해 순서형 변수, 이진 명목변수를 수치형으로 변환하였다.***\n",
    "- 성별과 학습시간 간에는 약한 음의 상관관계가 있다. 즉, 여성이 학습시간이 더 많은 경향이 있다.\n",
    "- 어머니의 교육수준과 아버지의 교육수준 간에는 양의 상관관계가 존대한다.\n",
    "- 다른 변수들 간에는 대체로 유의미한 상관관계가 보이지 않는다."
   ]
  },
  {
   "cell_type": "markdown",
   "metadata": {},
   "source": [
    "## 1-2. 데이터 품질을 살펴보고, 차원축소가 필요한지 검토하시오(5점)"
   ]
  },
  {
   "cell_type": "markdown",
   "metadata": {},
   "source": [
    "차원축소는 차원이 높으며, 변수간의 중복되는 정보가 많을 때 과적합 방지, 연산속도 향상의 목적을 위해 고려하는 방식이다.\n",
    "\n",
    "대표적인 방식은 주성분분석(PCA), LDA 등이 있다.\n",
    "\n",
    "해당 데이터의 경우 유의미한 상관관계를 찾기 어려우며(선형적), 차원 축소 시 정보의 손실을 발생시킬 것으로 예상되기 때문에\n",
    "\n",
    "차원축소를 고려하지 않는다."
   ]
  },
  {
   "cell_type": "markdown",
   "metadata": {},
   "source": [
    "## 1-3. 위에서 적용한 것이 과적합이라는 전제하, 해결하기 위한 방법을 2개 제시 및 구현(5점)"
   ]
  },
  {
   "cell_type": "markdown",
   "metadata": {},
   "source": [
    "실제 변수 간 유의미한 상관관계는 없지만 과적합, 즉 변수 간 높은 양/음의 상관관계가 대부분 존재한다면 이를 해결하기 위한 방식으로 \n",
    "\n",
    "1. 정규화를 통한 일반화\n",
    "   * 데이터가 과적합이라는 것은 모델이 학습 데이터에 지나치게 민감하게 반응하여, 테스트 데이터나 다른 데이터 적용 시 일반화된\n",
    "     결과를 반환하지 못함을 뜻하므로, 정규화를 적용하여 데이터를 일반화함으로써 과적합을 줄일 수 있다. 보통 L1(lasso), L2(ledge) 사용\n",
    "2. 주성분분석(PCA)을 통한 차원축소\n",
    "    * 데이터를 대표하는 새로운 축(주성분)을 생성하고, 변수 데이터를 사영하여 적절한 설명률을 가진 변수 선택\n",
    "3. 앙상블 모델을 사용\n",
    "    * 편향/분산을 보완하여 일반화 성능 보장\n",
    "\n",
    "\n",
    "중 2, 3을 고려한다. PCA 와 bagging 을 사용하는 앙상블 모델인 randomforerest 모델을 사용한다.\n",
    "\n",
    "- 순위가 없는 범주형 변수에 대해 one-hot encoding, 그리고 PCA는 거리기반 방식이므로 수치형 데이터 변수간 범위 일치를 위한 스케일링을 실시한다."
   ]
  },
  {
   "cell_type": "code",
   "execution_count": 45,
   "metadata": {},
   "outputs": [
    {
     "name": "stdout",
     "output_type": "stream",
     "text": [
      "데이터셋 크기: (295, 12) (74, 12)\n"
     ]
    }
   ],
   "source": [
    "df2 = df.copy()\n",
    "df2 = df2.replace({\"No\": 0, \"Yes\": 1})\n",
    "\n",
    "# 스케일링, 순서가 없는 범주형 변수 one-hot encoding 실시\n",
    "c_cols = ['sex', 'pstatus', 'guardian']\n",
    "\n",
    "#순서가 있는 범주형 변수는 숫자형으로 변환\n",
    "df2 = df2.astype({col:'int64' for col in df2.select_dtypes(['category']).columns})\n",
    "\n",
    "\n",
    "# one-hot 전 데이터 분할\n",
    "from sklearn.model_selection import train_test_split\n",
    "\n",
    "Y = df2['absences']\n",
    "X = df2.drop(columns='absences', axis=1)\n",
    "\n",
    "#층화 샘플링\n",
    "train_X, test_X, train_Y, test_Y = train_test_split(X, Y, random_state=42, test_size=0.2, stratify = Y)\n",
    "\n",
    "\n",
    "# one-hot 인코딩\n",
    "train_X = pd.get_dummies(train_X, columns= c_cols, drop_first=True)\n",
    "test_X = pd.get_dummies(test_X, columns=c_cols, drop_first=True)\n",
    "test_X = test_X.reindex(columns=train_X.columns, fill_value=0)\n",
    "\n",
    "print(f\"데이터셋 크기: {train_X.shape} {test_X.shape}\")\n",
    "\n",
    "# 수치형 데이터 스케일링: standard scaler(age, failures)\n",
    "from sklearn.preprocessing import StandardScaler\n",
    "\n",
    "sc = StandardScaler()\n",
    "\n",
    "train_X[['age', 'failures']] = sc.fit_transform(train_X[['age', 'failures']])\n",
    "test_X[['age', 'failures']] =sc.transform(test_X[['age', 'failures']])"
   ]
  },
  {
   "cell_type": "code",
   "execution_count": 46,
   "metadata": {},
   "outputs": [
    {
     "name": "stdout",
     "output_type": "stream",
     "text": [
      "<train set 분포>\n"
     ]
    },
    {
     "data": {
      "text/html": [
       "<div>\n",
       "<style scoped>\n",
       "    .dataframe tbody tr th:only-of-type {\n",
       "        vertical-align: middle;\n",
       "    }\n",
       "\n",
       "    .dataframe tbody tr th {\n",
       "        vertical-align: top;\n",
       "    }\n",
       "\n",
       "    .dataframe thead th {\n",
       "        text-align: right;\n",
       "    }\n",
       "</style>\n",
       "<table border=\"1\" class=\"dataframe\">\n",
       "  <thead>\n",
       "    <tr style=\"text-align: right;\">\n",
       "      <th></th>\n",
       "      <th>count</th>\n",
       "      <th>mean</th>\n",
       "      <th>std</th>\n",
       "      <th>min</th>\n",
       "      <th>25%</th>\n",
       "      <th>50%</th>\n",
       "      <th>75%</th>\n",
       "      <th>max</th>\n",
       "    </tr>\n",
       "  </thead>\n",
       "  <tbody>\n",
       "    <tr>\n",
       "      <th>age</th>\n",
       "      <td>295.0</td>\n",
       "      <td>1.987111e-16</td>\n",
       "      <td>1.001699</td>\n",
       "      <td>-1.338071</td>\n",
       "      <td>-0.554875</td>\n",
       "      <td>0.228322</td>\n",
       "      <td>1.011518</td>\n",
       "      <td>4.144303</td>\n",
       "    </tr>\n",
       "    <tr>\n",
       "      <th>failures</th>\n",
       "      <td>295.0</td>\n",
       "      <td>2.408619e-17</td>\n",
       "      <td>1.001699</td>\n",
       "      <td>-0.478807</td>\n",
       "      <td>-0.478807</td>\n",
       "      <td>-0.478807</td>\n",
       "      <td>-0.478807</td>\n",
       "      <td>3.304626</td>\n",
       "    </tr>\n",
       "  </tbody>\n",
       "</table>\n",
       "</div>"
      ],
      "text/plain": [
       "          count          mean       std       min       25%       50%  \\\n",
       "age       295.0  1.987111e-16  1.001699 -1.338071 -0.554875  0.228322   \n",
       "failures  295.0  2.408619e-17  1.001699 -0.478807 -0.478807 -0.478807   \n",
       "\n",
       "               75%       max  \n",
       "age       1.011518  4.144303  \n",
       "failures -0.478807  3.304626  "
      ]
     },
     "metadata": {},
     "output_type": "display_data"
    },
    {
     "name": "stdout",
     "output_type": "stream",
     "text": [
      "<test set 분포>\n"
     ]
    },
    {
     "data": {
      "text/html": [
       "<div>\n",
       "<style scoped>\n",
       "    .dataframe tbody tr th:only-of-type {\n",
       "        vertical-align: middle;\n",
       "    }\n",
       "\n",
       "    .dataframe tbody tr th {\n",
       "        vertical-align: top;\n",
       "    }\n",
       "\n",
       "    .dataframe thead th {\n",
       "        text-align: right;\n",
       "    }\n",
       "</style>\n",
       "<table border=\"1\" class=\"dataframe\">\n",
       "  <thead>\n",
       "    <tr style=\"text-align: right;\">\n",
       "      <th></th>\n",
       "      <th>count</th>\n",
       "      <th>mean</th>\n",
       "      <th>std</th>\n",
       "      <th>min</th>\n",
       "      <th>25%</th>\n",
       "      <th>50%</th>\n",
       "      <th>75%</th>\n",
       "      <th>max</th>\n",
       "    </tr>\n",
       "  </thead>\n",
       "  <tbody>\n",
       "    <tr>\n",
       "      <th>age</th>\n",
       "      <td>74.0</td>\n",
       "      <td>-0.036272</td>\n",
       "      <td>1.039327</td>\n",
       "      <td>-1.338071</td>\n",
       "      <td>-0.554875</td>\n",
       "      <td>-0.554875</td>\n",
       "      <td>1.011518</td>\n",
       "      <td>2.577910</td>\n",
       "    </tr>\n",
       "    <tr>\n",
       "      <th>failures</th>\n",
       "      <td>74.0</td>\n",
       "      <td>-0.137958</td>\n",
       "      <td>0.789306</td>\n",
       "      <td>-0.478807</td>\n",
       "      <td>-0.478807</td>\n",
       "      <td>-0.478807</td>\n",
       "      <td>-0.478807</td>\n",
       "      <td>3.304626</td>\n",
       "    </tr>\n",
       "  </tbody>\n",
       "</table>\n",
       "</div>"
      ],
      "text/plain": [
       "          count      mean       std       min       25%       50%       75%  \\\n",
       "age        74.0 -0.036272  1.039327 -1.338071 -0.554875 -0.554875  1.011518   \n",
       "failures   74.0 -0.137958  0.789306 -0.478807 -0.478807 -0.478807 -0.478807   \n",
       "\n",
       "               max  \n",
       "age       2.577910  \n",
       "failures  3.304626  "
      ]
     },
     "metadata": {},
     "output_type": "display_data"
    }
   ],
   "source": [
    "print(\"<train set 분포>\")\n",
    "display(train_X[['age', 'failures']].describe().T)\n",
    "\n",
    "print(\"<test set 분포>\")\n",
    "display(test_X[['age', 'failures']].describe().T)"
   ]
  },
  {
   "cell_type": "code",
   "execution_count": 47,
   "metadata": {
    "scrolled": true
   },
   "outputs": [
    {
     "data": {
      "image/png": "[encoded data removed]",
      "text/plain": [
       "<Figure size 864x2520 with 24 Axes>"
      ]
     },
     "metadata": {
      "needs_background": "light"
     },
     "output_type": "display_data"
    }
   ],
   "source": [
    "# 두 분할 데이터셋의 분포가 같은지 시각화\n",
    "fig, ax = plt.subplots(12, 2, figsize=(12, 35))\n",
    "\n",
    "for i, col in enumerate(train_X.columns):\n",
    "    train_X[col].hist(ax=ax[i, 0])\n",
    "    test_X[col].hist(ax=ax[i, 1])\n",
    "    ax[i, 0].set_title(f\"<Train set: {col}>\")\n",
    "    ax[i, 1].set_title(f\"<Test set: {col}>\")\n",
    "plt.subplots_adjust(wspace=0.1, hspace=0.3)\n",
    "plt.show()"
   ]
  },
  {
   "cell_type": "code",
   "execution_count": 39,
   "metadata": {},
   "outputs": [
    {
     "data": {
      "text/html": [
       "<div>\n",
       "<style scoped>\n",
       "    .dataframe tbody tr th:only-of-type {\n",
       "        vertical-align: middle;\n",
       "    }\n",
       "\n",
       "    .dataframe tbody tr th {\n",
       "        vertical-align: top;\n",
       "    }\n",
       "\n",
       "    .dataframe thead th {\n",
       "        text-align: right;\n",
       "    }\n",
       "</style>\n",
       "<table border=\"1\" class=\"dataframe\">\n",
       "  <thead>\n",
       "    <tr style=\"text-align: right;\">\n",
       "      <th></th>\n",
       "      <th>변수명</th>\n",
       "      <th>singular value</th>\n",
       "      <th>설명률</th>\n",
       "      <th>누적설명률</th>\n",
       "    </tr>\n",
       "  </thead>\n",
       "  <tbody>\n",
       "    <tr>\n",
       "      <th>0</th>\n",
       "      <td>age</td>\n",
       "      <td>23.715111</td>\n",
       "      <td>0.274938</td>\n",
       "      <td>0.274938</td>\n",
       "    </tr>\n",
       "    <tr>\n",
       "      <th>1</th>\n",
       "      <td>medu</td>\n",
       "      <td>17.740960</td>\n",
       "      <td>0.153865</td>\n",
       "      <td>0.428803</td>\n",
       "    </tr>\n",
       "    <tr>\n",
       "      <th>2</th>\n",
       "      <td>fedu</td>\n",
       "      <td>15.548765</td>\n",
       "      <td>0.118189</td>\n",
       "      <td>0.546992</td>\n",
       "    </tr>\n",
       "    <tr>\n",
       "      <th>3</th>\n",
       "      <td>traveltime</td>\n",
       "      <td>15.416074</td>\n",
       "      <td>0.116180</td>\n",
       "      <td>0.663172</td>\n",
       "    </tr>\n",
       "    <tr>\n",
       "      <th>4</th>\n",
       "      <td>studytime</td>\n",
       "      <td>13.058361</td>\n",
       "      <td>0.083361</td>\n",
       "      <td>0.746533</td>\n",
       "    </tr>\n",
       "    <tr>\n",
       "      <th>5</th>\n",
       "      <td>failures</td>\n",
       "      <td>12.500075</td>\n",
       "      <td>0.076385</td>\n",
       "      <td>0.822918</td>\n",
       "    </tr>\n",
       "    <tr>\n",
       "      <th>6</th>\n",
       "      <td>freetime</td>\n",
       "      <td>10.967992</td>\n",
       "      <td>0.058808</td>\n",
       "      <td>0.881727</td>\n",
       "    </tr>\n",
       "    <tr>\n",
       "      <th>7</th>\n",
       "      <td>famrel</td>\n",
       "      <td>10.721008</td>\n",
       "      <td>0.056190</td>\n",
       "      <td>0.937916</td>\n",
       "    </tr>\n",
       "    <tr>\n",
       "      <th>8</th>\n",
       "      <td>sex_M</td>\n",
       "      <td>7.396597</td>\n",
       "      <td>0.026745</td>\n",
       "      <td>0.964662</td>\n",
       "    </tr>\n",
       "    <tr>\n",
       "      <th>9</th>\n",
       "      <td>pstatus_T</td>\n",
       "      <td>6.498473</td>\n",
       "      <td>0.020645</td>\n",
       "      <td>0.985306</td>\n",
       "    </tr>\n",
       "    <tr>\n",
       "      <th>10</th>\n",
       "      <td>guardian_mother</td>\n",
       "      <td>4.382207</td>\n",
       "      <td>0.009388</td>\n",
       "      <td>0.994694</td>\n",
       "    </tr>\n",
       "    <tr>\n",
       "      <th>11</th>\n",
       "      <td>guardian_other</td>\n",
       "      <td>3.294388</td>\n",
       "      <td>0.005306</td>\n",
       "      <td>1.000000</td>\n",
       "    </tr>\n",
       "  </tbody>\n",
       "</table>\n",
       "</div>"
      ],
      "text/plain": [
       "                변수명  singular value       설명률     누적설명률\n",
       "0               age       23.715111  0.274938  0.274938\n",
       "1              medu       17.740960  0.153865  0.428803\n",
       "2              fedu       15.548765  0.118189  0.546992\n",
       "3        traveltime       15.416074  0.116180  0.663172\n",
       "4         studytime       13.058361  0.083361  0.746533\n",
       "5          failures       12.500075  0.076385  0.822918\n",
       "6          freetime       10.967992  0.058808  0.881727\n",
       "7            famrel       10.721008  0.056190  0.937916\n",
       "8             sex_M        7.396597  0.026745  0.964662\n",
       "9         pstatus_T        6.498473  0.020645  0.985306\n",
       "10  guardian_mother        4.382207  0.009388  0.994694\n",
       "11   guardian_other        3.294388  0.005306  1.000000"
      ]
     },
     "metadata": {},
     "output_type": "display_data"
    }
   ],
   "source": [
    "# 주성분분석(PCA)\n",
    "\n",
    "from sklearn.decomposition import PCA\n",
    "pca = PCA(random_state=42)\n",
    "\n",
    "p_fit = pca.fit(train_X)\n",
    "\n",
    "p_result = pd.DataFrame({\"변수명\": train_X.columns, \n",
    "                        \"singular value\": p_fit.singular_values_, \n",
    "                        \"설명률\": p_fit.explained_variance_ratio_, \n",
    "                        \"누적설명률\": np.cumsum(p_fit.explained_variance_ratio_)})\n",
    "\n",
    "display(p_result)"
   ]
  },
  {
   "cell_type": "code",
   "execution_count": 41,
   "metadata": {},
   "outputs": [
    {
     "data": {
      "image/png": "[encoded data removed]",
      "text/plain": [
       "<Figure size 576x432 with 1 Axes>"
      ]
     },
     "metadata": {
      "needs_background": "light"
     },
     "output_type": "display_data"
    }
   ],
   "source": [
    "# 누적 scree plot 을 그려본다.\n",
    "plt.figure(figsize=(8, 6))\n",
    "plt.plot(p_result['누적설명률'], marker='o')\n",
    "plt.title(\"변수별 누적분산설명률\")\n",
    "plt.xlabel(\"features\")\n",
    "plt.ylabel(\"누적분산설명률\")\n",
    "plt.axvline(x=5, color='r', linestyle = '--')\n",
    "plt.axhline(y=0.8, color='r', linestyle = '--')\n",
    "plt.show()"
   ]
  },
  {
   "cell_type": "markdown",
   "metadata": {},
   "source": [
    "- PCA 실시 결과, 5개 feature 수준에서 누적분산설명률 0.8 이상이다.\n",
    "  여기서는 5개 featuer를 선택하여 다시 pca를 설정한다.\n",
    "- 따라서 pca를 통해 전체 데이터의 약 82%를 설명하는 데이터로 재가공하였다.\n",
    "\n",
    "- 데이터 비율이 1:2.3 정도로 오버샘플링을 실시할 정도로 불균형하다고 판단되지 않는다."
   ]
  },
  {
   "cell_type": "code",
   "execution_count": 48,
   "metadata": {},
   "outputs": [
    {
     "data": {
      "text/html": [
       "<div>\n",
       "<style scoped>\n",
       "    .dataframe tbody tr th:only-of-type {\n",
       "        vertical-align: middle;\n",
       "    }\n",
       "\n",
       "    .dataframe tbody tr th {\n",
       "        vertical-align: top;\n",
       "    }\n",
       "\n",
       "    .dataframe thead th {\n",
       "        text-align: right;\n",
       "    }\n",
       "</style>\n",
       "<table border=\"1\" class=\"dataframe\">\n",
       "  <thead>\n",
       "    <tr style=\"text-align: right;\">\n",
       "      <th></th>\n",
       "      <th>age</th>\n",
       "      <th>medu</th>\n",
       "      <th>fedu</th>\n",
       "      <th>traveltime</th>\n",
       "      <th>studytime</th>\n",
       "    </tr>\n",
       "  </thead>\n",
       "  <tbody>\n",
       "    <tr>\n",
       "      <th>0</th>\n",
       "      <td>-0.117753</td>\n",
       "      <td>-2.291189</td>\n",
       "      <td>1.803366</td>\n",
       "      <td>0.647296</td>\n",
       "      <td>-1.344283</td>\n",
       "    </tr>\n",
       "    <tr>\n",
       "      <th>1</th>\n",
       "      <td>-2.115414</td>\n",
       "      <td>-1.262270</td>\n",
       "      <td>0.335312</td>\n",
       "      <td>1.059931</td>\n",
       "      <td>1.340942</td>\n",
       "    </tr>\n",
       "    <tr>\n",
       "      <th>2</th>\n",
       "      <td>1.643574</td>\n",
       "      <td>-0.724748</td>\n",
       "      <td>-0.004579</td>\n",
       "      <td>-1.416596</td>\n",
       "      <td>0.183336</td>\n",
       "    </tr>\n",
       "    <tr>\n",
       "      <th>3</th>\n",
       "      <td>-0.871168</td>\n",
       "      <td>1.102038</td>\n",
       "      <td>0.007536</td>\n",
       "      <td>-1.169427</td>\n",
       "      <td>-0.901302</td>\n",
       "    </tr>\n",
       "    <tr>\n",
       "      <th>4</th>\n",
       "      <td>-0.487636</td>\n",
       "      <td>-0.003223</td>\n",
       "      <td>0.187152</td>\n",
       "      <td>-1.451508</td>\n",
       "      <td>-0.259915</td>\n",
       "    </tr>\n",
       "  </tbody>\n",
       "</table>\n",
       "</div>"
      ],
      "text/plain": [
       "        age      medu      fedu  traveltime  studytime\n",
       "0 -0.117753 -2.291189  1.803366    0.647296  -1.344283\n",
       "1 -2.115414 -1.262270  0.335312    1.059931   1.340942\n",
       "2  1.643574 -0.724748 -0.004579   -1.416596   0.183336\n",
       "3 -0.871168  1.102038  0.007536   -1.169427  -0.901302\n",
       "4 -0.487636 -0.003223  0.187152   -1.451508  -0.259915"
      ]
     },
     "execution_count": 48,
     "metadata": {},
     "output_type": "execute_result"
    }
   ],
   "source": [
    "pca = PCA(n_components=5, random_state=42)\n",
    "\n",
    "train_X1 = pd.DataFrame(pca.fit_transform(train_X), columns=train_X.columns[:5])\n",
    "test_X1 = pd.DataFrame(pca.transform(test_X), columns=test_X.columns[:5])\n",
    "\n",
    "test_X1.head()"
   ]
  },
  {
   "cell_type": "markdown",
   "metadata": {},
   "source": [
    "다음으로 앙상블 모델인 random forerest를 구현한다.\n",
    "\n",
    "이후 test set을 이용하여 성능지표를 확인한다. 주 성능지표를 auc score 로 보조 성능지표로 f1 score를 활용한다.\n",
    "- 불균형이 아니라고 생각했는데 recall(재현율)이 아주 좋지 않다. f2 socre를 성능지표로 이용해 보고, 개선되지 않는다면, \n",
    "   oversampling을 고려한다."
   ]
  },
  {
   "cell_type": "code",
   "execution_count": 52,
   "metadata": {},
   "outputs": [
    {
     "name": "stdout",
     "output_type": "stream",
     "text": [
      "Best param: {'max_depth': 3, 'min_samples_split': 2, 'n_estimators': 50}\n",
      "Best socre: 0.00\n",
      "< 학습 데이터 학습결과 >\n",
      "f1 score / AUC score: 0.02 / 0.51\n"
     ]
    },
    {
     "data": {
      "text/html": [
       "<div>\n",
       "<style scoped>\n",
       "    .dataframe tbody tr th:only-of-type {\n",
       "        vertical-align: middle;\n",
       "    }\n",
       "\n",
       "    .dataframe tbody tr th {\n",
       "        vertical-align: top;\n",
       "    }\n",
       "\n",
       "    .dataframe thead th {\n",
       "        text-align: right;\n",
       "    }\n",
       "</style>\n",
       "<table border=\"1\" class=\"dataframe\">\n",
       "  <thead>\n",
       "    <tr style=\"text-align: right;\">\n",
       "      <th></th>\n",
       "      <th>예측 출석</th>\n",
       "      <th>예측 결석</th>\n",
       "    </tr>\n",
       "  </thead>\n",
       "  <tbody>\n",
       "    <tr>\n",
       "      <th>실제 출석</th>\n",
       "      <td>209</td>\n",
       "      <td>0</td>\n",
       "    </tr>\n",
       "    <tr>\n",
       "      <th>실제 결석</th>\n",
       "      <td>85</td>\n",
       "      <td>1</td>\n",
       "    </tr>\n",
       "  </tbody>\n",
       "</table>\n",
       "</div>"
      ],
      "text/plain": [
       "       예측 출석  예측 결석\n",
       "실제 출석    209      0\n",
       "실제 결석     85      1"
      ]
     },
     "metadata": {},
     "output_type": "display_data"
    },
    {
     "name": "stdout",
     "output_type": "stream",
     "text": [
      "< 테스트 데이터 학습결과 >\n",
      "f1 score / AUC score: 0.00 / 0.50\n"
     ]
    },
    {
     "data": {
      "text/html": [
       "<div>\n",
       "<style scoped>\n",
       "    .dataframe tbody tr th:only-of-type {\n",
       "        vertical-align: middle;\n",
       "    }\n",
       "\n",
       "    .dataframe tbody tr th {\n",
       "        vertical-align: top;\n",
       "    }\n",
       "\n",
       "    .dataframe thead th {\n",
       "        text-align: right;\n",
       "    }\n",
       "</style>\n",
       "<table border=\"1\" class=\"dataframe\">\n",
       "  <thead>\n",
       "    <tr style=\"text-align: right;\">\n",
       "      <th></th>\n",
       "      <th>예측 출석</th>\n",
       "      <th>예측 결석</th>\n",
       "    </tr>\n",
       "  </thead>\n",
       "  <tbody>\n",
       "    <tr>\n",
       "      <th>실제 출석</th>\n",
       "      <td>52</td>\n",
       "      <td>0</td>\n",
       "    </tr>\n",
       "    <tr>\n",
       "      <th>실제 결석</th>\n",
       "      <td>22</td>\n",
       "      <td>0</td>\n",
       "    </tr>\n",
       "  </tbody>\n",
       "</table>\n",
       "</div>"
      ],
      "text/plain": [
       "       예측 출석  예측 결석\n",
       "실제 출석     52      0\n",
       "실제 결석     22      0"
      ]
     },
     "metadata": {},
     "output_type": "display_data"
    }
   ],
   "source": [
    "# 랜덤포레스트\n",
    "from sklearn.ensemble import RandomForestClassifier\n",
    "from sklearn.model_selection import KFold, GridSearchCV\n",
    "from sklearn.metrics import confusion_matrix, f1_score, roc_auc_score, make_scorer, fbeta_score\n",
    "\n",
    "\n",
    "#f2 score\n",
    "# f2 = make_scorer(fbeta_score, beta=2, average='weighted')\n",
    "kf = KFold(n_splits=5, shuffle=True, random_state=42)\n",
    "rf = RandomForestClassifier(random_state=42)\n",
    "params = {\n",
    "    'n_estimators': [50, 100], \n",
    "    'max_depth': [3, 5], \n",
    "    'min_samples_split': [2, 5]\n",
    "}\n",
    "\n",
    "grid_f = GridSearchCV(\n",
    "    estimator = rf, \n",
    "    param_grid = params, \n",
    "    scoring = 'f1', \n",
    "    cv = kf\n",
    ")\n",
    "\n",
    "grid_f.fit(train_X, train_Y)\n",
    "\n",
    "print(f\"Best param: {grid_f.best_params_}\")\n",
    "print(f\"Best socre: {grid_f.best_score_:.2f}\")\n",
    "\n",
    "pred_train = grid_f.predict(train_X)\n",
    "pred_test = grid_f.predict(test_X)\n",
    "\n",
    "print(\"< 학습 데이터 학습결과 >\")\n",
    "con1 = pd.DataFrame(confusion_matrix(train_Y, pred_train, labels=[0, 1]), index=['실제 출석', '실제 결석'], columns=['예측 출석', '예측 결석'])\n",
    "print(f\"f1 score / AUC score: {f1_score(train_Y, pred_train):.2f} / {roc_auc_score(train_Y, pred_train):.2f}\")\n",
    "display(con1)\n",
    "\n",
    "print(\"< 테스트 데이터 학습결과 >\")\n",
    "con2 = pd.DataFrame(confusion_matrix(test_Y, pred_test, labels=[0, 1]), index=['실제 출석', '실제 결석'], columns=['예측 출석', '예측 결석'])\n",
    "print(f\"f1 score / AUC score: {f1_score(test_Y, pred_test):.2f} / {roc_auc_score(test_Y, pred_test):.2f}\")\n",
    "display(con2)"
   ]
  },
  {
   "cell_type": "markdown",
   "metadata": {},
   "source": [
    "**오버샘플링**\n",
    "\n",
    "반응변수에 클래스 불균형이 존재할 경우 다수 범주에 과적합되어 소수 범주에 대한 예측 성능이 떨어지는 문제가 발생할 수 있다. 이를 해결하기 위해 오버샘플링 혹은 언더샘플링을 고려해볼 수 있다. 반응변수(absences)의 경우 빈도 불균형이 존재하므로, 오버샘플링을 고려한다."
   ]
  },
  {
   "cell_type": "code",
   "execution_count": 54,
   "metadata": {},
   "outputs": [
    {
     "name": "stdout",
     "output_type": "stream",
     "text": [
      "Counter({0: 209, 1: 209})\n"
     ]
    }
   ],
   "source": [
    "from imblearn.over_sampling import BorderlineSMOTE\n",
    "from collections import Counter\n",
    "\n",
    "smt = BorderlineSMOTE(random_state=42, k_neighbors=3, sampling_strategy='minority')\n",
    "train_X_o, train_Y_o = smt.fit_resample(train_X1, train_Y)\n",
    "print(Counter(train_Y_o))"
   ]
  },
  {
   "cell_type": "code",
   "execution_count": 57,
   "metadata": {},
   "outputs": [
    {
     "name": "stdout",
     "output_type": "stream",
     "text": [
      "Best param: {'max_depth': 5, 'min_samples_split': 2, 'n_estimators': 100}\n",
      "Best socre: 0.71\n",
      "< 학습 데이터 학습결과 >\n",
      "f1 score / AUC score: 0.91 / 0.91\n"
     ]
    },
    {
     "data": {
      "text/html": [
       "<div>\n",
       "<style scoped>\n",
       "    .dataframe tbody tr th:only-of-type {\n",
       "        vertical-align: middle;\n",
       "    }\n",
       "\n",
       "    .dataframe tbody tr th {\n",
       "        vertical-align: top;\n",
       "    }\n",
       "\n",
       "    .dataframe thead th {\n",
       "        text-align: right;\n",
       "    }\n",
       "</style>\n",
       "<table border=\"1\" class=\"dataframe\">\n",
       "  <thead>\n",
       "    <tr style=\"text-align: right;\">\n",
       "      <th></th>\n",
       "      <th>예측 출석</th>\n",
       "      <th>예측 결석</th>\n",
       "    </tr>\n",
       "  </thead>\n",
       "  <tbody>\n",
       "    <tr>\n",
       "      <th>실제 출석</th>\n",
       "      <td>188</td>\n",
       "      <td>21</td>\n",
       "    </tr>\n",
       "    <tr>\n",
       "      <th>실제 결석</th>\n",
       "      <td>16</td>\n",
       "      <td>193</td>\n",
       "    </tr>\n",
       "  </tbody>\n",
       "</table>\n",
       "</div>"
      ],
      "text/plain": [
       "       예측 출석  예측 결석\n",
       "실제 출석    188     21\n",
       "실제 결석     16    193"
      ]
     },
     "metadata": {},
     "output_type": "display_data"
    },
    {
     "name": "stdout",
     "output_type": "stream",
     "text": [
      "< 테스트 데이터 학습결과 >\n",
      "f1 score / AUC score: 0.33 / 0.52\n"
     ]
    },
    {
     "data": {
      "text/html": [
       "<div>\n",
       "<style scoped>\n",
       "    .dataframe tbody tr th:only-of-type {\n",
       "        vertical-align: middle;\n",
       "    }\n",
       "\n",
       "    .dataframe tbody tr th {\n",
       "        vertical-align: top;\n",
       "    }\n",
       "\n",
       "    .dataframe thead th {\n",
       "        text-align: right;\n",
       "    }\n",
       "</style>\n",
       "<table border=\"1\" class=\"dataframe\">\n",
       "  <thead>\n",
       "    <tr style=\"text-align: right;\">\n",
       "      <th></th>\n",
       "      <th>예측 출석</th>\n",
       "      <th>예측 결석</th>\n",
       "    </tr>\n",
       "  </thead>\n",
       "  <tbody>\n",
       "    <tr>\n",
       "      <th>실제 출석</th>\n",
       "      <td>38</td>\n",
       "      <td>14</td>\n",
       "    </tr>\n",
       "    <tr>\n",
       "      <th>실제 결석</th>\n",
       "      <td>15</td>\n",
       "      <td>7</td>\n",
       "    </tr>\n",
       "  </tbody>\n",
       "</table>\n",
       "</div>"
      ],
      "text/plain": [
       "       예측 출석  예측 결석\n",
       "실제 출석     38     14\n",
       "실제 결석     15      7"
      ]
     },
     "metadata": {},
     "output_type": "display_data"
    }
   ],
   "source": [
    "# 오버샘플링 데이터로 다시 모델 성능측정\n",
    "grid_f.fit(train_X_o, train_Y_o)\n",
    "\n",
    "print(f\"Best param: {grid_f.best_params_}\")\n",
    "print(f\"Best socre: {grid_f.best_score_:.2f}\")\n",
    "\n",
    "\n",
    "pred_train = grid_f.predict(train_X_o)\n",
    "pred_test = grid_f.predict(test_X1)\n",
    "\n",
    "print(\"< 학습 데이터 학습결과 >\")\n",
    "con1 = pd.DataFrame(confusion_matrix(train_Y_o, pred_train, labels=[0, 1]), index=['실제 출석', '실제 결석'], columns=['예측 출석', '예측 결석'])\n",
    "print(f\"f1 score / AUC score: {f1_score(train_Y_o, pred_train):.2f} / {roc_auc_score(train_Y_o, pred_train):.2f}\")\n",
    "display(con1)\n",
    "\n",
    "print(\"< 테스트 데이터 학습결과 >\")\n",
    "con2 = pd.DataFrame(confusion_matrix(test_Y, pred_test, labels=[0, 1]), index=['실제 출석', '실제 결석'], columns=['예측 출석', '예측 결석'])\n",
    "print(f\"f1 score / AUC score: {f1_score(test_Y, pred_test):.2f} / {roc_auc_score(test_Y, pred_test):.2f}\")\n",
    "display(con2)"
   ]
  },
  {
   "cell_type": "markdown",
   "metadata": {},
   "source": [
    "## 4.  **Random forest, neural network, Lightgbm 알고리즘 적용하여 F1 score를 구하고 성능을 비교하시오(5점).**\n",
    "- 데이터가 불균형하다고 생각하지 않아 oversampling을 실시하지 않았다. (실제로는 오버샘플링이 성능 더 나음)\n",
    "- 위에서 랜덤 포레스트를 시행하였기 때문에 기본적인 인공신경망(shllow net)과 LGB를 구현하고 F1 score로 성능을 비교한다.\n",
    "  * 다중 레이블의 f1 score를 평균한 f1_macro 는 채택하지 않는다. 해당 문제에서는 출석할 학생을 예측하는 것보다, \n",
    "    결석할 학생을 예측하여 그에 대한 대비를 하는 것이 적절하기 때문이다. 따라서 이상치 탐지와 같이 recall, true label의\n",
    "    f1 score가 더욱 중요하다고 판단된다."
   ]
  },
  {
   "cell_type": "code",
   "execution_count": 77,
   "metadata": {},
   "outputs": [],
   "source": [
    "from sklearn.neural_network import MLPClassifier\n",
    "from lightgbm import LGBMClassifier\n",
    "\n",
    "\n",
    "model1= RandomForestClassifier(random_state=42)\n",
    "model2 = MLPClassifier(random_state=42)\n",
    "model3 = LGBMClassifier(random_state=42)\n",
    "\n",
    "param1 = {'n_estimators': [50, 100], 'max_depth': [3, 5, None], 'min_samples_split': [5, 10], 'max_features': ['sqrt', 0.5]}\n",
    "param2 =  {'learning_rate_init': np.arange(0.01, 0.2, 0.02)}\n",
    "param3 = {'learning_rate': np.arange(0.01, 0.3, 0.02)}\n",
    "\n",
    "model1_search = GridSearchCV(\n",
    "    estimator=model1, \n",
    "    param_grid=param1, \n",
    "    scoring='f1', \n",
    "    cv = kf\n",
    ")\n",
    "\n",
    "model2_search = GridSearchCV(\n",
    "    estimator=model2, \n",
    "    param_grid=param2, \n",
    "    scoring='f1', \n",
    "    cv = kf\n",
    ")\n",
    "\n",
    "model3_search = GridSearchCV(\n",
    "    estimator=model3, \n",
    "    param_grid=param3, \n",
    "    scoring='f1', \n",
    "    cv = kf\n",
    ")\n"
   ]
  },
  {
   "cell_type": "code",
   "execution_count": 78,
   "metadata": {},
   "outputs": [
    {
     "name": "stdout",
     "output_type": "stream",
     "text": [
      "Best param: {'max_depth': None, 'max_features': 0.5, 'min_samples_split': 5, 'n_estimators': 50}\n",
      "Best socre: 0.08\n",
      "< 학습 데이터 학습결과 >\n",
      "f1 score / AUC score: 0.90 / 0.91\n"
     ]
    },
    {
     "data": {
      "text/html": [
       "<div>\n",
       "<style scoped>\n",
       "    .dataframe tbody tr th:only-of-type {\n",
       "        vertical-align: middle;\n",
       "    }\n",
       "\n",
       "    .dataframe tbody tr th {\n",
       "        vertical-align: top;\n",
       "    }\n",
       "\n",
       "    .dataframe thead th {\n",
       "        text-align: right;\n",
       "    }\n",
       "</style>\n",
       "<table border=\"1\" class=\"dataframe\">\n",
       "  <thead>\n",
       "    <tr style=\"text-align: right;\">\n",
       "      <th></th>\n",
       "      <th>예측 출석</th>\n",
       "      <th>예측 결석</th>\n",
       "    </tr>\n",
       "  </thead>\n",
       "  <tbody>\n",
       "    <tr>\n",
       "      <th>실제 출석</th>\n",
       "      <td>209</td>\n",
       "      <td>0</td>\n",
       "    </tr>\n",
       "    <tr>\n",
       "      <th>실제 결석</th>\n",
       "      <td>15</td>\n",
       "      <td>71</td>\n",
       "    </tr>\n",
       "  </tbody>\n",
       "</table>\n",
       "</div>"
      ],
      "text/plain": [
       "       예측 출석  예측 결석\n",
       "실제 출석    209      0\n",
       "실제 결석     15     71"
      ]
     },
     "metadata": {},
     "output_type": "display_data"
    },
    {
     "name": "stdout",
     "output_type": "stream",
     "text": [
      "< 테스트 데이터 학습결과 >\n",
      "f1 score / AUC score: 0.19 / 0.51\n"
     ]
    },
    {
     "data": {
      "text/html": [
       "<div>\n",
       "<style scoped>\n",
       "    .dataframe tbody tr th:only-of-type {\n",
       "        vertical-align: middle;\n",
       "    }\n",
       "\n",
       "    .dataframe tbody tr th {\n",
       "        vertical-align: top;\n",
       "    }\n",
       "\n",
       "    .dataframe thead th {\n",
       "        text-align: right;\n",
       "    }\n",
       "</style>\n",
       "<table border=\"1\" class=\"dataframe\">\n",
       "  <thead>\n",
       "    <tr style=\"text-align: right;\">\n",
       "      <th></th>\n",
       "      <th>예측 출석</th>\n",
       "      <th>예측 결석</th>\n",
       "    </tr>\n",
       "  </thead>\n",
       "  <tbody>\n",
       "    <tr>\n",
       "      <th>실제 출석</th>\n",
       "      <td>46</td>\n",
       "      <td>6</td>\n",
       "    </tr>\n",
       "    <tr>\n",
       "      <th>실제 결석</th>\n",
       "      <td>19</td>\n",
       "      <td>3</td>\n",
       "    </tr>\n",
       "  </tbody>\n",
       "</table>\n",
       "</div>"
      ],
      "text/plain": [
       "       예측 출석  예측 결석\n",
       "실제 출석     46      6\n",
       "실제 결석     19      3"
      ]
     },
     "metadata": {},
     "output_type": "display_data"
    }
   ],
   "source": [
    "#랜덤 포레스트 \n",
    "model1_search.fit(train_X, train_Y)\n",
    "\n",
    "print(f\"Best param: {model1_search.best_params_}\")\n",
    "print(f\"Best socre: {model1_search.best_score_:.2f}\")\n",
    "\n",
    "\n",
    "pred_train = model1_search.predict(train_X)\n",
    "pred_test = model1_search.predict(test_X)\n",
    "\n",
    "print(\"< 학습 데이터 학습결과 >\")\n",
    "con1 = pd.DataFrame(confusion_matrix(train_Y, pred_train, labels=[0, 1]), index=['실제 출석', '실제 결석'], columns=['예측 출석', '예측 결석'])\n",
    "print(f\"f1 score / AUC score: {f1_score(train_Y, pred_train):.2f} / {roc_auc_score(train_Y, pred_train):.2f}\")\n",
    "display(con1)\n",
    "\n",
    "print(\"< 테스트 데이터 학습결과 >\")\n",
    "con2 = pd.DataFrame(confusion_matrix(test_Y, pred_test, labels=[0, 1]), index=['실제 출석', '실제 결석'], columns=['예측 출석', '예측 결석'])\n",
    "print(f\"f1 score / AUC score: {f1_score(test_Y, pred_test):.2f} / {roc_auc_score(test_Y, pred_test):.2f}\")\n",
    "display(con2)"
   ]
  },
  {
   "cell_type": "code",
   "execution_count": 79,
   "metadata": {},
   "outputs": [
    {
     "name": "stdout",
     "output_type": "stream",
     "text": [
      "Best param: {'learning_rate_init': 0.01}\n",
      "Best socre: 0.26\n",
      "< 학습 데이터 학습결과 >\n",
      "f1 score / AUC score: 0.88 / 0.91\n"
     ]
    },
    {
     "data": {
      "text/html": [
       "<div>\n",
       "<style scoped>\n",
       "    .dataframe tbody tr th:only-of-type {\n",
       "        vertical-align: middle;\n",
       "    }\n",
       "\n",
       "    .dataframe tbody tr th {\n",
       "        vertical-align: top;\n",
       "    }\n",
       "\n",
       "    .dataframe thead th {\n",
       "        text-align: right;\n",
       "    }\n",
       "</style>\n",
       "<table border=\"1\" class=\"dataframe\">\n",
       "  <thead>\n",
       "    <tr style=\"text-align: right;\">\n",
       "      <th></th>\n",
       "      <th>예측 출석</th>\n",
       "      <th>예측 결석</th>\n",
       "    </tr>\n",
       "  </thead>\n",
       "  <tbody>\n",
       "    <tr>\n",
       "      <th>실제 출석</th>\n",
       "      <td>200</td>\n",
       "      <td>9</td>\n",
       "    </tr>\n",
       "    <tr>\n",
       "      <th>실제 결석</th>\n",
       "      <td>11</td>\n",
       "      <td>75</td>\n",
       "    </tr>\n",
       "  </tbody>\n",
       "</table>\n",
       "</div>"
      ],
      "text/plain": [
       "       예측 출석  예측 결석\n",
       "실제 출석    200      9\n",
       "실제 결석     11     75"
      ]
     },
     "metadata": {},
     "output_type": "display_data"
    },
    {
     "name": "stdout",
     "output_type": "stream",
     "text": [
      "< 테스트 데이터 학습결과 >\n",
      "f1 score / AUC score: 0.39 / 0.58\n"
     ]
    },
    {
     "data": {
      "text/html": [
       "<div>\n",
       "<style scoped>\n",
       "    .dataframe tbody tr th:only-of-type {\n",
       "        vertical-align: middle;\n",
       "    }\n",
       "\n",
       "    .dataframe tbody tr th {\n",
       "        vertical-align: top;\n",
       "    }\n",
       "\n",
       "    .dataframe thead th {\n",
       "        text-align: right;\n",
       "    }\n",
       "</style>\n",
       "<table border=\"1\" class=\"dataframe\">\n",
       "  <thead>\n",
       "    <tr style=\"text-align: right;\">\n",
       "      <th></th>\n",
       "      <th>예측 출석</th>\n",
       "      <th>예측 결석</th>\n",
       "    </tr>\n",
       "  </thead>\n",
       "  <tbody>\n",
       "    <tr>\n",
       "      <th>실제 출석</th>\n",
       "      <td>41</td>\n",
       "      <td>11</td>\n",
       "    </tr>\n",
       "    <tr>\n",
       "      <th>실제 결석</th>\n",
       "      <td>14</td>\n",
       "      <td>8</td>\n",
       "    </tr>\n",
       "  </tbody>\n",
       "</table>\n",
       "</div>"
      ],
      "text/plain": [
       "       예측 출석  예측 결석\n",
       "실제 출석     41     11\n",
       "실제 결석     14      8"
      ]
     },
     "metadata": {},
     "output_type": "display_data"
    }
   ],
   "source": [
    "# 뉴럴넷 (3layer)\n",
    "model2_search.fit(train_X, train_Y)\n",
    "\n",
    "print(f\"Best param: {model2_search.best_params_}\")\n",
    "print(f\"Best socre: {model2_search.best_score_:.2f}\")\n",
    "\n",
    "\n",
    "pred_train = model2_search.predict(train_X)\n",
    "pred_test = model2_search.predict(test_X)\n",
    "\n",
    "print(\"< 학습 데이터 학습결과 >\")\n",
    "con1 = pd.DataFrame(confusion_matrix(train_Y, pred_train, labels=[0, 1]), index=['실제 출석', '실제 결석'], columns=['예측 출석', '예측 결석'])\n",
    "print(f\"f1 score / AUC score: {f1_score(train_Y, pred_train):.2f} / {roc_auc_score(train_Y, pred_train):.2f}\")\n",
    "display(con1)\n",
    "\n",
    "print(\"< 테스트 데이터 학습결과 >\")\n",
    "con2 = pd.DataFrame(confusion_matrix(test_Y, pred_test, labels=[0, 1]), index=['실제 출석', '실제 결석'], columns=['예측 출석', '예측 결석'])\n",
    "print(f\"f1 score / AUC score: {f1_score(test_Y, pred_test):.2f} / {roc_auc_score(test_Y, pred_test):.2f}\")\n",
    "display(con2)"
   ]
  },
  {
   "cell_type": "code",
   "execution_count": 80,
   "metadata": {},
   "outputs": [
    {
     "name": "stdout",
     "output_type": "stream",
     "text": [
      "Best param: {'learning_rate': 0.24999999999999997}\n",
      "Best socre: 0.26\n",
      "< 학습 데이터 학습결과 >\n",
      "f1 score / AUC score: 0.93 / 0.94\n"
     ]
    },
    {
     "data": {
      "text/html": [
       "<div>\n",
       "<style scoped>\n",
       "    .dataframe tbody tr th:only-of-type {\n",
       "        vertical-align: middle;\n",
       "    }\n",
       "\n",
       "    .dataframe tbody tr th {\n",
       "        vertical-align: top;\n",
       "    }\n",
       "\n",
       "    .dataframe thead th {\n",
       "        text-align: right;\n",
       "    }\n",
       "</style>\n",
       "<table border=\"1\" class=\"dataframe\">\n",
       "  <thead>\n",
       "    <tr style=\"text-align: right;\">\n",
       "      <th></th>\n",
       "      <th>예측 출석</th>\n",
       "      <th>예측 결석</th>\n",
       "    </tr>\n",
       "  </thead>\n",
       "  <tbody>\n",
       "    <tr>\n",
       "      <th>실제 출석</th>\n",
       "      <td>207</td>\n",
       "      <td>2</td>\n",
       "    </tr>\n",
       "    <tr>\n",
       "      <th>실제 결석</th>\n",
       "      <td>9</td>\n",
       "      <td>77</td>\n",
       "    </tr>\n",
       "  </tbody>\n",
       "</table>\n",
       "</div>"
      ],
      "text/plain": [
       "       예측 출석  예측 결석\n",
       "실제 출석    207      2\n",
       "실제 결석      9     77"
      ]
     },
     "metadata": {},
     "output_type": "display_data"
    },
    {
     "name": "stdout",
     "output_type": "stream",
     "text": [
      "< 테스트 데이터 학습결과 >\n",
      "f1 score / AUC score: 0.20 / 0.46\n"
     ]
    },
    {
     "data": {
      "text/html": [
       "<div>\n",
       "<style scoped>\n",
       "    .dataframe tbody tr th:only-of-type {\n",
       "        vertical-align: middle;\n",
       "    }\n",
       "\n",
       "    .dataframe tbody tr th {\n",
       "        vertical-align: top;\n",
       "    }\n",
       "\n",
       "    .dataframe thead th {\n",
       "        text-align: right;\n",
       "    }\n",
       "</style>\n",
       "<table border=\"1\" class=\"dataframe\">\n",
       "  <thead>\n",
       "    <tr style=\"text-align: right;\">\n",
       "      <th></th>\n",
       "      <th>예측 출석</th>\n",
       "      <th>예측 결석</th>\n",
       "    </tr>\n",
       "  </thead>\n",
       "  <tbody>\n",
       "    <tr>\n",
       "      <th>실제 출석</th>\n",
       "      <td>38</td>\n",
       "      <td>14</td>\n",
       "    </tr>\n",
       "    <tr>\n",
       "      <th>실제 결석</th>\n",
       "      <td>18</td>\n",
       "      <td>4</td>\n",
       "    </tr>\n",
       "  </tbody>\n",
       "</table>\n",
       "</div>"
      ],
      "text/plain": [
       "       예측 출석  예측 결석\n",
       "실제 출석     38     14\n",
       "실제 결석     18      4"
      ]
     },
     "metadata": {},
     "output_type": "display_data"
    }
   ],
   "source": [
    "# LGBM\n",
    "model3_search.fit(train_X, train_Y)\n",
    "\n",
    "print(f\"Best param: {model3_search.best_params_}\")\n",
    "print(f\"Best socre: {model3_search.best_score_:.2f}\")\n",
    "\n",
    "\n",
    "pred_train = model3_search.predict(train_X)\n",
    "pred_test = model3_search.predict(test_X)\n",
    "\n",
    "print(\"< 학습 데이터 학습결과 >\")\n",
    "con1 = pd.DataFrame(confusion_matrix(train_Y, pred_train, labels=[0, 1]), index=['실제 출석', '실제 결석'], columns=['예측 출석', '예측 결석'])\n",
    "print(f\"f1 score / AUC score: {f1_score(train_Y, pred_train):.2f} / {roc_auc_score(train_Y, pred_train):.2f}\")\n",
    "display(con1)\n",
    "\n",
    "print(\"< 테스트 데이터 학습결과 >\")\n",
    "con2 = pd.DataFrame(confusion_matrix(test_Y, pred_test, labels=[0, 1]), index=['실제 출석', '실제 결석'], columns=['예측 출석', '예측 결석'])\n",
    "print(f\"f1 score / AUC score: {f1_score(test_Y, pred_test):.2f} / {roc_auc_score(test_Y, pred_test):.2f}\")\n",
    "display(con2)"
   ]
  },
  {
   "cell_type": "markdown",
   "metadata": {},
   "source": [
    "***3개 모델 평가결과: 성능지표 f1 score***\n",
    "\n",
    "- 학습데이터 모델평가 결과, random forerest를 제외한 두 모델(MLP Classifier, LGBM)의 일반화 성능이 0.26으로 동일하게 높았다.\n",
    "- Grid search로 선정한 best model 선정 후 \n",
    "  - train set f1 score는 0.88~0.93 사이로 대체로 label을 잘 예측해냈으며,\n",
    "  - test set 의 성능은 MLP 모델이 f1 score 0.39로 가장 좋았다.\n",
    "  \n",
    "***따라서 MLP 모델을 채택한다.***\n",
    "- train set 성능 대비 test set 성능이 확연히 떨어지므로 train set에 과적합되었다고 할 수 있다.\n",
    "\n",
    "시간관계상 파라미터 튜닝을 할 수 없었다. 이번 모델은 MLP의 성능이 가장 뛰어났지만, 파라미터 조정 시 다른 모델의 성능이 더 좋을 수 있다."
   ]
  },
  {
   "cell_type": "markdown",
   "metadata": {},
   "source": [
    "## 5.  하드 보팅 기법을 적용하고, 이전 결과와 비교하시오(5점)"
   ]
  },
  {
   "cell_type": "markdown",
   "metadata": {},
   "source": [
    "하드보팅 기법은 앙상블 학습의 대표적 기법 중 하나이며, 여러분류모델의 최종 예측결과를 다수결 투표로 결정하는 방식이다."
   ]
  },
  {
   "cell_type": "code",
   "execution_count": 82,
   "metadata": {},
   "outputs": [
    {
     "data": {
      "text/plain": [
       "VotingClassifier(estimators=[('rf',\n",
       "                              RandomForestClassifier(max_features=0.5,\n",
       "                                                     min_samples_split=5,\n",
       "                                                     n_estimators=50,\n",
       "                                                     random_state=42)),\n",
       "                             ('mlp',\n",
       "                              MLPClassifier(learning_rate_init=0.01,\n",
       "                                            random_state=42)),\n",
       "                             ('lstm',\n",
       "                              LGBMClassifier(learning_rate=0.24999999999999997,\n",
       "                                             random_state=42))])"
      ]
     },
     "execution_count": 82,
     "metadata": {},
     "output_type": "execute_result"
    }
   ],
   "source": [
    "from sklearn.ensemble import VotingClassifier\n",
    "\n",
    "m1_best_param = model1_search.best_params_\n",
    "m2_best_param = model2_search.best_params_\n",
    "m3_best_param = model3_search.best_params_\n",
    "\n",
    "\n",
    "rf= RandomForestClassifier(**m1_best_param, random_state=42)\n",
    "mlp = MLPClassifier(**m2_best_param, random_state=42)\n",
    "lstm = LGBMClassifier(**m3_best_param, random_state=42)\n",
    "\n",
    "h_voting = VotingClassifier(\n",
    "    estimators = [\n",
    "        ('rf', rf), \n",
    "        ('mlp', mlp), \n",
    "        ('lstm', lstm)\n",
    "    ], voting='hard'\n",
    ")\n",
    "\n",
    "h_voting.fit(train_X, train_Y)"
   ]
  },
  {
   "cell_type": "code",
   "execution_count": 85,
   "metadata": {},
   "outputs": [
    {
     "name": "stdout",
     "output_type": "stream",
     "text": [
      "< 학습 데이터 학습결과 >\n",
      "f1 score / AUC score: 0.95 / 0.95\n"
     ]
    },
    {
     "data": {
      "text/html": [
       "<div>\n",
       "<style scoped>\n",
       "    .dataframe tbody tr th:only-of-type {\n",
       "        vertical-align: middle;\n",
       "    }\n",
       "\n",
       "    .dataframe tbody tr th {\n",
       "        vertical-align: top;\n",
       "    }\n",
       "\n",
       "    .dataframe thead th {\n",
       "        text-align: right;\n",
       "    }\n",
       "</style>\n",
       "<table border=\"1\" class=\"dataframe\">\n",
       "  <thead>\n",
       "    <tr style=\"text-align: right;\">\n",
       "      <th></th>\n",
       "      <th>예측 출석</th>\n",
       "      <th>예측 결석</th>\n",
       "    </tr>\n",
       "  </thead>\n",
       "  <tbody>\n",
       "    <tr>\n",
       "      <th>실제 출석</th>\n",
       "      <td>208</td>\n",
       "      <td>1</td>\n",
       "    </tr>\n",
       "    <tr>\n",
       "      <th>실제 결석</th>\n",
       "      <td>8</td>\n",
       "      <td>78</td>\n",
       "    </tr>\n",
       "  </tbody>\n",
       "</table>\n",
       "</div>"
      ],
      "text/plain": [
       "       예측 출석  예측 결석\n",
       "실제 출석    208      1\n",
       "실제 결석      8     78"
      ]
     },
     "metadata": {},
     "output_type": "display_data"
    },
    {
     "name": "stdout",
     "output_type": "stream",
     "text": [
      "< 테스트 데이터 학습결과 >\n",
      "f1 score / AUC score: 0.25 / 0.53\n"
     ]
    },
    {
     "data": {
      "text/html": [
       "<div>\n",
       "<style scoped>\n",
       "    .dataframe tbody tr th:only-of-type {\n",
       "        vertical-align: middle;\n",
       "    }\n",
       "\n",
       "    .dataframe tbody tr th {\n",
       "        vertical-align: top;\n",
       "    }\n",
       "\n",
       "    .dataframe thead th {\n",
       "        text-align: right;\n",
       "    }\n",
       "</style>\n",
       "<table border=\"1\" class=\"dataframe\">\n",
       "  <thead>\n",
       "    <tr style=\"text-align: right;\">\n",
       "      <th></th>\n",
       "      <th>예측 출석</th>\n",
       "      <th>예측 결석</th>\n",
       "    </tr>\n",
       "  </thead>\n",
       "  <tbody>\n",
       "    <tr>\n",
       "      <th>실제 출석</th>\n",
       "      <td>46</td>\n",
       "      <td>6</td>\n",
       "    </tr>\n",
       "    <tr>\n",
       "      <th>실제 결석</th>\n",
       "      <td>18</td>\n",
       "      <td>4</td>\n",
       "    </tr>\n",
       "  </tbody>\n",
       "</table>\n",
       "</div>"
      ],
      "text/plain": [
       "       예측 출석  예측 결석\n",
       "실제 출석     46      6\n",
       "실제 결석     18      4"
      ]
     },
     "metadata": {},
     "output_type": "display_data"
    }
   ],
   "source": [
    "# Voting\n",
    "h_voting.fit(train_X, train_Y)\n",
    "\n",
    "pred_train = h_voting.predict(train_X)\n",
    "pred_test = h_voting.predict(test_X)\n",
    "\n",
    "print(\"< 학습 데이터 학습결과 >\")\n",
    "con1 = pd.DataFrame(confusion_matrix(train_Y, pred_train, labels=[0, 1]), index=['실제 출석', '실제 결석'], columns=['예측 출석', '예측 결석'])\n",
    "print(f\"f1 score / AUC score: {f1_score(train_Y, pred_train):.2f} / {roc_auc_score(train_Y, pred_train):.2f}\")\n",
    "display(con1)\n",
    "\n",
    "print(\"< 테스트 데이터 학습결과 >\")\n",
    "con2 = pd.DataFrame(confusion_matrix(test_Y, pred_test, labels=[0, 1]), index=['실제 출석', '실제 결석'], columns=['예측 출석', '예측 결석'])\n",
    "print(f\"f1 score / AUC score: {f1_score(test_Y, pred_test):.2f} / {roc_auc_score(test_Y, pred_test):.2f}\")\n",
    "display(con2)"
   ]
  },
  {
   "cell_type": "markdown",
   "metadata": {},
   "source": [
    "3개 모델의 성능 일반화가 되었다고 보인다.\n",
    "\n",
    "train set의 경우 f1 score 가 0.95로 향상되었고, test set은 f1 score 0.25로 MLP 보다는 낮지만 이외 2개 모델의 성능보다는 높다."
   ]
  },
  {
   "cell_type": "markdown",
   "metadata": {},
   "source": [
    "## 6.  추가적인 처리 방안이 있으면 제시하시오(5점)"
   ]
  },
  {
   "cell_type": "markdown",
   "metadata": {},
   "source": [
    "해당 데이터셋은 데이터 수가 적으며, label이 1:2.3 가량으로 불균형함을 보이고 있다. 만일 데이터의 수가 충분하고 모델이 클래스 불균형에 잘 대응하는 경우, oversampling은 생략될 수 있다.\n",
    "\n",
    "하지만 이 데이터는 모델의 성능에 데이터가 민감하게 반응하여 과적합을 보이고 있다. (train set 성능이 높지만 test set 결과는 그에 비해 저조함)\n",
    "\n",
    "이 문제에서는 이를 위한 방법으로 오버샘플링과 앙상블 모델을 적용하였다.\n",
    "\n",
    "***tran set의 f1 score는 0.88~0.95 사이로 높은 성능을 보이지만, test set의 f1 score는 0.2~4 사이로 저조한 성능이다.***\n",
    "\n",
    "***label 1의 예측을 잘 해내지 못하고 있다.***\n",
    "\n",
    "모델을 단순화하기 위한 방안이 필요하며\n",
    "\n",
    "- 추가적인 데이터의 확보 및 학습\n",
    "- 불필요한 변수를 제거함으로써 모델의 복잡성을 낮춤\n",
    "  * Voting 모델이 개별 모델 기반이므로 permutation importance가 해석 가능한 경우 Permutation importance 방식을 통해 변수 중요도를 산출할 수 있다.\n",
    "- 모델의 정규화 혹은 복잡도 제한 (예: max_depth 제한, L1/L2 적용)\n",
    "- 언더샘플링(데이터 양이 충분하다면) 또는 클래스 가중치 조정\n",
    "- 데이터 증강, 이상치 제거 등의 정제 방안\n",
    "\n",
    "이를 통해 과적합을 해결할 수 있을 것이다."
   ]
  },
  {
   "cell_type": "code",
   "execution_count": 91,
   "metadata": {},
   "outputs": [
    {
     "data": {
      "image/png": "[encoded data removed]",
      "text/plain": [
       "<Figure size 864x360 with 1 Axes>"
      ]
     },
     "metadata": {
      "needs_background": "light"
     },
     "output_type": "display_data"
    }
   ],
   "source": [
    "from sklearn.inspection import permutation_importance\n",
    "f_imp = permutation_importance(h_voting, train_X, train_Y, n_repeats=10, random_state=0)\n",
    "\n",
    "\n",
    "f = train_X.columns\n",
    "imp = f_imp.importances_mean\n",
    "plt.figure(figsize=(12, 5))\n",
    "plt.bar(f, imp)\n",
    "plt.xticks(rotation=45)\n",
    "plt.axhline(y=0.1, color='r', linestyle='--')\n",
    "plt.show()"
   ]
  },
  {
   "cell_type": "markdown",
   "metadata": {},
   "source": [
    "변수 중요도의 최소 임계치를 0.1로 두고(임의) age, medu, fedu, famel을 변수로 선택한다."
   ]
  },
  {
   "cell_type": "markdown",
   "metadata": {},
   "source": [
    "## 7.  학교 운영시스템에 적용한다면 검토사항은 무엇이 있을지 제시하시오(5점)"
   ]
  },
  {
   "cell_type": "code",
   "execution_count": 105,
   "metadata": {},
   "outputs": [
    {
     "data": {
      "image/png": "[encoded data removed]",
      "text/plain": [
       "<Figure size 864x720 with 4 Axes>"
      ]
     },
     "metadata": {
      "needs_background": "light"
     },
     "output_type": "display_data"
    }
   ],
   "source": [
    "from sklearn.inspection import partial_dependence\n",
    "from sklearn.inspection import plot_partial_dependence\n",
    "\n",
    "s_col = ['age', 'medu', 'fedu', 'famrel']\n",
    "\n",
    "fig, ax = plt.subplots(2, 2, figsize=(12, 10))\n",
    "plt.subplots_adjust(top=0.9, hspace=0.7)\n",
    "\n",
    "plot_partial_dependence(estimator=model2_search, \n",
    "                       X=train_X, \n",
    "                       features=s_col, \n",
    "                       percentiles=(0, 1), \n",
    "                       ax = ax)\n",
    "plt.tight_layout()\n",
    "plt.show()"
   ]
  },
  {
   "cell_type": "markdown",
   "metadata": {},
   "source": [
    "- 나이가 많은수록 결석할 확률이 높은 경향\n",
    "  - 고학년 대상으로 출결관리 집중, 대책을 수립한다.\n",
    "- 엄마의 교육수준이 높을수록 결석률이 낮아지는 경향, 아버지의 교육수준이 높을수록 결석률이 높아지는 경향\n",
    "  - 엄마의 관리가 학생 결석률을 줄여주는 것으로 판단하며 고학력 엄마일수록 아이의 관리에 신경쓴다.\n",
    "  -  아버지는 자녀 관리에 큰 관심을 기울이지 않는 것으로 보이나 데이터 수집과정을 확인할 필요가 있다.\n",
    "- 가족관계가 좋을수록 결석할 확률이 높아지는 경향\n",
    "  - 데이터 수집과정을 확인할 필요가 있음"
   ]
  },
  {
   "cell_type": "markdown",
   "metadata": {},
   "source": [
    "## 문제 2\n",
    "\n",
    "**Data description**\n",
    "\n",
    "-   **customer_id :** 고객의 고유 ID\n",
    "\n",
    "-   **age : 나이**\n",
    "\n",
    "-   **income** : 고객의 월 수입\n",
    "\n",
    "-   **email_open_rate** : 고객이 이메일을 연 비율\n",
    "\n",
    "-   **campaign_type : 마케팅 캠페인 타입**\n",
    "\n",
    "    -   'Sale', 'Discount', 'NewArrival'\n",
    "\n",
    "-   **clicks : 고객이 마케팅 캠페인에서 클릭한 횟수(target)**"
   ]
  },
  {
   "cell_type": "code",
   "execution_count": 241,
   "metadata": {},
   "outputs": [],
   "source": [
    "df2 = pd.read_csv('https://raw.githubusercontent.com/qiwerr1004/ADP_go/main/28/problem2.csv')"
   ]
  },
  {
   "cell_type": "markdown",
   "metadata": {},
   "source": [
    "## 1.  데이터 전처리를 수행하시오."
   ]
  },
  {
   "cell_type": "code",
   "execution_count": 242,
   "metadata": {},
   "outputs": [
    {
     "name": "stdout",
     "output_type": "stream",
     "text": [
      "<class 'pandas.core.frame.DataFrame'>\n",
      "RangeIndex: 200 entries, 0 to 199\n",
      "Data columns (total 7 columns):\n",
      " #   Column           Non-Null Count  Dtype  \n",
      "---  ------           --------------  -----  \n",
      " 0   Unnamed: 0       200 non-null    int64  \n",
      " 1   customer_id      200 non-null    int64  \n",
      " 2   age              200 non-null    int64  \n",
      " 3   income           200 non-null    int64  \n",
      " 4   clicks           200 non-null    int64  \n",
      " 5   email_open_rate  200 non-null    float64\n",
      " 6   campaign_type    200 non-null    object \n",
      "dtypes: float64(1), int64(5), object(1)\n",
      "memory usage: 11.1+ KB\n"
     ]
    },
    {
     "data": {
      "text/plain": [
       "None"
      ]
     },
     "metadata": {},
     "output_type": "display_data"
    },
    {
     "name": "stdout",
     "output_type": "stream",
     "text": [
      "Unnamed: 0         0\n",
      "customer_id        0\n",
      "age                0\n",
      "income             0\n",
      "clicks             0\n",
      "email_open_rate    0\n",
      "campaign_type      0\n",
      "dtype: int64\n"
     ]
    },
    {
     "data": {
      "text/html": [
       "<div>\n",
       "<style scoped>\n",
       "    .dataframe tbody tr th:only-of-type {\n",
       "        vertical-align: middle;\n",
       "    }\n",
       "\n",
       "    .dataframe tbody tr th {\n",
       "        vertical-align: top;\n",
       "    }\n",
       "\n",
       "    .dataframe thead th {\n",
       "        text-align: right;\n",
       "    }\n",
       "</style>\n",
       "<table border=\"1\" class=\"dataframe\">\n",
       "  <thead>\n",
       "    <tr style=\"text-align: right;\">\n",
       "      <th></th>\n",
       "      <th>Unnamed: 0</th>\n",
       "      <th>customer_id</th>\n",
       "      <th>age</th>\n",
       "      <th>income</th>\n",
       "      <th>clicks</th>\n",
       "      <th>email_open_rate</th>\n",
       "      <th>campaign_type</th>\n",
       "    </tr>\n",
       "  </thead>\n",
       "  <tbody>\n",
       "    <tr>\n",
       "      <th>0</th>\n",
       "      <td>1</td>\n",
       "      <td>1</td>\n",
       "      <td>46</td>\n",
       "      <td>6707</td>\n",
       "      <td>5</td>\n",
       "      <td>0.49</td>\n",
       "      <td>Discount</td>\n",
       "    </tr>\n",
       "    <tr>\n",
       "      <th>1</th>\n",
       "      <td>2</td>\n",
       "      <td>2</td>\n",
       "      <td>57</td>\n",
       "      <td>6018</td>\n",
       "      <td>5</td>\n",
       "      <td>0.78</td>\n",
       "      <td>Sale</td>\n",
       "    </tr>\n",
       "    <tr>\n",
       "      <th>2</th>\n",
       "      <td>3</td>\n",
       "      <td>3</td>\n",
       "      <td>56</td>\n",
       "      <td>3518</td>\n",
       "      <td>4</td>\n",
       "      <td>0.80</td>\n",
       "      <td>NewArrival</td>\n",
       "    </tr>\n",
       "  </tbody>\n",
       "</table>\n",
       "</div>"
      ],
      "text/plain": [
       "   Unnamed: 0  customer_id  age  income  clicks  email_open_rate campaign_type\n",
       "0           1            1   46    6707       5             0.49      Discount\n",
       "1           2            2   57    6018       5             0.78          Sale\n",
       "2           3            3   56    3518       4             0.80    NewArrival"
      ]
     },
     "metadata": {},
     "output_type": "display_data"
    }
   ],
   "source": [
    "#데이터의 기본정보 확인\n",
    "display(df2.info())\n",
    "#데이터 결측치 확인\n",
    "print(df2.isna().sum())\n",
    "# 데이터 프레임 확인\n",
    "display(df2.head(3))\n",
    "\n",
    "df2 = df2[df2.columns[1:]]"
   ]
  },
  {
   "cell_type": "markdown",
   "metadata": {},
   "source": [
    "- 데이터는 총 200개, 7개의 컬럼(변수)로 이루어져 있으나, 이 중 첫번째 컬럼은 불필요하기 때문에 삭제한다.\n",
    "- 데이터는 총 5개의 독립변수와 1개의 종속변수(campaign_type)로 이루어져 있다.\n",
    "- 독립변수 4개는 수치형 변수이며(ID는 명목형 변환 필요), 종속변수는 명목형 변수로 해당문제는 다중 분류 문제로 볼 수 있다.\n",
    "- 결측값은 존재하지 않는다."
   ]
  },
  {
   "cell_type": "code",
   "execution_count": 243,
   "metadata": {},
   "outputs": [
    {
     "data": {
      "text/plain": [
       "NewArrival    72\n",
       "Discount      66\n",
       "Sale          62\n",
       "Name: campaign_type, dtype: int64"
      ]
     },
     "metadata": {},
     "output_type": "display_data"
    },
    {
     "data": {
      "image/png": "[encoded data removed]",
      "text/plain": [
       "<Figure size 360x360 with 1 Axes>"
      ]
     },
     "metadata": {
      "needs_background": "light"
     },
     "output_type": "display_data"
    }
   ],
   "source": [
    "# 레이블 비율 확인\n",
    "display(df2.campaign_type.value_counts())\n",
    "\n",
    "# 시각화: bar plot\n",
    "plt.figure(figsize=(5, 5))\n",
    "\n",
    "sns.countplot(df2.campaign_type)\n",
    "\n",
    "plt.show()"
   ]
  },
  {
   "cell_type": "markdown",
   "metadata": {},
   "source": [
    "종속변수는 총 3개로 분류되며(discount, sale campaign_type, newarrival) 대체로 균등하게 분포되어 있다."
   ]
  },
  {
   "cell_type": "code",
   "execution_count": 244,
   "metadata": {},
   "outputs": [
    {
     "data": {
      "text/html": [
       "<div>\n",
       "<style scoped>\n",
       "    .dataframe tbody tr th:only-of-type {\n",
       "        vertical-align: middle;\n",
       "    }\n",
       "\n",
       "    .dataframe tbody tr th {\n",
       "        vertical-align: top;\n",
       "    }\n",
       "\n",
       "    .dataframe thead th {\n",
       "        text-align: right;\n",
       "    }\n",
       "</style>\n",
       "<table border=\"1\" class=\"dataframe\">\n",
       "  <thead>\n",
       "    <tr style=\"text-align: right;\">\n",
       "      <th></th>\n",
       "      <th>count</th>\n",
       "      <th>mean</th>\n",
       "      <th>std</th>\n",
       "      <th>min</th>\n",
       "      <th>25%</th>\n",
       "      <th>50%</th>\n",
       "      <th>75%</th>\n",
       "      <th>max</th>\n",
       "    </tr>\n",
       "  </thead>\n",
       "  <tbody>\n",
       "    <tr>\n",
       "      <th>age</th>\n",
       "      <td>200.0</td>\n",
       "      <td>49.820</td>\n",
       "      <td>5.246449</td>\n",
       "      <td>37.0</td>\n",
       "      <td>46.00</td>\n",
       "      <td>49.00</td>\n",
       "      <td>53.00</td>\n",
       "      <td>62.0</td>\n",
       "    </tr>\n",
       "    <tr>\n",
       "      <th>income</th>\n",
       "      <td>200.0</td>\n",
       "      <td>6139.970</td>\n",
       "      <td>2260.529173</td>\n",
       "      <td>2015.0</td>\n",
       "      <td>4489.00</td>\n",
       "      <td>6220.50</td>\n",
       "      <td>8057.25</td>\n",
       "      <td>9968.0</td>\n",
       "    </tr>\n",
       "    <tr>\n",
       "      <th>clicks</th>\n",
       "      <td>200.0</td>\n",
       "      <td>5.025</td>\n",
       "      <td>2.375413</td>\n",
       "      <td>0.0</td>\n",
       "      <td>3.00</td>\n",
       "      <td>5.00</td>\n",
       "      <td>6.00</td>\n",
       "      <td>14.0</td>\n",
       "    </tr>\n",
       "    <tr>\n",
       "      <th>email_open_rate</th>\n",
       "      <td>200.0</td>\n",
       "      <td>0.470</td>\n",
       "      <td>0.300888</td>\n",
       "      <td>0.0</td>\n",
       "      <td>0.19</td>\n",
       "      <td>0.45</td>\n",
       "      <td>0.73</td>\n",
       "      <td>1.0</td>\n",
       "    </tr>\n",
       "  </tbody>\n",
       "</table>\n",
       "</div>"
      ],
      "text/plain": [
       "                 count      mean          std     min      25%      50%  \\\n",
       "age              200.0    49.820     5.246449    37.0    46.00    49.00   \n",
       "income           200.0  6139.970  2260.529173  2015.0  4489.00  6220.50   \n",
       "clicks           200.0     5.025     2.375413     0.0     3.00     5.00   \n",
       "email_open_rate  200.0     0.470     0.300888     0.0     0.19     0.45   \n",
       "\n",
       "                     75%     max  \n",
       "age                53.00    62.0  \n",
       "income           8057.25  9968.0  \n",
       "clicks              6.00    14.0  \n",
       "email_open_rate     0.73     1.0  "
      ]
     },
     "metadata": {},
     "output_type": "display_data"
    },
    {
     "data": {
      "image/png": "[encoded data removed]",
      "text/plain": [
       "<Figure size 864x720 with 4 Axes>"
      ]
     },
     "metadata": {
      "needs_background": "light"
     },
     "output_type": "display_data"
    }
   ],
   "source": [
    "#데이터 통계량 확인\n",
    "display(df2[df2.columns[1:-1]].describe().T)\n",
    "#변수별 분포 확인\n",
    "fig, ax = plt.subplots(2, 2, figsize=(12, 10))\n",
    "\n",
    "for i, col in enumerate(df2.columns[1:-1]):\n",
    "    x = i // 2\n",
    "    y = i % 2\n",
    "    sns.kdeplot(data=df2[col], ax=ax[x, y], legend=None)\n",
    "    ax[x, y].set_title(col)\n",
    "plt.show()"
   ]
  },
  {
   "cell_type": "code",
   "execution_count": 245,
   "metadata": {},
   "outputs": [
    {
     "name": "stdout",
     "output_type": "stream",
     "text": [
      "< 상한기준 >: \n",
      "age                   63.500\n",
      "income             13409.625\n",
      "clicks                10.500\n",
      "email_open_rate        1.540\n",
      "dtype: float64, \n",
      "\n",
      " < 하한기준 >\n",
      "age                 35.500\n",
      "income            -863.375\n",
      "clicks              -1.500\n",
      "email_open_rate     -0.620\n",
      "dtype: float64\n"
     ]
    }
   ],
   "source": [
    "# 이상치 확인: Tukey’s Rule\n",
    "q1 = df2[df2.columns[1:-1]].describe().T['25%']\n",
    "q3 = df2[df2.columns[1:-1]].describe().T['75%']\n",
    "\n",
    "iqr = q3 - q1\n",
    "\n",
    "up = q3 + (1.5*iqr)\n",
    "down = q1 - (1.5*iqr)\n",
    "\n",
    "print(f\"< 상한기준 >: \\n{up}, \\n\\n < 하한기준 >\\n{down}\")"
   ]
  },
  {
   "cell_type": "code",
   "execution_count": 246,
   "metadata": {},
   "outputs": [
    {
     "name": "stdout",
     "output_type": "stream",
     "text": [
      "age 변수의 이상치 개수: 0\n",
      "income 변수의 이상치 개수: 0\n",
      "clicks 변수의 이상치 개수: 3\n",
      "email_open_rate 변수의 이상치 개수: 0\n"
     ]
    },
    {
     "data": {
      "image/png": "[encoded data removed]",
      "text/plain": [
       "<Figure size 864x720 with 4 Axes>"
      ]
     },
     "metadata": {
      "needs_background": "light"
     },
     "output_type": "display_data"
    }
   ],
   "source": [
    "# 이상치에 해당하는 데이터 개수 확인\n",
    "for col in up.index:\n",
    "    cnt = len(df2[(df2[col] >= up[col]) | (df2[col] <= down[col])])\n",
    "    print(f\"{col} 변수의 이상치 개수: {cnt}\")\n",
    "\n",
    "# box plot으로 확인한다.\n",
    "fig, ax = plt.subplots(2, 2, figsize=(12, 10))\n",
    "\n",
    "for i, col in enumerate(df2.columns[1:-1]):\n",
    "    x = i // 2\n",
    "    y = i % 2\n",
    "    sns.boxplot(data=df2[col], ax=ax[x, y])\n",
    "    ax[x, y].set_title(col)\n",
    "plt.show()"
   ]
  },
  {
   "cell_type": "markdown",
   "metadata": {},
   "source": [
    "clicks 변수에서 상한기준을 초과하는 이상치 3개를 식별하였다. \n",
    "데이터를 살펴보고 제거 또는 보간을 판단한다."
   ]
  },
  {
   "cell_type": "code",
   "execution_count": 247,
   "metadata": {},
   "outputs": [
    {
     "data": {
      "text/html": [
       "<div>\n",
       "<style scoped>\n",
       "    .dataframe tbody tr th:only-of-type {\n",
       "        vertical-align: middle;\n",
       "    }\n",
       "\n",
       "    .dataframe tbody tr th {\n",
       "        vertical-align: top;\n",
       "    }\n",
       "\n",
       "    .dataframe thead th {\n",
       "        text-align: right;\n",
       "    }\n",
       "</style>\n",
       "<table border=\"1\" class=\"dataframe\">\n",
       "  <thead>\n",
       "    <tr style=\"text-align: right;\">\n",
       "      <th></th>\n",
       "      <th>customer_id</th>\n",
       "      <th>age</th>\n",
       "      <th>income</th>\n",
       "      <th>clicks</th>\n",
       "      <th>email_open_rate</th>\n",
       "      <th>campaign_type</th>\n",
       "    </tr>\n",
       "  </thead>\n",
       "  <tbody>\n",
       "    <tr>\n",
       "      <th>89</th>\n",
       "      <td>90</td>\n",
       "      <td>59</td>\n",
       "      <td>2755</td>\n",
       "      <td>12</td>\n",
       "      <td>0.96</td>\n",
       "      <td>Discount</td>\n",
       "    </tr>\n",
       "    <tr>\n",
       "      <th>95</th>\n",
       "      <td>96</td>\n",
       "      <td>50</td>\n",
       "      <td>7898</td>\n",
       "      <td>14</td>\n",
       "      <td>0.80</td>\n",
       "      <td>NewArrival</td>\n",
       "    </tr>\n",
       "    <tr>\n",
       "      <th>195</th>\n",
       "      <td>196</td>\n",
       "      <td>48</td>\n",
       "      <td>4213</td>\n",
       "      <td>11</td>\n",
       "      <td>0.39</td>\n",
       "      <td>NewArrival</td>\n",
       "    </tr>\n",
       "  </tbody>\n",
       "</table>\n",
       "</div>"
      ],
      "text/plain": [
       "     customer_id  age  income  clicks  email_open_rate campaign_type\n",
       "89            90   59    2755      12             0.96      Discount\n",
       "95            96   50    7898      14             0.80    NewArrival\n",
       "195          196   48    4213      11             0.39    NewArrival"
      ]
     },
     "execution_count": 247,
     "metadata": {},
     "output_type": "execute_result"
    }
   ],
   "source": [
    "df2[(df2['clicks'] > up['clicks']) | (df2['clicks'] < down['clicks'])]"
   ]
  },
  {
   "cell_type": "markdown",
   "metadata": {},
   "source": [
    "클릭 수 이상치를 상한 값으로 보간한다. 클릭을 많이 했다는 의미이기 때문이다.(x) clip 시 포아송 회귀 유의 x \n",
    "\n",
    "클릭 수 이상치 삭제(x)\n",
    "\n",
    "***기본 원칙: 종속변수는 가능한 한 그대로 두는 게 원칙***\n",
    "- 종속변수(예: y, count, rate)는 현실을 반영하는 관측값이므로, 이상치를 처리하게 되면  \n",
    "  일반화 성능이 떨어지게 되며, 통계검정 결과가 근본적으로 바뀌게 됨"
   ]
  },
  {
   "cell_type": "code",
   "execution_count": 248,
   "metadata": {},
   "outputs": [],
   "source": [
    "# df2['clicks'] = df2['clicks'].clip(upper=up['clicks'])\n",
    "# df2 = df2.drop(index=[89, 95, 195], axis=0)"
   ]
  },
  {
   "cell_type": "code",
   "execution_count": 249,
   "metadata": {},
   "outputs": [
    {
     "name": "stdout",
     "output_type": "stream",
     "text": [
      "age 변수의 이상치 개수: 0\n",
      "income 변수의 이상치 개수: 0\n",
      "clicks 변수의 이상치 개수: 3\n",
      "email_open_rate 변수의 이상치 개수: 0\n"
     ]
    },
    {
     "data": {
      "image/png": "[encoded data removed]",
      "text/plain": [
       "<Figure size 864x720 with 4 Axes>"
      ]
     },
     "metadata": {
      "needs_background": "light"
     },
     "output_type": "display_data"
    }
   ],
   "source": [
    "# 이상치에 해당하는 데이터 개수 확인\n",
    "for col in up.index:\n",
    "    cnt = len(df2[(df2[col] > up[col]) | (df2[col] < down[col])])\n",
    "    print(f\"{col} 변수의 이상치 개수: {cnt}\")\n",
    "\n",
    "# box plot으로 확인한다.\n",
    "fig, ax = plt.subplots(2, 2, figsize=(12, 10))\n",
    "\n",
    "for i, col in enumerate(df2.columns[1:-1]):\n",
    "    x = i // 2\n",
    "    y = i % 2\n",
    "    sns.boxplot(data=df2[col], ax=ax[x, y])\n",
    "    ax[x, y].set_title(col)\n",
    "plt.show()"
   ]
  },
  {
   "cell_type": "code",
   "execution_count": 250,
   "metadata": {},
   "outputs": [],
   "source": [
    "#불필요한 변수인 고객 아이디를 삭제한다.\n",
    "df2 = df2.drop(columns=['customer_id'])"
   ]
  },
  {
   "cell_type": "markdown",
   "metadata": {},
   "source": [
    "## 2.  캠페인 타입이 'Sale'인지 여부에 따라 새로운 파생변수를 생성하시오."
   ]
  },
  {
   "cell_type": "code",
   "execution_count": 251,
   "metadata": {},
   "outputs": [
    {
     "data": {
      "text/html": [
       "<div>\n",
       "<style scoped>\n",
       "    .dataframe tbody tr th:only-of-type {\n",
       "        vertical-align: middle;\n",
       "    }\n",
       "\n",
       "    .dataframe tbody tr th {\n",
       "        vertical-align: top;\n",
       "    }\n",
       "\n",
       "    .dataframe thead th {\n",
       "        text-align: right;\n",
       "    }\n",
       "</style>\n",
       "<table border=\"1\" class=\"dataframe\">\n",
       "  <thead>\n",
       "    <tr style=\"text-align: right;\">\n",
       "      <th></th>\n",
       "      <th>age</th>\n",
       "      <th>income</th>\n",
       "      <th>clicks</th>\n",
       "      <th>email_open_rate</th>\n",
       "      <th>campaign_type</th>\n",
       "      <th>is_sale</th>\n",
       "    </tr>\n",
       "  </thead>\n",
       "  <tbody>\n",
       "    <tr>\n",
       "      <th>0</th>\n",
       "      <td>46</td>\n",
       "      <td>6707</td>\n",
       "      <td>5</td>\n",
       "      <td>0.49</td>\n",
       "      <td>Discount</td>\n",
       "      <td>0</td>\n",
       "    </tr>\n",
       "    <tr>\n",
       "      <th>1</th>\n",
       "      <td>57</td>\n",
       "      <td>6018</td>\n",
       "      <td>5</td>\n",
       "      <td>0.78</td>\n",
       "      <td>Sale</td>\n",
       "      <td>1</td>\n",
       "    </tr>\n",
       "    <tr>\n",
       "      <th>2</th>\n",
       "      <td>56</td>\n",
       "      <td>3518</td>\n",
       "      <td>4</td>\n",
       "      <td>0.80</td>\n",
       "      <td>NewArrival</td>\n",
       "      <td>0</td>\n",
       "    </tr>\n",
       "    <tr>\n",
       "      <th>3</th>\n",
       "      <td>52</td>\n",
       "      <td>2015</td>\n",
       "      <td>4</td>\n",
       "      <td>0.68</td>\n",
       "      <td>NewArrival</td>\n",
       "      <td>0</td>\n",
       "    </tr>\n",
       "    <tr>\n",
       "      <th>4</th>\n",
       "      <td>41</td>\n",
       "      <td>9021</td>\n",
       "      <td>1</td>\n",
       "      <td>0.58</td>\n",
       "      <td>Sale</td>\n",
       "      <td>1</td>\n",
       "    </tr>\n",
       "  </tbody>\n",
       "</table>\n",
       "</div>"
      ],
      "text/plain": [
       "   age  income  clicks  email_open_rate campaign_type  is_sale\n",
       "0   46    6707       5             0.49      Discount        0\n",
       "1   57    6018       5             0.78          Sale        1\n",
       "2   56    3518       4             0.80    NewArrival        0\n",
       "3   52    2015       4             0.68    NewArrival        0\n",
       "4   41    9021       1             0.58          Sale        1"
      ]
     },
     "metadata": {},
     "output_type": "display_data"
    }
   ],
   "source": [
    "# sale: 1, others: 0 (이진분류 문제로 만듬)\n",
    "df2['is_sale'] = np.where(df2['campaign_type'] == 'Sale', 1, 0)\n",
    "\n",
    "display(df2.head(5))"
   ]
  },
  {
   "cell_type": "markdown",
   "metadata": {},
   "source": [
    "## 3.  포아송 회귀 모델을 적합하고, 모델의 통계적 유의성을 검토하시오."
   ]
  },
  {
   "cell_type": "code",
   "execution_count": 252,
   "metadata": {},
   "outputs": [
    {
     "name": "stdout",
     "output_type": "stream",
     "text": [
      "분산/평균 비가 1.0 이므로 과대분산이 아니다. 포아송 회귀분석 실시\n"
     ]
    }
   ],
   "source": [
    "# 포아송 회귀 분석을 실시하기 전에 모델의 과대 분산 여부를 먼저 확인한다. 과대 분산 시 포아송 분포를 실시하지 못함\n",
    "rs = (df2['clicks'].var(ddof=1)/df2['clicks'].mean()).round()\n",
    "print(f\"분산/평균 비가 {rs} 이므로\", \"과대분산이 아니다. 포아송 회귀분석 실시\" if rs <= 1 else \"과대분산이다. 포아송 회귀분석 불가\")"
   ]
  },
  {
   "cell_type": "markdown",
   "metadata": {},
   "source": [
    "유의수준 5% 에서 귀무가설과 대립가설을 설정한다.\n",
    "\n",
    "- 귀무가설(H0): 포아송 모델이 통계적으로 유의하지 않다.(모델이 데이터를 잘 설명하지 못한다.)\n",
    "- 대립가설(H1) 포아송 모델이 통계적으로 유의하다.(모델이 데이터를 잘 설명한다.)"
   ]
  },
  {
   "cell_type": "code",
   "execution_count": 254,
   "metadata": {},
   "outputs": [
    {
     "name": "stdout",
     "output_type": "stream",
     "text": [
      "p-value가 0.035로 포아송 모델은  통계적으로 유의하다.(귀무가설 기각)\n"
     ]
    }
   ],
   "source": [
    "import statsmodels.api as sm\n",
    "import statsmodels.formula.api as smf\n",
    "from scipy import stats\n",
    "\n",
    "model = smf.glm(formula = 'clicks ~ age + income + email_open_rate + C(is_sale)', \n",
    "               data = df2, \n",
    "               family=sm.families.Poisson()).fit()\n",
    "# 모델의 잔차이탈도: 모델이 얼마나 데이터를 잘 설명하지 못하는지를 나타내는 지표(작을수록 좋음)\n",
    "residual_deviance = model.deviance\n",
    "#자유도\n",
    "df_resid = model.df_resid\n",
    "#p_value\n",
    "p_value = stats.chi2.sf(residual_deviance, df_resid)\n",
    "print(f\"p-value가 {p_value:.3f}로 포아송 모델은 \", \"통계적으로 유의하다.(귀무가설 기각)\" if p_value <= 0.05 else \"통계적으로 유의하지 않다.\")"
   ]
  },
  {
   "cell_type": "markdown",
   "metadata": {},
   "source": [
    "유의수준 5% 하에서 p-value 0.035로 귀무가설을 기각한다. 따라서 포아송 회귀분석 모델은 통계적 유의성이 있다."
   ]
  },
  {
   "cell_type": "code",
   "execution_count": 201,
   "metadata": {},
   "outputs": [
    {
     "name": "stdout",
     "output_type": "stream",
     "text": [
      "                 Generalized Linear Model Regression Results                  \n",
      "==============================================================================\n",
      "Dep. Variable:                 clicks   No. Observations:                  200\n",
      "Model:                            GLM   Df Residuals:                      195\n",
      "Model Family:                 Poisson   Df Model:                            4\n",
      "Link Function:                    Log   Scale:                          1.0000\n",
      "Method:                          IRLS   Log-Likelihood:                -446.87\n",
      "Date:                Wed, 11 Jun 2025   Deviance:                       223.44\n",
      "Time:                        15:25:44   Pearson chi2:                     210.\n",
      "No. Iterations:                     4   Pseudo R-squ. (CS):           0.005221\n",
      "Covariance Type:            nonrobust                                         \n",
      "===================================================================================\n",
      "                      coef    std err          z      P>|z|      [0.025      0.975]\n",
      "-----------------------------------------------------------------------------------\n",
      "Intercept           1.4251      0.329      4.326      0.000       0.780       2.071\n",
      "C(is_sale)[T.1]    -0.0165      0.069     -0.240      0.811      -0.151       0.118\n",
      "age                 0.0026      0.006      0.417      0.676      -0.009       0.015\n",
      "income           2.812e-06   1.41e-05      0.199      0.842   -2.49e-05    3.05e-05\n",
      "email_open_rate     0.0938      0.105      0.890      0.373      -0.113       0.300\n",
      "===================================================================================\n"
     ]
    }
   ],
   "source": [
    "print(model.summary())"
   ]
  },
  {
   "cell_type": "markdown",
   "metadata": {},
   "source": [
    "## 4.  회귀 계수의 통계적 유의성을 확인하고, 해석하시오."
   ]
  },
  {
   "cell_type": "markdown",
   "metadata": {},
   "source": [
    "-   $H0$: 각 변수의 회귀계수는 0이다.\n",
    "\n",
    "-   $H1$: 각 변수의 회귀계수는 0이 아니다.\n",
    "\n",
    "\n",
    "유의수준 5% 하에서 모든 설명변수의 p-value가 0.05 이상이므로 귀무가설을 기각할 수 없다.  \n",
    "따라서 모든 설명변수와 종속변수(clicks) 간 통계적으로 유의미한 관계가 없다."
   ]
  },
  {
   "cell_type": "markdown",
   "metadata": {},
   "source": [
    "## 5. Random forest 모델을 적합하고, 포아송 회귀와 모델 성능을 비교(평가지표 : RMSE)"
   ]
  },
  {
   "cell_type": "code",
   "execution_count": 266,
   "metadata": {},
   "outputs": [
    {
     "data": {
      "text/plain": [
       "RandomForestRegressor(random_state=42)"
      ]
     },
     "execution_count": 266,
     "metadata": {},
     "output_type": "execute_result"
    }
   ],
   "source": [
    "# 데이터 분할: train, test\n",
    "from sklearn.model_selection import train_test_split\n",
    "from sklearn.ensemble import RandomForestRegressor\n",
    "\n",
    "Y = df2['clicks']\n",
    "X = df2.drop(columns=['clicks', 'campaign_type'], axis=1)\n",
    "\n",
    "X_train, X_test, Y_train, Y_test = train_test_split(X, Y, random_state=42, test_size=0.3)\n",
    "\n",
    "#모델 구축\n",
    "rf = RandomForestRegressor(random_state=42)\n",
    "rf.fit(X_train, Y_train)"
   ]
  },
  {
   "cell_type": "code",
   "execution_count": 267,
   "metadata": {},
   "outputs": [],
   "source": [
    "# train set을 이용한 포아송 회귀모델\n",
    "p_model = smf.glm(formula = 'clicks ~ age + income + email_open_rate + C(is_sale)', \n",
    "               data = pd.concat([X_train, Y_train], axis=1), \n",
    "               family=sm.families.Poisson()).fit()\n",
    "# 모델의 잔차이탈도: 모델이 얼마나 데이터를 잘 설명하지 못하는지를 나타내는 지표(작을수록 좋음)\n",
    "residual_deviance = p_model.deviance\n",
    "#자유도\n",
    "df_resid = p_model.df_resid\n",
    "#p_value\n",
    "p_value = stats.chi2.sf(residual_deviance, df_resid)"
   ]
  },
  {
   "cell_type": "code",
   "execution_count": 268,
   "metadata": {},
   "outputs": [
    {
     "name": "stdout",
     "output_type": "stream",
     "text": [
      "포아송 회귀모델의 학습데이터 성능은 RMSE: 5.278\n",
      "포아송 회귀모델의 테스트 데이터 성능은 RMSE: 6.523\n"
     ]
    }
   ],
   "source": [
    "from sklearn.metrics import mean_squared_error\n",
    "# 포아송 회귀 결과\n",
    "p_train_pred = p_model.predict(X_train)\n",
    "p_test_pred = p_model.predict(X_test)\n",
    "\n",
    "p_rmse_train = mean_squared_error(Y_train, p_train_pred)\n",
    "p_rmse_test = mean_squared_error(Y_test, p_test_pred)\n",
    "print(f\"포아송 회귀모델의 학습데이터 성능은 RMSE: {p_rmse_train:.3f}\")\n",
    "print(f\"포아송 회귀모델의 테스트 데이터 성능은 RMSE: {p_rmse_test:.3f}\")"
   ]
  },
  {
   "cell_type": "code",
   "execution_count": 269,
   "metadata": {},
   "outputs": [
    {
     "name": "stdout",
     "output_type": "stream",
     "text": [
      "랜덤 포레스트 회귀모델의 학습데이터 성능은 RMSE: 1.007\n",
      "랜덤 포레스트 회귀모델의 테스트 데이터 성능은 RMSE: 7.071\n"
     ]
    }
   ],
   "source": [
    "# 랜덤 포레스트 \n",
    "rf_train_pred = rf.predict(X_train)\n",
    "rf_test_pred = rf.predict(X_test)\n",
    "\n",
    "rf_rmse_train = mean_squared_error(Y_train, rf_train_pred)\n",
    "rf_rmse_test = mean_squared_error(Y_test, rf_test_pred)\n",
    "print(f\"랜덤 포레스트 회귀모델의 학습데이터 성능은 RMSE: {rf_rmse_train:.3f}\")\n",
    "print(f\"랜덤 포레스트 회귀모델의 테스트 데이터 성능은 RMSE: {rf_rmse_test:.3f}\")"
   ]
  },
  {
   "cell_type": "code",
   "execution_count": 270,
   "metadata": {},
   "outputs": [
    {
     "name": "stdout",
     "output_type": "stream",
     "text": [
      "포아송 회귀분석의 성능이 더 뛰어나다.\n"
     ]
    }
   ],
   "source": [
    "print(\"랜덤 포레스트\" if p_rmse_test > rf_rmse_test else \"포아송\", \"회귀분석의 성능이 더 뛰어나다.\")"
   ]
  },
  {
   "cell_type": "markdown",
   "metadata": {},
   "source": [
    "테스트 셋 기준으로 두 모델의 성능을 rmse 성능지표로 보았을 때 포아송 회귀분석의 성능이 더 뛰어남을 알 수 있다."
   ]
  },
  {
   "cell_type": "markdown",
   "metadata": {},
   "source": [
    "## 문제 3"
   ]
  },
  {
   "cell_type": "markdown",
   "metadata": {},
   "source": [
    "### 1.  시간별, 제조사별 불량률 데이터로 생존분석을 시행한 후 25, 30, 35개월 후의 불량률을 계산하시오(5점)"
   ]
  },
  {
   "cell_type": "markdown",
   "metadata": {},
   "source": [
    "Kaplan-Meier 생존 함수 또는 Cox 비례위험모형을 사용하여 생존분석 가능"
   ]
  },
  {
   "cell_type": "code",
   "execution_count": 273,
   "metadata": {},
   "outputs": [
    {
     "data": {
      "text/html": [
       "<div>\n",
       "<style scoped>\n",
       "    .dataframe tbody tr th:only-of-type {\n",
       "        vertical-align: middle;\n",
       "    }\n",
       "\n",
       "    .dataframe tbody tr th {\n",
       "        vertical-align: top;\n",
       "    }\n",
       "\n",
       "    .dataframe thead th {\n",
       "        text-align: right;\n",
       "    }\n",
       "</style>\n",
       "<table border=\"1\" class=\"dataframe\">\n",
       "  <thead>\n",
       "    <tr style=\"text-align: right;\">\n",
       "      <th></th>\n",
       "      <th>time</th>\n",
       "      <th>status</th>\n",
       "      <th>company</th>\n",
       "    </tr>\n",
       "  </thead>\n",
       "  <tbody>\n",
       "    <tr>\n",
       "      <th>0</th>\n",
       "      <td>8</td>\n",
       "      <td>1</td>\n",
       "      <td>X</td>\n",
       "    </tr>\n",
       "    <tr>\n",
       "      <th>1</th>\n",
       "      <td>10</td>\n",
       "      <td>1</td>\n",
       "      <td>X</td>\n",
       "    </tr>\n",
       "    <tr>\n",
       "      <th>2</th>\n",
       "      <td>8</td>\n",
       "      <td>0</td>\n",
       "      <td>X</td>\n",
       "    </tr>\n",
       "    <tr>\n",
       "      <th>3</th>\n",
       "      <td>12</td>\n",
       "      <td>1</td>\n",
       "      <td>X</td>\n",
       "    </tr>\n",
       "    <tr>\n",
       "      <th>4</th>\n",
       "      <td>20</td>\n",
       "      <td>1</td>\n",
       "      <td>X</td>\n",
       "    </tr>\n",
       "  </tbody>\n",
       "</table>\n",
       "</div>"
      ],
      "text/plain": [
       "   time  status company\n",
       "0     8       1       X\n",
       "1    10       1       X\n",
       "2     8       0       X\n",
       "3    12       1       X\n",
       "4    20       1       X"
      ]
     },
     "execution_count": 273,
     "metadata": {},
     "output_type": "execute_result"
    }
   ],
   "source": [
    "df3 = pd.read_csv('https://raw.githubusercontent.com/qiwerr1004/ADP_go/main/28/problem3.csv')\n",
    "\n",
    "df3.head()"
   ]
  },
  {
   "cell_type": "code",
   "execution_count": 295,
   "metadata": {},
   "outputs": [
    {
     "name": "stdout",
     "output_type": "stream",
     "text": [
      "\n",
      "< X >\n",
      "25개월 후 생존확률: 64.17 % / 불량률: 35.83 %\n",
      "30개월 후 생존확률: 64.17 % / 불량률: 35.83 %\n",
      "35개월 후 생존확률: 55.00 % / 불량률: 45.00 %\n",
      "\n",
      "< Y >\n",
      "25개월 후 생존확률: 56.25 % / 불량률: 43.75 %\n",
      "30개월 후 생존확률: 46.88 % / 불량률: 53.12 %\n",
      "35개월 후 생존확률: 28.13 % / 불량률: 71.87 %\n"
     ]
    },
    {
     "data": {
      "image/png": "[encoded data removed]",
      "text/plain": [
       "<Figure size 720x432 with 1 Axes>"
      ]
     },
     "metadata": {
      "needs_background": "light"
     },
     "output_type": "display_data"
    }
   ],
   "source": [
    "from lifelines import KaplanMeierFitter\n",
    "\n",
    "kmf = KaplanMeierFitter()\n",
    "\n",
    "plt.figure(figsize=(10, 6))\n",
    "\n",
    "for com in df3['company'].unique():\n",
    "    sub_com = df3[df3.company == com]\n",
    "    kmf.fit(durations=sub_com['time'], event_observed=sub_com['status'], label=com)\n",
    "\n",
    "    print(f\"\\n< {com} >\")\n",
    "    for t in [25, 30, 35]:\n",
    "        s = kmf.survival_function_at_times(t).values[0]\n",
    "        f_rate = 1 - s\n",
    "        print(f\"{t}개월 후 생존확률: {s*100:.2f} % / 불량률: {f_rate*100:.2f} %\")\n",
    "    kmf.plot_survival_function()\n",
    "plt.title('Kaplan-Meier Curve by Company')\n",
    "plt.show()"
   ]
  },
  {
   "cell_type": "markdown",
   "metadata": {},
   "source": [
    "25, 30, 35 시점의 회사별 생존확률과 불량률은 다음과 같다.\n",
    "< X >\n",
    "25개월 후 생존확률: 64.17 % / 불량률: 35.83 %\n",
    "30개월 후 생존확률: 64.17 % / 불량률: 35.83 %\n",
    "35개월 후 생존확률: 55.00 % / 불량률: 45.00 %\n",
    "< Y >\n",
    "25개월 후 생존확률: 56.25 % / 불량률: 43.75 %\n",
    "30개월 후 생존확률: 46.88 % / 불량률: 53.12 %\n",
    "35개월 후 생존확률: 28.13 % / 불량률: 71.87 %\n",
    "\n",
    "- 전체 기간에 걸쳐 X 회사의 생존확률이 높으며, 불량률은 낮다.  \n",
    "  시간이 경과되면서 X 회사의 생존확률, 불량률은 천천히 감소하나, Y 회사는 급격히 감소/증가한다."
   ]
  },
  {
   "cell_type": "code",
   "execution_count": 307,
   "metadata": {},
   "outputs": [
    {
     "data": {
      "text/html": [
       "<div>\n",
       "<style scoped>\n",
       "    .dataframe tbody tr th:only-of-type {\n",
       "        vertical-align: middle;\n",
       "    }\n",
       "\n",
       "    .dataframe tbody tr th {\n",
       "        vertical-align: top;\n",
       "    }\n",
       "\n",
       "    .dataframe thead th {\n",
       "        text-align: right;\n",
       "    }\n",
       "</style>\n",
       "<table border=\"1\" class=\"dataframe\">\n",
       "  <thead>\n",
       "    <tr style=\"text-align: right;\">\n",
       "      <th></th>\n",
       "      <th>coef</th>\n",
       "      <th>exp(coef)</th>\n",
       "      <th>se(coef)</th>\n",
       "      <th>coef lower 95%</th>\n",
       "      <th>coef upper 95%</th>\n",
       "      <th>exp(coef) lower 95%</th>\n",
       "      <th>exp(coef) upper 95%</th>\n",
       "      <th>cmp to</th>\n",
       "      <th>z</th>\n",
       "      <th>p</th>\n",
       "      <th>-log2(p)</th>\n",
       "    </tr>\n",
       "    <tr>\n",
       "      <th>covariate</th>\n",
       "      <th></th>\n",
       "      <th></th>\n",
       "      <th></th>\n",
       "      <th></th>\n",
       "      <th></th>\n",
       "      <th></th>\n",
       "      <th></th>\n",
       "      <th></th>\n",
       "      <th></th>\n",
       "      <th></th>\n",
       "      <th></th>\n",
       "    </tr>\n",
       "  </thead>\n",
       "  <tbody>\n",
       "    <tr>\n",
       "      <th>company_Y</th>\n",
       "      <td>0.9549</td>\n",
       "      <td>2.598412</td>\n",
       "      <td>0.523175</td>\n",
       "      <td>-0.070504</td>\n",
       "      <td>1.980305</td>\n",
       "      <td>0.931924</td>\n",
       "      <td>7.244955</td>\n",
       "      <td>0.0</td>\n",
       "      <td>1.825201</td>\n",
       "      <td>0.067971</td>\n",
       "      <td>3.878944</td>\n",
       "    </tr>\n",
       "  </tbody>\n",
       "</table>\n",
       "</div>"
      ],
      "text/plain": [
       "             coef  exp(coef)  se(coef)  coef lower 95%  coef upper 95%  \\\n",
       "covariate                                                                \n",
       "company_Y  0.9549   2.598412  0.523175       -0.070504        1.980305   \n",
       "\n",
       "           exp(coef) lower 95%  exp(coef) upper 95%  cmp to         z  \\\n",
       "covariate                                                               \n",
       "company_Y             0.931924             7.244955     0.0  1.825201   \n",
       "\n",
       "                  p  -log2(p)  \n",
       "covariate                      \n",
       "company_Y  0.067971  3.878944  "
      ]
     },
     "execution_count": 307,
     "metadata": {},
     "output_type": "execute_result"
    }
   ],
   "source": [
    "# cox 회귀\n",
    "from lifelines import CoxPHFitter\n",
    "\n",
    "# 범주형 변수 처리 (원-핫 인코딩 등)\n",
    "df_dummies = pd.get_dummies(df3, columns=['company'], drop_first=True)\n",
    "\n",
    "cph = CoxPHFitter()\n",
    "cph.fit(df_dummies, duration_col='time', event_col='status')\n",
    "cph.summary"
   ]
  },
  {
   "cell_type": "markdown",
   "metadata": {},
   "source": [
    "***COX회귀분석***\n",
    "- X사에 비해 Y사는 고장날 확률이 2.598배 높다.\n",
    "- p-value가 0.06으로 귀무가설을 기각할 수 없다. 따라서 두 회사 간 고장률은 유의미한 차이는 없다.(전체기간)  \n",
    "\n",
    "***Cox 비례위험모형 결과, company_Y는 기준군 대비 약 2.60배의 고장 위험을 보였으나(p=0.068) 통계적으로 유의하지 않았다.  \n",
    "    Kaplan-Meier 생존곡선에서도 company_Y는 다소 빠른 고장 경향을 보였으나 명확한 차이는 확인되지 않았다.***"
   ]
  },
  {
   "cell_type": "markdown",
   "metadata": {},
   "source": [
    "### 2.  로그 순위법으로 제조사별 불량률의 차이가 있는지 검정하시오(5점)\n",
    "\n",
    "로그 순위법은 두 생존 곡선이 차이가 있는지 검정하는 비모수적 방법입니다.  \n",
    "`survdiff` 함수에 구현되어 있으며, 유의 수준 0.05에서 검정을 실시하는 방법입니다.\n",
    "\n",
    "-   $H_0$: 두 생존 함수는 동일하다. $S_X(t) = S_Y(t)$ for all $t$\n",
    "-   $H_1$: 두 생존 함수는 같지 않다. $S_X(t) \\neq S_Y(t)$ for some $t$"
   ]
  },
  {
   "cell_type": "code",
   "execution_count": 310,
   "metadata": {},
   "outputs": [
    {
     "name": "stdout",
     "output_type": "stream",
     "text": [
      "로그순위 테스트 결과, p-value: 0.06로 불량률의 차이가 통계적으로 유의하지 않다.(기각x, 차이 없음)\n"
     ]
    }
   ],
   "source": [
    "from lifelines.statistics import logrank_test\n",
    "\n",
    "com_X = df3[df3.company == 'X']\n",
    "com_Y = df3[df3.company == 'Y']\n",
    "\n",
    "rt = logrank_test(com_X['time'], com_Y['time'], \n",
    "                 event_observed_A=com_X['status'], \n",
    "                 event_observed_B=com_Y['status'])\n",
    "\n",
    "p_value = rt.p_value\n",
    "print(f\"로그순위 테스트 결과, p-value: {p_value:.2f}로 불량률의 차이가\", \"통계적으로 유의하다.(귀무가설 기각)\" if p_value <= 0.05 else \n",
    "     \"통계적으로 유의하지 않다.(기각x, 차이 없음)\")"
   ]
  },
  {
   "cell_type": "markdown",
   "metadata": {},
   "source": [
    "## 문제 4\n",
    "\n",
    "별도의 데이터 없음\n",
    "\n",
    "**다음 표는 슬통 Food의 신제품 홍보 설문 조사 결과이다. 시식 행사에 참여한 고객들의 시식 후 구매 의사의 변화가 있는지 없는지 검정하시오(10점).**\n",
    "\n",
    "| 구분         | 시식 후 있음 | 시식 후 없음 |\n",
    "|--------------|--------------|--------------|\n",
    "| 시식 전 있음 | 23           | 7            |\n",
    "| 시식 전 없음 | 18           | 12           |\n",
    "\n",
    "-   $H_0$ : 시식 전후 구매의사에는 변화가 없다.\n",
    "-   $H_1$ : 시식 전후 구매의사에는 변화가 있다."
   ]
  },
  {
   "cell_type": "code",
   "execution_count": null,
   "metadata": {},
   "outputs": [],
   "source": [
    "from statsmodels.stats.contingency_tables import mcnemar\n",
    "\n",
    "tt = np.array([[23, 18],\n",
    "               [7, 12]])\n",
    "\n",
    "result = mcnemar(tt, exact=False, correction=False)\n",
    "print(f\"McNemar test statistic: {result.statistic}\")\n",
    "print(f\"p-value: {result.pvalue}\")"
   ]
  },
  {
   "cell_type": "markdown",
   "metadata": {},
   "source": [
    "유의수준 5%에서 p-value=0.02781로 작으므로, 귀무가설을 기각할 수 있다. 따라서 시식 전후 구매 의사에 변화가 있다는 통계적 근거가 충분하다.\n",
    "\n",
    "## 문제 5\n",
    "\n",
    "**두 개의 고등학교 학생들의 시험 표준 점수가 들어있습니다. 각 학생의 성적이 서로 독립적이라고 가정할 때, 두 학교의 표준 점수 분포에 유의미한 차이가 있는지 검정하시오(10점).**"
   ]
  },
  {
   "cell_type": "code",
   "execution_count": null,
   "metadata": {},
   "outputs": [],
   "source": [
    "dat = pd.read_csv('problem5.csv')"
   ]
  },
  {
   "cell_type": "code",
   "execution_count": null,
   "metadata": {},
   "outputs": [],
   "source": [
    "dat.isna().sum()"
   ]
  },
  {
   "cell_type": "markdown",
   "metadata": {},
   "source": [
    "school_A에 결측치가 12개 존재한다. school_A의 결측치를 삭제한다. "
   ]
  },
  {
   "cell_type": "code",
   "execution_count": null,
   "metadata": {},
   "outputs": [],
   "source": [
    "score_A = dat['school_A'].dropna().values\n",
    "score_B = dat['school_B'].values"
   ]
  },
  {
   "cell_type": "markdown",
   "metadata": {},
   "source": [
    "-   $H_0$ : 두 학교의 점수 분포는 같다.\n",
    "-   $H_1$ : 두 학교의 점수 분포는 다르다."
   ]
  },
  {
   "cell_type": "code",
   "execution_count": null,
   "metadata": {},
   "outputs": [],
   "source": [
    "from scipy.stats import ks_2samp\n",
    "statistic, p_value = ks_2samp(score_A, score_B)\n",
    "print(f\"KS Test statistic: {statistic}\")\n",
    "print(f\"p-value: {p_value}\")"
   ]
  },
  {
   "cell_type": "markdown",
   "metadata": {},
   "source": [
    "유의수준 5%에서 p-value=0.485 크므로, 귀무가설을 기각할 수 없다. 따라서 두 학교의 점수 분포는 같은 분포에서 나왔다고 할 수 있다.\n",
    "\n",
    "## 문제 6\n",
    "\n",
    "슬통 병원 환자들의 건강 검진 정보가 들어있습니다. 다음의 물음에 답하시오."
   ]
  },
  {
   "cell_type": "code",
   "execution_count": null,
   "metadata": {},
   "outputs": [],
   "source": [
    "dat = pd.read_csv('problem6.csv')"
   ]
  },
  {
   "cell_type": "markdown",
   "metadata": {},
   "source": [
    "1.  **몸무게를 제어했을 때, 나이와 콜레스테롤 상관계수 및 유의확률을 구하라(5점).**"
   ]
  },
  {
   "cell_type": "code",
   "execution_count": null,
   "metadata": {},
   "outputs": [],
   "source": [
    "import pingouin as pg\n",
    "result = pg.partial_corr(data=dat, x='AGE_GROUP', y='TOT_CHOLE', covar='WEIGHT')\n",
    "print(result)"
   ]
  },
  {
   "cell_type": "markdown",
   "metadata": {},
   "source": [
    "-   $H_0$ : 몸무게를 통제했을 때, 나이와 콜레스테롤의 상관계수는 0이다.\n",
    "\n",
    "-   $H_1$ : 몸무게를 통제했을 때, 나이와 콜레스테롤의 상관계수는 0이 아니다.\n",
    "\n",
    "편상관계수는 0.0167, p-value는 0.2826이다.\n",
    "\n",
    "2.  **유의수준 0.05 하에서 통계적 의사결정을 수행하라(5점).**\n",
    "\n",
    "유의수준 5%에서 p-value=0.2826로 크므로, 귀무가설을 기각할 수 없다. 따라서 몸무게를 통제했을 때, 나이와 콜레스테롤 간에는 통계적으로 유의미한 관계가 없다."
   ]
  },
  {
   "cell_type": "code",
   "execution_count": null,
   "metadata": {},
   "outputs": [],
   "source": []
  }
 ],
 "metadata": {
  "kernelspec": {
   "display_name": "Python 3",
   "language": "python",
   "name": "python3"
  },
  "language_info": {
   "codemirror_mode": {
    "name": "ipython",
    "version": 3
   },
   "file_extension": ".py",
   "mimetype": "text/x-python",
   "name": "python",
   "nbconvert_exporter": "python",
   "pygments_lexer": "ipython3",
   "version": "3.7.9"
  }
 },
 "nbformat": 4,
 "nbformat_minor": 4
}
